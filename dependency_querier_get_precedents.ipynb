{
 "cells": [
  {
   "cell_type": "code",
   "execution_count": 1,
   "id": "c6f9c9e7-4d30-4fb0-bbaf-c35e114212ec",
   "metadata": {
    "tags": []
   },
   "outputs": [],
   "source": [
    "from noworkflow.now.persistence.models import Evaluation, Activation\n",
    "from noworkflow.now.models.dependency_querier import DependencyQuerier\n",
    "from noworkflow.now.models.dependency_querier.node_context import NodeContext\n",
    "from noworkflow.now.models.dependency_querier.querier_options import QuerierOptions\n",
    "from noworkflow.now.persistence.models import Trial\n",
    "from noworkflow.now.models.cleaning.history import *\n",
    "import numpy as np\n",
    "from pprint import pprint"
   ]
  },
  {
   "cell_type": "code",
   "execution_count": 2,
   "id": "76477597-b64d-48c8-be27-a3c4344a1c00",
   "metadata": {},
   "outputs": [],
   "source": [
    "import numpy as np\n",
    "\n",
    "def get_activation(activation_id, trial_id = None):\n",
    "    if not trial_id:\n",
    "        trial_id =  __noworkflow__.trial_id\n",
    "    return Activation((trial_id, activation_id))\n",
    "\n",
    "def get_evaluation(evaluation_id, trial_id = None):\n",
    "    if not trial_id:\n",
    "        trial_id =  __noworkflow__.trial_id\n",
    "    return Evaluation((trial_id, evaluation_id))\n",
    "\n",
    "def get_act_evals(activation_id):\n",
    "    activation = get_activation(activation_id)\n",
    "    return activation.evaluations    \n",
    "\n",
    "def print_act_forward(activation_id=1):\n",
    "    activation = get_activation(activation_id)\n",
    "    \n",
    "    for i in list(activation.dependent_dependencies):\n",
    "        pprint.pprint(i.to_dict())\n",
    "        \n",
    "def print_act_backward(activation_id=1):\n",
    "    activation = get_activation(activation_id)\n",
    "    \n",
    "    for i in list(activation.dependency_dependencies):\n",
    "        pprint.pprint(i.to_dict())\n",
    "\n",
    "def print_act_evals(activation_id=1):\n",
    "    activation = get_activation(activation_id)\n",
    "\n",
    "    for item in activation.evaluations:\n",
    "        pprint.pprint(item.to_dict())\n",
    "        \n"
   ]
  },
  {
   "cell_type": "code",
   "execution_count": 3,
   "id": "3892529b-1e60-4698-9470-b8d917b53de8",
   "metadata": {
    "tags": []
   },
   "outputs": [],
   "source": [
    "def get_precedent(evaluations, options=None):\n",
    "    \"\"\"Return code components that contribute to the creation of a given evaluation\"\"\"\n",
    "    result = copy(evaluations)\n",
    "    querier = DependencyQuerier(options)\n",
    "    visited = set()\n",
    "    code_component_op = {}\n",
    "    operations = set()\n",
    "    while result:\n",
    "        nodes_to_visit, visited, found = querier.navigate_dependencies(result, visited=visited)\n",
    "        result = []\n",
    "        component_to_visit = []\n",
    "        new_ops = set()\n",
    "        # Extract operations from visited evaluations\n",
    "        for context in visited:\n",
    "            evaluation = context.evaluation\n",
    "\n",
    "            # Evaluation operations\n",
    "            component = evaluation.code_component\n",
    "            operation = find_types(component, code_component_op)\n",
    "            if operation and operation not in operations:\n",
    "                new_ops.add(operation)\n",
    "                operations.add(operation)\n",
    "        \n",
    "        # Expand dependencies to all evaluations of new operations\n",
    "        for operation in new_ops:\n",
    "            if operation.this_block:\n",
    "                result.extend(operation.this_block.recursive_evaluations())\n",
    "\n",
    "    #return sorted(operations, key=lambda c: c.id)\n",
    "    return operations"
   ]
  },
  {
   "cell_type": "code",
   "execution_count": 4,
   "id": "0f8766b8-cc01-4cf9-92f9-1771fc7cdd30",
   "metadata": {
    "tags": []
   },
   "outputs": [],
   "source": [
    "def find_types(code_component, found=None):\n",
    "    \"\"\"Find specific component typesfrom code_components\"\"\"\n",
    "    found = found or {}\n",
    "    if code_component in found:\n",
    "        pass\n",
    "    elif code_component.type in ('call', 'name'):\n",
    "        found[code_component] = code_component\n",
    "    elif not code_component.container_id:\n",
    "        found[code_component] = None\n",
    "    else:\n",
    "        found[code_component] = find_cell(code_component.container.this_component, found=found)\n",
    "    return found[code_component]"
   ]
  },
  {
   "cell_type": "code",
   "execution_count": 5,
   "id": "0879aec3-b6e0-474d-bf46-4f9dc05d9f1c",
   "metadata": {
    "tags": []
   },
   "outputs": [],
   "source": [
    "def print_precedents(evals):\n",
    "    code_componenents = get_precedent([evals])\n",
    "    \n",
    "    for code_comp in list(code_componenents):\n",
    "        obj_eval = Evaluation((code_comp.trial_id, code_comp.id))\n",
    "        obj_act = Activation((obj_eval.trial_id, obj_eval.activation_id))\n",
    "\n",
    "        if code_comp.type in ('name'):\n",
    "            if code_comp.mode == 'w':\n",
    "                print(code_comp.name, obj_eval.repr)\n",
    "            if (code_comp.type == 'call') and (obj_eval.repr != 'None'):\n",
    "                print(code_comp.name)"
   ]
  },
  {
   "cell_type": "code",
   "execution_count": 6,
   "id": "b193369c-2ce3-4759-b7b5-41f4b320e97a",
   "metadata": {
    "tags": []
   },
   "outputs": [],
   "source": [
    "def module(num): \n",
    "    if num >= 0:\n",
    "        return int(num)\n",
    "    else:\n",
    "        return int(-1*num)\n",
    "\n",
    "def mae(x, y):\n",
    "    return np.mean((x - y))\n",
    "\n",
    "def rmse(x, y):\n",
    "    return np.sqrt(np.mean((x - y)**2))"
   ]
  },
  {
   "cell_type": "code",
   "execution_count": 7,
   "id": "dad4d3bc-e662-4cad-873d-e040cfe25354",
   "metadata": {
    "tags": []
   },
   "outputs": [],
   "source": [
    "var_a = 10"
   ]
  },
  {
   "cell_type": "code",
   "execution_count": 8,
   "id": "1bb71226-764c-454d-bfdd-260ad0432c6b",
   "metadata": {},
   "outputs": [],
   "source": [
    "var_b = -100"
   ]
  },
  {
   "cell_type": "code",
   "execution_count": 9,
   "id": "127ead7e-028a-4cd4-bf44-20c541f0ad7d",
   "metadata": {},
   "outputs": [],
   "source": [
    "rme_err = mae(var_a, var_b)"
   ]
  },
  {
   "cell_type": "code",
   "execution_count": 10,
   "id": "93ea2f3f-32d6-4d40-a9b3-f2f8e2d557b0",
   "metadata": {
    "tags": []
   },
   "outputs": [],
   "source": [
    "var_c = 4869"
   ]
  },
  {
   "cell_type": "code",
   "execution_count": 11,
   "id": "18ec6985-1fb5-40c1-8a12-51d0fbb4c14f",
   "metadata": {
    "tags": []
   },
   "outputs": [],
   "source": [
    "var_d = var_c * 234\n",
    "var_c = var_d / 3"
   ]
  },
  {
   "cell_type": "code",
   "execution_count": 12,
   "id": "32345dcf-fa1b-4d2e-b742-49204e1ddcf0",
   "metadata": {
    "tags": []
   },
   "outputs": [],
   "source": [
    "var_e = mae(var_c, var_b)"
   ]
  },
  {
   "cell_type": "code",
   "execution_count": 13,
   "id": "d18aa5aa-5b91-4295-9b79-1fbf55d3d561",
   "metadata": {
    "tags": []
   },
   "outputs": [
    {
     "name": "stdout",
     "output_type": "stream",
     "text": [
      "Activation(id=103, name=now_variable, start_checkpoint=31.310220231, code_block_id=-1)\n",
      "[now_variable(func), 'var_final'(argument), rmse(var_c, var_e)(argument)] - []\n",
      "Evaluation(id=88, checkpoint=31.310198318999998, code_component_id=1020, activation_id=81, repr=100.0)\n"
     ]
    }
   ],
   "source": [
    "#k = module(rmse_err)\n",
    "var_final = now_variable('var_final', rmse(var_c, var_e))"
   ]
  },
  {
   "cell_type": "code",
   "execution_count": 14,
   "id": "11bc6245-d820-46d0-8132-0989c0014309",
   "metadata": {
    "tags": []
   },
   "outputs": [],
   "source": [
    "evals = get_evaluation(103)\n",
    "a = get_precedent([evals])\n"
   ]
  },
  {
   "cell_type": "code",
   "execution_count": 18,
   "id": "4554d25a-6fce-4c18-8365-a0c3c5efc911",
   "metadata": {
    "tags": []
   },
   "outputs": [
    {
     "data": {
      "text/plain": [
       "{code_component(6bf7815e-aa57-4896-bc65-01f0d336a605, 1002, 'var_e', 'name', 'w', 1, 0, 1, 5, 999).,\n",
       " code_component(6bf7815e-aa57-4896-bc65-01f0d336a605, 1003, 'mae(var_c, var_b)', 'call', 'r', 1, 8, 1, 25, 999).,\n",
       " code_component(6bf7815e-aa57-4896-bc65-01f0d336a605, 1007, 'mae', 'name', 'r', 1, 8, 1, 11, 999).,\n",
       " code_component(6bf7815e-aa57-4896-bc65-01f0d336a605, 1008, 'var_c', 'name', 'r', 1, 12, 1, 17, 999).,\n",
       " code_component(6bf7815e-aa57-4896-bc65-01f0d336a605, 1009, 'var_b', 'name', 'r', 1, 19, 1, 24, 999).,\n",
       " code_component(6bf7815e-aa57-4896-bc65-01f0d336a605, 1010, '<ipython-input-13-d5e600da0c6a>', 'cell', 'w', 1, 0, 3, 0, nil).,\n",
       " code_component(6bf7815e-aa57-4896-bc65-01f0d336a605, 1013, 'var_final', 'name', 'w', 2, 0, 2, 9, 1010).,\n",
       " code_component(6bf7815e-aa57-4896-bc65-01f0d336a605, 1014, 'now_variable(''var_final'', rmse(var_c, var_e))', 'call', 'r', 2, 12, 2, 57, 1010).,\n",
       " code_component(6bf7815e-aa57-4896-bc65-01f0d336a605, 1018, 'now_variable', 'name', 'r', 2, 12, 2, 24, 1010).,\n",
       " code_component(6bf7815e-aa57-4896-bc65-01f0d336a605, 1020, 'rmse(var_c, var_e)', 'call', 'r', 2, 38, 2, 56, 1010).,\n",
       " code_component(6bf7815e-aa57-4896-bc65-01f0d336a605, 1024, 'rmse', 'name', 'r', 2, 38, 2, 42, 1010).,\n",
       " code_component(6bf7815e-aa57-4896-bc65-01f0d336a605, 1025, 'var_c', 'name', 'r', 2, 43, 2, 48, 1010).,\n",
       " code_component(6bf7815e-aa57-4896-bc65-01f0d336a605, 1026, 'var_e', 'name', 'r', 2, 50, 2, 55, 1010).,\n",
       " code_component(6bf7815e-aa57-4896-bc65-01f0d336a605, 864, '<ipython-input-6-35e08e7bfa73>', 'cell', 'w', 1, 0, 12, 0, nil).,\n",
       " code_component(6bf7815e-aa57-4896-bc65-01f0d336a605, 912, 'np.mean((x - y))', 'call', 'r', 8, 11, 8, 27, 900).,\n",
       " code_component(6bf7815e-aa57-4896-bc65-01f0d336a605, 917, 'np', 'name', 'r', 8, 11, 8, 13, 900).,\n",
       " code_component(6bf7815e-aa57-4896-bc65-01f0d336a605, 920, 'x', 'name', 'r', 8, 20, 8, 21, 900).,\n",
       " code_component(6bf7815e-aa57-4896-bc65-01f0d336a605, 921, 'y', 'name', 'r', 8, 24, 8, 25, 900).,\n",
       " code_component(6bf7815e-aa57-4896-bc65-01f0d336a605, 934, 'np.sqrt(np.mean((x - y)**2))', 'call', 'r', 11, 11, 11, 39, 922).,\n",
       " code_component(6bf7815e-aa57-4896-bc65-01f0d336a605, 939, 'np', 'name', 'r', 11, 11, 11, 13, 922).,\n",
       " code_component(6bf7815e-aa57-4896-bc65-01f0d336a605, 940, 'np.mean((x - y)**2)', 'call', 'r', 11, 19, 11, 38, 922).,\n",
       " code_component(6bf7815e-aa57-4896-bc65-01f0d336a605, 945, 'np', 'name', 'r', 11, 19, 11, 21, 922).,\n",
       " code_component(6bf7815e-aa57-4896-bc65-01f0d336a605, 950, 'x', 'name', 'r', 11, 28, 11, 29, 922).,\n",
       " code_component(6bf7815e-aa57-4896-bc65-01f0d336a605, 951, 'y', 'name', 'r', 11, 32, 11, 33, 922).,\n",
       " code_component(6bf7815e-aa57-4896-bc65-01f0d336a605, 953, '<ipython-input-7-093fc329826b>', 'cell', 'w', 1, 0, 2, 0, nil).,\n",
       " code_component(6bf7815e-aa57-4896-bc65-01f0d336a605, 956, 'var_a', 'name', 'w', 1, 0, 1, 5, 953).,\n",
       " code_component(6bf7815e-aa57-4896-bc65-01f0d336a605, 958, '<ipython-input-8-12621b86e579>', 'cell', 'w', 1, 0, 2, 0, nil).,\n",
       " code_component(6bf7815e-aa57-4896-bc65-01f0d336a605, 961, 'var_b', 'name', 'w', 1, 0, 1, 5, 958).,\n",
       " code_component(6bf7815e-aa57-4896-bc65-01f0d336a605, 974, 'var_a', 'name', 'r', 1, 14, 1, 19, 965).,\n",
       " code_component(6bf7815e-aa57-4896-bc65-01f0d336a605, 975, 'var_b', 'name', 'r', 1, 21, 1, 26, 965).,\n",
       " code_component(6bf7815e-aa57-4896-bc65-01f0d336a605, 978, '<ipython-input-10-5b079539d27e>', 'cell', 'w', 1, 0, 2, 0, nil).,\n",
       " code_component(6bf7815e-aa57-4896-bc65-01f0d336a605, 981, 'var_c', 'name', 'w', 1, 0, 1, 5, 978).,\n",
       " code_component(6bf7815e-aa57-4896-bc65-01f0d336a605, 983, '<ipython-input-11-c15085295a85>', 'cell', 'w', 1, 0, 3, 0, nil).,\n",
       " code_component(6bf7815e-aa57-4896-bc65-01f0d336a605, 986, 'var_d', 'name', 'w', 1, 0, 1, 5, 983).,\n",
       " code_component(6bf7815e-aa57-4896-bc65-01f0d336a605, 989, 'var_c', 'name', 'r', 1, 8, 1, 13, 983).,\n",
       " code_component(6bf7815e-aa57-4896-bc65-01f0d336a605, 993, 'var_c', 'name', 'w', 2, 0, 2, 5, 983).,\n",
       " code_component(6bf7815e-aa57-4896-bc65-01f0d336a605, 996, 'var_d', 'name', 'r', 2, 8, 2, 13, 983).}"
      ]
     },
     "execution_count": 18,
     "metadata": {},
     "output_type": "execute_result"
    }
   ],
   "source": [
    "get_precedent([evals])"
   ]
  },
  {
   "cell_type": "code",
   "execution_count": 17,
   "id": "5b0c3632-3077-4ff9-96cf-71bf9b49533f",
   "metadata": {
    "tags": []
   },
   "outputs": [
    {
     "name": "stdout",
     "output_type": "stream",
     "text": [
      "var_b code_component(6bf7815e-aa57-4896-bc65-01f0d336a605, 945, 'np', 'name', 'r', 11, 19, 11, 21, 922).\n",
      "var_e evaluation(6bf7815e-aa57-4896-bc65-01f0d336a605, 63, 31.062937607, 997, 57, '3', 63).\n",
      "var_final {}\n",
      "var_d code_component(6bf7815e-aa57-4896-bc65-01f0d336a605, 945, 'np', 'name', 'r', 11, 19, 11, 21, 922).\n",
      "var_a code_component(6bf7815e-aa57-4896-bc65-01f0d336a605, 945, 'np', 'name', 'r', 11, 19, 11, 21, 922).\n",
      "var_c code_component(6bf7815e-aa57-4896-bc65-01f0d336a605, 945, 'np', 'name', 'r', 11, 19, 11, 21, 922).\n",
      "var_c code_component(6bf7815e-aa57-4896-bc65-01f0d336a605, 945, 'np', 'name', 'r', 11, 19, 11, 21, 922).\n"
     ]
    }
   ],
   "source": [
    "print_precedents(evals)"
   ]
  },
  {
   "cell_type": "code",
   "execution_count": 105,
   "id": "d283f922-9628-4f0e-96f6-0dcc9b29fc49",
   "metadata": {
    "tags": []
   },
   "outputs": [],
   "source": [
    "op_dict = {}\n",
    "for i in reversed(list(a)):\n",
    "    code_comp = i\n",
    "    obj_eval = Evaluation((i.trial_id, i.id))\n",
    "    obj_act = Activation((obj_eval.trial_id, obj_eval.activation_id))\n",
    "    \n",
    "    if  ((code_comp.type == 'call') and (code_comp.mode == 'r') and (obj_eval.repr == \"{}\")) or \\\n",
    "        (code_comp.type == 'name' and code_comp.mode == 'w'): \n",
    "            op_dict[round(float(obj_eval.checkpoint), 6)] = [round(float(obj_act.start_checkpoint),4), round(float(obj_eval.checkpoint), 4), code_comp.name, code_comp.type, code_comp.mode]    "
   ]
  },
  {
   "cell_type": "code",
   "execution_count": 106,
   "id": "ef610703-ef06-451a-9505-5274153de490",
   "metadata": {
    "tags": []
   },
   "outputs": [
    {
     "data": {
      "text/plain": [
       "{38.655931: [38.143, 38.6559, 'var_c', 'name', 'w'],\n",
       " 38.657859: [38.6578,\n",
       "  38.6579,\n",
       "  \"now_variable('var_final', rmse(var_c, var_e))\",\n",
       "  'call',\n",
       "  'r'],\n",
       " 38.655414: [38.655, 38.6554, 'var_c', 'name', 'w'],\n",
       " 38.654817: [38.143, 38.6548, 'var_a', 'name', 'w'],\n",
       " 38.655648: [38.143, 38.6556, 'var_d', 'name', 'w'],\n",
       " 38.657847: [38.6578, 38.6578, 'var_final', 'name', 'w'],\n",
       " 38.652183: [38.143, 38.6522, 'np.mean((x - y))', 'call', 'r'],\n",
       " 38.656258: [38.143, 38.6563, 'var_e', 'name', 'w'],\n",
       " 38.655585: [38.143, 38.6556, 'var_b', 'name', 'w']}"
      ]
     },
     "execution_count": 106,
     "metadata": {},
     "output_type": "execute_result"
    }
   ],
   "source": [
    "op_dict"
   ]
  },
  {
   "cell_type": "code",
   "execution_count": 128,
   "id": "fb51e83e-ab6d-44d0-ad7e-798540697b26",
   "metadata": {
    "tags": []
   },
   "outputs": [],
   "source": [
    "op_dict = {}\n",
    "for i in reversed(list(a)):\n",
    "    code_comp = i\n",
    "    obj_eval = Evaluation((i.trial_id, i.id))\n",
    "    obj_act = Activation((obj_eval.trial_id, obj_eval.activation_id))\n",
    "    \n",
    "    if ((code_comp.type == 'call') and (code_comp.mode == 'r')) or \\\n",
    "        (code_comp.type == 'name' and code_comp.mode == 'r'):\n",
    "        op_dict[round(float(obj_eval.checkpoint), 6)] = [round(float(obj_act.start_checkpoint),4), round(float(obj_eval.checkpoint), 4), code_comp.name, code_comp.type, code_comp.mode]    "
   ]
  },
  {
   "cell_type": "code",
   "execution_count": 129,
   "id": "56a222f5-402e-4a11-8ef4-5c6d2c37a163",
   "metadata": {
    "tags": []
   },
   "outputs": [
    {
     "name": "stdout",
     "output_type": "stream",
     "text": [
      "{38.652183: [38.143, 38.6522, 'np.mean((x - y))', 'call', 'r'],\n",
      " 38.652281: [38.6522, 38.6523, 'np', 'name', 'r'],\n",
      " 38.652315: [38.6522, 38.6523, 'x', 'name', 'r'],\n",
      " 38.652336: [38.6522, 38.6523, 'y', 'name', 'r'],\n",
      " 38.652749: [38.6522, 38.6527, 'np.sqrt(np.mean((x - y)**2))', 'call', 'r'],\n",
      " 38.652961: [38.143, 38.653, 'np', 'name', 'r'],\n",
      " 38.652985: [38.143, 38.653, 'np.mean((x - y)**2)', 'call', 'r'],\n",
      " 38.653203: [38.143, 38.6532, 'np', 'name', 'r'],\n",
      " 38.653406: [38.143, 38.6534, 'x', 'name', 'r'],\n",
      " 38.653437: [38.143, 38.6534, 'y', 'name', 'r'],\n",
      " 38.655238: [38.655, 38.6552, 'var_a', 'name', 'r'],\n",
      " 38.655252: [38.655, 38.6553, 'var_b', 'name', 'r'],\n",
      " 38.655771: [38.143, 38.6558, 'var_c', 'name', 'r'],\n",
      " 38.65608: [38.143, 38.6561, 'var_d', 'name', 'r'],\n",
      " 38.656294: [38.143, 38.6563, 'mae(var_c, var_b)', 'call', 'r'],\n",
      " 38.657721: [38.143, 38.6577, 'mae', 'name', 'r'],\n",
      " 38.657752: [38.143, 38.6578, 'var_c', 'name', 'r'],\n",
      " 38.657859: [38.6578,\n",
      "             38.6579,\n",
      "             \"now_variable('var_final', rmse(var_c, var_e))\",\n",
      "             'call',\n",
      "             'r'],\n",
      " 38.657927: [38.6578, 38.6579, 'now_variable', 'name', 'r'],\n",
      " 38.657969: [38.6578, 38.658, 'rmse(var_c, var_e)', 'call', 'r'],\n",
      " 38.658049: [38.6578, 38.658, 'rmse', 'name', 'r'],\n",
      " 38.658069: [38.6578, 38.6581, 'var_c', 'name', 'r'],\n",
      " 38.6581: [38.6578, 38.6581, 'var_e', 'name', 'r'],\n",
      " 38.661061: [38.143, 38.6611, 'var_b', 'name', 'r']}\n"
     ]
    }
   ],
   "source": [
    "pprint(op_dict)"
   ]
  },
  {
   "cell_type": "code",
   "execution_count": null,
   "id": "b8a8af24-67c5-4491-b507-5be64377a9b5",
   "metadata": {},
   "outputs": [],
   "source": []
  }
 ],
 "metadata": {
  "kernelspec": {
   "display_name": "noWorkflow 3",
   "language": "python",
   "name": "noworkflow3_old"
  },
  "language_info": {
   "codemirror_mode": {
    "name": "ipython",
    "version": 3
   },
   "file_extension": ".py",
   "mimetype": "text/x-python",
   "name": "python",
   "nbconvert_exporter": "python",
   "pygments_lexer": "ipython3",
   "version": "3.7.16"
  }
 },
 "nbformat": 4,
 "nbformat_minor": 5
}
