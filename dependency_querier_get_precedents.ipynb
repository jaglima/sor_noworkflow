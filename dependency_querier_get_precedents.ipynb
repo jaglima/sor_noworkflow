{
 "cells": [
  {
   "cell_type": "code",
   "execution_count": 130,
   "id": "c6f9c9e7-4d30-4fb0-bbaf-c35e114212ec",
   "metadata": {
    "tags": []
   },
   "outputs": [],
   "source": [
    "from noworkflow.now.persistence.models import Evaluation, Activation\n",
    "from noworkflow.now.models.dependency_querier import DependencyQuerier\n",
    "from noworkflow.now.models.dependency_querier.node_context import NodeContext\n",
    "from noworkflow.now.models.dependency_querier.querier_options import QuerierOptions\n",
    "from noworkflow.now.persistence.models import Trial\n",
    "from noworkflow.now.models.cleaning.history import *\n",
    "import numpy as np\n",
    "from pprint import pprint"
   ]
  },
  {
   "cell_type": "code",
   "execution_count": 131,
   "id": "76477597-b64d-48c8-be27-a3c4344a1c00",
   "metadata": {},
   "outputs": [],
   "source": [
    "import numpy as np\n",
    "\n",
    "# Helper functions\n",
    "def get_activation(activation_id, trial_id = None):\n",
    "    if not trial_id:\n",
    "        trial_id =  __noworkflow__.trial_id\n",
    "    return Activation((trial_id, activation_id))\n",
    "\n",
    "def get_evaluation(evaluation_id, trial_id = None):\n",
    "    if not trial_id:\n",
    "        trial_id =  __noworkflow__.trial_id\n",
    "    return Evaluation((trial_id, evaluation_id))\n",
    "\n",
    "def get_act_evals(activation_id):\n",
    "    activation = get_activation(activation_id)\n",
    "    return activation.evaluations    \n",
    "\n",
    "def print_act_forward(activation_id=1):\n",
    "    activation = get_activation(activation_id)\n",
    "    \n",
    "    for i in list(activation.dependent_dependencies):\n",
    "        pprint.pprint(i.to_dict())\n",
    "        \n",
    "def print_act_backward(activation_id=1):\n",
    "    activation = get_activation(activation_id)\n",
    "    \n",
    "    for i in list(activation.dependency_dependencies):\n",
    "        pprint.pprint(i.to_dict())\n",
    "\n",
    "def print_act_evals(activation_id=1):\n",
    "    activation = get_activation(activation_id)\n",
    "\n",
    "    for item in activation.evaluations:\n",
    "        pprint.pprint(item.to_dict())\n",
    "        \n"
   ]
  },
  {
   "cell_type": "markdown",
   "id": "6be7f1e0-7ba4-4cd5-a41e-272744b1379d",
   "metadata": {},
   "source": [
    "### Adapted functions\n",
    "get_precedent() is an adaptation of get_cells()\n",
    "find_types()  is an adaptation of find_cells()"
   ]
  },
  {
   "cell_type": "code",
   "execution_count": 132,
   "id": "3892529b-1e60-4698-9470-b8d917b53de8",
   "metadata": {
    "tags": []
   },
   "outputs": [],
   "source": [
    "\n",
    "def get_precedent(evaluations, options=None):\n",
    "    \"\"\"Return code components that contribute to the creation of a given evaluation\"\"\"\n",
    "    result = copy(evaluations)\n",
    "    querier = DependencyQuerier(options)\n",
    "    visited = set()\n",
    "    code_component_op = {}\n",
    "    operations = set()\n",
    "    while result:\n",
    "        nodes_to_visit, visited, found = querier.navigate_dependencies(result, visited=visited)\n",
    "        result = []\n",
    "        component_to_visit = []\n",
    "        new_ops = set()\n",
    "        # Extract operations from visited evaluations\n",
    "        for context in visited:\n",
    "            evaluation = context.evaluation\n",
    "\n",
    "            # Evaluation operations\n",
    "            component = evaluation.code_component\n",
    "            operation = find_types(component, code_component_op)\n",
    "            if operation and operation not in operations:\n",
    "                new_ops.add(operation)\n",
    "                operations.add(operation)\n",
    "        \n",
    "        # Expand dependencies to all evaluations of new operations\n",
    "        for operation in new_ops:\n",
    "            if operation.this_block:\n",
    "                result.extend(operation.this_block.recursive_evaluations())\n",
    "\n",
    "    return operations"
   ]
  },
  {
   "cell_type": "code",
   "execution_count": 156,
   "id": "0f8766b8-cc01-4cf9-92f9-1771fc7cdd30",
   "metadata": {
    "tags": []
   },
   "outputs": [],
   "source": [
    "def find_types(code_component, found=None):\n",
    "    \"\"\"Find specific component typesfrom code_components\"\"\"\n",
    "    found = found or {}\n",
    "    if code_component in found:\n",
    "        pass\n",
    "    elif code_component.type in ('call', 'name'):\n",
    "        found[code_component] = code_component\n",
    "    elif not code_component.container_id:\n",
    "        found[code_component] = None\n",
    "    else:\n",
    "        found[code_component] = find_cell(code_component.container.this_component, found=found)\n",
    "    return found[code_component]"
   ]
  },
  {
   "cell_type": "markdown",
   "id": "e75b860a-76f6-4768-8080-db001d76119e",
   "metadata": {},
   "source": [
    "### Test case\n",
    "\n",
    "Here starts my (only) test case. The flow goes through cells defining module, mae and rmse, variable definitions, variable manipulation and _var_final_ being our target variable, being dependent of its previous cells.\n"
   ]
  },
  {
   "cell_type": "code",
   "execution_count": 135,
   "id": "b193369c-2ce3-4759-b7b5-41f4b320e97a",
   "metadata": {
    "tags": []
   },
   "outputs": [],
   "source": [
    "def module(num): \n",
    "    if num >= 0:\n",
    "        return int(num)\n",
    "    else:\n",
    "        return int(-1*num)\n",
    "\n",
    "def mae(x, y):\n",
    "    return np.mean(np.abs((x - y)))\n",
    "\n",
    "def rmse(x, y):\n",
    "    return np.sqrt(np.mean((x - y)**2))"
   ]
  },
  {
   "cell_type": "code",
   "execution_count": 136,
   "id": "dad4d3bc-e662-4cad-873d-e040cfe25354",
   "metadata": {
    "tags": []
   },
   "outputs": [],
   "source": [
    "var_a = 10"
   ]
  },
  {
   "cell_type": "code",
   "execution_count": 137,
   "id": "1bb71226-764c-454d-bfdd-260ad0432c6b",
   "metadata": {},
   "outputs": [],
   "source": [
    "var_b = -100"
   ]
  },
  {
   "cell_type": "code",
   "execution_count": 138,
   "id": "127ead7e-028a-4cd4-bf44-20c541f0ad7d",
   "metadata": {},
   "outputs": [],
   "source": [
    "rme_err = mae(var_a, var_b)"
   ]
  },
  {
   "cell_type": "code",
   "execution_count": 139,
   "id": "93ea2f3f-32d6-4d40-a9b3-f2f8e2d557b0",
   "metadata": {
    "tags": []
   },
   "outputs": [],
   "source": [
    "var_c = 4869"
   ]
  },
  {
   "cell_type": "code",
   "execution_count": 140,
   "id": "18ec6985-1fb5-40c1-8a12-51d0fbb4c14f",
   "metadata": {
    "tags": []
   },
   "outputs": [],
   "source": [
    "var_d = var_c * 234\n",
    "var_c = var_d / 3"
   ]
  },
  {
   "cell_type": "code",
   "execution_count": 141,
   "id": "32345dcf-fa1b-4d2e-b742-49204e1ddcf0",
   "metadata": {
    "tags": []
   },
   "outputs": [],
   "source": [
    "var_e = mae(var_c, var_b)"
   ]
  },
  {
   "cell_type": "code",
   "execution_count": 142,
   "id": "d18aa5aa-5b91-4295-9b79-1fbf55d3d561",
   "metadata": {
    "tags": []
   },
   "outputs": [
    {
     "name": "stdout",
     "output_type": "stream",
     "text": [
      "Activation(id=145887, name=now_variable, start_checkpoint=6762.187496746, code_block_id=-1)\n",
      "[now_variable(func), 'var_final'(argument), rmse(var_c, var_e)(argument)] - []\n",
      "Evaluation(id=145873, checkpoint=6762.187468516, code_component_id=9586, activation_id=145867, repr=100.0)\n"
     ]
    }
   ],
   "source": [
    "#k = module(rmse_err)\n",
    "var_final = now_variable('var_final', rmse(var_c, var_e))"
   ]
  },
  {
   "cell_type": "markdown",
   "id": "407023ba-f72a-4a78-9d2c-4bf8498b93dc",
   "metadata": {},
   "source": [
    "### New functions test"
   ]
  },
  {
   "cell_type": "code",
   "execution_count": 158,
   "id": "11bc6245-d820-46d0-8132-0989c0014309",
   "metadata": {
    "tags": []
   },
   "outputs": [],
   "source": [
    "evals = get_evaluation(145887)\n",
    "code_comp_list = get_precedent([evals])"
   ]
  },
  {
   "cell_type": "code",
   "execution_count": 161,
   "id": "4554d25a-6fce-4c18-8365-a0c3c5efc911",
   "metadata": {
    "tags": []
   },
   "outputs": [
    {
     "data": {
      "text/plain": [
       "{code_component(6bf7815e-aa57-4896-bc65-01f0d336a605, 1027, '<class ''str''>', 'type', 'w', -1, -1, -1, -1, nil).,\n",
       " code_component(6bf7815e-aa57-4896-bc65-01f0d336a605, 1028, '<class ''numpy.ufunc''>', 'type', 'w', -1, -1, -1, -1, nil).,\n",
       " code_component(6bf7815e-aa57-4896-bc65-01f0d336a605, 263, '<class ''NoneType''>', 'type', 'w', -1, -1, -1, -1, nil).,\n",
       " code_component(6bf7815e-aa57-4896-bc65-01f0d336a605, 264, '<class ''type''>', 'type', 'w', -1, -1, -1, -1, nil).,\n",
       " code_component(6bf7815e-aa57-4896-bc65-01f0d336a605, 482, '<class ''function''>', 'type', 'w', -1, -1, -1, -1, nil).,\n",
       " code_component(6bf7815e-aa57-4896-bc65-01f0d336a605, 483, '<class ''int''>', 'type', 'w', -1, -1, -1, -1, nil).,\n",
       " code_component(6bf7815e-aa57-4896-bc65-01f0d336a605, 9433, '<ipython-input-135-35e08e7bfa73>', 'cell', 'w', 1, 0, 12, 0, nil).,\n",
       " code_component(6bf7815e-aa57-4896-bc65-01f0d336a605, 9481, 'np.mean((x - y))', 'call', 'r', 8, 11, 8, 27, 9469).,\n",
       " code_component(6bf7815e-aa57-4896-bc65-01f0d336a605, 9486, 'np', 'name', 'r', 8, 11, 8, 13, 9469).,\n",
       " code_component(6bf7815e-aa57-4896-bc65-01f0d336a605, 9489, 'x', 'name', 'r', 8, 20, 8, 21, 9469).,\n",
       " code_component(6bf7815e-aa57-4896-bc65-01f0d336a605, 9490, 'y', 'name', 'r', 8, 24, 8, 25, 9469).,\n",
       " code_component(6bf7815e-aa57-4896-bc65-01f0d336a605, 9503, 'np.sqrt(np.mean((x - y)**2))', 'call', 'r', 11, 11, 11, 39, 9491).,\n",
       " code_component(6bf7815e-aa57-4896-bc65-01f0d336a605, 9508, 'np', 'name', 'r', 11, 11, 11, 13, 9491).,\n",
       " code_component(6bf7815e-aa57-4896-bc65-01f0d336a605, 9509, 'np.mean((x - y)**2)', 'call', 'r', 11, 19, 11, 38, 9491).,\n",
       " code_component(6bf7815e-aa57-4896-bc65-01f0d336a605, 9514, 'np', 'name', 'r', 11, 19, 11, 21, 9491).,\n",
       " code_component(6bf7815e-aa57-4896-bc65-01f0d336a605, 9519, 'x', 'name', 'r', 11, 28, 11, 29, 9491).,\n",
       " code_component(6bf7815e-aa57-4896-bc65-01f0d336a605, 9520, 'y', 'name', 'r', 11, 32, 11, 33, 9491).,\n",
       " code_component(6bf7815e-aa57-4896-bc65-01f0d336a605, 9522, '<ipython-input-136-093fc329826b>', 'cell', 'w', 1, 0, 2, 0, nil).,\n",
       " code_component(6bf7815e-aa57-4896-bc65-01f0d336a605, 9525, 'var_a', 'name', 'w', 1, 0, 1, 5, 9522).,\n",
       " code_component(6bf7815e-aa57-4896-bc65-01f0d336a605, 9527, '<ipython-input-137-12621b86e579>', 'cell', 'w', 1, 0, 2, 0, nil).,\n",
       " code_component(6bf7815e-aa57-4896-bc65-01f0d336a605, 9530, 'var_b', 'name', 'w', 1, 0, 1, 5, 9527).,\n",
       " code_component(6bf7815e-aa57-4896-bc65-01f0d336a605, 9543, 'var_a', 'name', 'r', 1, 14, 1, 19, 9534).,\n",
       " code_component(6bf7815e-aa57-4896-bc65-01f0d336a605, 9544, 'var_b', 'name', 'r', 1, 21, 1, 26, 9534).,\n",
       " code_component(6bf7815e-aa57-4896-bc65-01f0d336a605, 9545, '<ipython-input-139-5b079539d27e>', 'cell', 'w', 1, 0, 2, 0, nil).,\n",
       " code_component(6bf7815e-aa57-4896-bc65-01f0d336a605, 9548, 'var_c', 'name', 'w', 1, 0, 1, 5, 9545).,\n",
       " code_component(6bf7815e-aa57-4896-bc65-01f0d336a605, 9550, '<ipython-input-140-c15085295a85>', 'cell', 'w', 1, 0, 3, 0, nil).,\n",
       " code_component(6bf7815e-aa57-4896-bc65-01f0d336a605, 9553, 'var_d', 'name', 'w', 1, 0, 1, 5, 9550).,\n",
       " code_component(6bf7815e-aa57-4896-bc65-01f0d336a605, 9556, 'var_c', 'name', 'r', 1, 8, 1, 13, 9550).,\n",
       " code_component(6bf7815e-aa57-4896-bc65-01f0d336a605, 9560, 'var_c', 'name', 'w', 2, 0, 2, 5, 9550).,\n",
       " code_component(6bf7815e-aa57-4896-bc65-01f0d336a605, 9563, 'var_d', 'name', 'r', 2, 8, 2, 13, 9550).,\n",
       " code_component(6bf7815e-aa57-4896-bc65-01f0d336a605, 9568, 'var_e', 'name', 'w', 1, 0, 1, 5, 9565).,\n",
       " code_component(6bf7815e-aa57-4896-bc65-01f0d336a605, 9569, 'mae(var_c, var_b)', 'call', 'r', 1, 8, 1, 25, 9565).,\n",
       " code_component(6bf7815e-aa57-4896-bc65-01f0d336a605, 9573, 'mae', 'name', 'r', 1, 8, 1, 11, 9565).,\n",
       " code_component(6bf7815e-aa57-4896-bc65-01f0d336a605, 9574, 'var_c', 'name', 'r', 1, 12, 1, 17, 9565).,\n",
       " code_component(6bf7815e-aa57-4896-bc65-01f0d336a605, 9575, 'var_b', 'name', 'r', 1, 19, 1, 24, 9565).,\n",
       " code_component(6bf7815e-aa57-4896-bc65-01f0d336a605, 9576, '<ipython-input-142-d5e600da0c6a>', 'cell', 'w', 1, 0, 3, 0, nil).,\n",
       " code_component(6bf7815e-aa57-4896-bc65-01f0d336a605, 9579, 'var_final', 'name', 'w', 2, 0, 2, 9, 9576).,\n",
       " code_component(6bf7815e-aa57-4896-bc65-01f0d336a605, 9580, 'now_variable(''var_final'', rmse(var_c, var_e))', 'call', 'r', 2, 12, 2, 57, 9576).,\n",
       " code_component(6bf7815e-aa57-4896-bc65-01f0d336a605, 9584, 'now_variable', 'name', 'r', 2, 12, 2, 24, 9576).,\n",
       " code_component(6bf7815e-aa57-4896-bc65-01f0d336a605, 9586, 'rmse(var_c, var_e)', 'call', 'r', 2, 38, 2, 56, 9576).,\n",
       " code_component(6bf7815e-aa57-4896-bc65-01f0d336a605, 9590, 'rmse', 'name', 'r', 2, 38, 2, 42, 9576).,\n",
       " code_component(6bf7815e-aa57-4896-bc65-01f0d336a605, 9591, 'var_c', 'name', 'r', 2, 43, 2, 48, 9576).,\n",
       " code_component(6bf7815e-aa57-4896-bc65-01f0d336a605, 9592, 'var_e', 'name', 'r', 2, 50, 2, 55, 9576).,\n",
       " code_component(6bf7815e-aa57-4896-bc65-01f0d336a605, 976, '<class ''module''>', 'type', 'w', -1, -1, -1, -1, nil).,\n",
       " code_component(6bf7815e-aa57-4896-bc65-01f0d336a605, 977, '<class ''numpy.float64''>', 'type', 'w', -1, -1, -1, -1, nil).,\n",
       " code_component(6bf7815e-aa57-4896-bc65-01f0d336a605, 998, '<class ''float''>', 'type', 'w', -1, -1, -1, -1, nil).}"
      ]
     },
     "execution_count": 161,
     "metadata": {},
     "output_type": "execute_result"
    }
   ],
   "source": [
    "code_comp_list"
   ]
  },
  {
   "cell_type": "code",
   "execution_count": null,
   "id": "42c0acb7-e4a6-4970-8ac9-8202e1fd1449",
   "metadata": {},
   "outputs": [],
   "source": []
  },
  {
   "cell_type": "markdown",
   "id": "3db01cdf-00e7-41d7-af9e-63615a7062db",
   "metadata": {},
   "source": [
    "### Outputing the dependencies of a variable\n",
    "\n",
    "print_precedents() trying to output a cleaner output from get_precedent() results"
   ]
  },
  {
   "cell_type": "code",
   "execution_count": 174,
   "id": "0879aec3-b6e0-474d-bf46-4f9dc05d9f1c",
   "metadata": {
    "tags": []
   },
   "outputs": [],
   "source": [
    "def print_precedents(evals):\n",
    "    code_componenents = get_precedent([evals])\n",
    "    \n",
    "    op_dict = {}\n",
    "    for i in reversed(list(code_comp_list)):\n",
    "        code_comp = i\n",
    "        obj_eval = Evaluation((i.trial_id, i.id))\n",
    "        obj_act = Activation((obj_eval.trial_id, obj_eval.activation_id))\n",
    "\n",
    "        if  ((code_comp.type == 'call') and (code_comp.mode == 'r')) or \\\n",
    "            (code_comp.type == 'name' and code_comp.mode == 'w'): \n",
    "                op_dict[round(float(obj_eval.checkpoint), 6)] = [round(float(obj_act.start_checkpoint),4), \\\n",
    "                round(float(obj_eval.checkpoint), 4), code_comp.name, code_comp.type, code_comp.mode]  \n",
    "    \n",
    "    return op_dict"
   ]
  },
  {
   "cell_type": "code",
   "execution_count": 183,
   "id": "5b0c3632-3077-4ff9-96cf-71bf9b49533f",
   "metadata": {
    "tags": []
   },
   "outputs": [
    {
     "data": {
      "text/plain": [
       "{39.815708: [39.8153, 39.8157, 'mae(var_c, var_b)', 'call', 'r'],\n",
       " 39.813027: [38.143, 39.813, 'np.mean((x - y)**2)', 'call', 'r'],\n",
       " 39.808154: [39.8078, 39.8082, 'np.mean((x - y))', 'call', 'r'],\n",
       " 39.81347: [39.8131, 39.8135, 'var_b', 'name', 'w'],\n",
       " 39.81604: [38.143, 39.816, 'var_final', 'name', 'w'],\n",
       " 39.815665: [39.8153, 39.8157, 'var_e', 'name', 'w'],\n",
       " 39.817431: [38.143, 39.8174, 'rmse(var_c, var_e)', 'call', 'r'],\n",
       " 39.811567: [38.143, 39.8116, 'np.sqrt(np.mean((x - y)**2))', 'call', 'r'],\n",
       " 39.815248: [38.143, 39.8152, 'var_c', 'name', 'w'],\n",
       " 39.81534: [39.8153, 39.8153, 'var_d', 'name', 'w'],\n",
       " 39.816052: [38.143,\n",
       "  39.8161,\n",
       "  \"now_variable('var_final', rmse(var_c, var_e))\",\n",
       "  'call',\n",
       "  'r'],\n",
       " 39.813351: [39.8131, 39.8134, 'var_a', 'name', 'w'],\n",
       " 39.815494: [39.8153, 39.8155, 'var_c', 'name', 'w']}"
      ]
     },
     "execution_count": 183,
     "metadata": {},
     "output_type": "execute_result"
    }
   ],
   "source": [
    "print_precedents(evals)"
   ]
  },
  {
   "cell_type": "code",
   "execution_count": null,
   "id": "3db9965a-f37f-4d42-80fd-056920611628",
   "metadata": {},
   "outputs": [],
   "source": []
  }
 ],
 "metadata": {
  "kernelspec": {
   "display_name": "noWorkflow 3",
   "language": "python",
   "name": "noworkflow3_old"
  },
  "language_info": {
   "codemirror_mode": {
    "name": "ipython",
    "version": 3
   },
   "file_extension": ".py",
   "mimetype": "text/x-python",
   "name": "python",
   "nbconvert_exporter": "python",
   "pygments_lexer": "ipython3",
   "version": "3.7.16"
  }
 },
 "nbformat": 4,
 "nbformat_minor": 5
}
