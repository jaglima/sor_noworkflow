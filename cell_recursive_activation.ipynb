{
 "cells": [
  {
   "cell_type": "code",
   "execution_count": 1,
   "id": "432224e3-e4c9-4423-b49b-51614332b662",
   "metadata": {
    "tags": []
   },
   "outputs": [],
   "source": [
    "from noworkflow.now.persistence.models import Evaluation, Activation\n",
    "from noworkflow.now.models.dependency_querier import DependencyQuerier\n",
    "from noworkflow.now.models.dependency_querier.node_context import NodeContext\n",
    "from noworkflow.now.models.dependency_querier.querier_options import QuerierOptions\n",
    "from noworkflow.now.persistence.models import Trial\n",
    "\n",
    "\n",
    "import numpy as np\n",
    "\n",
    "def module(num):\n",
    "    if num >= 0:\n",
    "        return int(num)\n",
    "    else:\n",
    "        return int(-1*num)\n",
    "\n",
    "def mae(x, y):\n",
    "    return np.mean((x - y))\n",
    "    \n",
    "def rmse(x, y):\n",
    "    return np.sqrt(np.mean((x - y)**2))\n",
    "\n",
    "\n",
    "def recursive_act(act_list, indent):\n",
    "    current_trial = __noworkflow__.trial_id\n",
    "    \n",
    "    if act_list:\n",
    "        act = act_list.pop(0)\n",
    "        if act.type in ('func', 'assign'):           \n",
    "            if act.type == 'func':\n",
    "                sub_act = Activation((current_trial, act.dependent_id))\n",
    "                print(' ' * indent + \"actv id = \"+ str(sub_act.id) + '; function = ' + str(sub_act.name) + '; code_block = ' + str(sub_act.code_block_id))\n",
    "                \n",
    "            if act.type == 'assign':\n",
    "                sub_eval = Evaluation((current_trial, act.dependent_id))\n",
    "                code_comp = sub_eval.code_component\n",
    "                if (code_comp.type == 'call') or ((code_comp.mode == 'w') and (code_comp.type != 'param')): \n",
    "                    op_name = code_comp.name\n",
    "                    print(' ' * indent + \"eval id = \"+ str(code_comp.id) + \"; variable = \" + code_comp.name + ' <- ' + str(sub_eval.repr))\n",
    "        recursive_act(act_list, indent)\n",
    "    else:\n",
    "        print(\"- - - - -\")"
   ]
  },
  {
   "cell_type": "code",
   "execution_count": 2,
   "id": "ff06df2f-77f2-45e7-b528-89a60b4f5953",
   "metadata": {
    "tags": []
   },
   "outputs": [],
   "source": [
    "# What I want: get the id of a given cell, capture assingnment and function calls inside this cell and print\n",
    "# the output\n",
    "\n",
    "x = 10\n",
    "y = -100\n",
    "z = 50\n",
    "\n",
    "rmse_err = rmse(x, y)\n",
    "mae_err = mae(x, z)\n",
    "modl_err = module(-3)\n",
    "\n",
    "last_activation = __noworkflow__.last_activation"
   ]
  },
  {
   "cell_type": "code",
   "execution_count": 3,
   "id": "2530b23f-4292-49fa-970a-72f8a8da1f35",
   "metadata": {
    "tags": []
   },
   "outputs": [
    {
     "data": {
      "text/plain": [
       "(110.0, -40.0, 3)"
      ]
     },
     "execution_count": 3,
     "metadata": {},
     "output_type": "execute_result"
    }
   ],
   "source": [
    "rmse_err, mae_err, modl_err"
   ]
  },
  {
   "cell_type": "code",
   "execution_count": 4,
   "id": "c8e91f0c-48d1-427c-aaae-df6f9fe445cf",
   "metadata": {
    "tags": []
   },
   "outputs": [
    {
     "data": {
      "text/plain": [
       "Activation(id=10, name=<ipython-input-2-321b278837f9>, start_checkpoint=5.718529616, code_block_id=435)"
      ]
     },
     "execution_count": 4,
     "metadata": {},
     "output_type": "execute_result"
    }
   ],
   "source": [
    "last_activation"
   ]
  },
  {
   "cell_type": "code",
   "execution_count": 5,
   "id": "9f5f98ee-0805-484d-95a7-979b321e31e8",
   "metadata": {
    "tags": []
   },
   "outputs": [
    {
     "name": "stdout",
     "output_type": "stream",
     "text": [
      " eval id = 438; variable = x <- 10\n",
      " eval id = 442; variable = y <- -100\n",
      " eval id = 448; variable = z <- 50\n",
      " actv id = 22; function = rmse; code_block = 77\n",
      " eval id = 452; variable = rmse_err <- 110.0\n",
      " actv id = 43; function = mae; code_block = 55\n",
      " eval id = 462; variable = mae_err <- -40.0\n",
      " actv id = 56; function = module; code_block = 20\n",
      " eval id = 472; variable = modl_err <- 3\n",
      " eval id = 482; variable = last_activation <- Activation(id=10, name=<ipython-input-2-321b278837f9>, start_checkpoint=5.718529616, code_block_id=435)\n",
      "- - - - -\n"
     ]
    }
   ],
   "source": [
    "activation = Activation((__noworkflow__.trial_id, 10))\n",
    "act_list = list(activation.dependent_dependencies)\n",
    "\n",
    "recursive_act(act_list, 1)"
   ]
  },
  {
   "cell_type": "markdown",
   "id": "74dc1b1d-0ff8-42e2-9366-5fb6fbd9a352",
   "metadata": {},
   "source": [
    "Observations:\n",
    "\n",
    "1. The function is recursive in only one direction. Trying to search backwards will break it\n",
    "2. It only displays the history of what was executed inside the cell. It doesn't attends the need of printing the dependencies of\n",
    "    a given variable. "
   ]
  },
  {
   "cell_type": "markdown",
   "id": "ef05c223-09de-437f-a779-7154331c1c1d",
   "metadata": {},
   "source": [
    "The usecase here is:\n",
    "When tagging one variable, I want to be able to capture all the dependencies of this variable accross the trial.\n",
    "1. I have to iterate over all the executed cells in the notebook\n",
    "2. Capture all references to this variabble\n",
    "3. Capture all references to the references of this variable\n",
    "4. DIsplay it at the end."
   ]
  }
 ],
 "metadata": {
  "kernelspec": {
   "display_name": "noWorkflow 3",
   "language": "python",
   "name": "noworkflow3"
  },
  "language_info": {
   "codemirror_mode": {
    "name": "ipython",
    "version": 3
   },
   "file_extension": ".py",
   "mimetype": "text/x-python",
   "name": "python",
   "nbconvert_exporter": "python",
   "pygments_lexer": "ipython3",
   "version": "3.7.16"
  }
 },
 "nbformat": 4,
 "nbformat_minor": 5
}
