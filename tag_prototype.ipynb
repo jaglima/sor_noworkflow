{
 "cells": [
  {
   "cell_type": "code",
   "execution_count": 1,
   "id": "fc9131b8-8e68-4e25-8f3f-b500d15e27c0",
   "metadata": {
    "tags": []
   },
   "outputs": [],
   "source": [
    "def func_1(num):\n",
    "    return 2*num\n",
    "\n",
    "def func_2(num):\n",
    "    return 3*num"
   ]
  },
  {
   "cell_type": "code",
   "execution_count": 2,
   "id": "6d8aafed-502a-4c6a-92e2-5751b2134d0f",
   "metadata": {
    "tags": []
   },
   "outputs": [
    {
     "name": "stdout",
     "output_type": "stream",
     "text": [
      "6b6c16df-0440-4949-b1cc-47a81ed5e5e3\n",
      "now_tag\n",
      "First_tag\n",
      "8\n"
     ]
    }
   ],
   "source": [
    "now_tag(\"First_tag\")\n",
    "var1 = func_1(4)\n",
    "var2 = func_2(5)"
   ]
  },
  {
   "cell_type": "code",
   "execution_count": 3,
   "id": "26e6dc53-92ff-471a-b38f-02c38d9f36c9",
   "metadata": {
    "tags": []
   },
   "outputs": [
    {
     "name": "stdout",
     "output_type": "stream",
     "text": [
      "6b6c16df-0440-4949-b1cc-47a81ed5e5e3\n",
      "now_tag\n",
      "Second_tag\n",
      "30\n"
     ]
    },
    {
     "data": {
      "text/plain": [
       "4"
      ]
     },
     "execution_count": 3,
     "metadata": {},
     "output_type": "execute_result"
    }
   ],
   "source": [
    "now_tag(\"Second_tag\")\n",
    "func_2(1)\n",
    "func_1(2)"
   ]
  },
  {
   "cell_type": "code",
   "execution_count": 4,
   "id": "9f01b326-c37c-4e27-a40b-8565c3ae37d3",
   "metadata": {
    "tags": []
   },
   "outputs": [],
   "source": [
    "import sqlite3\n",
    "import pandas as pd"
   ]
  },
  {
   "cell_type": "code",
   "execution_count": 5,
   "id": "05621d8a-a29f-4a8d-a57d-e6c2c5e36793",
   "metadata": {
    "tags": []
   },
   "outputs": [
    {
     "data": {
      "text/plain": [
       "[('6b6c16df-0440-4949-b1cc-47a81ed5e5e3', 1, 'now_tag', 'First_tag', 8),\n",
       " ('6b6c16df-0440-4949-b1cc-47a81ed5e5e3', 2, 'now_tag', 'Second_tag', 30)]"
      ]
     },
     "execution_count": 5,
     "metadata": {},
     "output_type": "execute_result"
    }
   ],
   "source": [
    "# Connect to the SQLite database\n",
    "conn = sqlite3.connect('.noworkflow/db.sqlite')  # Replace 'database.db' with your database filename\n",
    "\n",
    "# Create a cursor object to interact with the database\n",
    "cursor = conn.cursor()\n",
    "\n",
    "# Execute a query\n",
    "cursor.execute(\"select * from stage_tags;\")\n",
    "\n",
    "results = cursor.fetchall()\n",
    "\n",
    "results\n"
   ]
  },
  {
   "cell_type": "code",
   "execution_count": 6,
   "id": "52fb540d-9901-427d-8b45-9be7cde62b86",
   "metadata": {
    "tags": []
   },
   "outputs": [],
   "source": [
    "cursor.execute(\"select trial_id, id, name from activation;\")\n",
    "results = cursor.fetchall()"
   ]
  },
  {
   "cell_type": "code",
   "execution_count": 8,
   "id": "4a539ac3-c0c1-4314-94a2-9c5589e97bf5",
   "metadata": {
    "tags": []
   },
   "outputs": [
    {
     "data": {
      "text/plain": [
       "[('6b6c16df-0440-4949-b1cc-47a81ed5e5e3', 1, '__main__'),\n",
       " ('6b6c16df-0440-4949-b1cc-47a81ed5e5e3', 2, '<ipython-input-1-1e56d32bac71>'),\n",
       " ('6b6c16df-0440-4949-b1cc-47a81ed5e5e3', 8, '<ipython-input-2-e2b3ea1de0a5>'),\n",
       " ('6b6c16df-0440-4949-b1cc-47a81ed5e5e3', 12, 'now_tag'),\n",
       " ('6b6c16df-0440-4949-b1cc-47a81ed5e5e3', 16, 'func_1'),\n",
       " ('6b6c16df-0440-4949-b1cc-47a81ed5e5e3', 24, 'func_2'),\n",
       " ('6b6c16df-0440-4949-b1cc-47a81ed5e5e3',\n",
       "  30,\n",
       "  '<ipython-input-3-f8ea4650ec66>'),\n",
       " ('6b6c16df-0440-4949-b1cc-47a81ed5e5e3', 33, 'now_tag'),\n",
       " ('6b6c16df-0440-4949-b1cc-47a81ed5e5e3', 36, 'func_2'),\n",
       " ('6b6c16df-0440-4949-b1cc-47a81ed5e5e3', 43, 'func_1'),\n",
       " ('6b6c16df-0440-4949-b1cc-47a81ed5e5e3',\n",
       "  50,\n",
       "  '<ipython-input-4-376670e249a7>'),\n",
       " ('6b6c16df-0440-4949-b1cc-47a81ed5e5e3',\n",
       "  51,\n",
       "  '<ipython-input-5-e418ad3d4b8a>'),\n",
       " ('6b6c16df-0440-4949-b1cc-47a81ed5e5e3', 57, 'connect'),\n",
       " ('6b6c16df-0440-4949-b1cc-47a81ed5e5e3', 62, 'cursor'),\n",
       " ('6b6c16df-0440-4949-b1cc-47a81ed5e5e3', 68, 'execute'),\n",
       " ('6b6c16df-0440-4949-b1cc-47a81ed5e5e3', 71, 'fetchall')]"
      ]
     },
     "execution_count": 8,
     "metadata": {},
     "output_type": "execute_result"
    }
   ],
   "source": [
    "results"
   ]
  }
 ],
 "metadata": {
  "kernelspec": {
   "display_name": "noWorkflow 3",
   "language": "python",
   "name": "noworkflow3"
  },
  "language_info": {
   "codemirror_mode": {
    "name": "ipython",
    "version": 3
   },
   "file_extension": ".py",
   "mimetype": "text/x-python",
   "name": "python",
   "nbconvert_exporter": "python",
   "pygments_lexer": "ipython3",
   "version": "3.7.16"
  }
 },
 "nbformat": 4,
 "nbformat_minor": 5
}
