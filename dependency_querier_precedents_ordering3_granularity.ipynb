{
 "cells": [
  {
   "cell_type": "code",
   "execution_count": 9,
   "id": "c6f9c9e7-4d30-4fb0-bbaf-c35e114212ec",
   "metadata": {
    "tags": []
   },
   "outputs": [],
   "source": [
    "from noworkflow.now.persistence.models import Evaluation, Activation\n",
    "from noworkflow.now.models.dependency_querier import DependencyQuerier\n",
    "from noworkflow.now.models.dependency_querier.node_context import NodeContext\n",
    "from noworkflow.now.models.dependency_querier.querier_options import QuerierOptions\n",
    "from noworkflow.now.persistence.models import Trial\n",
    "from copy import copy\n",
    "\n",
    "import ipdb\n",
    "import numpy as np\n",
    "from pprint import pprint"
   ]
  },
  {
   "cell_type": "code",
   "execution_count": 10,
   "id": "76477597-b64d-48c8-be27-a3c4344a1c00",
   "metadata": {
    "tags": []
   },
   "outputs": [],
   "source": [
    "import numpy as np\n",
    "\n",
    "# Helper functions\n",
    "def get_activation(activation_id, trial_id = None):\n",
    "    if not trial_id:\n",
    "        trial_id =  __noworkflow__.trial_id\n",
    "    return Activation((trial_id, activation_id))\n",
    "\n",
    "def get_evaluation(evaluation_id, trial_id = None):\n",
    "    if not trial_id:\n",
    "        trial_id =  __noworkflow__.trial_id\n",
    "    return Evaluation((trial_id, evaluation_id))\n",
    "\n",
    "def get_act_evals(activation_id):\n",
    "    activation = get_activation(activation_id)\n",
    "    return activation.evaluations    \n",
    "\n",
    "def print_act_forward(activation_id=1):\n",
    "    activation = get_activation(activation_id)\n",
    "    \n",
    "    for i in list(activation.dependent_dependencies):\n",
    "        pprint.pprint(i.to_dict())\n",
    "        \n",
    "def print_act_backward(activation_id=1):\n",
    "    activation = get_activation(activation_id)\n",
    "    \n",
    "    for i in list(activation.dependency_dependencies):\n",
    "        pprint.pprint(i.to_dict())\n",
    "\n",
    "def print_act_evals(activation_id=1):\n",
    "    activation = get_activation(activation_id)\n",
    "\n",
    "    for item in activation.evaluations:\n",
    "        pprint.pprint(item.to_dict())\n",
    "        \n"
   ]
  },
  {
   "cell_type": "markdown",
   "id": "e75b860a-76f6-4768-8080-db001d76119e",
   "metadata": {},
   "source": [
    "### Test case\n",
    "\n",
    "Here starts my (only) test case. The flow goes through cells defining module, mae and rmse, variable definitions, variable manipulation and _var_final_ being our target variable, being dependent of its previous cells.\n"
   ]
  },
  {
   "cell_type": "code",
   "execution_count": 11,
   "id": "b193369c-2ce3-4759-b7b5-41f4b320e97a",
   "metadata": {
    "tags": []
   },
   "outputs": [],
   "source": [
    "def module(num): \n",
    "    if num >= 0:\n",
    "        return int(num)\n",
    "    else:\n",
    "        return int(-1*num)\n",
    "\n",
    "def mae(x, y):\n",
    "    return np.mean(np.abs((x - y)))\n",
    "\n",
    "def rmse(x, y):\n",
    "    return np.sqrt(np.mean((x - y)**2))\n",
    "\n",
    "def stress_func(m, n):\n",
    "    temp = m * n\n",
    "    x = 10\n",
    "    y = 100\n",
    "    \n",
    "    temp = np.random.rand()*temp\n",
    "    \n",
    "    final = np.max([int(x+y), int(temp)])\n",
    "    \n",
    "    return final"
   ]
  },
  {
   "cell_type": "code",
   "execution_count": 12,
   "id": "dad4d3bc-e662-4cad-873d-e040cfe25354",
   "metadata": {
    "tags": []
   },
   "outputs": [],
   "source": [
    "var_a = 10"
   ]
  },
  {
   "cell_type": "code",
   "execution_count": 13,
   "id": "1bb71226-764c-454d-bfdd-260ad0432c6b",
   "metadata": {},
   "outputs": [],
   "source": [
    "var_b = -100"
   ]
  },
  {
   "cell_type": "code",
   "execution_count": 14,
   "id": "8c326993-1bf2-4223-8e9c-11e48a915cf8",
   "metadata": {},
   "outputs": [],
   "source": [
    "x = 50\n",
    "y = 30"
   ]
  },
  {
   "cell_type": "code",
   "execution_count": 15,
   "id": "127ead7e-028a-4cd4-bf44-20c541f0ad7d",
   "metadata": {},
   "outputs": [],
   "source": [
    "rme_err = mae(x, var_b)"
   ]
  },
  {
   "cell_type": "code",
   "execution_count": 16,
   "id": "93ea2f3f-32d6-4d40-a9b3-f2f8e2d557b0",
   "metadata": {
    "tags": []
   },
   "outputs": [],
   "source": [
    "var_c = stress_func(x, y)"
   ]
  },
  {
   "cell_type": "code",
   "execution_count": 17,
   "id": "18ec6985-1fb5-40c1-8a12-51d0fbb4c14f",
   "metadata": {
    "tags": []
   },
   "outputs": [],
   "source": [
    "var_d = var_c * rme_err"
   ]
  },
  {
   "cell_type": "code",
   "execution_count": 18,
   "id": "32345dcf-fa1b-4d2e-b742-49204e1ddcf0",
   "metadata": {
    "tags": []
   },
   "outputs": [],
   "source": [
    "var_e = mae(var_c, var_b)\n",
    "x = var_e + 10"
   ]
  },
  {
   "cell_type": "code",
   "execution_count": 19,
   "id": "d18aa5aa-5b91-4295-9b79-1fbf55d3d561",
   "metadata": {
    "tags": []
   },
   "outputs": [
    {
     "name": "stdout",
     "output_type": "stream",
     "text": [
      "Evaluation(id=180, checkpoint=186.702766308, code_component_id=1083, activation_id=174, repr=110.0)\n"
     ]
    }
   ],
   "source": [
    "#k = module(rmse_err)\n",
    "var_final = now_variable('var_final', rmse(var_c, x))"
   ]
  },
  {
   "cell_type": "markdown",
   "id": "407023ba-f72a-4a78-9d2c-4bf8498b93dc",
   "metadata": {},
   "source": [
    "### New functions test"
   ]
  },
  {
   "cell_type": "code",
   "execution_count": 7,
   "id": "11bc6245-d820-46d0-8132-0989c0014309",
   "metadata": {
    "collapsed": true,
    "jupyter": {
     "outputs_hidden": true
    },
    "tags": []
   },
   "outputs": [
    {
     "ename": "AttributeError",
     "evalue": "'NoneType' object has no attribute 'trial_id'",
     "output_type": "error",
     "traceback": [
      "\u001b[0;31m---------------------------------------------------------------------------\u001b[0m",
      "\u001b[0;31mAttributeError\u001b[0m                            Traceback (most recent call last)",
      "\u001b[0;32m<ipython-input-7-7174e366e7e0>\u001b[0m in \u001b[0;36m<module>\u001b[0;34m\u001b[0m\n\u001b[0;32m----> 1\u001b[0;31m \u001b[0mevals\u001b[0m \u001b[0;34m=\u001b[0m \u001b[0mget_evaluation\u001b[0m\u001b[0;34m(\u001b[0m\u001b[0;36m131\u001b[0m\u001b[0;34m)\u001b[0m\u001b[0;34m\u001b[0m\u001b[0;34m\u001b[0m\u001b[0m\n\u001b[0m",
      "\u001b[0;32m~/noworkflow/noworkflow/capture/noworkflow/now/collection/prov_execution/collector.py\u001b[0m in \u001b[0;36m_call\u001b[0;34m(self, *args, **kwargs)\u001b[0m\n\u001b[1;32m   1207\u001b[0m         \u001b[0mresult\u001b[0m \u001b[0;34m=\u001b[0m \u001b[0;32mNone\u001b[0m\u001b[0;34m\u001b[0m\u001b[0;34m\u001b[0m\u001b[0m\n\u001b[1;32m   1208\u001b[0m         \u001b[0;32mtry\u001b[0m\u001b[0;34m:\u001b[0m\u001b[0;34m\u001b[0m\u001b[0;34m\u001b[0m\u001b[0m\n\u001b[0;32m-> 1209\u001b[0;31m             \u001b[0mresult\u001b[0m \u001b[0;34m=\u001b[0m \u001b[0mfuture\u001b[0m\u001b[0;34m.\u001b[0m\u001b[0mfunc\u001b[0m\u001b[0;34m(\u001b[0m\u001b[0;34m*\u001b[0m\u001b[0margs\u001b[0m\u001b[0;34m,\u001b[0m \u001b[0;34m**\u001b[0m\u001b[0mkwargs\u001b[0m\u001b[0;34m)\u001b[0m\u001b[0;34m\u001b[0m\u001b[0;34m\u001b[0m\u001b[0m\n\u001b[0m\u001b[1;32m   1210\u001b[0m         \u001b[0;32mexcept\u001b[0m \u001b[0mException\u001b[0m\u001b[0;34m:\u001b[0m\u001b[0;34m\u001b[0m\u001b[0;34m\u001b[0m\u001b[0m\n\u001b[1;32m   1211\u001b[0m             \u001b[0mself\u001b[0m\u001b[0;34m.\u001b[0m\u001b[0mcollect_exception\u001b[0m\u001b[0;34m(\u001b[0m\u001b[0mactivation\u001b[0m\u001b[0;34m)\u001b[0m\u001b[0;34m\u001b[0m\u001b[0;34m\u001b[0m\u001b[0m\n",
      "\u001b[0;32m~/noworkflow/noworkflow/capture/noworkflow/now/collection/prov_execution/collector.py\u001b[0m in \u001b[0;36mnew_function_def\u001b[0;34m(*args, **kwargs)\u001b[0m\n\u001b[1;32m   1368\u001b[0m \u001b[0;34m\u001b[0m\u001b[0m\n\u001b[1;32m   1369\u001b[0m                 result = function_def(\n\u001b[0;32m-> 1370\u001b[0;31m                     \u001b[0mactivation\u001b[0m\u001b[0;34m,\u001b[0m \u001b[0mfunction_def\u001b[0m\u001b[0;34m,\u001b[0m \u001b[0margs\u001b[0m\u001b[0;34m,\u001b[0m \u001b[0mkwargs\u001b[0m\u001b[0;34m,\u001b[0m \u001b[0mdefault_values\u001b[0m\u001b[0;34m,\u001b[0m \u001b[0mdefaults\u001b[0m\u001b[0;34m,\u001b[0m \u001b[0;34m*\u001b[0m\u001b[0margs\u001b[0m\u001b[0;34m,\u001b[0m \u001b[0;34m**\u001b[0m\u001b[0mkwargs\u001b[0m\u001b[0;34m\u001b[0m\u001b[0;34m\u001b[0m\u001b[0m\n\u001b[0m\u001b[1;32m   1371\u001b[0m                 )\n\u001b[1;32m   1372\u001b[0m                 \u001b[0mbound_dependency\u001b[0m \u001b[0;34m=\u001b[0m \u001b[0mactivation\u001b[0m\u001b[0;34m.\u001b[0m\u001b[0mbound_dependency\u001b[0m\u001b[0;34m\u001b[0m\u001b[0;34m\u001b[0m\u001b[0m\n",
      "\u001b[0;32m<ipython-input-2-870e2e51394e>\u001b[0m in \u001b[0;36mget_evaluation\u001b[0;34m(__now_activation__, __now_function_def__, __now_args__, __now_kwargs__, __now_default_values__, __now_default_dependencies__, evaluation_id, trial_id)\u001b[0m\n\u001b[1;32m     10\u001b[0m     \u001b[0;32mif\u001b[0m \u001b[0;32mnot\u001b[0m \u001b[0mtrial_id\u001b[0m\u001b[0;34m:\u001b[0m\u001b[0;34m\u001b[0m\u001b[0;34m\u001b[0m\u001b[0m\n\u001b[1;32m     11\u001b[0m         \u001b[0mtrial_id\u001b[0m \u001b[0;34m=\u001b[0m  \u001b[0m__noworkflow__\u001b[0m\u001b[0;34m.\u001b[0m\u001b[0mtrial_id\u001b[0m\u001b[0;34m\u001b[0m\u001b[0;34m\u001b[0m\u001b[0m\n\u001b[0;32m---> 12\u001b[0;31m     \u001b[0;32mreturn\u001b[0m \u001b[0mEvaluation\u001b[0m\u001b[0;34m(\u001b[0m\u001b[0;34m(\u001b[0m\u001b[0mtrial_id\u001b[0m\u001b[0;34m,\u001b[0m \u001b[0mevaluation_id\u001b[0m\u001b[0;34m)\u001b[0m\u001b[0;34m)\u001b[0m\u001b[0;34m\u001b[0m\u001b[0;34m\u001b[0m\u001b[0m\n\u001b[0m\u001b[1;32m     13\u001b[0m \u001b[0;34m\u001b[0m\u001b[0m\n\u001b[1;32m     14\u001b[0m \u001b[0;32mdef\u001b[0m \u001b[0mget_act_evals\u001b[0m\u001b[0;34m(\u001b[0m\u001b[0mactivation_id\u001b[0m\u001b[0;34m)\u001b[0m\u001b[0;34m:\u001b[0m\u001b[0;34m\u001b[0m\u001b[0;34m\u001b[0m\u001b[0m\n",
      "\u001b[0;32m~/noworkflow/noworkflow/capture/noworkflow/now/collection/prov_execution/collector.py\u001b[0m in \u001b[0;36m_call\u001b[0;34m(self, *args, **kwargs)\u001b[0m\n\u001b[1;32m   1207\u001b[0m         \u001b[0mresult\u001b[0m \u001b[0;34m=\u001b[0m \u001b[0;32mNone\u001b[0m\u001b[0;34m\u001b[0m\u001b[0;34m\u001b[0m\u001b[0m\n\u001b[1;32m   1208\u001b[0m         \u001b[0;32mtry\u001b[0m\u001b[0;34m:\u001b[0m\u001b[0;34m\u001b[0m\u001b[0;34m\u001b[0m\u001b[0m\n\u001b[0;32m-> 1209\u001b[0;31m             \u001b[0mresult\u001b[0m \u001b[0;34m=\u001b[0m \u001b[0mfuture\u001b[0m\u001b[0;34m.\u001b[0m\u001b[0mfunc\u001b[0m\u001b[0;34m(\u001b[0m\u001b[0;34m*\u001b[0m\u001b[0margs\u001b[0m\u001b[0;34m,\u001b[0m \u001b[0;34m**\u001b[0m\u001b[0mkwargs\u001b[0m\u001b[0;34m)\u001b[0m\u001b[0;34m\u001b[0m\u001b[0;34m\u001b[0m\u001b[0m\n\u001b[0m\u001b[1;32m   1210\u001b[0m         \u001b[0;32mexcept\u001b[0m \u001b[0mException\u001b[0m\u001b[0;34m:\u001b[0m\u001b[0;34m\u001b[0m\u001b[0;34m\u001b[0m\u001b[0m\n\u001b[1;32m   1211\u001b[0m             \u001b[0mself\u001b[0m\u001b[0;34m.\u001b[0m\u001b[0mcollect_exception\u001b[0m\u001b[0;34m(\u001b[0m\u001b[0mactivation\u001b[0m\u001b[0;34m)\u001b[0m\u001b[0;34m\u001b[0m\u001b[0;34m\u001b[0m\u001b[0m\n",
      "\u001b[0;32m~/noworkflow/noworkflow/capture/noworkflow/now/persistence/models/base.py\u001b[0m in \u001b[0;36m__call__\u001b[0;34m(cls, *args, **kwargs)\u001b[0m\n\u001b[1;32m     39\u001b[0m \u001b[0;34m\u001b[0m\u001b[0m\n\u001b[1;32m     40\u001b[0m     \u001b[0;32mdef\u001b[0m \u001b[0m__call__\u001b[0m\u001b[0;34m(\u001b[0m\u001b[0mcls\u001b[0m\u001b[0;34m,\u001b[0m \u001b[0;34m*\u001b[0m\u001b[0margs\u001b[0m\u001b[0;34m,\u001b[0m \u001b[0;34m**\u001b[0m\u001b[0mkwargs\u001b[0m\u001b[0;34m)\u001b[0m\u001b[0;34m:\u001b[0m\u001b[0;34m\u001b[0m\u001b[0;34m\u001b[0m\u001b[0m\n\u001b[0;32m---> 41\u001b[0;31m         \u001b[0minstance\u001b[0m \u001b[0;34m=\u001b[0m \u001b[0msuper\u001b[0m\u001b[0;34m(\u001b[0m\u001b[0mMetaModel\u001b[0m\u001b[0;34m,\u001b[0m \u001b[0mcls\u001b[0m\u001b[0;34m)\u001b[0m\u001b[0;34m.\u001b[0m\u001b[0m__call__\u001b[0m\u001b[0;34m(\u001b[0m\u001b[0;34m*\u001b[0m\u001b[0margs\u001b[0m\u001b[0;34m,\u001b[0m \u001b[0;34m**\u001b[0m\u001b[0mkwargs\u001b[0m\u001b[0;34m)\u001b[0m\u001b[0;34m\u001b[0m\u001b[0;34m\u001b[0m\u001b[0m\n\u001b[0m\u001b[1;32m     42\u001b[0m         \u001b[0minstance\u001b[0m\u001b[0;34m.\u001b[0m\u001b[0m__class__\u001b[0m\u001b[0;34m.\u001b[0m\u001b[0m__refs__\u001b[0m\u001b[0;34m.\u001b[0m\u001b[0mappend\u001b[0m\u001b[0;34m(\u001b[0m\u001b[0mweakref\u001b[0m\u001b[0;34m.\u001b[0m\u001b[0mref\u001b[0m\u001b[0;34m(\u001b[0m\u001b[0minstance\u001b[0m\u001b[0;34m)\u001b[0m\u001b[0;34m)\u001b[0m\u001b[0;34m\u001b[0m\u001b[0;34m\u001b[0m\u001b[0m\n\u001b[1;32m     43\u001b[0m         \u001b[0;32mreturn\u001b[0m \u001b[0minstance\u001b[0m\u001b[0;34m\u001b[0m\u001b[0;34m\u001b[0m\u001b[0m\n",
      "\u001b[0;32m~/noworkflow/noworkflow/capture/noworkflow/now/persistence/models/base.py\u001b[0m in \u001b[0;36m__init__\u001b[0;34m(self, obj)\u001b[0m\n\u001b[1;32m    203\u001b[0m         \u001b[0;32melse\u001b[0m\u001b[0;34m:\u001b[0m\u001b[0;34m\u001b[0m\u001b[0;34m\u001b[0m\u001b[0m\n\u001b[1;32m    204\u001b[0m             \u001b[0mself\u001b[0m\u001b[0;34m.\u001b[0m\u001b[0m_alchemy_pk\u001b[0m \u001b[0;34m=\u001b[0m \u001b[0mobj\u001b[0m\u001b[0;34m\u001b[0m\u001b[0;34m\u001b[0m\u001b[0m\n\u001b[0;32m--> 205\u001b[0;31m         \u001b[0mself\u001b[0m\u001b[0;34m.\u001b[0m\u001b[0m_restore_instance\u001b[0m\u001b[0;34m(\u001b[0m\u001b[0;34m)\u001b[0m\u001b[0;34m\u001b[0m\u001b[0;34m\u001b[0m\u001b[0m\n\u001b[0m\u001b[1;32m    206\u001b[0m \u001b[0;34m\u001b[0m\u001b[0m\n\u001b[1;32m    207\u001b[0m     \u001b[0;32mdef\u001b[0m \u001b[0m__hash__\u001b[0m\u001b[0;34m(\u001b[0m\u001b[0mself\u001b[0m\u001b[0;34m)\u001b[0m\u001b[0;34m:\u001b[0m\u001b[0;34m\u001b[0m\u001b[0;34m\u001b[0m\u001b[0m\n",
      "\u001b[0;32m~/noworkflow/noworkflow/capture/noworkflow/now/persistence/models/base.py\u001b[0m in \u001b[0;36m_restore_instance\u001b[0;34m(self)\u001b[0m\n\u001b[1;32m    226\u001b[0m         \u001b[0mobj\u001b[0m \u001b[0;34m=\u001b[0m \u001b[0mself\u001b[0m\u001b[0;34m.\u001b[0m\u001b[0m_get_instance\u001b[0m\u001b[0;34m(\u001b[0m\u001b[0;34m)\u001b[0m\u001b[0;34m\u001b[0m\u001b[0;34m\u001b[0m\u001b[0m\n\u001b[1;32m    227\u001b[0m         \u001b[0;32mfor\u001b[0m \u001b[0mcolumn\u001b[0m \u001b[0;32min\u001b[0m \u001b[0mself\u001b[0m\u001b[0;34m.\u001b[0m\u001b[0m__columns__\u001b[0m\u001b[0;34m:\u001b[0m\u001b[0;34m\u001b[0m\u001b[0;34m\u001b[0m\u001b[0m\n\u001b[0;32m--> 228\u001b[0;31m             \u001b[0msetattr\u001b[0m\u001b[0;34m(\u001b[0m\u001b[0mself\u001b[0m\u001b[0;34m,\u001b[0m \u001b[0mcolumn\u001b[0m\u001b[0;34m,\u001b[0m \u001b[0mgetattr\u001b[0m\u001b[0;34m(\u001b[0m\u001b[0mobj\u001b[0m\u001b[0;34m,\u001b[0m \u001b[0mcolumn\u001b[0m\u001b[0;34m)\u001b[0m\u001b[0;34m)\u001b[0m\u001b[0;34m\u001b[0m\u001b[0;34m\u001b[0m\u001b[0m\n\u001b[0m\u001b[1;32m    229\u001b[0m \u001b[0;34m\u001b[0m\u001b[0m\n\u001b[1;32m    230\u001b[0m     \u001b[0;32mdef\u001b[0m \u001b[0m_get_instance\u001b[0m\u001b[0;34m(\u001b[0m\u001b[0mself\u001b[0m\u001b[0;34m)\u001b[0m\u001b[0;34m:\u001b[0m\u001b[0;34m\u001b[0m\u001b[0;34m\u001b[0m\u001b[0m\n",
      "\u001b[0;31mAttributeError\u001b[0m: 'NoneType' object has no attribute 'trial_id'"
     ]
    }
   ],
   "source": [
    "evals = get_evaluation(131)"
   ]
  },
  {
   "cell_type": "code",
   "execution_count": 27,
   "id": "7a5f5a25-139d-4a22-a07e-2a780a01da86",
   "metadata": {
    "tags": []
   },
   "outputs": [
    {
     "data": {
      "text/plain": [
       "evaluation(9236ebae-a8e2-4b65-9222-02f7a9454868, 131, 6.446164974, 591, 124, '110.0', 144)."
      ]
     },
     "execution_count": 27,
     "metadata": {},
     "output_type": "execute_result"
    }
   ],
   "source": [
    "evals\n"
   ]
  },
  {
   "cell_type": "markdown",
   "id": "3db01cdf-00e7-41d7-af9e-63615a7062db",
   "metadata": {
    "tags": []
   },
   "source": [
    "### Outputing the dependencies of a variable\n",
    "\n",
    "print_precedents() trying to output a cleaner output from get_precedent() results"
   ]
  },
  {
   "cell_type": "code",
   "execution_count": 61,
   "id": "712bff27-f79c-427f-b1e7-3765f5ce7282",
   "metadata": {
    "tags": []
   },
   "outputs": [],
   "source": [
    "class NotebookQuerierOptions(QuerierOptions):\n",
    "    global body_function_def\n",
    "    dep_list = []\n",
    "    \n",
    "    \n",
    "    def __init__(self, level, *args, **kwargs):\n",
    "        QuerierOptions.__init__(self, *args, **kwargs) # change it to super when integrating in the main code\n",
    "        self.level = level\n",
    "    \n",
    "    def visit_arrow(self, context, neighbor):\n",
    "                \n",
    "        # keeping \n",
    "        if neighbor.evaluation.code_component.type == 'function_def':\n",
    "            body_function_def.append(int(neighbor.evaluation.code_component.id))\n",
    "       \n",
    "        arrow_list = ('argument', '<.__class__>', 'item')\n",
    "        type_list = ('add', 'literal', 'mult', 'div', 'param', 'sub', 'attribute', 'usub', 'function_def')\n",
    "        \n",
    "        context_code_comp = context.evaluation.code_component\n",
    "        neighbor_code_comp = neighbor.evaluation.code_component\n",
    "           \n",
    "        if neighbor.arrow not in arrow_list:\n",
    "            if context_code_comp.type not in type_list:\n",
    "                if neighbor_code_comp.type not in type_list:\n",
    "                    if not (neighbor.arrow == 'use' and context_code_comp.type == 'call'):\n",
    "                        if (neighbor_code_comp.container_id != None):\n",
    "                            if (neighbor_code_comp.container_id not in body_function_def) or self.level:\n",
    "                                self.dep_list.append((str(context.evaluation.checkpoint), str(context.evaluation.id), context_code_comp.name, context.evaluation.repr))\n",
    "\n",
    "    def public_print(self):\n",
    "        global dep_dict\n",
    "        \n",
    "        dep_dict = {i[0] : i[1] for i in enumerate(self.dep_list)}\n",
    "        return dep_dict\n",
    "        \n",
    "                                \n",
    "body_function_def = []\n",
    "dep_dict = {}\n",
    "\n",
    "nbOptions = NotebookQuerierOptions(level=False)\n",
    "querier = DependencyQuerier(options=nbOptions)\n",
    "nodes_to_visit, visited, found = querier.navigate_dependencies([evals])  \n",
    "\n"
   ]
  },
  {
   "cell_type": "code",
   "execution_count": 62,
   "id": "3cfdaecb-dc9b-4dab-a26c-3af390c7b92d",
   "metadata": {
    "tags": []
   },
   "outputs": [
    {
     "data": {
      "text/plain": [
       "{0: ('6.446164974', '131', 'rmse(var_c, x)', '110.0'),\n",
       " 1: ('6.4454572290000005', '130', 'x', '1257.0'),\n",
       " 2: ('6.328109044000001', '120', 'var_e', '1247.0'),\n",
       " 3: ('6.328066595000001', '119', 'var_e', '1247.0'),\n",
       " 4: ('6.328048174000001', '107', 'mae(var_c, var_b)', '1247.0'),\n",
       " 5: ('6.327266418000001', '106', 'var_b', '-100'),\n",
       " 6: ('6.327235152', '105', 'var_c', '1147'),\n",
       " 7: ('6.0874868069999994', '97', 'var_c', '1147'),\n",
       " 8: ('6.0874656510000005', '61', 'stress_func(x, y)', '1147'),\n",
       " 9: ('6.086186027', '60', 'y', '30'),\n",
       " 10: ('6.0861170609999995', '59', 'x', '50')}"
      ]
     },
     "execution_count": 62,
     "metadata": {},
     "output_type": "execute_result"
    }
   ],
   "source": [
    "nbOptions.public_print()"
   ]
  },
  {
   "cell_type": "code",
   "execution_count": 52,
   "id": "13f658cb-193e-4ba3-8648-7e828b5e2cfe",
   "metadata": {},
   "outputs": [],
   "source": [
    "from noworkflow.now.persistence.models.stage_tags import *\n",
    "from noworkflow.now.persistence import relational\n",
    "from noworkflow.now.persistence.models.base import proxy_gen"
   ]
  },
  {
   "cell_type": "code",
   "execution_count": 47,
   "id": "216163f7-b9d8-4ba5-beb2-f31a59c97c82",
   "metadata": {
    "tags": []
   },
   "outputs": [
    {
     "data": {
      "text/plain": [
       "'9236ebae-a8e2-4b65-9222-02f7a9454868'"
      ]
     },
     "execution_count": 47,
     "metadata": {},
     "output_type": "execute_result"
    }
   ],
   "source": [
    "__noworkflow__.trial_id"
   ]
  },
  {
   "cell_type": "code",
   "execution_count": 53,
   "id": "13ddffdf-a3dd-4d2a-b62d-a81c092444e2",
   "metadata": {
    "tags": []
   },
   "outputs": [
    {
     "data": {
      "text/plain": [
       "[access(9236ebae-a8e2-4b65-9222-02f7a9454868, f1, 'var_final', '110.0', nil, nil, nil).,\n",
       " access(9236ebae-a8e2-4b65-9222-02f7a9454868, f2, 'var_final', '110.0', nil, nil, nil).]"
      ]
     },
     "execution_count": 53,
     "metadata": {},
     "output_type": "execute_result"
    }
   ],
   "source": [
    "list(proxy_gen(relational.session.query(StageTags.m).filter(StageTags.m.trial_id == __noworkflow__.trial_id)))"
   ]
  },
  {
   "cell_type": "code",
   "execution_count": 64,
   "id": "d40533cf-6f3d-470e-86e8-4f7541bd8dad",
   "metadata": {
    "tags": []
   },
   "outputs": [],
   "source": [
    "a = list(proxy_gen(relational.session.query(StageTags.m).filter(StageTags.m.trial_id == __noworkflow__.trial_id)))"
   ]
  },
  {
   "cell_type": "code",
   "execution_count": 73,
   "id": "63662830-ec07-4c27-aba1-71f4f969b626",
   "metadata": {
    "tags": []
   },
   "outputs": [
    {
     "name": "stdout",
     "output_type": "stream",
     "text": [
      "var_final\n",
      "var_final\n"
     ]
    }
   ],
   "source": [
    "for i in a:\n",
    "    print(i.name)"
   ]
  },
  {
   "cell_type": "code",
   "execution_count": 77,
   "id": "324a51d4-bff7-4ac6-9623-8a7585fdb08d",
   "metadata": {
    "tags": []
   },
   "outputs": [
    {
     "data": {
      "text/plain": [
       "'var_final'"
      ]
     },
     "execution_count": 77,
     "metadata": {},
     "output_type": "execute_result"
    }
   ],
   "source": [
    "i.name"
   ]
  },
  {
   "cell_type": "code",
   "execution_count": 96,
   "id": "e02b53f3-2a75-44f8-902f-91cc2bfef543",
   "metadata": {
    "tags": []
   },
   "outputs": [],
   "source": [
    "    from noworkflow.now.persistence.models.stage_tags import *\n",
    "    from noworkflow.now.persistence import relational\n",
    "    from noworkflow.now.persistence.models.base import proxy_gen\n",
    "    \n",
    "    def get_pre_tagged(glanularity = False):\n",
    "\n",
    "\n",
    "        dict_tags = []\n",
    "\n",
    "        tagged_values = list(proxy_gen(relational.session.query(StageTags.m).filter(StageTags.m.trial_id == __noworkflow__.trial_id)))\n",
    "        \n",
    "        for var in tagged_values:\n",
    "            dict_tags[var.name] = get_pre(var.name)\n",
    "            \n",
    "        return dict_tags"
   ]
  },
  {
   "cell_type": "code",
   "execution_count": 84,
   "id": "8a1d29fa-767e-445f-9929-001fd69f9260",
   "metadata": {
    "tags": []
   },
   "outputs": [],
   "source": [
    "tagged_values = list(proxy_gen(relational.session.query(StageTags.m).filter(StageTags.m.trial_id == __noworkflow__.trial_id)))"
   ]
  },
  {
   "cell_type": "code",
   "execution_count": 103,
   "id": "a959ce0b-ccc6-46ad-9a31-1a1f969b0d24",
   "metadata": {
    "tags": []
   },
   "outputs": [],
   "source": [
    "dict_tags = []\n",
    "for var in tagged_values:\n",
    "    dict_tags.append(get_pre(var.name))"
   ]
  },
  {
   "cell_type": "code",
   "execution_count": 108,
   "id": "012b08fe-4350-40c2-b6bc-5832634e74a7",
   "metadata": {
    "tags": []
   },
   "outputs": [
    {
     "data": {
      "text/plain": [
       "{0: ('27.472266372', '3778', 'rmse(var_c, x)', '110.0'),\n",
       " 1: ('27.471551243', '3777', 'x', '346.0'),\n",
       " 2: ('27.272975153', '3768', 'var_e', '336.0'),\n",
       " 3: ('27.272933288', '3767', 'var_e', '336.0'),\n",
       " 4: ('27.272916228', '3755', 'mae(var_c, var_b)', '336.0'),\n",
       " 5: ('27.272296989', '3754', 'var_b', '-100'),\n",
       " 6: ('27.272264149', '3753', 'var_c', '236'),\n",
       " 7: ('26.880302824', '3745', 'var_c', '236'),\n",
       " 8: ('26.880281984', '3713', 'stress_func(x, y)', '236'),\n",
       " 9: ('26.878983443', '3712', 'y', '30'),\n",
       " 10: ('26.878857644', '3711', 'x', '50'),\n",
       " 11: ('27.472266372', '3778', 'rmse(var_c, x)', '110.0'),\n",
       " 12: ('27.471551243', '3777', 'x', '346.0'),\n",
       " 13: ('27.272975153', '3768', 'var_e', '336.0'),\n",
       " 14: ('27.272933288', '3767', 'var_e', '336.0'),\n",
       " 15: ('27.272916228', '3755', 'mae(var_c, var_b)', '336.0'),\n",
       " 16: ('27.272296989', '3754', 'var_b', '-100'),\n",
       " 17: ('27.272264149', '3753', 'var_c', '236'),\n",
       " 18: ('26.880302824', '3745', 'var_c', '236'),\n",
       " 19: ('26.880281984', '3713', 'stress_func(x, y)', '236'),\n",
       " 20: ('26.878983443', '3712', 'y', '30'),\n",
       " 21: ('26.878857644', '3711', 'x', '50'),\n",
       " 22: ('27.472266372', '3778', 'rmse(var_c, x)', '110.0'),\n",
       " 23: ('27.471551243', '3777', 'x', '346.0'),\n",
       " 24: ('27.272975153', '3768', 'var_e', '336.0'),\n",
       " 25: ('27.272933288', '3767', 'var_e', '336.0'),\n",
       " 26: ('27.272916228', '3755', 'mae(var_c, var_b)', '336.0'),\n",
       " 27: ('27.272296989', '3754', 'var_b', '-100'),\n",
       " 28: ('27.272264149', '3753', 'var_c', '236'),\n",
       " 29: ('26.880302824', '3745', 'var_c', '236'),\n",
       " 30: ('26.880281984', '3713', 'stress_func(x, y)', '236'),\n",
       " 31: ('26.878983443', '3712', 'y', '30'),\n",
       " 32: ('26.878857644', '3711', 'x', '50'),\n",
       " 33: ('27.472266372', '3778', 'rmse(var_c, x)', '110.0'),\n",
       " 34: ('27.471551243', '3777', 'x', '346.0'),\n",
       " 35: ('27.272975153', '3768', 'var_e', '336.0'),\n",
       " 36: ('27.272933288', '3767', 'var_e', '336.0'),\n",
       " 37: ('27.272916228', '3755', 'mae(var_c, var_b)', '336.0'),\n",
       " 38: ('27.272296989', '3754', 'var_b', '-100'),\n",
       " 39: ('27.272264149', '3753', 'var_c', '236'),\n",
       " 40: ('26.880302824', '3745', 'var_c', '236'),\n",
       " 41: ('26.880281984', '3713', 'stress_func(x, y)', '236'),\n",
       " 42: ('26.878983443', '3712', 'y', '30'),\n",
       " 43: ('26.878857644', '3711', 'x', '50'),\n",
       " 44: ('27.472266372', '3778', 'rmse(var_c, x)', '110.0'),\n",
       " 45: ('27.471551243', '3777', 'x', '346.0'),\n",
       " 46: ('27.272975153', '3768', 'var_e', '336.0'),\n",
       " 47: ('27.272933288', '3767', 'var_e', '336.0'),\n",
       " 48: ('27.272916228', '3755', 'mae(var_c, var_b)', '336.0'),\n",
       " 49: ('27.272296989', '3754', 'var_b', '-100'),\n",
       " 50: ('27.272264149', '3753', 'var_c', '236'),\n",
       " 51: ('26.880302824', '3745', 'var_c', '236'),\n",
       " 52: ('26.880281984', '3713', 'stress_func(x, y)', '236'),\n",
       " 53: ('26.878983443', '3712', 'y', '30'),\n",
       " 54: ('26.878857644', '3711', 'x', '50'),\n",
       " 55: ('27.472266372', '3778', 'rmse(var_c, x)', '110.0'),\n",
       " 56: ('27.471551243', '3777', 'x', '346.0'),\n",
       " 57: ('27.272975153', '3768', 'var_e', '336.0'),\n",
       " 58: ('27.272933288', '3767', 'var_e', '336.0'),\n",
       " 59: ('27.272916228', '3755', 'mae(var_c, var_b)', '336.0'),\n",
       " 60: ('27.272296989', '3754', 'var_b', '-100'),\n",
       " 61: ('27.272264149', '3753', 'var_c', '236'),\n",
       " 62: ('26.880302824', '3745', 'var_c', '236'),\n",
       " 63: ('26.880281984', '3713', 'stress_func(x, y)', '236'),\n",
       " 64: ('26.878983443', '3712', 'y', '30'),\n",
       " 65: ('26.878857644', '3711', 'x', '50'),\n",
       " 66: ('27.472266372', '3778', 'rmse(var_c, x)', '110.0'),\n",
       " 67: ('27.471551243', '3777', 'x', '346.0'),\n",
       " 68: ('27.272975153', '3768', 'var_e', '336.0'),\n",
       " 69: ('27.272933288', '3767', 'var_e', '336.0'),\n",
       " 70: ('27.272916228', '3755', 'mae(var_c, var_b)', '336.0'),\n",
       " 71: ('27.272296989', '3754', 'var_b', '-100'),\n",
       " 72: ('27.272264149', '3753', 'var_c', '236'),\n",
       " 73: ('26.880302824', '3745', 'var_c', '236'),\n",
       " 74: ('26.880281984', '3713', 'stress_func(x, y)', '236'),\n",
       " 75: ('26.878983443', '3712', 'y', '30'),\n",
       " 76: ('26.878857644', '3711', 'x', '50')}"
      ]
     },
     "execution_count": 108,
     "metadata": {},
     "output_type": "execute_result"
    }
   ],
   "source": [
    "dict_tags[0]"
   ]
  },
  {
   "cell_type": "code",
   "execution_count": 109,
   "id": "24ea2a34-59e6-4ad2-a819-278050d2f75d",
   "metadata": {
    "tags": []
   },
   "outputs": [
    {
     "data": {
      "text/plain": [
       "{0: ('27.472266372', '3778', 'rmse(var_c, x)', '110.0'),\n",
       " 1: ('27.471551243', '3777', 'x', '346.0'),\n",
       " 2: ('27.272975153', '3768', 'var_e', '336.0'),\n",
       " 3: ('27.272933288', '3767', 'var_e', '336.0'),\n",
       " 4: ('27.272916228', '3755', 'mae(var_c, var_b)', '336.0'),\n",
       " 5: ('27.272296989', '3754', 'var_b', '-100'),\n",
       " 6: ('27.272264149', '3753', 'var_c', '236'),\n",
       " 7: ('26.880302824', '3745', 'var_c', '236'),\n",
       " 8: ('26.880281984', '3713', 'stress_func(x, y)', '236'),\n",
       " 9: ('26.878983443', '3712', 'y', '30'),\n",
       " 10: ('26.878857644', '3711', 'x', '50'),\n",
       " 11: ('27.472266372', '3778', 'rmse(var_c, x)', '110.0'),\n",
       " 12: ('27.471551243', '3777', 'x', '346.0'),\n",
       " 13: ('27.272975153', '3768', 'var_e', '336.0'),\n",
       " 14: ('27.272933288', '3767', 'var_e', '336.0'),\n",
       " 15: ('27.272916228', '3755', 'mae(var_c, var_b)', '336.0'),\n",
       " 16: ('27.272296989', '3754', 'var_b', '-100'),\n",
       " 17: ('27.272264149', '3753', 'var_c', '236'),\n",
       " 18: ('26.880302824', '3745', 'var_c', '236'),\n",
       " 19: ('26.880281984', '3713', 'stress_func(x, y)', '236'),\n",
       " 20: ('26.878983443', '3712', 'y', '30'),\n",
       " 21: ('26.878857644', '3711', 'x', '50'),\n",
       " 22: ('27.472266372', '3778', 'rmse(var_c, x)', '110.0'),\n",
       " 23: ('27.471551243', '3777', 'x', '346.0'),\n",
       " 24: ('27.272975153', '3768', 'var_e', '336.0'),\n",
       " 25: ('27.272933288', '3767', 'var_e', '336.0'),\n",
       " 26: ('27.272916228', '3755', 'mae(var_c, var_b)', '336.0'),\n",
       " 27: ('27.272296989', '3754', 'var_b', '-100'),\n",
       " 28: ('27.272264149', '3753', 'var_c', '236'),\n",
       " 29: ('26.880302824', '3745', 'var_c', '236'),\n",
       " 30: ('26.880281984', '3713', 'stress_func(x, y)', '236'),\n",
       " 31: ('26.878983443', '3712', 'y', '30'),\n",
       " 32: ('26.878857644', '3711', 'x', '50'),\n",
       " 33: ('27.472266372', '3778', 'rmse(var_c, x)', '110.0'),\n",
       " 34: ('27.471551243', '3777', 'x', '346.0'),\n",
       " 35: ('27.272975153', '3768', 'var_e', '336.0'),\n",
       " 36: ('27.272933288', '3767', 'var_e', '336.0'),\n",
       " 37: ('27.272916228', '3755', 'mae(var_c, var_b)', '336.0'),\n",
       " 38: ('27.272296989', '3754', 'var_b', '-100'),\n",
       " 39: ('27.272264149', '3753', 'var_c', '236'),\n",
       " 40: ('26.880302824', '3745', 'var_c', '236'),\n",
       " 41: ('26.880281984', '3713', 'stress_func(x, y)', '236'),\n",
       " 42: ('26.878983443', '3712', 'y', '30'),\n",
       " 43: ('26.878857644', '3711', 'x', '50'),\n",
       " 44: ('27.472266372', '3778', 'rmse(var_c, x)', '110.0'),\n",
       " 45: ('27.471551243', '3777', 'x', '346.0'),\n",
       " 46: ('27.272975153', '3768', 'var_e', '336.0'),\n",
       " 47: ('27.272933288', '3767', 'var_e', '336.0'),\n",
       " 48: ('27.272916228', '3755', 'mae(var_c, var_b)', '336.0'),\n",
       " 49: ('27.272296989', '3754', 'var_b', '-100'),\n",
       " 50: ('27.272264149', '3753', 'var_c', '236'),\n",
       " 51: ('26.880302824', '3745', 'var_c', '236'),\n",
       " 52: ('26.880281984', '3713', 'stress_func(x, y)', '236'),\n",
       " 53: ('26.878983443', '3712', 'y', '30'),\n",
       " 54: ('26.878857644', '3711', 'x', '50'),\n",
       " 55: ('27.472266372', '3778', 'rmse(var_c, x)', '110.0'),\n",
       " 56: ('27.471551243', '3777', 'x', '346.0'),\n",
       " 57: ('27.272975153', '3768', 'var_e', '336.0'),\n",
       " 58: ('27.272933288', '3767', 'var_e', '336.0'),\n",
       " 59: ('27.272916228', '3755', 'mae(var_c, var_b)', '336.0'),\n",
       " 60: ('27.272296989', '3754', 'var_b', '-100'),\n",
       " 61: ('27.272264149', '3753', 'var_c', '236'),\n",
       " 62: ('26.880302824', '3745', 'var_c', '236'),\n",
       " 63: ('26.880281984', '3713', 'stress_func(x, y)', '236'),\n",
       " 64: ('26.878983443', '3712', 'y', '30'),\n",
       " 65: ('26.878857644', '3711', 'x', '50'),\n",
       " 66: ('27.472266372', '3778', 'rmse(var_c, x)', '110.0'),\n",
       " 67: ('27.471551243', '3777', 'x', '346.0'),\n",
       " 68: ('27.272975153', '3768', 'var_e', '336.0'),\n",
       " 69: ('27.272933288', '3767', 'var_e', '336.0'),\n",
       " 70: ('27.272916228', '3755', 'mae(var_c, var_b)', '336.0'),\n",
       " 71: ('27.272296989', '3754', 'var_b', '-100'),\n",
       " 72: ('27.272264149', '3753', 'var_c', '236'),\n",
       " 73: ('26.880302824', '3745', 'var_c', '236'),\n",
       " 74: ('26.880281984', '3713', 'stress_func(x, y)', '236'),\n",
       " 75: ('26.878983443', '3712', 'y', '30'),\n",
       " 76: ('26.878857644', '3711', 'x', '50'),\n",
       " 77: ('27.472266372', '3778', 'rmse(var_c, x)', '110.0'),\n",
       " 78: ('27.471551243', '3777', 'x', '346.0'),\n",
       " 79: ('27.272975153', '3768', 'var_e', '336.0'),\n",
       " 80: ('27.272933288', '3767', 'var_e', '336.0'),\n",
       " 81: ('27.272916228', '3755', 'mae(var_c, var_b)', '336.0'),\n",
       " 82: ('27.272296989', '3754', 'var_b', '-100'),\n",
       " 83: ('27.272264149', '3753', 'var_c', '236'),\n",
       " 84: ('26.880302824', '3745', 'var_c', '236'),\n",
       " 85: ('26.880281984', '3713', 'stress_func(x, y)', '236'),\n",
       " 86: ('26.878983443', '3712', 'y', '30'),\n",
       " 87: ('26.878857644', '3711', 'x', '50')}"
      ]
     },
     "execution_count": 109,
     "metadata": {},
     "output_type": "execute_result"
    }
   ],
   "source": [
    "dict_tags[1]"
   ]
  },
  {
   "cell_type": "code",
   "execution_count": null,
   "id": "ca06706d-304f-44d1-94da-f08c4083d2c4",
   "metadata": {},
   "outputs": [],
   "source": []
  }
 ],
 "metadata": {
  "kernelspec": {
   "display_name": "noWorkflow 3",
   "language": "python",
   "name": "noworkflow3_old"
  },
  "language_info": {
   "codemirror_mode": {
    "name": "ipython",
    "version": 3
   },
   "file_extension": ".py",
   "mimetype": "text/x-python",
   "name": "python",
   "nbconvert_exporter": "python",
   "pygments_lexer": "ipython3",
   "version": "3.7.16"
  }
 },
 "nbformat": 4,
 "nbformat_minor": 5
}
