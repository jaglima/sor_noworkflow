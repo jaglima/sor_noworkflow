{
 "cells": [
  {
   "cell_type": "markdown",
   "metadata": {
    "tags": []
   },
   "source": [
    "#### Summer of Reproducibility - noWorkflow base experiment\n",
    "\n",
    "This notebook implements an experimental setup modeling a Credit Fraud problem."
   ]
  },
  {
   "cell_type": "code",
   "execution_count": 1,
   "metadata": {
    "tags": []
   },
   "outputs": [],
   "source": [
    "from sklearn.decomposition import PCA\n",
    "from sklearn.metrics import roc_auc_score, f1_score\n",
    "from sklearn.ensemble import RandomForestClassifier\n",
    "from imblearn.under_sampling import RandomUnderSampler\n",
    "from sklearn.model_selection import train_test_split\n",
    "import pandas as pd\n",
    "import xgboost as xgb\n",
    "import lightgbm as lgb\n",
    "import catboost as cat\n",
    "import numpy as np\n",
    "#np.set_printoptions(threshold=np.inf)\n",
    "np.set_printoptions(precision=2)\n",
    "\n",
    "\n",
    "from noworkflow.now.tagging.var_tagging import *"
   ]
  },
  {
   "cell_type": "markdown",
   "metadata": {},
   "source": [
    "#### Reading the dataset"
   ]
  },
  {
   "cell_type": "code",
   "execution_count": 2,
   "metadata": {},
   "outputs": [],
   "source": [
    "now_tag('dataset_reading')\n",
    "df = pd.read_csv('dataset/creditcard.csv', encoding='utf-8')"
   ]
  },
  {
   "cell_type": "markdown",
   "metadata": {},
   "source": [
    "### Feature engineering stage\n",
    "\n",
    "Separate the features and target variable. First step in feature treatment."
   ]
  },
  {
   "cell_type": "code",
   "execution_count": 3,
   "metadata": {},
   "outputs": [],
   "source": [
    "#now_tag('feature_eng')\n",
    "X = df.drop('Class', axis=1)\n",
    "y = df['Class']"
   ]
  },
  {
   "cell_type": "markdown",
   "metadata": {},
   "source": [
    "#### Feature engineering: Apply PCA for feature extraction.\n",
    "\n",
    "Here we define hyperparam_def tag given that n_components argument in PCA is required"
   ]
  },
  {
   "cell_type": "code",
   "execution_count": 4,
   "metadata": {},
   "outputs": [
    {
     "name": "stdout",
     "output_type": "stream",
     "text": [
      "Evaluation(id=40, checkpoint=38.49172881, code_component_id=1171, activation_id=37, repr=6)\n"
     ]
    }
   ],
   "source": [
    "pca_components = now_variable('pca_components', 6)\n",
    "pca = PCA(n_components=pca_components)  # Adjust the number of components as needed\n",
    "X_pca = pca.fit_transform(X)"
   ]
  },
  {
   "cell_type": "markdown",
   "metadata": {},
   "source": [
    "#### Feature engineering: Apply random undersampling over the extracted features\n",
    "\n",
    "Another case of feature engineering operation with hyperparameter definition. Here is random_state value for RandmUnderSampler\n"
   ]
  },
  {
   "cell_type": "code",
   "execution_count": 5,
   "metadata": {
    "tags": []
   },
   "outputs": [
    {
     "name": "stdout",
     "output_type": "stream",
     "text": [
      "Evaluation(id=58, checkpoint=39.666666252, code_component_id=1204, activation_id=55, repr=123456)\n"
     ]
    }
   ],
   "source": [
    "random_seed = now_variable('random_seed', 123456)\n",
    "rus = RandomUnderSampler(random_state=random_seed)\n",
    "X_resampled, y_resampled = rus.fit_resample(X_pca, y)"
   ]
  },
  {
   "cell_type": "markdown",
   "metadata": {
    "tags": []
   },
   "source": [
    "#### Feature engineering: Spliting dataset into train and test\n",
    "\n",
    "Here we have two hyperparameters assignments: the proportion of the test_size and the random_state. A guess here would be implement some logic to take all scalar values in hyperparam_def in cells. Not sure at the moment if there are any corner case where a hyperparameter could be vectorial or an object."
   ]
  },
  {
   "cell_type": "code",
   "execution_count": 6,
   "metadata": {},
   "outputs": [
    {
     "name": "stdout",
     "output_type": "stream",
     "text": [
      "Evaluation(id=80, checkpoint=39.965805788, code_component_id=1246, activation_id=74, repr=0.2)\n"
     ]
    }
   ],
   "source": [
    "now_tag('feature_eng')\n",
    "test_dim = now_variable('test_dim', 0.2)\n",
    "X_train, X_test, y_train, y_test = train_test_split(X_resampled, y_resampled, test_size=test_dim, random_state=random_seed)"
   ]
  },
  {
   "cell_type": "markdown",
   "metadata": {},
   "source": [
    "#### Scoring: model training and transforming features into predictions\n",
    "##### RandomForest\n",
    "\n",
    "Train and evaluate Random Forest Classifier. Unsure now if adding a model_training tag would be redundant here. Scoring is enough at first sight."
   ]
  },
  {
   "cell_type": "code",
   "execution_count": 7,
   "metadata": {},
   "outputs": [
    {
     "data": {
      "text/plain": [
       "RandomForestClassifier()"
      ]
     },
     "execution_count": 7,
     "metadata": {},
     "output_type": "execute_result"
    }
   ],
   "source": [
    "#now_tag('scoring')\n",
    "now_tag('model_training')\n",
    "rf = RandomForestClassifier()\n",
    "rf.fit(X_train, y_train)"
   ]
  },
  {
   "cell_type": "markdown",
   "metadata": {
    "tags": []
   },
   "source": [
    "#### Evaluating: evaluating the performance of models\n",
    "##### RandomForest\n",
    "Computing performance metrics "
   ]
  },
  {
   "cell_type": "code",
   "execution_count": 8,
   "metadata": {
    "tags": []
   },
   "outputs": [
    {
     "name": "stdout",
     "output_type": "stream",
     "text": [
      "Evaluation(id=124, checkpoint=40.567982439, code_component_id=1323, activation_id=110, repr=0.9447428217310474)\n",
      "Evaluation(id=133, checkpoint=40.570411600999996, code_component_id=1339, activation_id=110, repr=0.9424083769633509)\n",
      "Random Forest - ROC = 0.944743, F1 = 0.942408\n"
     ]
    }
   ],
   "source": [
    "now_tag('evaluating')\n",
    "y_pred_rf = rf.predict(X_test)\n",
    "\n",
    "roc_rf = now_variable('roc_rf', roc_auc_score(y_test, y_pred_rf))\n",
    "#roc_rf = roc_auc_score(y_test, y_pred_rf)\n",
    "f1_rf = now_variable('f1_rf', f1_score(y_test, y_pred_rf))\n",
    "#f1_rf = f1_score(y_test, y_pred_rf)\n",
    "\n",
    "print(\"Random Forest - ROC = %f, F1 = %f\" % (roc_rf, f1_rf))"
   ]
  },
  {
   "cell_type": "markdown",
   "metadata": {
    "tags": []
   },
   "source": [
    "### Experiment comparision\n",
    "\n",
    "The steps are:\n",
    "1. calls get_pre for a given tagged variable and keeps the operations_dictionary output\n",
    "2. calls store operations() to store the dict into a shelve object with current trial_id key\n",
    "3. load the shelve object to retrieve other stored experiment as well the current one\n",
    "4. calls exp_compare passing two trial ids as argumens to make a comparision\n",
    "\n"
   ]
  },
  {
   "cell_type": "code",
   "execution_count": 9,
   "metadata": {
    "tags": []
   },
   "outputs": [],
   "source": [
    "ops_dict, dep_list = get_pre('roc_rf')"
   ]
  },
  {
   "cell_type": "code",
   "execution_count": 10,
   "metadata": {
    "tags": []
   },
   "outputs": [
    {
     "name": "stdout",
     "output_type": "stream",
     "text": [
      "Dictionary stored in shelve.\n"
     ]
    }
   ],
   "source": [
    "id_1 = __noworkflow__.trial_id\n",
    "store_operations(id_1, ops_dict)"
   ]
  },
  {
   "cell_type": "code",
   "execution_count": 11,
   "metadata": {
    "tags": []
   },
   "outputs": [
    {
     "data": {
      "text/plain": [
       "['fa369ec4-b11e-43b2-ac8a-6eb9b6eec13c',\n",
       " 'adf942da-daa2-4899-97e3-e94122d03f6a',\n",
       " '8bfca706-7c71-45d8-8f5b-6506a06927cc',\n",
       " '7a7b9e5b-ad79-44fb-9b33-b818aecc9407',\n",
       " '595dc841-cc3c-45d4-87ba-a63b94243706',\n",
       " '1e09f81d-af9a-4e5b-bf2e-9b7177eb6b63',\n",
       " 'baefc258-9e43-4583-a52e-9aa87ffa50c0',\n",
       " '2248d786-62d7-4137-99a3-c30fdb72ac82']"
      ]
     },
     "execution_count": 11,
     "metadata": {},
     "output_type": "execute_result"
    }
   ],
   "source": [
    "import shelve\n",
    "shelf = shelve.open('ops')\n",
    "list_id = list(shelf.keys())\n",
    "list_id"
   ]
  },
  {
   "cell_type": "code",
   "execution_count": 12,
   "metadata": {
    "tags": []
   },
   "outputs": [
    {
     "data": {
      "text/html": [
       "\n",
       "        <style>\n",
       "        .diff_header {\n",
       "            background-color: #f1f1f1;\n",
       "        }\n",
       "        .diff_next {\n",
       "            background-color: #f1f1f1;\n",
       "        }\n",
       "        .diff_add {\n",
       "            background-color: #ddffdd;\n",
       "        }\n",
       "        .diff_chg {\n",
       "            background-color: #ffffaa;\n",
       "        }\n",
       "        .diff_sub {\n",
       "            background-color: #ffdddd;\n",
       "        }\n",
       "        .diff_table {\n",
       "            text-align: left; /* Align the table content to the left */\n",
       "        }\n",
       "        </style>\n",
       "        \n",
       "    <table class=\"diff\" id=\"difflib_chg_to0__top\"\n",
       "           cellspacing=\"0\" cellpadding=\"0\" rules=\"groups\" >\n",
       "        <colgroup></colgroup> <colgroup></colgroup> <colgroup></colgroup>\n",
       "        <colgroup></colgroup> <colgroup></colgroup> <colgroup></colgroup>\n",
       "        \n",
       "        <tbody>\n",
       "            <tr><td class=\"diff_next\"><a href=\"#difflib_chg_to0__0\">f</a></td><td class=\"diff_header\" id=\"from0_1\">1</td><td nowrap=\"nowrap\">y_test,&nbsp;matrix&nbsp;dim(137,)</td><td class=\"diff_next\"><a href=\"#difflib_chg_to0__0\">f</a></td><td class=\"diff_header\" id=\"to0_1\">1</td><td nowrap=\"nowrap\">y_test,&nbsp;matrix&nbsp;dim(137,)</td></tr>\n",
       "            <tr><td class=\"diff_next\"></td><td class=\"diff_header\" id=\"from0_2\">2</td><td nowrap=\"nowrap\">RandomForestClassifier(),&nbsp;matrix&nbsp;dim(24,)</td><td class=\"diff_next\"></td><td class=\"diff_header\" id=\"to0_2\">2</td><td nowrap=\"nowrap\">RandomForestClassifier(),&nbsp;matrix&nbsp;dim(24,)</td></tr>\n",
       "            <tr><td class=\"diff_next\"></td><td class=\"diff_header\" id=\"from0_3\">3</td><td nowrap=\"nowrap\">rf,&nbsp;matrix&nbsp;dim(24,)</td><td class=\"diff_next\"></td><td class=\"diff_header\" id=\"to0_3\">3</td><td nowrap=\"nowrap\">rf,&nbsp;matrix&nbsp;dim(24,)</td></tr>\n",
       "            <tr><td class=\"diff_next\" id=\"difflib_chg_to0__0\"><a href=\"#difflib_chg_to0__1\">n</a></td><td class=\"diff_header\" id=\"from0_4\">4</td><td nowrap=\"nowrap\">X_resampled,&nbsp;matrix&nbsp;dim(2<span class=\"diff_sub\">64</span>,)</td><td class=\"diff_next\"><a href=\"#difflib_chg_to0__1\">n</a></td><td class=\"diff_header\" id=\"to0_4\">4</td><td nowrap=\"nowrap\">X_resampled,&nbsp;matrix&nbsp;dim(<span class=\"diff_add\">46</span>2,)</td></tr>\n",
       "            <tr><td class=\"diff_next\"></td><td class=\"diff_header\" id=\"from0_5\">5</td><td nowrap=\"nowrap\">RandomUnderSampler(random_state=random_seed),&nbsp;matrix&nbsp;dim(39,)</td><td class=\"diff_next\"></td><td class=\"diff_header\" id=\"to0_5\">5</td><td nowrap=\"nowrap\">RandomUnderSampler(random_state=random_seed),&nbsp;matrix&nbsp;dim(39,)</td></tr>\n",
       "            <tr><td class=\"diff_next\"></td><td class=\"diff_header\" id=\"from0_6\">6</td><td nowrap=\"nowrap\">rus,&nbsp;matrix&nbsp;dim(39,)</td><td class=\"diff_next\"></td><td class=\"diff_header\" id=\"to0_6\">6</td><td nowrap=\"nowrap\">rus,&nbsp;matrix&nbsp;dim(39,)</td></tr>\n",
       "            <tr><td class=\"diff_next\" id=\"difflib_chg_to0__1\"><a href=\"#difflib_chg_to0__2\">n</a></td><td class=\"diff_header\" id=\"from0_7\">7</td><td nowrap=\"nowrap\">now_variable('pca_components',<span class=\"diff_chg\">&nbsp;3</span>),&nbsp;<span class=\"diff_chg\">3</span></td><td class=\"diff_next\"><a href=\"#difflib_chg_to0__2\">n</a></td><td class=\"diff_header\" id=\"to0_7\">7</td><td nowrap=\"nowrap\">now_variable('pca_components',<span class=\"diff_chg\">6</span>),&nbsp;<span class=\"diff_chg\">6</span></td></tr>\n",
       "            <tr><td class=\"diff_next\"></td><td class=\"diff_header\" id=\"from0_8\">8</td><td nowrap=\"nowrap\">pca_components,&nbsp;<span class=\"diff_chg\">3</span></td><td class=\"diff_next\"></td><td class=\"diff_header\" id=\"to0_8\">8</td><td nowrap=\"nowrap\">pca_components,&nbsp;<span class=\"diff_chg\">6</span></td></tr>\n",
       "            <tr><td class=\"diff_next\"></td><td class=\"diff_header\" id=\"from0_9\">9</td><td nowrap=\"nowrap\">PCA(n_components=pca_components),&nbsp;PCA(n_components=<span class=\"diff_chg\">3</span>)</td><td class=\"diff_next\"></td><td class=\"diff_header\" id=\"to0_9\">9</td><td nowrap=\"nowrap\">PCA(n_components=pca_components),&nbsp;PCA(n_components=<span class=\"diff_chg\">6</span>)</td></tr>\n",
       "            <tr><td class=\"diff_next\"></td><td class=\"diff_header\" id=\"from0_10\">10</td><td nowrap=\"nowrap\">pca,&nbsp;PCA(n_components=<span class=\"diff_chg\">3</span>)</td><td class=\"diff_next\"></td><td class=\"diff_header\" id=\"to0_10\">10</td><td nowrap=\"nowrap\">pca,&nbsp;PCA(n_components=<span class=\"diff_chg\">6</span>)</td></tr>\n",
       "            <tr><td class=\"diff_next\"></td><td class=\"diff_header\" id=\"from0_11\">11</td><td nowrap=\"nowrap\">X,&nbsp;matrix&nbsp;dim(2958,)</td><td class=\"diff_next\"></td><td class=\"diff_header\" id=\"to0_11\">11</td><td nowrap=\"nowrap\">X,&nbsp;matrix&nbsp;dim(2958,)</td></tr>\n",
       "            <tr><td class=\"diff_next\" id=\"difflib_chg_to0__2\"><a href=\"#difflib_chg_to0__3\">n</a></td><td class=\"diff_header\" id=\"from0_12\">12</td><td nowrap=\"nowrap\">X_pca,&nbsp;matrix&nbsp;dim(2<span class=\"diff_sub\">64</span>,)</td><td class=\"diff_next\"><a href=\"#difflib_chg_to0__3\">n</a></td><td class=\"diff_header\" id=\"to0_12\">12</td><td nowrap=\"nowrap\">X_pca,&nbsp;matrix&nbsp;dim(<span class=\"diff_add\">46</span>2,)</td></tr>\n",
       "            <tr><td class=\"diff_next\"></td><td class=\"diff_header\" id=\"from0_13\">13</td><td nowrap=\"nowrap\">df,&nbsp;matrix&nbsp;dim(2922,)</td><td class=\"diff_next\"></td><td class=\"diff_header\" id=\"to0_13\">13</td><td nowrap=\"nowrap\">df,&nbsp;matrix&nbsp;dim(2922,)</td></tr>\n",
       "            <tr><td class=\"diff_next\"></td><td class=\"diff_header\" id=\"from0_14\">14</td><td nowrap=\"nowrap\">df['Class'],&nbsp;matrix&nbsp;dim(173,)</td><td class=\"diff_next\"></td><td class=\"diff_header\" id=\"to0_14\">14</td><td nowrap=\"nowrap\">df['Class'],&nbsp;matrix&nbsp;dim(173,)</td></tr>\n",
       "            <tr><td class=\"diff_next\"></td><td class=\"diff_header\" id=\"from0_15\">15</td><td nowrap=\"nowrap\">y,&nbsp;matrix&nbsp;dim(173,)</td><td class=\"diff_next\"></td><td class=\"diff_header\" id=\"to0_15\">15</td><td nowrap=\"nowrap\">y,&nbsp;matrix&nbsp;dim(173,)</td></tr>\n",
       "            <tr><td class=\"diff_next\"></td><td class=\"diff_header\" id=\"from0_16\">16</td><td nowrap=\"nowrap\">y_resampled,&nbsp;matrix&nbsp;dim(137,)</td><td class=\"diff_next\"></td><td class=\"diff_header\" id=\"to0_16\">16</td><td nowrap=\"nowrap\">y_resampled,&nbsp;matrix&nbsp;dim(137,)</td></tr>\n",
       "            <tr><td class=\"diff_next\"></td><td class=\"diff_header\" id=\"from0_17\">17</td><td nowrap=\"nowrap\">now_variable('test_dim',&nbsp;0.2),&nbsp;0.2</td><td class=\"diff_next\"></td><td class=\"diff_header\" id=\"to0_17\">17</td><td nowrap=\"nowrap\">now_variable('test_dim',&nbsp;0.2),&nbsp;0.2</td></tr>\n",
       "            <tr><td class=\"diff_next\"></td><td class=\"diff_header\" id=\"from0_18\">18</td><td nowrap=\"nowrap\">test_dim,&nbsp;0.2</td><td class=\"diff_next\"></td><td class=\"diff_header\" id=\"to0_18\">18</td><td nowrap=\"nowrap\">test_dim,&nbsp;0.2</td></tr>\n",
       "            <tr><td class=\"diff_next\"></td><td class=\"diff_header\" id=\"from0_19\">19</td><td nowrap=\"nowrap\">now_variable('random_seed',&nbsp;123456),&nbsp;123456</td><td class=\"diff_next\"></td><td class=\"diff_header\" id=\"to0_19\">19</td><td nowrap=\"nowrap\">now_variable('random_seed',&nbsp;123456),&nbsp;123456</td></tr>\n",
       "            <tr><td class=\"diff_next\"></td><td class=\"diff_header\" id=\"from0_20\">20</td><td nowrap=\"nowrap\">random_seed,&nbsp;123456</td><td class=\"diff_next\"></td><td class=\"diff_header\" id=\"to0_20\">20</td><td nowrap=\"nowrap\">random_seed,&nbsp;123456</td></tr>\n",
       "            <tr><td class=\"diff_next\"></td><td class=\"diff_header\" id=\"from0_21\">21</td><td nowrap=\"nowrap\">train_test_split(X_resampled,&nbsp;y_resampled,&nbsp;test_size=test_dim,</td><td class=\"diff_next\"></td><td class=\"diff_header\" id=\"to0_21\">21</td><td nowrap=\"nowrap\">train_test_split(X_resampled,&nbsp;y_resampled,&nbsp;test_size=test_dim,</td></tr>\n",
       "            <tr><td class=\"diff_next\" id=\"difflib_chg_to0__3\"><a href=\"#difflib_chg_to0__4\">n</a></td><td class=\"diff_header\" id=\"from0_22\">22</td><td nowrap=\"nowrap\">&nbsp;&nbsp;&nbsp;&nbsp;random_state=random_seed),&nbsp;matrix&nbsp;dim(<span class=\"diff_chg\">88</span>20,)</td><td class=\"diff_next\"><a href=\"#difflib_chg_to0__4\">n</a></td><td class=\"diff_header\" id=\"to0_22\">22</td><td nowrap=\"nowrap\">&nbsp;&nbsp;&nbsp;&nbsp;random_state=random_seed),&nbsp;matrix&nbsp;dim(<span class=\"diff_chg\">1</span>20<span class=\"diff_add\">6</span>,)</td></tr>\n",
       "            <tr><td class=\"diff_next\"></td><td class=\"diff_header\" id=\"from0_23\">23</td><td nowrap=\"nowrap\">X_test,&nbsp;matrix&nbsp;dim(<span class=\"diff_chg\">8</span>2<span class=\"diff_sub\">74</span>,)</td><td class=\"diff_next\"></td><td class=\"diff_header\" id=\"to0_23\">23</td><td nowrap=\"nowrap\">X_test,&nbsp;matrix&nbsp;dim(<span class=\"diff_chg\">46</span>2,)</td></tr>\n",
       "            <tr><td class=\"diff_next\"></td><td class=\"diff_header\" id=\"from0_24\">24</td><td nowrap=\"nowrap\">y_pred_rf,&nbsp;matrix&nbsp;dim(654,)</td><td class=\"diff_next\"></td><td class=\"diff_header\" id=\"to0_24\">24</td><td nowrap=\"nowrap\">y_pred_rf,&nbsp;matrix&nbsp;dim(654,)</td></tr>\n",
       "            <tr><td class=\"diff_next\" id=\"difflib_chg_to0__4\"><a href=\"#difflib_chg_to0__top\">t</a></td><td class=\"diff_header\" id=\"from0_25\">25</td><td nowrap=\"nowrap\">roc_auc_score(y_test,&nbsp;y_pred_rf),&nbsp;0.807<span class=\"diff_chg\">6327205122908</span></td><td class=\"diff_next\"><a href=\"#difflib_chg_to0__top\">t</a></td><td class=\"diff_header\" id=\"to0_25\">25</td><td nowrap=\"nowrap\">roc_auc_score(y_test,&nbsp;y_pred_rf),&nbsp;0.<span class=\"diff_add\">944742</span>8<span class=\"diff_add\">21731</span>0<span class=\"diff_add\">4</span>7<span class=\"diff_chg\">4</span></td></tr>\n",
       "        </tbody>\n",
       "    </table>\n",
       "        "
      ],
      "text/plain": [
       "<IPython.core.display.HTML object>"
      ]
     },
     "metadata": {},
     "output_type": "display_data"
    }
   ],
   "source": [
    "exp_compare(list_id[-1], list_id[0], html=True)"
   ]
  },
  {
   "cell_type": "code",
   "execution_count": 18,
   "metadata": {},
   "outputs": [],
   "source": [
    "def dict_compare(trial_a, trial_b):\n",
    "    import shelve\n",
    "    import numpy as np\n",
    "    from IPython.display import HTML\n",
    "    \n",
    "    comp_dict = {}\n",
    "    # Retrieve the ops dictionary from the shelve file\n",
    "    with shelve.open('ops') as shelf:\n",
    "        dict1 = shelf[trial_a]\n",
    "        dict2 = shelf[trial_b]\n",
    "    \n",
    "    if len(dict1) == len(dict2):\n",
    "\n",
    "        for key in dict1:\n",
    "            value1 = dict1[key]\n",
    "            value2 = dict2[key]\n",
    "\n",
    "            if isinstance(value1, np.ndarray) and isinstance(value2, np.ndarray):\n",
    "                # If both values are NumPy arrays, compare if they are equal\n",
    "                if np.array_equal(value1, value2):\n",
    "                    comp_dict[value1[0]] = 'equal matrices'\n",
    "                else:\n",
    "                    comp_dict[value1[0]] = 'different matrices'\n",
    "                \n",
    "            elif value1 != value2:\n",
    "                # If one or both values are scalars, compare their equality\n",
    "                comp_dict[value1[0]] = 'different values'\n",
    "            else:\n",
    "                comp_dict[value1[0]] = 'equal values'\n",
    "    \n",
    "    return comp_dict"
   ]
  },
  {
   "cell_type": "code",
   "execution_count": 19,
   "metadata": {
    "tags": []
   },
   "outputs": [
    {
     "data": {
      "text/plain": [
       "{'y_test': 'equal values',\n",
       " 'RandomForestClassifier()': 'equal values',\n",
       " 'rf': 'equal values',\n",
       " 'X_resampled': 'different values',\n",
       " 'RandomUnderSampler(random_state=random_seed)': 'equal values',\n",
       " 'rus': 'equal values',\n",
       " \"now_variable('pca_components', 3)\": 'different values',\n",
       " 'pca_components': 'different values',\n",
       " 'PCA(n_components=pca_components)': 'different values',\n",
       " 'pca': 'different values',\n",
       " 'X': 'equal values',\n",
       " 'X_pca': 'different values',\n",
       " 'df': 'equal values',\n",
       " \"df['Class']\": 'equal values',\n",
       " 'y': 'equal values',\n",
       " 'y_resampled': 'equal values',\n",
       " \"now_variable('test_dim', 0.2)\": 'equal values',\n",
       " 'test_dim': 'equal values',\n",
       " \"now_variable('random_seed', 123456)\": 'equal values',\n",
       " 'random_seed': 'equal values',\n",
       " 'train_test_split(X_resampled, y_resampled, test_size=test_dim, random_state=random_seed)': 'different values',\n",
       " 'X_test': 'different values',\n",
       " 'y_pred_rf': 'equal values',\n",
       " 'roc_auc_score(y_test, y_pred_rf)': 'different values'}"
      ]
     },
     "execution_count": 19,
     "metadata": {},
     "output_type": "execute_result"
    }
   ],
   "source": [
    "dict_compare(list_id[-1], list_id[0])"
   ]
  },
  {
   "cell_type": "code",
   "execution_count": null,
   "metadata": {},
   "outputs": [],
   "source": []
  }
 ],
 "metadata": {
  "kernelspec": {
   "display_name": "noWorkflow 3",
   "language": "python",
   "name": "noworkflow3"
  },
  "language_info": {
   "codemirror_mode": {
    "name": "ipython",
    "version": 3
   },
   "file_extension": ".py",
   "mimetype": "text/x-python",
   "name": "python",
   "nbconvert_exporter": "python",
   "pygments_lexer": "ipython3",
   "version": "3.7.16"
  },
  "vscode": {
   "interpreter": {
    "hash": "fd46906d0be51105938edee03e9704979453c4958d5b4d09c310e6ecda521c36"
   }
  }
 },
 "nbformat": 4,
 "nbformat_minor": 4
}
