{
 "cells": [
  {
   "cell_type": "markdown",
   "metadata": {
    "tags": []
   },
   "source": [
    "#### Summer of Reproducibility - noWorkflow base experiment\n",
    "\n",
    "This notebook implements an experimental setup modeling a Credit Fraud problem."
   ]
  },
  {
   "cell_type": "code",
   "execution_count": 1,
   "metadata": {
    "tags": []
   },
   "outputs": [],
   "source": [
    "from sklearn.decomposition import PCA\n",
    "from sklearn.metrics import roc_auc_score, f1_score\n",
    "from sklearn.ensemble import RandomForestClassifier\n",
    "from imblearn.under_sampling import RandomUnderSampler\n",
    "from sklearn.model_selection import train_test_split\n",
    "import pandas as pd\n",
    "import xgboost as xgb\n",
    "import lightgbm as lgb\n",
    "import catboost as cat\n",
    "\n",
    "from noworkflow.now.collection.prov_execution.execution import *"
   ]
  },
  {
   "cell_type": "markdown",
   "metadata": {},
   "source": [
    "#### Reading the dataset"
   ]
  },
  {
   "cell_type": "code",
   "execution_count": 2,
   "metadata": {},
   "outputs": [],
   "source": [
    "now_tag('dataset_reading')\n",
    "df = pd.read_csv('dataset/creditcard.csv', encoding='utf-8')"
   ]
  },
  {
   "cell_type": "markdown",
   "metadata": {},
   "source": [
    "### Feature engineering stage\n",
    "\n",
    "Separate the features and target variable. First step in feature treatment."
   ]
  },
  {
   "cell_type": "code",
   "execution_count": 3,
   "metadata": {},
   "outputs": [],
   "source": [
    "#now_tag('feature_eng')\n",
    "X = df.drop('Class', axis=1)\n",
    "y = df['Class']"
   ]
  },
  {
   "cell_type": "markdown",
   "metadata": {},
   "source": [
    "#### Feature engineering: Apply PCA for feature extraction.\n",
    "\n",
    "Here we define hyperparam_def tag given that n_components argument in PCA is required"
   ]
  },
  {
   "cell_type": "code",
   "execution_count": 4,
   "metadata": {},
   "outputs": [
    {
     "name": "stdout",
     "output_type": "stream",
     "text": [
      "Evaluation(id=36, checkpoint=33.171132572, code_component_id=1219, activation_id=33, repr=15)\n"
     ]
    }
   ],
   "source": [
    "pca_components = now_variable('pca_components', 15)\n",
    "pca = PCA(n_components=pca_components)  # Adjust the number of components as needed\n",
    "X_pca = pca.fit_transform(X)"
   ]
  },
  {
   "cell_type": "markdown",
   "metadata": {},
   "source": [
    "#### Feature engineering: Apply random undersampling over the extracted features\n",
    "\n",
    "Another case of feature engineering operation with hyperparameter definition. Here is random_state value for RandmUnderSampler\n"
   ]
  },
  {
   "cell_type": "code",
   "execution_count": 5,
   "metadata": {
    "tags": []
   },
   "outputs": [
    {
     "name": "stdout",
     "output_type": "stream",
     "text": [
      "Evaluation(id=54, checkpoint=34.805158993, code_component_id=1252, activation_id=51, repr=321654)\n"
     ]
    }
   ],
   "source": [
    "random_seed = now_variable('random_seed', 321654)\n",
    "rus = RandomUnderSampler(random_state=random_seed)\n",
    "X_resampled, y_resampled = rus.fit_resample(X_pca, y)"
   ]
  },
  {
   "cell_type": "markdown",
   "metadata": {
    "tags": []
   },
   "source": [
    "#### Feature engineering: Spliting dataset into train and test\n",
    "\n",
    "Here we have two hyperparameters assignments: the proportion of the test_size and the random_state. A guess here would be implement some logic to take all scalar values in hyperparam_def in cells. Not sure at the moment if there are any corner case where a hyperparameter could be vectorial or an object."
   ]
  },
  {
   "cell_type": "code",
   "execution_count": 6,
   "metadata": {},
   "outputs": [
    {
     "name": "stdout",
     "output_type": "stream",
     "text": [
      "Evaluation(id=76, checkpoint=35.042643641999994, code_component_id=1294, activation_id=70, repr=0.3)\n"
     ]
    }
   ],
   "source": [
    "now_tag('feature_eng')\n",
    "test_dim = now_variable('test_dim', 0.3)\n",
    "X_train, X_test, y_train, y_test = train_test_split(X_resampled, y_resampled, test_size=test_dim, random_state=random_seed)"
   ]
  },
  {
   "cell_type": "markdown",
   "metadata": {},
   "source": [
    "#### Scoring: model training and transforming features into predictions\n",
    "##### RandomForest\n",
    "\n",
    "Train and evaluate Random Forest Classifier. Unsure now if adding a model_training tag would be redundant here. Scoring is enough at first sight."
   ]
  },
  {
   "cell_type": "code",
   "execution_count": 7,
   "metadata": {},
   "outputs": [
    {
     "data": {
      "text/plain": [
       "RandomForestClassifier()"
      ]
     },
     "execution_count": 7,
     "metadata": {},
     "output_type": "execute_result"
    }
   ],
   "source": [
    "#now_tag('scoring')\n",
    "now_tag('model_training')\n",
    "rf = RandomForestClassifier()\n",
    "rf.fit(X_train, y_train)"
   ]
  },
  {
   "cell_type": "markdown",
   "metadata": {
    "tags": []
   },
   "source": [
    "#### Evaluating: evaluating the performance of models\n",
    "##### RandomForest\n",
    "Computing performance metrics "
   ]
  },
  {
   "cell_type": "code",
   "execution_count": 8,
   "metadata": {
    "tags": []
   },
   "outputs": [
    {
     "name": "stdout",
     "output_type": "stream",
     "text": [
      "Evaluation(id=120, checkpoint=35.546215386, code_component_id=1371, activation_id=106, repr=0.9412034489084572)\n",
      "Evaluation(id=129, checkpoint=35.548957195999996, code_component_id=1387, activation_id=106, repr=0.9411764705882353)\n",
      "Random Forest - ROC = 0.941203, F1 = 0.941176\n"
     ]
    }
   ],
   "source": [
    "now_tag('evaluating')\n",
    "y_pred_rf = rf.predict(X_test)\n",
    "\n",
    "roc_rf = now_variable('roc_rf', roc_auc_score(y_test, y_pred_rf))\n",
    "#roc_rf = roc_auc_score(y_test, y_pred_rf)\n",
    "f1_rf = now_variable('f1_rf', f1_score(y_test, y_pred_rf))\n",
    "#f1_rf = f1_score(y_test, y_pred_rf)\n",
    "\n",
    "print(\"Random Forest - ROC = %f, F1 = %f\" % (roc_rf, f1_rf))"
   ]
  },
  {
   "cell_type": "markdown",
   "metadata": {
    "tags": []
   },
   "source": [
    "### Experiment comparision\n",
    "\n",
    "The steps are:\n",
    "1. calls get_pre for a given tagged variable and keeps the operations_dictionary output\n",
    "2. calls store operations() to store the dict into a shelve object with current trial_id key\n",
    "3. load the shelve object to retrieve other stored experiment as well the current one\n",
    "4. calls exp_compare passing two trial ids as argumens to make a comparision\n",
    "\n"
   ]
  },
  {
   "cell_type": "code",
   "execution_count": 9,
   "metadata": {
    "tags": []
   },
   "outputs": [],
   "source": [
    "ops_dict = get_pre('roc_rf')"
   ]
  },
  {
   "cell_type": "code",
   "execution_count": 10,
   "metadata": {
    "tags": []
   },
   "outputs": [
    {
     "name": "stdout",
     "output_type": "stream",
     "text": [
      "Dictionary stored in shelve.\n"
     ]
    }
   ],
   "source": [
    "id_1 = __noworkflow__.trial_id\n",
    "store_operations(id_1, ops_dict)"
   ]
  },
  {
   "cell_type": "code",
   "execution_count": 11,
   "metadata": {},
   "outputs": [
    {
     "data": {
      "text/plain": [
       "['851cd6dc-ac92-4bde-9a08-582aa9489e86',\n",
       " 'c5fd4172-1dd8-4778-99e2-42354e1b3963']"
      ]
     },
     "execution_count": 11,
     "metadata": {},
     "output_type": "execute_result"
    }
   ],
   "source": [
    "import shelve\n",
    "shelf = shelve.open('ops')\n",
    "list_id = list(shelf.keys())\n",
    "list_id"
   ]
  },
  {
   "cell_type": "code",
   "execution_count": 12,
   "metadata": {
    "tags": []
   },
   "outputs": [],
   "source": [
    "a = shelf[list_id[-1]]"
   ]
  },
  {
   "cell_type": "code",
   "execution_count": 24,
   "metadata": {
    "tags": []
   },
   "outputs": [],
   "source": [
    "b = shelf[list_id[0]]"
   ]
  },
  {
   "cell_type": "code",
   "execution_count": 25,
   "metadata": {
    "tags": []
   },
   "outputs": [],
   "source": [
    "stra =  a[3][3]\n",
    "strb = b[3][3]"
   ]
  },
  {
   "cell_type": "code",
   "execution_count": null,
   "metadata": {},
   "outputs": [],
   "source": [
    "# here, another problem with comparing string repr's. They comes truncated."
   ]
  },
  {
   "cell_type": "code",
   "execution_count": 33,
   "metadata": {
    "tags": []
   },
   "outputs": [
    {
     "data": {
      "text/plain": [
       "'array([[-7.25241258e+04,  2.64778899e+02,  1.76054784e+00, ...,\\n         3.06280762e+00,  4.95579346e+00,  2.83924603e+00],\\n       [ 3.04548590e+04, -1.17494600e+01,  1.81956757e+00, ...,\\n        -4.92914351e-01, -1.93680798e+00,  2.70069284e-01],\\n       [ 1.20708557e+04, -6.99047635e+01, -1.09835651e+00, ...,\\n        -1.20786608e+00,  1.88465257e-01, -5.04876146e-01],\\n       ...,\\n       [ 9.44078545e+04, -9.36205649e+01,  2.30013300e+00, ...,\\n         2.21554905e+00,  4.97641343e+00,  1.97810945e+00],\\n       [-4.12931267e+04,  2.46958467e+02, -1.93587076e+00, ...,\\n        -1.20422242e+00,  5.18693233e-01,  5.99122943e-01],\\n       [ 9.37448573e+04, -4.35812376e+01,  1.43479031e-01, ...,\\n         3.62091130e-01,  1.10921740e+00, -1.16838798e-01]])'"
      ]
     },
     "execution_count": 33,
     "metadata": {},
     "output_type": "execute_result"
    }
   ],
   "source": [
    "stra"
   ]
  },
  {
   "cell_type": "code",
   "execution_count": 29,
   "metadata": {
    "tags": []
   },
   "outputs": [
    {
     "data": {
      "text/plain": [
       "'array([[-7.25241258e+04,  2.64778899e+02,  1.76054784e+00, ...,\\n         3.06280762e+00,  4.95579346e+00,  2.83924603e+00],\\n       [ 3.04548590e+04, -1.17494600e+01,  1.81956757e+00, ...,\\n        -4.92914351e-01, -1.93680798e+00,  2.70069284e-01],\\n       [ 1.20708557e+04, -6.99047635e+01, -1.09835651e+00, ...,\\n        -1.20786608e+00,  1.88465257e-01, -5.04876146e-01],\\n       ...,\\n       [ 9.44078545e+04, -9.36205649e+01,  2.30013300e+00, ...,\\n         2.21554905e+00,  4.97641343e+00,  1.97810945e+00],\\n       [-4.12931267e+04,  2.46958467e+02, -1.93587076e+00, ...,\\n        -1.20422242e+00,  5.18693233e-01,  5.99122943e-01],\\n       [ 9.37448573e+04, -4.35812376e+01,  1.43479031e-01, ...,\\n         3.62091130e-01,  1.10921740e+00, -1.16838798e-01]])'"
      ]
     },
     "execution_count": 29,
     "metadata": {},
     "output_type": "execute_result"
    }
   ],
   "source": [
    "stra"
   ]
  },
  {
   "cell_type": "code",
   "execution_count": 13,
   "metadata": {},
   "outputs": [
    {
     "name": "stdout",
     "output_type": "stream",
     "text": [
      "Pipelines have same lenght\n",
      "Key '0': Values are equal\n",
      "Key '1': Values are equal\n",
      "Key '2': Values are equal\n",
      "Key '3': Values are different\n",
      "->>> ('X_test', 'array([[-7.25241258e+04,  2.64778899e+02,  1.76056672e+00, ...,\\n         3.07040829e+00,  4.95513161e+00,  2.84047488e+00],\\n       [ 3.04548590e+04, -1.17494600e+01,  1.81955477e+00, ...,\\n        -5.10259399e-01, -1.92893639e+00,  2.83266278e-01],\\n       [ 1.20708557e+04, -6.99047635e+01, -1.09833399e+00, ...,\\n        -1.20006228e+00,  1.88603204e-01, -5.03428941e-01],\\n       ...,\\n       [ 9.44078545e+04, -9.36205649e+01,  2.30012388e+00, ...,\\n         2.21301678e+00,  4.97701850e+00,  1.97873632e+00],\\n       [-4.12931267e+04,  2.46958467e+02, -1.93586010e+00, ...,\\n        -1.20695883e+00,  5.22192216e-01,  6.10366124e-01],\\n       [ 9.37448573e+04, -4.35812376e+01,  1.43481517e-01, ...,\\n         3.56927546e-01,  1.11234960e+00, -1.05529129e-01]])') ('X_test', 'array([[-7.25241258e+04,  2.64778899e+02,  1.76054784e+00, ...,\\n         3.06280762e+00,  4.95579346e+00,  2.83924603e+00],\\n       [ 3.04548590e+04, -1.17494600e+01,  1.81956757e+00, ...,\\n        -4.92914351e-01, -1.93680798e+00,  2.70069284e-01],\\n       [ 1.20708557e+04, -6.99047635e+01, -1.09835651e+00, ...,\\n        -1.20786608e+00,  1.88465257e-01, -5.04876146e-01],\\n       ...,\\n       [ 9.44078545e+04, -9.36205649e+01,  2.30013300e+00, ...,\\n         2.21554905e+00,  4.97641343e+00,  1.97810945e+00],\\n       [-4.12931267e+04,  2.46958467e+02, -1.93587076e+00, ...,\\n        -1.20422242e+00,  5.18693233e-01,  5.99122943e-01],\\n       [ 9.37448573e+04, -4.35812376e+01,  1.43479031e-01, ...,\\n         3.62091130e-01,  1.10921740e+00, -1.16838798e-01]])')\n",
      "Key '4': Values are different\n",
      "->>> ('X_test', 'array([[-7.25241258e+04,  2.64778899e+02,  1.76056672e+00, ...,\\n         3.07040829e+00,  4.95513161e+00,  2.84047488e+00],\\n       [ 3.04548590e+04, -1.17494600e+01,  1.81955477e+00, ...,\\n        -5.10259399e-01, -1.92893639e+00,  2.83266278e-01],\\n       [ 1.20708557e+04, -6.99047635e+01, -1.09833399e+00, ...,\\n        -1.20006228e+00,  1.88603204e-01, -5.03428941e-01],\\n       ...,\\n       [ 9.44078545e+04, -9.36205649e+01,  2.30012388e+00, ...,\\n         2.21301678e+00,  4.97701850e+00,  1.97873632e+00],\\n       [-4.12931267e+04,  2.46958467e+02, -1.93586010e+00, ...,\\n        -1.20695883e+00,  5.22192216e-01,  6.10366124e-01],\\n       [ 9.37448573e+04, -4.35812376e+01,  1.43481517e-01, ...,\\n         3.56927546e-01,  1.11234960e+00, -1.05529129e-01]])') ('X_test', 'array([[-7.25241258e+04,  2.64778899e+02,  1.76054784e+00, ...,\\n         3.06280762e+00,  4.95579346e+00,  2.83924603e+00],\\n       [ 3.04548590e+04, -1.17494600e+01,  1.81956757e+00, ...,\\n        -4.92914351e-01, -1.93680798e+00,  2.70069284e-01],\\n       [ 1.20708557e+04, -6.99047635e+01, -1.09835651e+00, ...,\\n        -1.20786608e+00,  1.88465257e-01, -5.04876146e-01],\\n       ...,\\n       [ 9.44078545e+04, -9.36205649e+01,  2.30013300e+00, ...,\\n         2.21554905e+00,  4.97641343e+00,  1.97810945e+00],\\n       [-4.12931267e+04,  2.46958467e+02, -1.93587076e+00, ...,\\n        -1.20422242e+00,  5.18693233e-01,  5.99122943e-01],\\n       [ 9.37448573e+04, -4.35812376e+01,  1.43479031e-01, ...,\\n         3.62091130e-01,  1.10921740e+00, -1.16838798e-01]])')\n",
      "Key '5': Values are different\n",
      "->>> ('train_test_split(X_resampled, y_resampled, test_size=test_dim, random_state=random_seed)', '[array([[ 2.71188813e+03,  5.12231740e+02,  1.53818363e+00, ...,\\n         1.03849101e+00,  7.63816183e+00,  1.22171565e+00],\\n       [-6.67831453e+04, -8.46245714e+01, -1.49797278e+00, ...,\\n        -9.56419077e-01,  6.20276887e-01, -1.08380515e+00],\\n       [ 1.42368554e+04, -7.51562364e+01,  1.13207384e+00, ...,\\n         2.01855363e+00,  2.02538118e-01, -1.42631107e-01],\\n       ...,\\n       [-3.91441380e+04,  4.40442464e+01, -1.63149781e-01, ...,\\n         1.36114891e+00,  5.58557740e+00,  2.21215259e+00],\\n       [ 2.06548589e+04, -1.25636336e+01,  1.61835120e+00, ...,\\n         3.91491545e+00,  5.23758046e+00,  1.32709047e+00],\\n       [-2.18561449e+04, -7.97219442e+01, -1.72993920e+00, ...,\\n        -5.74275725e-01,  2.20881539e-03,  1.18690960e+00]]), array([[-7.25241258e+04,  2.64778899e+02,  1.76056672e+00, ...,\\n         3.07040829e+00,  4.95513161e+00,  2.84047488e+00],\\n       [ 3.04548590e+04, -1.17494600e+01,  1.81955477e+00, ...,\\n        -5.10259399e-01, -1.92893639e+00,  2.83266278e-01],\\n       [ 1.20708557e+04, -6.99047635e+01, -1.09833399e+00, ...,\\n        -1.20006228e+00,  1.88603204e-01, -5.03428941e-01],\\n       ...,\\n       [ 9.44078545e+04, -9.36205649e+01,  2.30012388e+00, ...,\\n         2.21301678e+00,  4.97701850e+00,  1.97873632e+00],\\n       [-4.12931267e+04,  2.46958467e+02, -1.93586010e+00, ...,\\n        -1.20695883e+00,  5.22192216e-01,  6.10366124e-01],\\n       [ 9.37448573e+04, -4.35812376e+01,  1.43481517e-01, ...,\\n         3.56927546e-01,  1.11234960e+00, -1.05529129e-01]]), 784    1\\n356    0\\n15     0\\n460    0\\n866    1\\n      ..\\n520    1\\n632    1\\n878    1\\n734    1\\n1      0\\nName: Class, Length: 688, dtype: int64, 978    1\\n91     0\\n154    0\\n412    0\\n808    1\\n      ..\\n526    1\\n619    1\\n492    1\\n191    0\\n377    0\\nName: Class, Length: 296, dtype: int64]') ('train_test_split(X_resampled, y_resampled, test_size=test_dim, random_state=random_seed)', '[array([[ 2.71188813e+03,  5.12231740e+02,  1.53817912e+00, ...,\\n         1.03286169e+00,  7.63993863e+00,  1.21141886e+00],\\n       [-6.67831453e+04, -8.46245714e+01, -1.49796565e+00, ...,\\n        -9.57765233e-01,  6.22117783e-01, -1.07715220e+00],\\n       [ 1.42368554e+04, -7.51562364e+01,  1.13207754e+00, ...,\\n         2.01726819e+00,  2.04519397e-01, -1.41072233e-01],\\n       ...,\\n       [-3.91441380e+04,  4.40442464e+01, -1.63148157e-01, ...,\\n         1.36091067e+00,  5.58499090e+00,  2.20647690e+00],\\n       [ 2.06548589e+04, -1.25636336e+01,  1.61834606e+00, ...,\\n         3.90961126e+00,  5.23969767e+00,  1.32689081e+00],\\n       [-2.18561449e+04, -7.97219442e+01, -1.72992879e+00, ...,\\n        -5.70019942e-01,  1.45136983e-03,  1.18595053e+00]]), array([[-7.25241258e+04,  2.64778899e+02,  1.76054784e+00, ...,\\n         3.06280762e+00,  4.95579346e+00,  2.83924603e+00],\\n       [ 3.04548590e+04, -1.17494600e+01,  1.81956757e+00, ...,\\n        -4.92914351e-01, -1.93680798e+00,  2.70069284e-01],\\n       [ 1.20708557e+04, -6.99047635e+01, -1.09835651e+00, ...,\\n        -1.20786608e+00,  1.88465257e-01, -5.04876146e-01],\\n       ...,\\n       [ 9.44078545e+04, -9.36205649e+01,  2.30013300e+00, ...,\\n         2.21554905e+00,  4.97641343e+00,  1.97810945e+00],\\n       [-4.12931267e+04,  2.46958467e+02, -1.93587076e+00, ...,\\n        -1.20422242e+00,  5.18693233e-01,  5.99122943e-01],\\n       [ 9.37448573e+04, -4.35812376e+01,  1.43479031e-01, ...,\\n         3.62091130e-01,  1.10921740e+00, -1.16838798e-01]]), 784    1\\n356    0\\n15     0\\n460    0\\n866    1\\n      ..\\n520    1\\n632    1\\n878    1\\n734    1\\n1      0\\nName: Class, Length: 688, dtype: int64, 978    1\\n91     0\\n154    0\\n412    0\\n808    1\\n      ..\\n526    1\\n619    1\\n492    1\\n191    0\\n377    0\\nName: Class, Length: 296, dtype: int64]')\n",
      "Key '6': Values are equal\n",
      "Key '7': Values are equal\n",
      "Key '8': Values are equal\n",
      "Key '9': Values are equal\n",
      "Key '10': Values are equal\n",
      "Key '11': Values are equal\n",
      "Key '12': Values are equal\n",
      "Key '13': Values are equal\n",
      "Key '14': Values are equal\n",
      "Key '15': Values are equal\n",
      "Key '16': Values are equal\n",
      "Key '17': Values are equal\n",
      "Key '18': Values are equal\n",
      "Key '19': Values are equal\n",
      "Key '20': Values are equal\n",
      "Key '21': Values are equal\n",
      "Key '22': Values are equal\n",
      "Key '23': Values are equal\n",
      "Key '24': Values are equal\n",
      "Key '25': Values are equal\n",
      "Key '26': Values are different\n",
      "->>> ('X_pca', 'array([[ 9.48138629e+04,  5.59794671e+01,  7.43240971e-01, ...,\\n         1.06002260e+00, -5.68024275e-01,  1.12533596e+00],\\n       [ 9.48138546e+04, -9.09536597e+01, -1.42896189e+00, ...,\\n        -7.69092204e-01, -1.83757721e-02,  4.31897671e-01],\\n       [ 9.48128757e+04,  2.85024840e+02,  2.57569963e-01, ...,\\n        -6.69451478e-01, -1.77539877e-01,  1.16591392e+00],\\n       ...,\\n       [-7.79741415e+04, -1.61186800e+01, -1.41070189e+00, ...,\\n         1.60511627e-01,  1.12238241e-02,  8.92496258e-01],\\n       [-7.79741447e+04, -7.39987151e+01,  6.24914128e-01, ...,\\n         1.13996108e+00, -9.91041220e-01,  4.98559028e-01],\\n       [-7.79781331e+04,  1.33004366e+02,  6.33445209e-01, ...,\\n         1.26065130e-01, -1.04354148e-01,  1.01258623e-01]])') ('X_pca', 'array([[ 9.48138629e+04,  5.59794671e+01,  7.43233959e-01, ...,\\n         1.05991972e+00, -5.68779425e-01,  1.12184844e+00],\\n       [ 9.48138546e+04, -9.09536597e+01, -1.42895694e+00, ...,\\n        -7.73234232e-01, -1.53253529e-02,  4.36559817e-01],\\n       [ 9.48128757e+04,  2.85024840e+02,  2.57569302e-01, ...,\\n        -6.78417367e-01, -1.71498370e-01,  1.16979315e+00],\\n       ...,\\n       [-7.79741415e+04, -1.61186800e+01, -1.41071061e+00, ...,\\n         1.61814799e-01,  9.09946348e-03,  8.89428654e-01],\\n       [-7.79741447e+04, -7.39987151e+01,  6.24938963e-01, ...,\\n         1.15412518e+00, -9.96056093e-01,  4.98898233e-01],\\n       [-7.79781331e+04,  1.33004366e+02,  6.33418459e-01, ...,\\n         1.17226569e-01, -1.02302403e-01,  9.39593359e-02]])')\n",
      "Key '27': Values are different\n",
      "->>> ('X_pca', 'array([[ 9.48138629e+04,  5.59794671e+01,  7.43240971e-01, ...,\\n         1.06002260e+00, -5.68024275e-01,  1.12533596e+00],\\n       [ 9.48138546e+04, -9.09536597e+01, -1.42896189e+00, ...,\\n        -7.69092204e-01, -1.83757721e-02,  4.31897671e-01],\\n       [ 9.48128757e+04,  2.85024840e+02,  2.57569963e-01, ...,\\n        -6.69451478e-01, -1.77539877e-01,  1.16591392e+00],\\n       ...,\\n       [-7.79741415e+04, -1.61186800e+01, -1.41070189e+00, ...,\\n         1.60511627e-01,  1.12238241e-02,  8.92496258e-01],\\n       [-7.79741447e+04, -7.39987151e+01,  6.24914128e-01, ...,\\n         1.13996108e+00, -9.91041220e-01,  4.98559028e-01],\\n       [-7.79781331e+04,  1.33004366e+02,  6.33445209e-01, ...,\\n         1.26065130e-01, -1.04354148e-01,  1.01258623e-01]])') ('X_pca', 'array([[ 9.48138629e+04,  5.59794671e+01,  7.43233959e-01, ...,\\n         1.05991972e+00, -5.68779425e-01,  1.12184844e+00],\\n       [ 9.48138546e+04, -9.09536597e+01, -1.42895694e+00, ...,\\n        -7.73234232e-01, -1.53253529e-02,  4.36559817e-01],\\n       [ 9.48128757e+04,  2.85024840e+02,  2.57569302e-01, ...,\\n        -6.78417367e-01, -1.71498370e-01,  1.16979315e+00],\\n       ...,\\n       [-7.79741415e+04, -1.61186800e+01, -1.41071061e+00, ...,\\n         1.61814799e-01,  9.09946348e-03,  8.89428654e-01],\\n       [-7.79741447e+04, -7.39987151e+01,  6.24938963e-01, ...,\\n         1.15412518e+00, -9.96056093e-01,  4.98898233e-01],\\n       [-7.79781331e+04,  1.33004366e+02,  6.33418459e-01, ...,\\n         1.17226569e-01, -1.02302403e-01,  9.39593359e-02]])')\n",
      "Key '28': Values are equal\n",
      "Key '29': Values are equal\n",
      "Key '30': Values are equal\n",
      "Key '31': Values are equal\n",
      "Key '32': Values are equal\n",
      "Key '33': Values are equal\n",
      "Key '34': Values are equal\n",
      "Key '35': Values are equal\n",
      "Key '36': Values are equal\n",
      "Key '37': Values are equal\n",
      "Key '38': Values are equal\n",
      "Key '39': Values are equal\n",
      "Key '40': Values are equal\n",
      "Key '41': Values are equal\n",
      "Key '42': Values are equal\n",
      "Key '43': Values are different\n",
      "->>> ('X_resampled', 'array([[-5.41131448e+04, -7.75616499e+01,  7.89249240e-01, ...,\\n         8.70028534e-01, -1.01657005e+00, -3.40898104e-01],\\n       [-2.18561449e+04, -7.97219442e+01, -1.72993920e+00, ...,\\n        -5.74275725e-01,  2.20881539e-03,  1.18690960e+00],\\n       [ 4.26185473e+03, -8.68091683e+01, -1.94279101e+00, ...,\\n         9.93671747e-01,  1.00101309e+00, -3.11804534e+00],\\n       ...,\\n       [-7.45371409e+04, -6.30017570e+00,  1.16498302e+00, ...,\\n         1.95676707e+00,  5.12962798e+00,  1.13350437e+00],\\n       [-7.51521316e+04,  1.60850054e+02,  3.45581428e+00, ...,\\n         3.58306160e+00,  6.82973910e+00,  3.35146260e+00],\\n       [-7.55341429e+04, -4.16057137e+01, -1.43920586e+00, ...,\\n        -5.11457130e-01,  1.28438336e+00,  1.08158164e+00]])') ('X_resampled', 'array([[-5.41131448e+04, -7.75616499e+01,  7.89251386e-01, ...,\\n         8.81745838e-01, -1.02312498e+00, -3.53896299e-01],\\n       [-2.18561449e+04, -7.97219442e+01, -1.72992879e+00, ...,\\n        -5.70019942e-01,  1.45136983e-03,  1.18595053e+00],\\n       [ 4.26185473e+03, -8.68091683e+01, -1.94278150e+00, ...,\\n         9.94683611e-01,  1.00200120e+00, -3.11512597e+00],\\n       ...,\\n       [-7.45371409e+04, -6.30017570e+00,  1.16500976e+00, ...,\\n         1.95949261e+00,  5.13195707e+00,  1.14078471e+00],\\n       [-7.51521316e+04,  1.60850054e+02,  3.45584067e+00, ...,\\n         3.58246930e+00,  6.83282508e+00,  3.36595270e+00],\\n       [-7.55341429e+04, -4.16057137e+01, -1.43922155e+00, ...,\\n        -5.19738144e-01,  1.28604106e+00,  1.08057901e+00]])')\n",
      "Key '44': Values are equal\n",
      "Key '45': Values are equal\n",
      "Key '46': Values are equal\n",
      "Key '47': Values are equal\n"
     ]
    }
   ],
   "source": [
    "exp_compare(list_id[-1], list_id[0])"
   ]
  },
  {
   "cell_type": "code",
   "execution_count": null,
   "metadata": {},
   "outputs": [],
   "source": []
  }
 ],
 "metadata": {
  "kernelspec": {
   "display_name": "noWorkflow 3",
   "language": "python",
   "name": "noworkflow3"
  },
  "language_info": {
   "codemirror_mode": {
    "name": "ipython",
    "version": 3
   },
   "file_extension": ".py",
   "mimetype": "text/x-python",
   "name": "python",
   "nbconvert_exporter": "python",
   "pygments_lexer": "ipython3",
   "version": "3.7.16"
  },
  "vscode": {
   "interpreter": {
    "hash": "fd46906d0be51105938edee03e9704979453c4958d5b4d09c310e6ecda521c36"
   }
  }
 },
 "nbformat": 4,
 "nbformat_minor": 4
}
