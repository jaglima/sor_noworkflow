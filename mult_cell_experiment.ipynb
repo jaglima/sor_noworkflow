{
 "cells": [
  {
   "cell_type": "code",
   "execution_count": 1,
   "id": "432224e3-e4c9-4423-b49b-51614332b662",
   "metadata": {
    "tags": []
   },
   "outputs": [],
   "source": [
    "from noworkflow.now.persistence.models import Evaluation, Activation\n",
    "from noworkflow.now.models.dependency_querier import DependencyQuerier\n",
    "from noworkflow.now.models.dependency_querier.node_context import NodeContext\n",
    "from noworkflow.now.models.dependency_querier.querier_options import QuerierOptions\n",
    "from noworkflow.now.persistence.models import Trial\n",
    "\n",
    "\n",
    "import pprint\n",
    "import numpy as np\n",
    "\n",
    "def get_activation(activation_id, trial_id = None):\n",
    "    if not trial_id:\n",
    "        trial_id =  __noworkflow__.trial_id\n",
    "    return Activation((trial_id, activation_id))\n",
    "\n",
    "def get_evaluation(evaluation_id):\n",
    "    return Evaluation((__noworkflow__.trial_id, evaluation_id))\n",
    "\n",
    "def print_act_forward_act(activation_id=1):\n",
    "    activation = get_activation(activation_id)\n",
    "    \n",
    "    for i in list(activation.dependent_dependencies):\n",
    "        pprint.pprint(i.to_dict())\n",
    "        \n",
    "def print_act_backward_act(activation_id=1):\n",
    "    activation = get_activation(activation_id)\n",
    "    \n",
    "    for i in list(activation.dependency_dependencies):\n",
    "        pprint.pprint(i.to_dict())\n",
    "\n",
    "def print_act_evals(activation_id=1):\n",
    "    activation = get_activation(activation_id)\n",
    "\n",
    "    for item in activation.evaluations:\n",
    "        pprint.pprint(item.to_dict())\n",
    "        \n",
    "        \n",
    "def module(num):\n",
    "    if num >= 0:\n",
    "        return int(num)\n",
    "    else:\n",
    "        return int(-1*num)\n",
    "\n",
    "def mae(x, y):\n",
    "    return np.mean((x - y))\n",
    "    \n",
    "def rmse(x, y):\n",
    "    return np.sqrt(np.mean((x - y)**2))\n",
    "\n",
    "\n",
    "def recursive_act(act_list, indent):\n",
    "    current_trial = __noworkflow__.trial_id\n",
    "    \n",
    "    if act_list:\n",
    "        act = act_list.pop(0)\n",
    "        if act.type in ('func', 'assign'):           \n",
    "            if act.type == 'func':\n",
    "                sub_act = Activation((current_trial, act.dependent_id))\n",
    "                print(' ' * indent + \"actv id = \"+ str(sub_act.id) + '; function = ' + str(sub_act.name) + '; code_block = ' + str(sub_act.code_block_id))\n",
    "                \n",
    "            if act.type == 'assign':\n",
    "                sub_eval = Evaluation((current_trial, act.dependent_id))\n",
    "                code_comp = sub_eval.code_component\n",
    "                if (code_comp.type == 'call') or ((code_comp.mode == 'w') and (code_comp.type != 'param')): \n",
    "                    op_name = code_comp.name\n",
    "                    print(' ' * indent + \"eval id = \"+ str(code_comp.id) + \"; variable = \" + code_comp.name + ' <- ' + str(sub_eval.repr))\n",
    "        recursive_act(act_list, indent)\n",
    "    else:\n",
    "        print(\"- - - - -\")"
   ]
  },
  {
   "cell_type": "code",
   "execution_count": 2,
   "id": "2fd28c82-f70d-41dd-ab94-ec2dd1d8c881",
   "metadata": {},
   "outputs": [],
   "source": [
    "def module(num):\n",
    "    if num >= 0:\n",
    "        return int(num)\n",
    "    else:\n",
    "        return int(-1*num)\n"
   ]
  },
  {
   "cell_type": "code",
   "execution_count": 3,
   "id": "8551bf53-3a16-43ef-809c-dd75fa034fd3",
   "metadata": {
    "tags": []
   },
   "outputs": [],
   "source": [
    "x = 10\n",
    "y = -100"
   ]
  },
  {
   "cell_type": "code",
   "execution_count": 4,
   "id": "b8d284d1-e45c-4b89-ba83-6332e334ca6a",
   "metadata": {},
   "outputs": [],
   "source": [
    "rme_err = mae(x, y)"
   ]
  },
  {
   "cell_type": "code",
   "execution_count": 5,
   "id": "79825795-1ec9-4767-961d-ba8906f4b42d",
   "metadata": {
    "tags": []
   },
   "outputs": [],
   "source": [
    "z = 50"
   ]
  },
  {
   "cell_type": "code",
   "execution_count": 6,
   "id": "ff06df2f-77f2-45e7-b528-89a60b4f5953",
   "metadata": {
    "tags": []
   },
   "outputs": [],
   "source": [
    "rmse_err = rmse(x, rme_err)"
   ]
  },
  {
   "cell_type": "code",
   "execution_count": 7,
   "id": "1b79a5a1-a56c-4006-92f2-42d9648beb9d",
   "metadata": {
    "tags": []
   },
   "outputs": [],
   "source": [
    "k = module(rmse_err)\n",
    "k_activation = __noworkflow__.last_activation"
   ]
  },
  {
   "cell_type": "code",
   "execution_count": 8,
   "id": "8fafd054-6b11-420a-a044-b594e62d0823",
   "metadata": {
    "tags": []
   },
   "outputs": [
    {
     "data": {
      "text/plain": [
       "Activation(id=67, name=<ipython-input-7-afe7de53980c>, start_checkpoint=6.836792495999999, code_block_id=694)"
      ]
     },
     "execution_count": 8,
     "metadata": {},
     "output_type": "execute_result"
    }
   ],
   "source": [
    "k_activation"
   ]
  },
  {
   "cell_type": "code",
   "execution_count": 9,
   "id": "206d81ed-63e1-47cb-b7b9-0a22fe0cc6f5",
   "metadata": {
    "tags": []
   },
   "outputs": [],
   "source": [
    "a = __noworkflow__.first_activation"
   ]
  },
  {
   "cell_type": "code",
   "execution_count": 10,
   "id": "89218ea6-53f2-41bb-a2ce-ff9d50fb5521",
   "metadata": {
    "tags": []
   },
   "outputs": [
    {
     "name": "stdout",
     "output_type": "stream",
     "text": [
      "code_component(1a5e7404-4a81-4839-a253-3a5c3016eace, 1, '.', 'notebook', 'w', 1, 0, 1, 0, nil).\n"
     ]
    }
   ],
   "source": [
    "\n",
    "evaluation = get_evaluation(1)\n",
    "querier = DependencyQuerier()\n",
    "nodes_to_visit, visited, found = querier.navigate_dependencies([evaluation])\n",
    "\n",
    "for i in visited:\n",
    "    a, _ = i.evaluation.code_component, i.steps\n",
    "    print(a)\n"
   ]
  },
  {
   "cell_type": "code",
   "execution_count": 13,
   "id": "c5391c0d-fc54-4fc4-8d36-f05808f28ea0",
   "metadata": {
    "tags": []
   },
   "outputs": [
    {
     "data": {
      "text/plain": [
       "[]"
      ]
     },
     "execution_count": 13,
     "metadata": {},
     "output_type": "execute_result"
    }
   ],
   "source": []
  },
  {
   "cell_type": "code",
   "execution_count": null,
   "id": "aa06576e-b89b-418d-bdff-3f954d8435c8",
   "metadata": {},
   "outputs": [],
   "source": []
  },
  {
   "cell_type": "code",
   "execution_count": null,
   "id": "a0428510-7969-4f46-bcbd-e294c29b643a",
   "metadata": {},
   "outputs": [],
   "source": []
  },
  {
   "cell_type": "code",
   "execution_count": null,
   "id": "a1011505-dced-4ee7-a443-f26809242f31",
   "metadata": {},
   "outputs": [],
   "source": []
  },
  {
   "cell_type": "code",
   "execution_count": null,
   "id": "88fd0604-de0a-4a71-aa14-9a2c20adba03",
   "metadata": {},
   "outputs": [],
   "source": []
  },
  {
   "cell_type": "code",
   "execution_count": null,
   "id": "94ca13bf-7bdf-4d23-88ce-53ef797239f4",
   "metadata": {},
   "outputs": [],
   "source": []
  },
  {
   "cell_type": "code",
   "execution_count": null,
   "id": "5146667d-e7a3-4e7a-8bc4-98c673f29db3",
   "metadata": {},
   "outputs": [],
   "source": []
  },
  {
   "cell_type": "code",
   "execution_count": null,
   "id": "de92fc45-22d2-43c8-87a7-3990e49323fe",
   "metadata": {},
   "outputs": [],
   "source": []
  },
  {
   "cell_type": "code",
   "execution_count": null,
   "id": "8037379c-b474-4697-a284-2fabaa1acbb3",
   "metadata": {},
   "outputs": [],
   "source": []
  },
  {
   "cell_type": "code",
   "execution_count": null,
   "id": "b3608175-2b21-4dc6-b10a-9bcd64d32828",
   "metadata": {},
   "outputs": [],
   "source": []
  },
  {
   "cell_type": "code",
   "execution_count": null,
   "id": "c3b4529f-9be1-4429-ae1f-1695c10f19a0",
   "metadata": {},
   "outputs": [],
   "source": []
  },
  {
   "cell_type": "code",
   "execution_count": 35,
   "id": "53d9fecd-8983-4192-8175-ca5899e91094",
   "metadata": {
    "tags": []
   },
   "outputs": [
    {
     "data": {
      "text/plain": [
       "[dependency(81d23e54-d004-4226-853e-d433e338af53, 67, 68, 20, 21, 'assignment', 1, nil, nil, nil).,\n",
       " dependency(81d23e54-d004-4226-853e-d433e338af53, 67, 69, 47, 66, 'assignment', 1, nil, nil, nil).,\n",
       " dependency(81d23e54-d004-4226-853e-d433e338af53, 67, 70, 70, 79, 'use', 1, nil, nil, nil).,\n",
       " dependency(81d23e54-d004-4226-853e-d433e338af53, 67, 70, 70, 74, 'condition', 0, nil, nil, nil).,\n",
       " dependency(81d23e54-d004-4226-853e-d433e338af53, 67, 70, 67, 68, 'func', 0, nil, nil, nil).,\n",
       " dependency(81d23e54-d004-4226-853e-d433e338af53, 67, 70, 67, 69, 'argument', 0, nil, nil, nil).,\n",
       " dependency(81d23e54-d004-4226-853e-d433e338af53, 67, 80, 67, 70, 'assign', 1, nil, nil, nil).,\n",
       " dependency(81d23e54-d004-4226-853e-d433e338af53, 67, 83, 67, 81, 'value', 0, nil, nil, nil).,\n",
       " dependency(81d23e54-d004-4226-853e-d433e338af53, 67, 85, 67, 83, 'assign', 1, nil, nil, nil).]"
      ]
     },
     "execution_count": 35,
     "metadata": {},
     "output_type": "execute_result"
    }
   ],
   "source": [
    "list(a.dependent_dependencies)"
   ]
  },
  {
   "cell_type": "code",
   "execution_count": 72,
   "id": "9d2160ad-f8cc-4007-a31b-8d5a912b0fe2",
   "metadata": {
    "tags": []
   },
   "outputs": [],
   "source": [
    "a = get_activation(70)"
   ]
  },
  {
   "cell_type": "code",
   "execution_count": 73,
   "id": "d50ebd2f-f987-4020-9b57-de76b0d5c567",
   "metadata": {
    "tags": []
   },
   "outputs": [
    {
     "name": "stdout",
     "output_type": "stream",
     "text": [
      "<class 'noworkflow.now.persistence.models.dependency.Dependency'> argument True\n",
      "<class 'noworkflow.now.persistence.models.dependency.Dependency'> assignment True\n",
      "<class 'noworkflow.now.persistence.models.dependency.Dependency'> use False\n",
      "<class 'noworkflow.now.persistence.models.dependency.Dependency'> use False\n",
      "<class 'noworkflow.now.persistence.models.dependency.Dependency'> assignment True\n",
      "<class 'noworkflow.now.persistence.models.dependency.Dependency'> condition False\n",
      "<class 'noworkflow.now.persistence.models.dependency.Dependency'> assignment True\n",
      "<class 'noworkflow.now.persistence.models.dependency.Dependency'> condition False\n",
      "<class 'noworkflow.now.persistence.models.dependency.Dependency'> func False\n",
      "<class 'noworkflow.now.persistence.models.dependency.Dependency'> argument False\n",
      "<class 'noworkflow.now.persistence.models.dependency.Dependency'> dependency False\n"
     ]
    }
   ],
   "source": [
    "for i in list(a.dependent_dependencies):\n",
    "    print(type(i), i.type, i.reference)"
   ]
  },
  {
   "cell_type": "code",
   "execution_count": 74,
   "id": "2271136b-71c7-47e8-9c9e-bf03392786ea",
   "metadata": {
    "tags": []
   },
   "outputs": [
    {
     "data": {
      "text/plain": [
       "dependency(TrialId, DependentActivationId, DependentId, DependencyActivationId, DependencyId, Type, Reference, CollectionActivationId, CollectionId, Key)."
      ]
     },
     "execution_count": 74,
     "metadata": {},
     "output_type": "execute_result"
    }
   ],
   "source": [
    "i.prolog_description"
   ]
  },
  {
   "cell_type": "code",
   "execution_count": 62,
   "id": "381de097-0dc9-4361-b4af-22a9d81b1b51",
   "metadata": {
    "tags": []
   },
   "outputs": [
    {
     "data": {
      "text/plain": [
       "True"
      ]
     },
     "execution_count": 62,
     "metadata": {},
     "output_type": "execute_result"
    }
   ],
   "source": [
    "i.reference"
   ]
  },
  {
   "cell_type": "code",
   "execution_count": 16,
   "id": "d66f2000-5d75-4739-956d-cbfe0e9a1210",
   "metadata": {
    "tags": []
   },
   "outputs": [
    {
     "name": "stdout",
     "output_type": "stream",
     "text": [
      "68\n",
      "69\n",
      "70\n",
      "passou\n",
      " actv id = 70; function = module\n",
      "70\n",
      "passou\n",
      " actv id = 70; function = module\n",
      "70\n",
      "passou\n",
      " actv id = 70; function = module\n",
      "70\n",
      "80\n",
      "83\n",
      "85\n",
      "71\n",
      "72\n",
      "74\n"
     ]
    },
    {
     "ename": "AttributeError",
     "evalue": "'NoneType' object has no attribute 'trial_id'",
     "output_type": "error",
     "traceback": [
      "\u001b[0;31m---------------------------------------------------------------------------\u001b[0m",
      "\u001b[0;31mConditionException\u001b[0m                        Traceback (most recent call last)",
      "\u001b[0;32m<ipython-input-16-9238f6a491ea>\u001b[0m in \u001b[0;36m<module>\u001b[0;34m\u001b[0m\n\u001b[1;32m      9\u001b[0m         \u001b[0mprint\u001b[0m\u001b[0;34m(\u001b[0m\u001b[0mi\u001b[0m\u001b[0;34m.\u001b[0m\u001b[0mdependent_id\u001b[0m\u001b[0;34m)\u001b[0m\u001b[0;34m\u001b[0m\u001b[0;34m\u001b[0m\u001b[0m\n\u001b[0;32m---> 10\u001b[0;31m         \u001b[0;32mif\u001b[0m \u001b[0mi\u001b[0m\u001b[0;34m.\u001b[0m\u001b[0mtype\u001b[0m \u001b[0;32mnot\u001b[0m \u001b[0;32min\u001b[0m \u001b[0;34m(\u001b[0m\u001b[0;34m'assignment'\u001b[0m\u001b[0;34m,\u001b[0m \u001b[0;34m'value'\u001b[0m\u001b[0;34m,\u001b[0m \u001b[0;34m'argument'\u001b[0m\u001b[0;34m,\u001b[0m \u001b[0;34m'dependency'\u001b[0m\u001b[0;34m,\u001b[0m \u001b[0;34m'assign'\u001b[0m\u001b[0;34m)\u001b[0m\u001b[0;34m:\u001b[0m\u001b[0;34m\u001b[0m\u001b[0;34m\u001b[0m\u001b[0m\n\u001b[0m\u001b[1;32m     11\u001b[0m             \u001b[0msub_act\u001b[0m \u001b[0;34m=\u001b[0m \u001b[0mget_activation\u001b[0m\u001b[0;34m(\u001b[0m\u001b[0mi\u001b[0m\u001b[0;34m.\u001b[0m\u001b[0mdependent_id\u001b[0m\u001b[0;34m,\u001b[0m \u001b[0mtrial_id\u001b[0m\u001b[0;34m)\u001b[0m\u001b[0;34m\u001b[0m\u001b[0;34m\u001b[0m\u001b[0m\n",
      "\u001b[0;31mConditionException\u001b[0m: ",
      "\nDuring handling of the above exception, another exception occurred:\n",
      "\u001b[0;31mAttributeError\u001b[0m                            Traceback (most recent call last)",
      "\u001b[0;32m<ipython-input-16-9238f6a491ea>\u001b[0m in \u001b[0;36m<module>\u001b[0;34m\u001b[0m\n\u001b[1;32m      9\u001b[0m         \u001b[0mprint\u001b[0m\u001b[0;34m(\u001b[0m\u001b[0mi\u001b[0m\u001b[0;34m.\u001b[0m\u001b[0mdependent_id\u001b[0m\u001b[0;34m)\u001b[0m\u001b[0;34m\u001b[0m\u001b[0;34m\u001b[0m\u001b[0m\n\u001b[1;32m     10\u001b[0m         \u001b[0;32mif\u001b[0m \u001b[0mi\u001b[0m\u001b[0;34m.\u001b[0m\u001b[0mtype\u001b[0m \u001b[0;32mnot\u001b[0m \u001b[0;32min\u001b[0m \u001b[0;34m(\u001b[0m\u001b[0;34m'assignment'\u001b[0m\u001b[0;34m,\u001b[0m \u001b[0;34m'value'\u001b[0m\u001b[0;34m,\u001b[0m \u001b[0;34m'argument'\u001b[0m\u001b[0;34m,\u001b[0m \u001b[0;34m'dependency'\u001b[0m\u001b[0;34m,\u001b[0m \u001b[0;34m'assign'\u001b[0m\u001b[0;34m)\u001b[0m\u001b[0;34m:\u001b[0m\u001b[0;34m\u001b[0m\u001b[0;34m\u001b[0m\u001b[0m\n\u001b[0;32m---> 11\u001b[0;31m             \u001b[0msub_act\u001b[0m \u001b[0;34m=\u001b[0m \u001b[0mget_activation\u001b[0m\u001b[0;34m(\u001b[0m\u001b[0mi\u001b[0m\u001b[0;34m.\u001b[0m\u001b[0mdependent_id\u001b[0m\u001b[0;34m,\u001b[0m \u001b[0mtrial_id\u001b[0m\u001b[0;34m)\u001b[0m\u001b[0;34m\u001b[0m\u001b[0;34m\u001b[0m\u001b[0m\n\u001b[0m\u001b[1;32m     12\u001b[0m             \u001b[0;31m#sub_act = get_evaluation(i.dependent_id)\u001b[0m\u001b[0;34m\u001b[0m\u001b[0;34m\u001b[0m\u001b[0;34m\u001b[0m\u001b[0m\n\u001b[1;32m     13\u001b[0m             \u001b[0mprint\u001b[0m\u001b[0;34m(\u001b[0m\u001b[0;34m'passou'\u001b[0m\u001b[0;34m)\u001b[0m\u001b[0;34m\u001b[0m\u001b[0;34m\u001b[0m\u001b[0m\n",
      "\u001b[0;32m~/noworkflow/noworkflow/capture/noworkflow/now/collection/prov_execution/collector.py\u001b[0m in \u001b[0;36m_call\u001b[0;34m(self, *args, **kwargs)\u001b[0m\n\u001b[1;32m   1207\u001b[0m         \u001b[0mresult\u001b[0m \u001b[0;34m=\u001b[0m \u001b[0;32mNone\u001b[0m\u001b[0;34m\u001b[0m\u001b[0;34m\u001b[0m\u001b[0m\n\u001b[1;32m   1208\u001b[0m         \u001b[0;32mtry\u001b[0m\u001b[0;34m:\u001b[0m\u001b[0;34m\u001b[0m\u001b[0;34m\u001b[0m\u001b[0m\n\u001b[0;32m-> 1209\u001b[0;31m             \u001b[0mresult\u001b[0m \u001b[0;34m=\u001b[0m \u001b[0mfuture\u001b[0m\u001b[0;34m.\u001b[0m\u001b[0mfunc\u001b[0m\u001b[0;34m(\u001b[0m\u001b[0;34m*\u001b[0m\u001b[0margs\u001b[0m\u001b[0;34m,\u001b[0m \u001b[0;34m**\u001b[0m\u001b[0mkwargs\u001b[0m\u001b[0;34m)\u001b[0m\u001b[0;34m\u001b[0m\u001b[0;34m\u001b[0m\u001b[0m\n\u001b[0m\u001b[1;32m   1210\u001b[0m         \u001b[0;32mexcept\u001b[0m \u001b[0mException\u001b[0m\u001b[0;34m:\u001b[0m\u001b[0;34m\u001b[0m\u001b[0;34m\u001b[0m\u001b[0m\n\u001b[1;32m   1211\u001b[0m             \u001b[0mself\u001b[0m\u001b[0;34m.\u001b[0m\u001b[0mcollect_exception\u001b[0m\u001b[0;34m(\u001b[0m\u001b[0mactivation\u001b[0m\u001b[0;34m)\u001b[0m\u001b[0;34m\u001b[0m\u001b[0;34m\u001b[0m\u001b[0m\n",
      "\u001b[0;32m~/noworkflow/noworkflow/capture/noworkflow/now/collection/prov_execution/collector.py\u001b[0m in \u001b[0;36mnew_function_def\u001b[0;34m(*args, **kwargs)\u001b[0m\n\u001b[1;32m   1368\u001b[0m \u001b[0;34m\u001b[0m\u001b[0m\n\u001b[1;32m   1369\u001b[0m                 result = function_def(\n\u001b[0;32m-> 1370\u001b[0;31m                     \u001b[0mactivation\u001b[0m\u001b[0;34m,\u001b[0m \u001b[0mfunction_def\u001b[0m\u001b[0;34m,\u001b[0m \u001b[0margs\u001b[0m\u001b[0;34m,\u001b[0m \u001b[0mkwargs\u001b[0m\u001b[0;34m,\u001b[0m \u001b[0mdefault_values\u001b[0m\u001b[0;34m,\u001b[0m \u001b[0mdefaults\u001b[0m\u001b[0;34m,\u001b[0m \u001b[0;34m*\u001b[0m\u001b[0margs\u001b[0m\u001b[0;34m,\u001b[0m \u001b[0;34m**\u001b[0m\u001b[0mkwargs\u001b[0m\u001b[0;34m\u001b[0m\u001b[0;34m\u001b[0m\u001b[0m\n\u001b[0m\u001b[1;32m   1371\u001b[0m                 )\n\u001b[1;32m   1372\u001b[0m                 \u001b[0mbound_dependency\u001b[0m \u001b[0;34m=\u001b[0m \u001b[0mactivation\u001b[0m\u001b[0;34m.\u001b[0m\u001b[0mbound_dependency\u001b[0m\u001b[0;34m\u001b[0m\u001b[0;34m\u001b[0m\u001b[0m\n",
      "\u001b[0;32m<ipython-input-1-6403d3569eb5>\u001b[0m in \u001b[0;36mget_activation\u001b[0;34m(__now_activation__, __now_function_def__, __now_args__, __now_kwargs__, __now_default_values__, __now_default_dependencies__, activation_id, trial_id)\u001b[0m\n\u001b[1;32m     12\u001b[0m     \u001b[0;32mif\u001b[0m \u001b[0;32mnot\u001b[0m \u001b[0mtrial_id\u001b[0m\u001b[0;34m:\u001b[0m\u001b[0;34m\u001b[0m\u001b[0;34m\u001b[0m\u001b[0m\n\u001b[1;32m     13\u001b[0m         \u001b[0mtrial_id\u001b[0m \u001b[0;34m=\u001b[0m  \u001b[0m__noworkflow__\u001b[0m\u001b[0;34m.\u001b[0m\u001b[0mtrial_id\u001b[0m\u001b[0;34m\u001b[0m\u001b[0;34m\u001b[0m\u001b[0m\n\u001b[0;32m---> 14\u001b[0;31m     \u001b[0;32mreturn\u001b[0m \u001b[0mActivation\u001b[0m\u001b[0;34m(\u001b[0m\u001b[0;34m(\u001b[0m\u001b[0mtrial_id\u001b[0m\u001b[0;34m,\u001b[0m \u001b[0mactivation_id\u001b[0m\u001b[0;34m)\u001b[0m\u001b[0;34m)\u001b[0m\u001b[0;34m\u001b[0m\u001b[0;34m\u001b[0m\u001b[0m\n\u001b[0m\u001b[1;32m     15\u001b[0m \u001b[0;34m\u001b[0m\u001b[0m\n\u001b[1;32m     16\u001b[0m \u001b[0;32mdef\u001b[0m \u001b[0mget_evaluation\u001b[0m\u001b[0;34m(\u001b[0m\u001b[0mevaluation_id\u001b[0m\u001b[0;34m)\u001b[0m\u001b[0;34m:\u001b[0m\u001b[0;34m\u001b[0m\u001b[0;34m\u001b[0m\u001b[0m\n",
      "\u001b[0;32m~/noworkflow/noworkflow/capture/noworkflow/now/collection/prov_execution/collector.py\u001b[0m in \u001b[0;36m_call\u001b[0;34m(self, *args, **kwargs)\u001b[0m\n\u001b[1;32m   1207\u001b[0m         \u001b[0mresult\u001b[0m \u001b[0;34m=\u001b[0m \u001b[0;32mNone\u001b[0m\u001b[0;34m\u001b[0m\u001b[0;34m\u001b[0m\u001b[0m\n\u001b[1;32m   1208\u001b[0m         \u001b[0;32mtry\u001b[0m\u001b[0;34m:\u001b[0m\u001b[0;34m\u001b[0m\u001b[0;34m\u001b[0m\u001b[0m\n\u001b[0;32m-> 1209\u001b[0;31m             \u001b[0mresult\u001b[0m \u001b[0;34m=\u001b[0m \u001b[0mfuture\u001b[0m\u001b[0;34m.\u001b[0m\u001b[0mfunc\u001b[0m\u001b[0;34m(\u001b[0m\u001b[0;34m*\u001b[0m\u001b[0margs\u001b[0m\u001b[0;34m,\u001b[0m \u001b[0;34m**\u001b[0m\u001b[0mkwargs\u001b[0m\u001b[0;34m)\u001b[0m\u001b[0;34m\u001b[0m\u001b[0;34m\u001b[0m\u001b[0m\n\u001b[0m\u001b[1;32m   1210\u001b[0m         \u001b[0;32mexcept\u001b[0m \u001b[0mException\u001b[0m\u001b[0;34m:\u001b[0m\u001b[0;34m\u001b[0m\u001b[0;34m\u001b[0m\u001b[0m\n\u001b[1;32m   1211\u001b[0m             \u001b[0mself\u001b[0m\u001b[0;34m.\u001b[0m\u001b[0mcollect_exception\u001b[0m\u001b[0;34m(\u001b[0m\u001b[0mactivation\u001b[0m\u001b[0;34m)\u001b[0m\u001b[0;34m\u001b[0m\u001b[0;34m\u001b[0m\u001b[0m\n",
      "\u001b[0;32m~/noworkflow/noworkflow/capture/noworkflow/now/persistence/models/base.py\u001b[0m in \u001b[0;36m__call__\u001b[0;34m(cls, *args, **kwargs)\u001b[0m\n\u001b[1;32m     39\u001b[0m \u001b[0;34m\u001b[0m\u001b[0m\n\u001b[1;32m     40\u001b[0m     \u001b[0;32mdef\u001b[0m \u001b[0m__call__\u001b[0m\u001b[0;34m(\u001b[0m\u001b[0mcls\u001b[0m\u001b[0;34m,\u001b[0m \u001b[0;34m*\u001b[0m\u001b[0margs\u001b[0m\u001b[0;34m,\u001b[0m \u001b[0;34m**\u001b[0m\u001b[0mkwargs\u001b[0m\u001b[0;34m)\u001b[0m\u001b[0;34m:\u001b[0m\u001b[0;34m\u001b[0m\u001b[0;34m\u001b[0m\u001b[0m\n\u001b[0;32m---> 41\u001b[0;31m         \u001b[0minstance\u001b[0m \u001b[0;34m=\u001b[0m \u001b[0msuper\u001b[0m\u001b[0;34m(\u001b[0m\u001b[0mMetaModel\u001b[0m\u001b[0;34m,\u001b[0m \u001b[0mcls\u001b[0m\u001b[0;34m)\u001b[0m\u001b[0;34m.\u001b[0m\u001b[0m__call__\u001b[0m\u001b[0;34m(\u001b[0m\u001b[0;34m*\u001b[0m\u001b[0margs\u001b[0m\u001b[0;34m,\u001b[0m \u001b[0;34m**\u001b[0m\u001b[0mkwargs\u001b[0m\u001b[0;34m)\u001b[0m\u001b[0;34m\u001b[0m\u001b[0;34m\u001b[0m\u001b[0m\n\u001b[0m\u001b[1;32m     42\u001b[0m         \u001b[0minstance\u001b[0m\u001b[0;34m.\u001b[0m\u001b[0m__class__\u001b[0m\u001b[0;34m.\u001b[0m\u001b[0m__refs__\u001b[0m\u001b[0;34m.\u001b[0m\u001b[0mappend\u001b[0m\u001b[0;34m(\u001b[0m\u001b[0mweakref\u001b[0m\u001b[0;34m.\u001b[0m\u001b[0mref\u001b[0m\u001b[0;34m(\u001b[0m\u001b[0minstance\u001b[0m\u001b[0;34m)\u001b[0m\u001b[0;34m)\u001b[0m\u001b[0;34m\u001b[0m\u001b[0;34m\u001b[0m\u001b[0m\n\u001b[1;32m     43\u001b[0m         \u001b[0;32mreturn\u001b[0m \u001b[0minstance\u001b[0m\u001b[0;34m\u001b[0m\u001b[0;34m\u001b[0m\u001b[0m\n",
      "\u001b[0;32m~/noworkflow/noworkflow/capture/noworkflow/now/persistence/models/base.py\u001b[0m in \u001b[0;36m__init__\u001b[0;34m(self, obj)\u001b[0m\n\u001b[1;32m    203\u001b[0m         \u001b[0;32melse\u001b[0m\u001b[0;34m:\u001b[0m\u001b[0;34m\u001b[0m\u001b[0;34m\u001b[0m\u001b[0m\n\u001b[1;32m    204\u001b[0m             \u001b[0mself\u001b[0m\u001b[0;34m.\u001b[0m\u001b[0m_alchemy_pk\u001b[0m \u001b[0;34m=\u001b[0m \u001b[0mobj\u001b[0m\u001b[0;34m\u001b[0m\u001b[0;34m\u001b[0m\u001b[0m\n\u001b[0;32m--> 205\u001b[0;31m         \u001b[0mself\u001b[0m\u001b[0;34m.\u001b[0m\u001b[0m_restore_instance\u001b[0m\u001b[0;34m(\u001b[0m\u001b[0;34m)\u001b[0m\u001b[0;34m\u001b[0m\u001b[0;34m\u001b[0m\u001b[0m\n\u001b[0m\u001b[1;32m    206\u001b[0m \u001b[0;34m\u001b[0m\u001b[0m\n\u001b[1;32m    207\u001b[0m     \u001b[0;32mdef\u001b[0m \u001b[0m__hash__\u001b[0m\u001b[0;34m(\u001b[0m\u001b[0mself\u001b[0m\u001b[0;34m)\u001b[0m\u001b[0;34m:\u001b[0m\u001b[0;34m\u001b[0m\u001b[0;34m\u001b[0m\u001b[0m\n",
      "\u001b[0;32m~/noworkflow/noworkflow/capture/noworkflow/now/persistence/models/base.py\u001b[0m in \u001b[0;36m_restore_instance\u001b[0;34m(self)\u001b[0m\n\u001b[1;32m    226\u001b[0m         \u001b[0mobj\u001b[0m \u001b[0;34m=\u001b[0m \u001b[0mself\u001b[0m\u001b[0;34m.\u001b[0m\u001b[0m_get_instance\u001b[0m\u001b[0;34m(\u001b[0m\u001b[0;34m)\u001b[0m\u001b[0;34m\u001b[0m\u001b[0;34m\u001b[0m\u001b[0m\n\u001b[1;32m    227\u001b[0m         \u001b[0;32mfor\u001b[0m \u001b[0mcolumn\u001b[0m \u001b[0;32min\u001b[0m \u001b[0mself\u001b[0m\u001b[0;34m.\u001b[0m\u001b[0m__columns__\u001b[0m\u001b[0;34m:\u001b[0m\u001b[0;34m\u001b[0m\u001b[0;34m\u001b[0m\u001b[0m\n\u001b[0;32m--> 228\u001b[0;31m             \u001b[0msetattr\u001b[0m\u001b[0;34m(\u001b[0m\u001b[0mself\u001b[0m\u001b[0;34m,\u001b[0m \u001b[0mcolumn\u001b[0m\u001b[0;34m,\u001b[0m \u001b[0mgetattr\u001b[0m\u001b[0;34m(\u001b[0m\u001b[0mobj\u001b[0m\u001b[0;34m,\u001b[0m \u001b[0mcolumn\u001b[0m\u001b[0;34m)\u001b[0m\u001b[0;34m)\u001b[0m\u001b[0;34m\u001b[0m\u001b[0;34m\u001b[0m\u001b[0m\n\u001b[0m\u001b[1;32m    229\u001b[0m \u001b[0;34m\u001b[0m\u001b[0m\n\u001b[1;32m    230\u001b[0m     \u001b[0;32mdef\u001b[0m \u001b[0m_get_instance\u001b[0m\u001b[0;34m(\u001b[0m\u001b[0mself\u001b[0m\u001b[0;34m)\u001b[0m\u001b[0;34m:\u001b[0m\u001b[0;34m\u001b[0m\u001b[0;34m\u001b[0m\u001b[0m\n",
      "\u001b[0;31mAttributeError\u001b[0m: 'NoneType' object has no attribute 'trial_id'"
     ]
    }
   ],
   "source": [
    "trial_id = __noworkflow__.trial_id\n",
    "\n",
    "base_act = get_activation(67, trial_id)\n",
    "act_list = list(base_act.dependent_dependencies)\n",
    "\n",
    "indent = 1\n",
    "\n",
    "for i in act_list:\n",
    "        print(i.dependent_id)\n",
    "        if i.type not in ('assignment', 'value', 'argument', 'dependency', 'assign'):\n",
    "            sub_act = get_activation(i.dependent_id, trial_id)\n",
    "            #sub_act = get_evaluation(i.dependent_id)\n",
    "            print('passou')\n",
    "            if sub_act.has_activations: \n",
    "                print(' ' * indent + \"actv id = \"+ str(sub_act.id) + '; function = ' + str(sub_act.name))\n",
    "                act_list.extend(sub_act.dependent_dependencies)\n",
    "                #print(len(act_list))\n",
    "            else:\n",
    "                print(' ' * indent + \"actv id = \"+ str(sub_act.id) + '; function = ' + str(sub_act.name) + '; code_block = ' + str(sub_act.type))\n",
    " "
   ]
  },
  {
   "cell_type": "code",
   "execution_count": 17,
   "id": "c2657d55-eb23-402a-9917-e0d7a5d9ff72",
   "metadata": {
    "tags": []
   },
   "outputs": [
    {
     "name": "stdout",
     "output_type": "stream",
     "text": [
      "OrderedDict([('trial_id', '1a5e7404-4a81-4839-a253-3a5c3016eace'),\n",
      "             ('id', 2),\n",
      "             ('checkpoint', 6.3108665859999995),\n",
      "             ('code_component_id', 2),\n",
      "             ('activation_id', 1),\n",
      "             ('repr', 'None'),\n",
      "             ('member_container_activation_id', 1),\n",
      "             ('member_container_id', 2)])\n",
      "OrderedDict([('trial_id', '1a5e7404-4a81-4839-a253-3a5c3016eace'),\n",
      "             ('id', 20),\n",
      "             ('checkpoint', 6.417165555),\n",
      "             ('code_component_id', 617),\n",
      "             ('activation_id', 1),\n",
      "             ('repr', 'None'),\n",
      "             ('member_container_activation_id', 1),\n",
      "             ('member_container_id', 20)])\n",
      "OrderedDict([('trial_id', '1a5e7404-4a81-4839-a253-3a5c3016eace'),\n",
      "             ('id', 22),\n",
      "             ('checkpoint', 6.492864377),\n",
      "             ('code_component_id', 653),\n",
      "             ('activation_id', 1),\n",
      "             ('repr', 'None'),\n",
      "             ('member_container_activation_id', 1),\n",
      "             ('member_container_id', 22)])\n",
      "OrderedDict([('trial_id', '1a5e7404-4a81-4839-a253-3a5c3016eace'),\n",
      "             ('id', 28),\n",
      "             ('checkpoint', 6.577407576000001),\n",
      "             ('code_component_id', 664),\n",
      "             ('activation_id', 1),\n",
      "             ('repr', 'None'),\n",
      "             ('member_container_activation_id', 1),\n",
      "             ('member_container_id', 28)])\n",
      "OrderedDict([('trial_id', '1a5e7404-4a81-4839-a253-3a5c3016eace'),\n",
      "             ('id', 44),\n",
      "             ('checkpoint', 6.665799959999999),\n",
      "             ('code_component_id', 677),\n",
      "             ('activation_id', 1),\n",
      "             ('repr', 'None'),\n",
      "             ('member_container_activation_id', 1),\n",
      "             ('member_container_id', 44)])\n",
      "OrderedDict([('trial_id', '1a5e7404-4a81-4839-a253-3a5c3016eace'),\n",
      "             ('id', 47),\n",
      "             ('checkpoint', 6.747664642),\n",
      "             ('code_component_id', 682),\n",
      "             ('activation_id', 1),\n",
      "             ('repr', 'None'),\n",
      "             ('member_container_activation_id', 1),\n",
      "             ('member_container_id', 47)])\n",
      "OrderedDict([('trial_id', '1a5e7404-4a81-4839-a253-3a5c3016eace'),\n",
      "             ('id', 67),\n",
      "             ('checkpoint', 6.837454953),\n",
      "             ('code_component_id', 694),\n",
      "             ('activation_id', 1),\n",
      "             ('repr', 'None'),\n",
      "             ('member_container_activation_id', 1),\n",
      "             ('member_container_id', 67)])\n",
      "OrderedDict([('trial_id', '1a5e7404-4a81-4839-a253-3a5c3016eace'),\n",
      "             ('id', 86),\n",
      "             ('checkpoint', 6.933379026000001),\n",
      "             ('code_component_id', 713),\n",
      "             ('activation_id', 1),\n",
      "             ('repr',\n",
      "              'Activation(id=67, name=<ipython-input-7-afe7de53980c>, '\n",
      "              'start_checkpoint=6.836792495999999, code_block_id=694)'),\n",
      "             ('member_container_activation_id', 67),\n",
      "             ('member_container_id', 83)])\n",
      "OrderedDict([('trial_id', '1a5e7404-4a81-4839-a253-3a5c3016eace'),\n",
      "             ('id', 90),\n",
      "             ('checkpoint', 7.022869532000001),\n",
      "             ('code_component_id', 718),\n",
      "             ('activation_id', 1),\n",
      "             ('repr', 'None'),\n",
      "             ('member_container_activation_id', 1),\n",
      "             ('member_container_id', 90)])\n",
      "OrderedDict([('trial_id', '1a5e7404-4a81-4839-a253-3a5c3016eace'),\n",
      "             ('id', 94),\n",
      "             ('checkpoint', 65.045147073),\n",
      "             ('code_component_id', 725),\n",
      "             ('activation_id', 1),\n",
      "             ('repr', 'None'),\n",
      "             ('member_container_activation_id', 1),\n",
      "             ('member_container_id', 94)])\n",
      "OrderedDict([('trial_id', '1a5e7404-4a81-4839-a253-3a5c3016eace'),\n",
      "             ('id', 141),\n",
      "             ('checkpoint', 99.947858345),\n",
      "             ('code_component_id', 796),\n",
      "             ('activation_id', 1),\n",
      "             ('repr',\n",
      "              '<noworkflow.now.models.dependency_querier.node_context.NodeContext '\n",
      "              'object at 0x7f84c3fd7610>'),\n",
      "             ('member_container_activation_id', 94),\n",
      "             ('member_container_id', 125)])\n",
      "OrderedDict([('trial_id', '1a5e7404-4a81-4839-a253-3a5c3016eace'),\n",
      "             ('id', 143),\n",
      "             ('checkpoint', 109.86740555899999),\n",
      "             ('code_component_id', 799),\n",
      "             ('activation_id', 1),\n",
      "             ('repr',\n",
      "              '<generator object NodeContext.dependencies at 0x7f84c41f7650>'),\n",
      "             ('member_container_activation_id', 143),\n",
      "             ('member_container_id', 146)])\n",
      "OrderedDict([('trial_id', '1a5e7404-4a81-4839-a253-3a5c3016eace'),\n",
      "             ('id', 148),\n",
      "             ('checkpoint', 119.36535470999999),\n",
      "             ('code_component_id', 808),\n",
      "             ('activation_id', 1),\n",
      "             ('repr', '[]'),\n",
      "             ('member_container_activation_id', 148),\n",
      "             ('member_container_id', 154)])\n",
      "OrderedDict([('trial_id', '1a5e7404-4a81-4839-a253-3a5c3016eace'),\n",
      "             ('id', 155),\n",
      "             ('checkpoint', 335.26131212800004),\n",
      "             ('code_component_id', 821),\n",
      "             ('activation_id', 1),\n",
      "             ('repr', 'None'),\n",
      "             ('member_container_activation_id', 1),\n",
      "             ('member_container_id', 155)])\n",
      "OrderedDict([('trial_id', '1a5e7404-4a81-4839-a253-3a5c3016eace'),\n",
      "             ('id', 459),\n",
      "             ('checkpoint', 354.05140786600003),\n",
      "             ('code_component_id', 1010),\n",
      "             ('activation_id', 1),\n",
      "             ('repr', 'None'),\n",
      "             ('member_container_activation_id', 1),\n",
      "             ('member_container_id', 459)])\n",
      "OrderedDict([('trial_id', '1a5e7404-4a81-4839-a253-3a5c3016eace'),\n",
      "             ('id', 722),\n",
      "             ('checkpoint', 378.96046903300004),\n",
      "             ('code_component_id', 1184),\n",
      "             ('activation_id', 1),\n",
      "             ('repr', 'None'),\n",
      "             ('member_container_activation_id', 1),\n",
      "             ('member_container_id', 722)])\n"
     ]
    }
   ],
   "source": [
    "print_act_evals(1)"
   ]
  },
  {
   "cell_type": "code",
   "execution_count": 22,
   "id": "17dd6428-3ead-48dc-8dcf-77c4a02c4f91",
   "metadata": {
    "tags": []
   },
   "outputs": [
    {
     "name": "stdout",
     "output_type": "stream",
     "text": [
      "OrderedDict([('trial_id', '1a5e7404-4a81-4839-a253-3a5c3016eace'),\n",
      "             ('id', 68),\n",
      "             ('dependent_activation_id', 1),\n",
      "             ('dependent_id', 86),\n",
      "             ('dependency_activation_id', 86),\n",
      "             ('dependency_id', 87),\n",
      "             ('type', 'assign'),\n",
      "             ('reference', True),\n",
      "             ('collection_activation_id', None),\n",
      "             ('collection_id', None),\n",
      "             ('key', None)])\n",
      "OrderedDict([('trial_id', '1a5e7404-4a81-4839-a253-3a5c3016eace'),\n",
      "             ('id', 113),\n",
      "             ('dependent_activation_id', 1),\n",
      "             ('dependent_id', 141),\n",
      "             ('dependency_activation_id', 141),\n",
      "             ('dependency_id', 142),\n",
      "             ('type', 'assign'),\n",
      "             ('reference', True),\n",
      "             ('collection_activation_id', None),\n",
      "             ('collection_id', None),\n",
      "             ('key', None)])\n",
      "OrderedDict([('trial_id', '1a5e7404-4a81-4839-a253-3a5c3016eace'),\n",
      "             ('id', 117),\n",
      "             ('dependent_activation_id', 1),\n",
      "             ('dependent_id', 143),\n",
      "             ('dependency_activation_id', 143),\n",
      "             ('dependency_id', 146),\n",
      "             ('type', 'assign'),\n",
      "             ('reference', True),\n",
      "             ('collection_activation_id', None),\n",
      "             ('collection_id', None),\n",
      "             ('key', None)])\n",
      "OrderedDict([('trial_id', '1a5e7404-4a81-4839-a253-3a5c3016eace'),\n",
      "             ('id', 125),\n",
      "             ('dependent_activation_id', 1),\n",
      "             ('dependent_id', 148),\n",
      "             ('dependency_activation_id', 148),\n",
      "             ('dependency_id', 154),\n",
      "             ('type', 'assign'),\n",
      "             ('reference', True),\n",
      "             ('collection_activation_id', None),\n",
      "             ('collection_id', None),\n",
      "             ('key', None)])\n",
      "OrderedDict([('trial_id', '1a5e7404-4a81-4839-a253-3a5c3016eace'),\n",
      "             ('id', 1891),\n",
      "             ('dependent_activation_id', 1),\n",
      "             ('dependent_id', 1062),\n",
      "             ('dependency_activation_id', 1062),\n",
      "             ('dependency_id', 1065),\n",
      "             ('type', 'assign'),\n",
      "             ('reference', True),\n",
      "             ('collection_activation_id', None),\n",
      "             ('collection_id', None),\n",
      "             ('key', None)])\n",
      "OrderedDict([('trial_id', '1a5e7404-4a81-4839-a253-3a5c3016eace'),\n",
      "             ('id', 1924),\n",
      "             ('dependent_activation_id', 1),\n",
      "             ('dependent_id', 1201),\n",
      "             ('dependency_activation_id', 1201),\n",
      "             ('dependency_id', 1204),\n",
      "             ('type', 'assign'),\n",
      "             ('reference', True),\n",
      "             ('collection_activation_id', None),\n",
      "             ('collection_id', None),\n",
      "             ('key', None)])\n"
     ]
    }
   ],
   "source": [
    "print_act_forward_act(1)"
   ]
  },
  {
   "cell_type": "code",
   "execution_count": null,
   "id": "1ca56d7f-8b11-4955-8343-02e79bea37fc",
   "metadata": {},
   "outputs": [],
   "source": []
  },
  {
   "cell_type": "code",
   "execution_count": null,
   "id": "09b3ea3d-89e5-49e4-82ce-48906d1597b3",
   "metadata": {},
   "outputs": [],
   "source": []
  },
  {
   "cell_type": "markdown",
   "id": "74dc1b1d-0ff8-42e2-9366-5fb6fbd9a352",
   "metadata": {},
   "source": [
    "Observations:\n",
    "\n",
    "1. The function is recursive in only one direction. Trying to search backwards will break it\n",
    "2. It only displays the history of what was executed inside the cell. It doesn't attends the need of printing the dependencies of\n",
    "    a given variable. "
   ]
  },
  {
   "cell_type": "markdown",
   "id": "ef05c223-09de-437f-a779-7154331c1c1d",
   "metadata": {},
   "source": [
    "The usecase here is:\n",
    "When tagging one variable, I want to be able to capture all the dependencies of this variable accross the trial.\n",
    "1. I have to iterate over all the executed cells in the notebook\n",
    "2. Capture all references to this variabble\n",
    "3. Capture all references to the references of this variable\n",
    "4. DIsplay it at the end."
   ]
  }
 ],
 "metadata": {
  "kernelspec": {
   "display_name": "noWorkflow 3",
   "language": "python",
   "name": "noworkflow3"
  },
  "language_info": {
   "codemirror_mode": {
    "name": "ipython",
    "version": 3
   },
   "file_extension": ".py",
   "mimetype": "text/x-python",
   "name": "python",
   "nbconvert_exporter": "python",
   "pygments_lexer": "ipython3",
   "version": "3.7.16"
  }
 },
 "nbformat": 4,
 "nbformat_minor": 5
}
