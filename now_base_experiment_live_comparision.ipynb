{
 "cells": [
  {
   "cell_type": "markdown",
   "metadata": {
    "tags": []
   },
   "source": [
    "#### Summer of Reproducibility - noWorkflow base experiment\n",
    "\n",
    "This notebook implements an experimental setup modeling a Credit Fraud problem."
   ]
  },
  {
   "cell_type": "code",
   "execution_count": 1,
   "metadata": {
    "tags": []
   },
   "outputs": [],
   "source": [
    "from sklearn.decomposition import PCA\n",
    "from sklearn.metrics import roc_auc_score, f1_score\n",
    "from sklearn.ensemble import RandomForestClassifier\n",
    "from imblearn.under_sampling import RandomUnderSampler\n",
    "from sklearn.model_selection import train_test_split\n",
    "import pandas as pd\n",
    "import xgboost as xgb\n",
    "import lightgbm as lgb\n",
    "import catboost as cat\n",
    "import numpy as np\n",
    "#np.set_printoptions(threshold=np.inf)\n",
    "np.set_printoptions(precision=2)\n",
    "\n",
    "\n",
    "from noworkflow.now.tagging.var_tagging import *"
   ]
  },
  {
   "cell_type": "markdown",
   "metadata": {},
   "source": [
    "#### Reading the dataset"
   ]
  },
  {
   "cell_type": "code",
   "execution_count": 2,
   "metadata": {},
   "outputs": [],
   "source": [
    "now_tag('dataset_reading')\n",
    "df = pd.read_csv('dataset/creditcard.csv', encoding='utf-8')"
   ]
  },
  {
   "cell_type": "markdown",
   "metadata": {},
   "source": [
    "### Feature engineering stage\n",
    "\n",
    "Separate the features and target variable. First step in feature treatment."
   ]
  },
  {
   "cell_type": "code",
   "execution_count": 3,
   "metadata": {},
   "outputs": [],
   "source": [
    "#now_tag('feature_eng')\n",
    "X = df.drop('Class', axis=1)\n",
    "y = df['Class']"
   ]
  },
  {
   "cell_type": "markdown",
   "metadata": {},
   "source": [
    "#### Feature engineering: Apply PCA for feature extraction.\n",
    "\n",
    "Here we define hyperparam_def tag given that n_components argument in PCA is required"
   ]
  },
  {
   "cell_type": "code",
   "execution_count": 4,
   "metadata": {},
   "outputs": [
    {
     "name": "stdout",
     "output_type": "stream",
     "text": [
      "Evaluation(id=40, checkpoint=37.786198959000004, code_component_id=1171, activation_id=37, repr=3)\n"
     ]
    }
   ],
   "source": [
    "pca_components = now_variable('pca_components', 3)\n",
    "pca = PCA(n_components=pca_components)  # Adjust the number of components as needed\n",
    "X_pca = pca.fit_transform(X)"
   ]
  },
  {
   "cell_type": "markdown",
   "metadata": {},
   "source": [
    "#### Feature engineering: Apply random undersampling over the extracted features\n",
    "\n",
    "Another case of feature engineering operation with hyperparameter definition. Here is random_state value for RandmUnderSampler\n"
   ]
  },
  {
   "cell_type": "code",
   "execution_count": 5,
   "metadata": {
    "tags": []
   },
   "outputs": [
    {
     "name": "stdout",
     "output_type": "stream",
     "text": [
      "Evaluation(id=58, checkpoint=38.809740747, code_component_id=1204, activation_id=55, repr=123456)\n"
     ]
    }
   ],
   "source": [
    "random_seed = now_variable('random_seed', 123456)\n",
    "rus = RandomUnderSampler(random_state=random_seed)\n",
    "X_resampled, y_resampled = rus.fit_resample(X_pca, y)"
   ]
  },
  {
   "cell_type": "markdown",
   "metadata": {
    "tags": []
   },
   "source": [
    "#### Feature engineering: Spliting dataset into train and test\n",
    "\n",
    "Here we have two hyperparameters assignments: the proportion of the test_size and the random_state. A guess here would be implement some logic to take all scalar values in hyperparam_def in cells. Not sure at the moment if there are any corner case where a hyperparameter could be vectorial or an object."
   ]
  },
  {
   "cell_type": "code",
   "execution_count": 6,
   "metadata": {},
   "outputs": [
    {
     "name": "stdout",
     "output_type": "stream",
     "text": [
      "Evaluation(id=80, checkpoint=39.083669804, code_component_id=1246, activation_id=74, repr=0.2)\n"
     ]
    }
   ],
   "source": [
    "now_tag('feature_eng')\n",
    "test_dim = now_variable('test_dim', 0.2)\n",
    "X_train, X_test, y_train, y_test = train_test_split(X_resampled, y_resampled, test_size=test_dim, random_state=random_seed)"
   ]
  },
  {
   "cell_type": "markdown",
   "metadata": {},
   "source": [
    "#### Scoring: model training and transforming features into predictions\n",
    "##### RandomForest\n",
    "\n",
    "Train and evaluate Random Forest Classifier. Unsure now if adding a model_training tag would be redundant here. Scoring is enough at first sight."
   ]
  },
  {
   "cell_type": "code",
   "execution_count": 7,
   "metadata": {},
   "outputs": [
    {
     "data": {
      "text/plain": [
       "RandomForestClassifier()"
      ]
     },
     "execution_count": 7,
     "metadata": {},
     "output_type": "execute_result"
    }
   ],
   "source": [
    "#now_tag('scoring')\n",
    "now_tag('model_training')\n",
    "rf = RandomForestClassifier()\n",
    "rf.fit(X_train, y_train)"
   ]
  },
  {
   "cell_type": "markdown",
   "metadata": {
    "tags": []
   },
   "source": [
    "#### Evaluating: evaluating the performance of models\n",
    "##### RandomForest\n",
    "Computing performance metrics "
   ]
  },
  {
   "cell_type": "code",
   "execution_count": 8,
   "metadata": {
    "tags": []
   },
   "outputs": [
    {
     "name": "stdout",
     "output_type": "stream",
     "text": [
      "Evaluation(id=124, checkpoint=39.654062131, code_component_id=1323, activation_id=110, repr=0.8138814294567237)\n",
      "Evaluation(id=133, checkpoint=39.656704293000004, code_component_id=1339, activation_id=110, repr=0.8121827411167513)\n",
      "Random Forest - ROC = 0.813881, F1 = 0.812183\n"
     ]
    }
   ],
   "source": [
    "now_tag('evaluating')\n",
    "y_pred_rf = rf.predict(X_test)\n",
    "\n",
    "roc_rf = now_variable('roc_rf', roc_auc_score(y_test, y_pred_rf))\n",
    "#roc_rf = roc_auc_score(y_test, y_pred_rf)\n",
    "f1_rf = now_variable('f1_rf', f1_score(y_test, y_pred_rf))\n",
    "#f1_rf = f1_score(y_test, y_pred_rf)\n",
    "\n",
    "print(\"Random Forest - ROC = %f, F1 = %f\" % (roc_rf, f1_rf))"
   ]
  },
  {
   "cell_type": "markdown",
   "metadata": {
    "tags": []
   },
   "source": [
    "### Output comparision\n"
   ]
  },
  {
   "cell_type": "code",
   "execution_count": 114,
   "metadata": {
    "tags": []
   },
   "outputs": [],
   "source": [
    "def tagged_comp(tag_name):\n",
    "    from noworkflow.now.persistence.models.base import proxy_gen\n",
    "    from noworkflow.now.persistence import relational\n",
    "    import matplotlib.pyplot as plt\n",
    "\n",
    "    access_list = list(proxy_gen(relational.session.query(StageTags.m).filter(StageTags.m.name == tag_name)))\n",
    "    \n",
    "    values_list = []\n",
    "    for i in access_list:\n",
    "        values_list.append([i.trial_id, i.trial_id[-5:],  i.name, float(i.tag_name)])\n",
    "        \n",
    "    return values_list\n",
    "\n",
    "def plot_comp(tag_name = 'roc_rf'):\n",
    "    import pandas as pd\n",
    "    from noworkflow.now.persistence.models.base import proxy_gen\n",
    "    from noworkflow.now.persistence import relational\n",
    "    import matplotlib.pyplot as plt\n",
    "\n",
    "    access_list = list(proxy_gen(relational.session.query(StageTags.m).filter(StageTags.m.name == tag_name)))\n",
    "    \n",
    "    values_list = []\n",
    "    for i in access_list:\n",
    "        values_list.append([i.trial_id, i.trial_id[-5:],  i.name, float(i.tag_name)])\n",
    "    \n",
    "    columns = ['trial_id', 'short_trial_id',  'tag', 'value']\n",
    "    df = pd.DataFrame(values_list, columns=columns)\n",
    "    \n",
    "    df = df.tail(30)\n",
    "    \n",
    "    plt.bar(df.short_trial_id, df.value)\n",
    "    plt.title(tag_name + ' values')\n",
    "    plt.xticks(rotation=90)\n",
    "\n",
    "    plt.show()"
   ]
  },
  {
   "cell_type": "code",
   "execution_count": 115,
   "metadata": {
    "tags": []
   },
   "outputs": [
    {
     "data": {
      "image/png": "[encoded data removed]",
      "text/plain": [
       "<Figure size 640x480 with 1 Axes>"
      ]
     },
     "metadata": {},
     "output_type": "display_data"
    }
   ],
   "source": [
    "plot_comp('roc_rf')"
   ]
  },
  {
   "cell_type": "code",
   "execution_count": null,
   "metadata": {},
   "outputs": [],
   "source": []
  }
 ],
 "metadata": {
  "kernelspec": {
   "display_name": "noWorkflow 3",
   "language": "python",
   "name": "noworkflow3"
  },
  "language_info": {
   "codemirror_mode": {
    "name": "ipython",
    "version": 3
   },
   "file_extension": ".py",
   "mimetype": "text/x-python",
   "name": "python",
   "nbconvert_exporter": "python",
   "pygments_lexer": "ipython3",
   "version": "3.7.16"
  },
  "vscode": {
   "interpreter": {
    "hash": "fd46906d0be51105938edee03e9704979453c4958d5b4d09c310e6ecda521c36"
   }
  }
 },
 "nbformat": 4,
 "nbformat_minor": 4
}
