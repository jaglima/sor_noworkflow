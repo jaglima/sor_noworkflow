{
 "cells": [
  {
   "cell_type": "code",
   "execution_count": 1,
   "id": "c6f9c9e7-4d30-4fb0-bbaf-c35e114212ec",
   "metadata": {
    "tags": []
   },
   "outputs": [],
   "source": [
    "from noworkflow.now.persistence.models import Evaluation, Activation\n",
    "from noworkflow.now.models.dependency_querier import DependencyQuerier\n",
    "from noworkflow.now.models.dependency_querier.node_context import NodeContext\n",
    "from noworkflow.now.models.dependency_querier.querier_options import QuerierOptions\n",
    "from noworkflow.now.persistence.models import Trial\n",
    "from copy import copy\n",
    "\n",
    "import numpy as np\n",
    "from pprint import pprint"
   ]
  },
  {
   "cell_type": "code",
   "execution_count": 2,
   "id": "76477597-b64d-48c8-be27-a3c4344a1c00",
   "metadata": {
    "tags": []
   },
   "outputs": [],
   "source": [
    "import numpy as np\n",
    "\n",
    "# Helper functions\n",
    "def get_activation(activation_id, trial_id = None):\n",
    "    if not trial_id:\n",
    "        trial_id =  __noworkflow__.trial_id\n",
    "    return Activation((trial_id, activation_id))\n",
    "\n",
    "def get_evaluation(evaluation_id, trial_id = None):\n",
    "    if not trial_id:\n",
    "        trial_id =  __noworkflow__.trial_id\n",
    "    return Evaluation((trial_id, evaluation_id))\n",
    "\n",
    "def get_act_evals(activation_id):\n",
    "    activation = get_activation(activation_id)\n",
    "    return activation.evaluations    \n",
    "\n",
    "def print_act_forward(activation_id=1):\n",
    "    activation = get_activation(activation_id)\n",
    "    \n",
    "    for i in list(activation.dependent_dependencies):\n",
    "        pprint.pprint(i.to_dict())\n",
    "        \n",
    "def print_act_backward(activation_id=1):\n",
    "    activation = get_activation(activation_id)\n",
    "    \n",
    "    for i in list(activation.dependency_dependencies):\n",
    "        pprint.pprint(i.to_dict())\n",
    "\n",
    "def print_act_evals(activation_id=1):\n",
    "    activation = get_activation(activation_id)\n",
    "\n",
    "    for item in activation.evaluations:\n",
    "        pprint.pprint(item.to_dict())\n",
    "        \n"
   ]
  },
  {
   "cell_type": "code",
   "execution_count": 131,
   "id": "27ec6964-c11c-4d1b-b3f8-b377de8563d2",
   "metadata": {
    "tags": []
   },
   "outputs": [],
   "source": [
    "class NotebookQuerierOptions(QuerierOptions):\n",
    "    def visit_arrow(self, context, neighbor):\n",
    "        indent = 1\n",
    "       \n",
    "        global non_go\n",
    "\n",
    "        if neighbor.evaluation.code_component.type == 'function_def':\n",
    "            non_go = neighbor.evaluation.code_component.id\n",
    "       \n",
    "    \n",
    "        if neighbor.arrow not in ('argument', '<.__class__>', 'item'):\n",
    "            if context.evaluation.code_component.type not in ('add', 'literal', 'mult', 'div', 'param', 'sub', 'attribute', 'usub'):\n",
    "                if neighbor.evaluation.code_component.type not in ('add', 'literal', 'mult', 'div', 'param', 'sub', 'attribute', 'usub'):\n",
    "                    if (context.evaluation.code_component.type != 'call') and (neighbor.evaluation.code_component.type != 'call'):\n",
    "                        if (context.evaluation.code_component.container_id != 'None'):\n",
    "                            if neighbor.evaluation.code_component.container_id != non_go:\n",
    "                                #print(context.evaluation, context.evaluation.code_component)\n",
    "                                #print(neighbor.arrow, '->' , neighbor.evaluation, neighbor.evaluation.code_component)\n",
    "                                code_comp = neighbor.evaluation.code_component\n",
    "                                evaluation = context.evaluation\n",
    "                                print(\" container id = \"+ str(code_comp.container_id) + \"; variable = \" + code_comp.name + ' <- ' + str(evaluation.repr))\n",
    "                                print('_____')\n"
   ]
  },
  {
   "cell_type": "code",
   "execution_count": 132,
   "id": "8417bf7f-9552-4896-8729-b71ac91f55f8",
   "metadata": {
    "tags": []
   },
   "outputs": [
    {
     "name": "stdout",
     "output_type": "stream",
     "text": [
      " container id = 706; variable = x <- 110246.0\n",
      "_____\n",
      " container id = 706; variable = var_e <- 110236.0\n",
      "_____\n",
      " container id = 645; variable = var_b <- -100\n",
      "_____\n",
      " container id = 691; variable = var_c <- 110136.0\n",
      "_____\n",
      " container id = 691; variable = var_d <- 330408\n",
      "_____\n",
      " container id = 676; variable = var_c <- 1412\n",
      "_____\n",
      " container id = 652; variable = y <- 30\n",
      "_____\n",
      " container id = 652; variable = x <- 50\n",
      "_____\n",
      " container id = 479; variable = stress_func <- <function stress_func at 0x7fef95a4c5f0>\n",
      "_____\n",
      " container id = None; variable = int <- <class 'int'>\n",
      "_____\n",
      " container id = 479; variable = mae <- <function mae at 0x7fef95a4c050>\n",
      "_____\n",
      " container id = 479; variable = rmse <- <function rmse at 0x7fef95a4c320>\n",
      "_____\n"
     ]
    }
   ],
   "source": [
    "querier = DependencyQuerier(options=NotebookQuerierOptions())\n",
    "nodes_to_visit, visited, found = querier.navigate_dependencies([evals])"
   ]
  },
  {
   "cell_type": "markdown",
   "id": "e75b860a-76f6-4768-8080-db001d76119e",
   "metadata": {},
   "source": [
    "### Test case\n",
    "\n",
    "Here starts my (only) test case. The flow goes through cells defining module, mae and rmse, variable definitions, variable manipulation and _var_final_ being our target variable, being dependent of its previous cells.\n"
   ]
  },
  {
   "cell_type": "code",
   "execution_count": 4,
   "id": "b193369c-2ce3-4759-b7b5-41f4b320e97a",
   "metadata": {
    "tags": []
   },
   "outputs": [],
   "source": [
    "def module(num): \n",
    "    if num >= 0:\n",
    "        return int(num)\n",
    "    else:\n",
    "        return int(-1*num)\n",
    "\n",
    "def mae(x, y):\n",
    "    return np.mean(np.abs((x - y)))\n",
    "\n",
    "def rmse(x, y):\n",
    "    return np.sqrt(np.mean((x - y)**2))\n",
    "\n",
    "def stress_func(m, n):\n",
    "    temp = m * n\n",
    "    x = 10\n",
    "    y = 100\n",
    "    \n",
    "    temp = np.random.rand()*temp\n",
    "    \n",
    "    final = np.max([int(x+y), int(temp)])\n",
    "    \n",
    "    return final"
   ]
  },
  {
   "cell_type": "code",
   "execution_count": 5,
   "id": "dad4d3bc-e662-4cad-873d-e040cfe25354",
   "metadata": {
    "tags": []
   },
   "outputs": [],
   "source": [
    "var_a = 10"
   ]
  },
  {
   "cell_type": "code",
   "execution_count": 6,
   "id": "1bb71226-764c-454d-bfdd-260ad0432c6b",
   "metadata": {},
   "outputs": [],
   "source": [
    "var_b = -100"
   ]
  },
  {
   "cell_type": "code",
   "execution_count": 7,
   "id": "8c326993-1bf2-4223-8e9c-11e48a915cf8",
   "metadata": {},
   "outputs": [],
   "source": [
    "x = 50\n",
    "y = 30"
   ]
  },
  {
   "cell_type": "code",
   "execution_count": null,
   "id": "48234333-fdcb-47f0-8a9e-12a9510a37aa",
   "metadata": {},
   "outputs": [],
   "source": []
  },
  {
   "cell_type": "code",
   "execution_count": 8,
   "id": "127ead7e-028a-4cd4-bf44-20c541f0ad7d",
   "metadata": {},
   "outputs": [],
   "source": [
    "rme_err = mae(var_a, var_b)"
   ]
  },
  {
   "cell_type": "code",
   "execution_count": 9,
   "id": "93ea2f3f-32d6-4d40-a9b3-f2f8e2d557b0",
   "metadata": {
    "tags": []
   },
   "outputs": [],
   "source": [
    "var_c = stress_func(x, y)"
   ]
  },
  {
   "cell_type": "code",
   "execution_count": 10,
   "id": "18ec6985-1fb5-40c1-8a12-51d0fbb4c14f",
   "metadata": {
    "tags": []
   },
   "outputs": [],
   "source": [
    "var_d = var_c * 234\n",
    "var_c = var_d / 3"
   ]
  },
  {
   "cell_type": "code",
   "execution_count": 11,
   "id": "32345dcf-fa1b-4d2e-b742-49204e1ddcf0",
   "metadata": {
    "tags": []
   },
   "outputs": [],
   "source": [
    "var_e = mae(var_c, var_b)\n",
    "x = var_e + 10"
   ]
  },
  {
   "cell_type": "code",
   "execution_count": 12,
   "id": "d18aa5aa-5b91-4295-9b79-1fbf55d3d561",
   "metadata": {
    "tags": []
   },
   "outputs": [
    {
     "name": "stdout",
     "output_type": "stream",
     "text": [
      "Evaluation(id=139, checkpoint=32.972496052000004, code_component_id=734, activation_id=132, repr=110.0)\n"
     ]
    }
   ],
   "source": [
    "#k = module(rmse_err)\n",
    "var_final = now_variable('var_final', rmse(var_c, x))"
   ]
  },
  {
   "cell_type": "markdown",
   "id": "407023ba-f72a-4a78-9d2c-4bf8498b93dc",
   "metadata": {},
   "source": [
    "### New functions test"
   ]
  },
  {
   "cell_type": "code",
   "execution_count": 35,
   "id": "7a5f5a25-139d-4a22-a07e-2a780a01da86",
   "metadata": {
    "tags": []
   },
   "outputs": [
    {
     "data": {
      "text/plain": [
       "evaluation(c7035a7f-34c5-4534-91cb-e88dc5367902, 139, 32.972496052000004, 734, 132, '110.0', 152)."
      ]
     },
     "execution_count": 35,
     "metadata": {},
     "output_type": "execute_result"
    }
   ],
   "source": [
    "evals"
   ]
  },
  {
   "cell_type": "code",
   "execution_count": 36,
   "id": "11bc6245-d820-46d0-8132-0989c0014309",
   "metadata": {
    "tags": []
   },
   "outputs": [],
   "source": [
    "evals = get_evaluation(139)\n",
    "#code_comp_list = get_precedent([evals])"
   ]
  },
  {
   "cell_type": "markdown",
   "id": "3db01cdf-00e7-41d7-af9e-63615a7062db",
   "metadata": {},
   "source": [
    "### Outputing the dependencies of a variable\n",
    "\n",
    "print_precedents() trying to output a cleaner output from get_precedent() results"
   ]
  },
  {
   "cell_type": "code",
   "execution_count": null,
   "id": "0879aec3-b6e0-474d-bf46-4f9dc05d9f1c",
   "metadata": {
    "tags": []
   },
   "outputs": [],
   "source": [
    "def print_precedents(evals):\n",
    "    code_componenents = get_precedent([evals])\n",
    "    \n",
    "    op_dict = {}\n",
    "    for i in reversed(list(code_comp_list)):\n",
    "        code_comp = i\n",
    "        obj_eval = Evaluation((i.trial_id, i.id))\n",
    "        obj_act = Activation((obj_eval.trial_id, obj_eval.activation_id))\n",
    "\n",
    "        \n",
    "        if  ((code_comp.type == 'call') and (code_comp.mode == 'r')) or \\\n",
    "            (code_comp.type == 'name' and code_comp.mode == 'w'): \n",
    "                op_dict[round(float(obj_eval.checkpoint), 6)] = [round(float(obj_act.start_checkpoint),6), \\\n",
    "                round(float(obj_eval.checkpoint), 6), code_comp.name, code_comp.type, code_comp.mode]  \n",
    "    \n",
    "    return op_dict"
   ]
  },
  {
   "cell_type": "code",
   "execution_count": null,
   "id": "5b0c3632-3077-4ff9-96cf-71bf9b49533f",
   "metadata": {
    "tags": []
   },
   "outputs": [],
   "source": [
    "print_precedents(evals)"
   ]
  },
  {
   "cell_type": "code",
   "execution_count": null,
   "id": "3db9965a-f37f-4d42-80fd-056920611628",
   "metadata": {},
   "outputs": [],
   "source": []
  },
  {
   "cell_type": "code",
   "execution_count": null,
   "id": "4043746d-d341-40f6-9a27-932f4fe6d893",
   "metadata": {
    "tags": []
   },
   "outputs": [],
   "source": [
    "import pandas as pd\n",
    "\n",
    "pd.DataFrame(my_dict, columns=['a'])"
   ]
  }
 ],
 "metadata": {
  "kernelspec": {
   "display_name": "noWorkflow 3",
   "language": "python",
   "name": "noworkflow3_old"
  },
  "language_info": {
   "codemirror_mode": {
    "name": "ipython",
    "version": 3
   },
   "file_extension": ".py",
   "mimetype": "text/x-python",
   "name": "python",
   "nbconvert_exporter": "python",
   "pygments_lexer": "ipython3",
   "version": "3.7.16"
  }
 },
 "nbformat": 4,
 "nbformat_minor": 5
}
