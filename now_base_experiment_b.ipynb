{
 "cells": [
  {
   "cell_type": "markdown",
   "metadata": {
    "tags": []
   },
   "source": [
    "#### Summer of Reproducibility - noWorkflow base experiment\n",
    "\n",
    "This notebook implements an experimental setup modeling a Credit Fraud problem."
   ]
  },
  {
   "cell_type": "code",
   "execution_count": 20,
   "metadata": {
    "tags": []
   },
   "outputs": [],
   "source": [
    "from sklearn.decomposition import PCA\n",
    "from sklearn.metrics import roc_auc_score, f1_score\n",
    "from sklearn.ensemble import RandomForestClassifier\n",
    "from imblearn.under_sampling import RandomUnderSampler\n",
    "from sklearn.model_selection import train_test_split\n",
    "import pandas as pd\n",
    "import xgboost as xgb\n",
    "import lightgbm as lgb\n",
    "import catboost as cat"
   ]
  },
  {
   "cell_type": "markdown",
   "metadata": {},
   "source": [
    "#### Reading the dataset"
   ]
  },
  {
   "cell_type": "code",
   "execution_count": 21,
   "metadata": {},
   "outputs": [],
   "source": [
    "now_tag('dataset_reading')\n",
    "df = pd.read_csv('dataset/creditcard.csv', encoding='utf-8')"
   ]
  },
  {
   "cell_type": "markdown",
   "metadata": {},
   "source": [
    "### Feature engineering stage\n",
    "\n",
    "Separate the features and target variable. First step in feature treatment."
   ]
  },
  {
   "cell_type": "code",
   "execution_count": 22,
   "metadata": {},
   "outputs": [],
   "source": [
    "#now_tag('feature_eng')\n",
    "X = df.drop('Class', axis=1)\n",
    "y = df['Class']"
   ]
  },
  {
   "cell_type": "markdown",
   "metadata": {},
   "source": [
    "#### Feature engineering: Apply PCA for feature extraction.\n",
    "\n",
    "Here we define hyperparam_def tag given that n_components argument in PCA is required"
   ]
  },
  {
   "cell_type": "code",
   "execution_count": 23,
   "metadata": {},
   "outputs": [],
   "source": [
    "pca_components = now_variable('pca_components', 15)\n",
    "pca = PCA(n_components=pca_components)  # Adjust the number of components as needed\n",
    "X_pca = pca.fit_transform(X)"
   ]
  },
  {
   "cell_type": "markdown",
   "metadata": {},
   "source": [
    "#### Feature engineering: Apply random undersampling over the extracted features\n",
    "\n",
    "Another case of feature engineering operation with hyperparameter definition. Here is random_state value for RandmUnderSampler\n"
   ]
  },
  {
   "cell_type": "code",
   "execution_count": 24,
   "metadata": {
    "tags": []
   },
   "outputs": [],
   "source": [
    "random_seed = now_variable('random_seed', 321654)\n",
    "rus = RandomUnderSampler(random_state=random_seed)\n",
    "X_resampled, y_resampled = rus.fit_resample(X_pca, y)"
   ]
  },
  {
   "cell_type": "markdown",
   "metadata": {
    "tags": []
   },
   "source": [
    "#### Feature engineering: Spliting dataset into train and test\n",
    "\n",
    "Here we have two hyperparameters assignments: the proportion of the test_size and the random_state. A guess here would be implement some logic to take all scalar values in hyperparam_def in cells. Not sure at the moment if there are any corner case where a hyperparameter could be vectorial or an object."
   ]
  },
  {
   "cell_type": "code",
   "execution_count": 25,
   "metadata": {},
   "outputs": [],
   "source": [
    "now_tag('feature_eng')\n",
    "test_dim = now_variable('test_dim', 0.3)\n",
    "X_train, X_test, y_train, y_test = train_test_split(X_resampled, y_resampled, test_size=test_dim, random_state=random_seed)"
   ]
  },
  {
   "cell_type": "markdown",
   "metadata": {},
   "source": [
    "#### Scoring: model training and transforming features into predictions\n",
    "##### RandomForest\n",
    "\n",
    "Train and evaluate Random Forest Classifier. Unsure now if adding a model_training tag would be redundant here. Scoring is enough at first sight."
   ]
  },
  {
   "cell_type": "code",
   "execution_count": 26,
   "metadata": {},
   "outputs": [
    {
     "data": {
      "text/plain": [
       "RandomForestClassifier()"
      ]
     },
     "execution_count": 26,
     "metadata": {},
     "output_type": "execute_result"
    }
   ],
   "source": [
    "#now_tag('scoring')\n",
    "now_tag('model_training')\n",
    "rf = RandomForestClassifier()\n",
    "rf.fit(X_train, y_train)"
   ]
  },
  {
   "cell_type": "markdown",
   "metadata": {
    "tags": []
   },
   "source": [
    "#### Evaluating: evaluating the performance of models\n",
    "##### RandomForest\n",
    "Computing performance metrics "
   ]
  },
  {
   "cell_type": "code",
   "execution_count": 27,
   "metadata": {
    "tags": []
   },
   "outputs": [
    {
     "name": "stdout",
     "output_type": "stream",
     "text": [
      "Random Forest - ROC = 0.941662, F1 = 0.940789\n"
     ]
    }
   ],
   "source": [
    "now_tag('evaluating')\n",
    "y_pred_rf = rf.predict(X_test)\n",
    "\n",
    "roc_rf = now_variable('roc_rf', roc_auc_score(y_test, y_pred_rf))\n",
    "#roc_rf = roc_auc_score(y_test, y_pred_rf)\n",
    "f1_rf = now_variable('f1_rf', f1_score(y_test, y_pred_rf))\n",
    "#f1_rf = f1_score(y_test, y_pred_rf)\n",
    "\n",
    "print(\"Random Forest - ROC = %f, F1 = %f\" % (roc_rf, f1_rf))"
   ]
  },
  {
   "cell_type": "code",
   "execution_count": 28,
   "metadata": {
    "tags": []
   },
   "outputs": [],
   "source": [
    "ops_dict = get_pre('roc_rf')"
   ]
  },
  {
   "cell_type": "code",
   "execution_count": 29,
   "metadata": {
    "tags": []
   },
   "outputs": [
    {
     "data": {
      "text/plain": [
       "'6d78aede-c53c-41ff-8471-942312f26562'"
      ]
     },
     "execution_count": 29,
     "metadata": {},
     "output_type": "execute_result"
    }
   ],
   "source": [
    "__noworkflow__.trial_id"
   ]
  },
  {
   "cell_type": "code",
   "execution_count": 11,
   "metadata": {},
   "outputs": [],
   "source": [
    "def store_operations(trial, ops_dict):\n",
    "    import shelve\n",
    "\n",
    "    # Store the dictionary in a shelve file\n",
    "    with shelve.open('ops') as shelf:\n",
    "        shelf[trial] = ops_dict\n",
    "        print(\"Dictionary stored in shelve.\")"
   ]
  },
  {
   "cell_type": "code",
   "execution_count": 30,
   "metadata": {
    "tags": []
   },
   "outputs": [
    {
     "name": "stdout",
     "output_type": "stream",
     "text": [
      "Dictionary stored in shelve.\n"
     ]
    }
   ],
   "source": [
    "id_1 = __noworkflow__.trial_id\n",
    "store_operations(id_1, ops_dict)"
   ]
  },
  {
   "cell_type": "code",
   "execution_count": 31,
   "metadata": {
    "tags": []
   },
   "outputs": [
    {
     "data": {
      "text/plain": [
       "'6d78aede-c53c-41ff-8471-942312f26562'"
      ]
     },
     "execution_count": 31,
     "metadata": {},
     "output_type": "execute_result"
    }
   ],
   "source": [
    "id_1"
   ]
  },
  {
   "cell_type": "code",
   "execution_count": 17,
   "metadata": {
    "tags": []
   },
   "outputs": [],
   "source": [
    "def exp_compare(trial_a, trial_b):\n",
    "    import shelve\n",
    "    from operator import itemgetter\n",
    "    \n",
    "    # Retrieve the dictionary a from the shelve file\n",
    "    with shelve.open('ops') as shelf:\n",
    "        dict_a = shelf[trial_a]\n",
    "        #print(\"Retrieved dictionary:\", dict_a)\n",
    "        dict_b = shelf[trial_b]\n",
    "        #print(\"Retrieved dictionary:\", dict_b)\n",
    "        \n",
    "    # comparing two dicts\n",
    "\n",
    "    # Define the indices of items to compare\n",
    "    item_indices = (2, 3)  # Indexing is 0-based\n",
    "\n",
    "    # Compare dictionaries' specific items using list comprehension and zip\n",
    "    for key, values1 in dict1.items():\n",
    "        values2 = dict2.get(key, [])  # Get values from dict2 or use an empty list if the key doesn't exist\n",
    "\n",
    "        # Use list comprehension and zip to compare specific items\n",
    "        comparisons = [v1 == v2 for v1, v2 in zip(itemgetter(*item_indices)(values1), itemgetter(*item_indices)(values2))]\n",
    "\n",
    "        if all(comparisons):\n",
    "            print(f\"Key '{key}' has the same values for items {item_indices} in both dictionaries.\")\n",
    "        else:\n",
    "            print(f\"Key '{key}' has different values for items {item_indices} in the dictionaries.\")\n",
    "\n",
    "        return dict_a, dict_b"
   ]
  },
  {
   "cell_type": "code",
   "execution_count": 43,
   "metadata": {
    "tags": []
   },
   "outputs": [],
   "source": [
    "id_1 ='636a8483-5c2a-472d-a64c-d309b17088bf'\n",
    "id_2 = '6d78aede-c53c-41ff-8471-942312f26562'"
   ]
  },
  {
   "cell_type": "code",
   "execution_count": 32,
   "metadata": {},
   "outputs": [],
   "source": [
    "dict1, dict2 = exp_compare('636a8483-5c2a-472d-a64c-d309b17088bf', '6d78aede-c53c-41ff-8471-942312f26562')"
   ]
  },
  {
   "cell_type": "code",
   "execution_count": 33,
   "metadata": {
    "tags": []
   },
   "outputs": [
    {
     "name": "stdout",
     "output_type": "stream",
     "text": [
      "Key '0' has the same values for items (2, 3) in both dictionaries.\n",
      "Key '1' has the same values for items (2, 3) in both dictionaries.\n",
      "Key '2' has the same values for items (2, 3) in both dictionaries.\n",
      "Key '3' has the same values for items (2, 3) in both dictionaries.\n",
      "Key '4' has the same values for items (2, 3) in both dictionaries.\n",
      "Key '5' has the same values for items (2, 3) in both dictionaries.\n",
      "Key '6' has the same values for items (2, 3) in both dictionaries.\n",
      "Key '7' has the same values for items (2, 3) in both dictionaries.\n",
      "Key '8' has the same values for items (2, 3) in both dictionaries.\n",
      "Key '9' has the same values for items (2, 3) in both dictionaries.\n",
      "Key '10' has the same values for items (2, 3) in both dictionaries.\n",
      "Key '11' has the same values for items (2, 3) in both dictionaries.\n",
      "Key '12' has the same values for items (2, 3) in both dictionaries.\n",
      "Key '13' has the same values for items (2, 3) in both dictionaries.\n",
      "Key '14' has the same values for items (2, 3) in both dictionaries.\n",
      "Key '15' has the same values for items (2, 3) in both dictionaries.\n",
      "Key '16' has the same values for items (2, 3) in both dictionaries.\n",
      "Key '17' has the same values for items (2, 3) in both dictionaries.\n",
      "Key '18' has the same values for items (2, 3) in both dictionaries.\n",
      "Key '19' has the same values for items (2, 3) in both dictionaries.\n",
      "Key '20' has the same values for items (2, 3) in both dictionaries.\n",
      "Key '21' has the same values for items (2, 3) in both dictionaries.\n",
      "Key '22' has the same values for items (2, 3) in both dictionaries.\n",
      "Key '23' has the same values for items (2, 3) in both dictionaries.\n",
      "Key '24' has the same values for items (2, 3) in both dictionaries.\n",
      "Key '25' has the same values for items (2, 3) in both dictionaries.\n",
      "Key '26' has the same values for items (2, 3) in both dictionaries.\n",
      "Key '27' has the same values for items (2, 3) in both dictionaries.\n",
      "Key '28' has the same values for items (2, 3) in both dictionaries.\n",
      "Key '29' has the same values for items (2, 3) in both dictionaries.\n",
      "Key '30' has the same values for items (2, 3) in both dictionaries.\n",
      "Key '31' has the same values for items (2, 3) in both dictionaries.\n",
      "Key '32' has the same values for items (2, 3) in both dictionaries.\n",
      "Key '33' has the same values for items (2, 3) in both dictionaries.\n",
      "Key '34' has the same values for items (2, 3) in both dictionaries.\n",
      "Key '35' has the same values for items (2, 3) in both dictionaries.\n",
      "Key '36' has the same values for items (2, 3) in both dictionaries.\n"
     ]
    }
   ],
   "source": [
    "\n",
    "\n"
   ]
  },
  {
   "cell_type": "code",
   "execution_count": 13,
   "metadata": {
    "tags": []
   },
   "outputs": [],
   "source": [
    "def store_operations(trial, ops_dict):\n",
    "    import shelve\n",
    "\n",
    "    # Store the dictionary in a shelve file\n",
    "    with shelve.open('ops') as shelf:\n",
    "        shelf[trial] = ops_dict\n",
    "        print(\"Dictionary stored in shelve.\")"
   ]
  },
  {
   "cell_type": "code",
   "execution_count": 47,
   "metadata": {},
   "outputs": [
    {
     "data": {
      "text/plain": [
       "('746.133485483', '1613', \"now_variable('random_seed', 321654)\", '321654')"
      ]
     },
     "execution_count": 47,
     "metadata": {},
     "output_type": "execute_result"
    }
   ],
   "source": [
    "import shelve\n",
    "\n",
    "shelf = shelve.open('ops')\n",
    "shelf[id_2][45]"
   ]
  },
  {
   "cell_type": "code",
   "execution_count": null,
   "metadata": {},
   "outputs": [],
   "source": []
  }
 ],
 "metadata": {
  "kernelspec": {
   "display_name": "noWorkflow 3",
   "language": "python",
   "name": "noworkflow3"
  },
  "language_info": {
   "codemirror_mode": {
    "name": "ipython",
    "version": 3
   },
   "file_extension": ".py",
   "mimetype": "text/x-python",
   "name": "python",
   "nbconvert_exporter": "python",
   "pygments_lexer": "ipython3",
   "version": "3.7.16"
  },
  "vscode": {
   "interpreter": {
    "hash": "fd46906d0be51105938edee03e9704979453c4958d5b4d09c310e6ecda521c36"
   }
  }
 },
 "nbformat": 4,
 "nbformat_minor": 4
}
