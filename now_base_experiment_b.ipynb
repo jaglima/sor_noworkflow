{
 "cells": [
  {
   "cell_type": "markdown",
   "metadata": {
    "tags": []
   },
   "source": [
    "#### Summer of Reproducibility - noWorkflow base experiment\n",
    "\n",
    "This notebook implements an experimental setup modeling a Credit Fraud problem."
   ]
  },
  {
   "cell_type": "code",
   "execution_count": 24,
   "metadata": {
    "tags": []
   },
   "outputs": [],
   "source": [
    "from sklearn.decomposition import PCA\n",
    "from sklearn.metrics import roc_auc_score, f1_score\n",
    "from sklearn.ensemble import RandomForestClassifier\n",
    "from imblearn.under_sampling import RandomUnderSampler\n",
    "from sklearn.model_selection import train_test_split\n",
    "import pandas as pd\n",
    "import xgboost as xgb\n",
    "import lightgbm as lgb\n",
    "import catboost as cat\n",
    "\n",
    "from noworkflow.now.collection.prov_execution.execution import *"
   ]
  },
  {
   "cell_type": "markdown",
   "metadata": {},
   "source": [
    "#### Reading the dataset"
   ]
  },
  {
   "cell_type": "code",
   "execution_count": 25,
   "metadata": {},
   "outputs": [],
   "source": [
    "now_tag('dataset_reading')\n",
    "df = pd.read_csv('dataset/creditcard.csv', encoding='utf-8')"
   ]
  },
  {
   "cell_type": "markdown",
   "metadata": {},
   "source": [
    "### Feature engineering stage\n",
    "\n",
    "Separate the features and target variable. First step in feature treatment."
   ]
  },
  {
   "cell_type": "code",
   "execution_count": 26,
   "metadata": {},
   "outputs": [],
   "source": [
    "#now_tag('feature_eng')\n",
    "X = df.drop('Class', axis=1)\n",
    "y = df['Class']"
   ]
  },
  {
   "cell_type": "markdown",
   "metadata": {},
   "source": [
    "#### Feature engineering: Apply PCA for feature extraction.\n",
    "\n",
    "Here we define hyperparam_def tag given that n_components argument in PCA is required"
   ]
  },
  {
   "cell_type": "code",
   "execution_count": 27,
   "metadata": {},
   "outputs": [],
   "source": [
    "pca_components = now_variable('pca_components', 15)\n",
    "pca = PCA(n_components=pca_components)  # Adjust the number of components as needed\n",
    "X_pca = pca.fit_transform(X)"
   ]
  },
  {
   "cell_type": "markdown",
   "metadata": {},
   "source": [
    "#### Feature engineering: Apply random undersampling over the extracted features\n",
    "\n",
    "Another case of feature engineering operation with hyperparameter definition. Here is random_state value for RandmUnderSampler\n"
   ]
  },
  {
   "cell_type": "code",
   "execution_count": 28,
   "metadata": {
    "tags": []
   },
   "outputs": [],
   "source": [
    "random_seed = now_variable('random_seed', 321654)\n",
    "rus = RandomUnderSampler(random_state=random_seed)\n",
    "X_resampled, y_resampled = rus.fit_resample(X_pca, y)"
   ]
  },
  {
   "cell_type": "markdown",
   "metadata": {
    "tags": []
   },
   "source": [
    "#### Feature engineering: Spliting dataset into train and test\n",
    "\n",
    "Here we have two hyperparameters assignments: the proportion of the test_size and the random_state. A guess here would be implement some logic to take all scalar values in hyperparam_def in cells. Not sure at the moment if there are any corner case where a hyperparameter could be vectorial or an object."
   ]
  },
  {
   "cell_type": "code",
   "execution_count": 29,
   "metadata": {},
   "outputs": [],
   "source": [
    "now_tag('feature_eng')\n",
    "test_dim = now_variable('test_dim', 0.3)\n",
    "X_train, X_test, y_train, y_test = train_test_split(X_resampled, y_resampled, test_size=test_dim, random_state=random_seed)"
   ]
  },
  {
   "cell_type": "markdown",
   "metadata": {},
   "source": [
    "#### Scoring: model training and transforming features into predictions\n",
    "##### RandomForest\n",
    "\n",
    "Train and evaluate Random Forest Classifier. Unsure now if adding a model_training tag would be redundant here. Scoring is enough at first sight."
   ]
  },
  {
   "cell_type": "code",
   "execution_count": 30,
   "metadata": {},
   "outputs": [
    {
     "data": {
      "text/plain": [
       "RandomForestClassifier()"
      ]
     },
     "execution_count": 30,
     "metadata": {},
     "output_type": "execute_result"
    }
   ],
   "source": [
    "#now_tag('scoring')\n",
    "now_tag('model_training')\n",
    "rf = RandomForestClassifier()\n",
    "rf.fit(X_train, y_train)"
   ]
  },
  {
   "cell_type": "markdown",
   "metadata": {
    "tags": []
   },
   "source": [
    "#### Evaluating: evaluating the performance of models\n",
    "##### RandomForest\n",
    "Computing performance metrics "
   ]
  },
  {
   "cell_type": "code",
   "execution_count": 31,
   "metadata": {
    "tags": []
   },
   "outputs": [
    {
     "name": "stdout",
     "output_type": "stream",
     "text": [
      "Random Forest - ROC = 0.928545, F1 = 0.927152\n"
     ]
    }
   ],
   "source": [
    "now_tag('evaluating')\n",
    "y_pred_rf = rf.predict(X_test)\n",
    "\n",
    "roc_rf = now_variable('roc_rf', roc_auc_score(y_test, y_pred_rf))\n",
    "#roc_rf = roc_auc_score(y_test, y_pred_rf)\n",
    "f1_rf = now_variable('f1_rf', f1_score(y_test, y_pred_rf))\n",
    "#f1_rf = f1_score(y_test, y_pred_rf)\n",
    "\n",
    "print(\"Random Forest - ROC = %f, F1 = %f\" % (roc_rf, f1_rf))"
   ]
  },
  {
   "cell_type": "markdown",
   "metadata": {
    "tags": []
   },
   "source": [
    "### Experiment comparision\n",
    "\n",
    "The steps are:\n",
    "1. calls get_pre for a given tagged variable and keeps the operations_dictionary output\n",
    "2. calls store operations() to store the dict into a shelve object with current trial_id key\n",
    "3. load the shelve object to retrieve other stored experiment as well the current one\n",
    "4. calls exp_compare passing two trial ids as argumens to make a comparision\n",
    "\n"
   ]
  },
  {
   "cell_type": "code",
   "execution_count": 32,
   "metadata": {
    "tags": []
   },
   "outputs": [],
   "source": [
    "ops_dict = get_pre('roc_rf')"
   ]
  },
  {
   "cell_type": "code",
   "execution_count": 34,
   "metadata": {
    "tags": []
   },
   "outputs": [
    {
     "name": "stdout",
     "output_type": "stream",
     "text": [
      "Dictionary stored in shelve.\n"
     ]
    }
   ],
   "source": [
    "id_1 = __noworkflow__.trial_id\n",
    "store_operations(id_1, ops_dict)"
   ]
  },
  {
   "cell_type": "code",
   "execution_count": 35,
   "metadata": {},
   "outputs": [],
   "source": [
    "import shelve\n",
    "shelf = shelve.open('ops')\n",
    "list_id = list(shelf.keys())\n",
    "list_id"
   ]
  },
  {
   "cell_type": "code",
   "execution_count": 40,
   "metadata": {},
   "outputs": [
    {
     "name": "stdout",
     "output_type": "stream",
     "text": [
      "Pipelines A and B differ in lenght\n",
      "Key '0': Values are equal\n",
      "Key '1': Values are equal\n",
      "Key '2': Values are equal\n",
      "Key '3': Values are equal\n",
      "Key '4': Values are equal\n",
      "Key '5': Values are equal\n",
      "Key '6': Values are different\n",
      "->>> ('random_seed', '42') ('random_seed', '321654')\n",
      "Key '7': Values are different\n",
      "->>> ('random_seed', '42') ('random_seed', '321654')\n",
      "Key '8': Values are different\n",
      "->>> (\"now_variable('random_seed', 42)\", '42') (\"now_variable('random_seed', 321654)\", '321654')\n",
      "Key '9': Values are different\n",
      "->>> ('test_dim', '0.2') ('test_dim', '0.3')\n",
      "Key '10': Values are different\n",
      "->>> ('test_dim', '0.2') ('test_dim', '0.3')\n",
      "Key '11': Values are different\n",
      "->>> (\"now_variable('test_dim', 0.2)\", '0.2') (\"now_variable('test_dim', 0.3)\", '0.3')\n",
      "Key '12': Values are equal\n",
      "Key '13': Values are equal\n",
      "Key '14': Values are equal\n",
      "Key '15': Values are equal\n",
      "Key '16': Values are equal\n",
      "Key '17': Values are equal\n",
      "Key '18': Values are equal\n",
      "Key '19': Values are equal\n",
      "Key '20': Values are equal\n",
      "Key '21': Values are equal\n",
      "Key '22': Values are equal\n",
      "Key '23': Values are equal\n",
      "Key '24': Values are equal\n",
      "Key '25': Values are equal\n",
      "Key '26': Values are different\n",
      "->>> ('pca_components', '5') ('pca_components', '15')\n",
      "Key '27': Values are different\n",
      "->>> ('pca_components', '5') ('pca_components', '15')\n",
      "Key '28': Values are different\n",
      "->>> (\"now_variable('pca_components', 5)\", '5') (\"now_variable('pca_components', 15)\", '15')\n",
      "Key '29': Values are equal\n",
      "Key '30': Values are equal\n",
      "Key '31': Values are equal\n",
      "Key '32': Values are equal\n",
      "Key '33': Values are equal\n",
      "Key '34': Values are equal\n",
      "Key '35': Values are equal\n",
      "Key '36': Values are equal\n",
      "Key '37': Values are equal\n",
      "Key '38': Values are equal\n",
      "Key '39': Values are equal\n",
      "Key '40': Values are equal\n",
      "Key '41': Values are equal\n",
      "Key '42': Values are equal\n",
      "Key '43': Values are different\n",
      "->>> ('random_seed', '42') ('random_seed', '321654')\n",
      "Key '44': Values are different\n",
      "->>> ('random_seed', '42') ('random_seed', '321654')\n",
      "Key '45': Values are different\n",
      "->>> (\"now_variable('random_seed', 42)\", '42') (\"now_variable('random_seed', 321654)\", '321654')\n",
      "Key '46': Values are different\n",
      "->>> ('test_dim', '0.2') ('test_dim', '0.3')\n",
      "Key '47': Values are different\n",
      "->>> ('test_dim', '0.2') ('test_dim', '0.3')\n",
      "Key '48': Values are different\n",
      "->>> (\"now_variable('test_dim', 0.2)\", '0.2') (\"now_variable('test_dim', 0.3)\", '0.3')\n",
      "Key '49': Values are equal\n",
      "Key '50': Values are equal\n",
      "Key '51': Values are equal\n",
      "Key '52': Values are equal\n",
      "Key '53': Values are equal\n",
      "Key '54': Values are equal\n",
      "Key '55': Values are equal\n",
      "Key '56': Values are equal\n",
      "Key '57': Values are equal\n",
      "Key '58': Values are equal\n",
      "Key '59': Values are equal\n",
      "Key '60': Values are equal\n",
      "Key '61': Values are equal\n",
      "Key '62': Values are equal\n",
      "Key '63': Values are different\n",
      "->>> ('pca_components', '5') ('pca_components', '15')\n",
      "Key '64': Values are different\n",
      "->>> ('pca_components', '5') ('pca_components', '15')\n",
      "Key '65': Values are different\n",
      "->>> (\"now_variable('pca_components', 5)\", '5') (\"now_variable('pca_components', 15)\", '15')\n",
      "Key '66': Values are equal\n",
      "Key '67': Values are equal\n",
      "Key '68': Values are equal\n",
      "Key '69': Values are equal\n",
      "Key '70': Values are equal\n",
      "Key '71': Values are equal\n",
      "Key '72': Values are equal\n",
      "Key '73': Values are equal\n"
     ]
    }
   ],
   "source": [
    "exp_compare(list_id[-1], list_id[0])"
   ]
  },
  {
   "cell_type": "code",
   "execution_count": null,
   "metadata": {},
   "outputs": [],
   "source": []
  }
 ],
 "metadata": {
  "kernelspec": {
   "display_name": "noWorkflow 3",
   "language": "python",
   "name": "noworkflow3"
  },
  "language_info": {
   "codemirror_mode": {
    "name": "ipython",
    "version": 3
   },
   "file_extension": ".py",
   "mimetype": "text/x-python",
   "name": "python",
   "nbconvert_exporter": "python",
   "pygments_lexer": "ipython3",
   "version": "3.7.16"
  },
  "vscode": {
   "interpreter": {
    "hash": "fd46906d0be51105938edee03e9704979453c4958d5b4d09c310e6ecda521c36"
   }
  }
 },
 "nbformat": 4,
 "nbformat_minor": 4
}
