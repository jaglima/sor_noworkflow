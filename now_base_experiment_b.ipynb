{
 "cells": [
  {
   "cell_type": "markdown",
   "metadata": {
    "tags": []
   },
   "source": [
    "#### Summer of Reproducibility - noWorkflow base experiment\n",
    "\n",
    "This notebook implements an experimental setup modeling a Credit Fraud problem."
   ]
  },
  {
   "cell_type": "code",
   "execution_count": 17,
   "metadata": {
    "tags": []
   },
   "outputs": [],
   "source": [
    "from sklearn.decomposition import PCA\n",
    "from sklearn.metrics import roc_auc_score, f1_score\n",
    "from sklearn.ensemble import RandomForestClassifier\n",
    "from imblearn.under_sampling import RandomUnderSampler\n",
    "from sklearn.model_selection import train_test_split\n",
    "import pandas as pd\n",
    "import xgboost as xgb\n",
    "import lightgbm as lgb\n",
    "import catboost as cat\n",
    "\n",
    "from noworkflow.now.collection.prov_execution.execution import *"
   ]
  },
  {
   "cell_type": "markdown",
   "metadata": {},
   "source": [
    "#### Reading the dataset"
   ]
  },
  {
   "cell_type": "code",
   "execution_count": 2,
   "metadata": {},
   "outputs": [],
   "source": [
    "now_tag('dataset_reading')\n",
    "df = pd.read_csv('dataset/creditcard.csv', encoding='utf-8')"
   ]
  },
  {
   "cell_type": "markdown",
   "metadata": {},
   "source": [
    "### Feature engineering stage\n",
    "\n",
    "Separate the features and target variable. First step in feature treatment."
   ]
  },
  {
   "cell_type": "code",
   "execution_count": 3,
   "metadata": {},
   "outputs": [],
   "source": [
    "#now_tag('feature_eng')\n",
    "X = df.drop('Class', axis=1)\n",
    "y = df['Class']"
   ]
  },
  {
   "cell_type": "markdown",
   "metadata": {},
   "source": [
    "#### Feature engineering: Apply PCA for feature extraction.\n",
    "\n",
    "Here we define hyperparam_def tag given that n_components argument in PCA is required"
   ]
  },
  {
   "cell_type": "code",
   "execution_count": 4,
   "metadata": {},
   "outputs": [],
   "source": [
    "pca_components = now_variable('pca_components', 15)\n",
    "pca = PCA(n_components=pca_components)  # Adjust the number of components as needed\n",
    "X_pca = pca.fit_transform(X)"
   ]
  },
  {
   "cell_type": "markdown",
   "metadata": {},
   "source": [
    "#### Feature engineering: Apply random undersampling over the extracted features\n",
    "\n",
    "Another case of feature engineering operation with hyperparameter definition. Here is random_state value for RandmUnderSampler\n"
   ]
  },
  {
   "cell_type": "code",
   "execution_count": 5,
   "metadata": {
    "tags": []
   },
   "outputs": [],
   "source": [
    "random_seed = now_variable('random_seed', 321654)\n",
    "rus = RandomUnderSampler(random_state=random_seed)\n",
    "X_resampled, y_resampled = rus.fit_resample(X_pca, y)"
   ]
  },
  {
   "cell_type": "markdown",
   "metadata": {
    "tags": []
   },
   "source": [
    "#### Feature engineering: Spliting dataset into train and test\n",
    "\n",
    "Here we have two hyperparameters assignments: the proportion of the test_size and the random_state. A guess here would be implement some logic to take all scalar values in hyperparam_def in cells. Not sure at the moment if there are any corner case where a hyperparameter could be vectorial or an object."
   ]
  },
  {
   "cell_type": "code",
   "execution_count": 6,
   "metadata": {},
   "outputs": [],
   "source": [
    "now_tag('feature_eng')\n",
    "test_dim = now_variable('test_dim', 0.3)\n",
    "X_train, X_test, y_train, y_test = train_test_split(X_resampled, y_resampled, test_size=test_dim, random_state=random_seed)"
   ]
  },
  {
   "cell_type": "markdown",
   "metadata": {},
   "source": [
    "#### Scoring: model training and transforming features into predictions\n",
    "##### RandomForest\n",
    "\n",
    "Train and evaluate Random Forest Classifier. Unsure now if adding a model_training tag would be redundant here. Scoring is enough at first sight."
   ]
  },
  {
   "cell_type": "code",
   "execution_count": 7,
   "metadata": {},
   "outputs": [
    {
     "data": {
      "text/plain": [
       "RandomForestClassifier()"
      ]
     },
     "execution_count": 7,
     "metadata": {},
     "output_type": "execute_result"
    }
   ],
   "source": [
    "#now_tag('scoring')\n",
    "now_tag('model_training')\n",
    "rf = RandomForestClassifier()\n",
    "rf.fit(X_train, y_train)"
   ]
  },
  {
   "cell_type": "markdown",
   "metadata": {
    "tags": []
   },
   "source": [
    "#### Evaluating: evaluating the performance of models\n",
    "##### RandomForest\n",
    "Computing performance metrics "
   ]
  },
  {
   "cell_type": "code",
   "execution_count": 8,
   "metadata": {
    "tags": []
   },
   "outputs": [
    {
     "name": "stdout",
     "output_type": "stream",
     "text": [
      "Random Forest - ROC = 0.944368, F1 = 0.944625\n"
     ]
    }
   ],
   "source": [
    "now_tag('evaluating')\n",
    "y_pred_rf = rf.predict(X_test)\n",
    "\n",
    "roc_rf = now_variable('roc_rf', roc_auc_score(y_test, y_pred_rf))\n",
    "#roc_rf = roc_auc_score(y_test, y_pred_rf)\n",
    "f1_rf = now_variable('f1_rf', f1_score(y_test, y_pred_rf))\n",
    "#f1_rf = f1_score(y_test, y_pred_rf)\n",
    "\n",
    "print(\"Random Forest - ROC = %f, F1 = %f\" % (roc_rf, f1_rf))"
   ]
  },
  {
   "cell_type": "code",
   "execution_count": 9,
   "metadata": {
    "tags": []
   },
   "outputs": [],
   "source": [
    "ops_dict = get_pre('roc_rf')"
   ]
  },
  {
   "cell_type": "code",
   "execution_count": 10,
   "metadata": {
    "tags": []
   },
   "outputs": [
    {
     "data": {
      "text/plain": [
       "'c48bfd78-3cbd-416f-b88c-bbb916c1447d'"
      ]
     },
     "execution_count": 10,
     "metadata": {},
     "output_type": "execute_result"
    }
   ],
   "source": [
    "__noworkflow__.trial_id"
   ]
  },
  {
   "cell_type": "code",
   "execution_count": 11,
   "metadata": {},
   "outputs": [],
   "source": [
    "def store_operations(trial, ops_dict):\n",
    "    import shelve\n",
    "\n",
    "    # Store the dictionary in a shelve file\n",
    "    with shelve.open('ops') as shelf:\n",
    "        shelf[trial] = ops_dict\n",
    "        print(\"Dictionary stored in shelve.\")"
   ]
  },
  {
   "cell_type": "code",
   "execution_count": 12,
   "metadata": {
    "tags": []
   },
   "outputs": [
    {
     "name": "stdout",
     "output_type": "stream",
     "text": [
      "Dictionary stored in shelve.\n"
     ]
    }
   ],
   "source": [
    "id_1 = __noworkflow__.trial_id\n",
    "store_operations(id_1, ops_dict)"
   ]
  },
  {
   "cell_type": "code",
   "execution_count": 13,
   "metadata": {},
   "outputs": [],
   "source": [
    "import shelve\n",
    "\n",
    "shelf = shelve.open('ops')\n",
    "list_id = list(shelf.keys())"
   ]
  },
  {
   "cell_type": "code",
   "execution_count": 14,
   "metadata": {
    "tags": []
   },
   "outputs": [
    {
     "data": {
      "text/plain": [
       "['7349f530-1ee3-4b37-a800-3852144c14e9',\n",
       " 'adb44336-9e4d-4db5-886b-9e3ac4072b42',\n",
       " '636a8483-5c2a-472d-a64c-d309b17088bf',\n",
       " 'c48bfd78-3cbd-416f-b88c-bbb916c1447d']"
      ]
     },
     "execution_count": 14,
     "metadata": {},
     "output_type": "execute_result"
    }
   ],
   "source": [
    "list_id\n",
    "\n"
   ]
  },
  {
   "cell_type": "code",
   "execution_count": 21,
   "metadata": {
    "tags": []
   },
   "outputs": [
    {
     "data": {
      "text/plain": [
       "'c48bfd78-3cbd-416f-b88c-bbb916c1447d'"
      ]
     },
     "execution_count": 21,
     "metadata": {},
     "output_type": "execute_result"
    }
   ],
   "source": [
    "list_id[3]"
   ]
  },
  {
   "cell_type": "code",
   "execution_count": 24,
   "metadata": {},
   "outputs": [
    {
     "name": "stdout",
     "output_type": "stream",
     "text": [
      "Pipelines A and B differ in length\n",
      "Key '0': Values at indices [2, 3] are equal.\n",
      "Key '1': Values at indices [2, 3] are equal.\n",
      "Key '2': Values at indices [2, 3] are equal.\n",
      "Key '3': Values at indices [2, 3] are equal.\n",
      "Key '4': Values at indices [2, 3] are equal.\n",
      "Key '5': Values at indices [2, 3] are equal.\n",
      "Key '6': Values at indices [2, 3] are different.\n",
      "Key '7': Values at indices [2, 3] are different.\n",
      "Key '8': Values at indices [2, 3] are different.\n",
      "Key '9': Values at indices [2, 3] are different.\n",
      "Key '10': Values at indices [2, 3] are different.\n",
      "Key '11': Values at indices [2, 3] are different.\n",
      "Key '12': Values at indices [2, 3] are equal.\n",
      "Key '13': Values at indices [2, 3] are equal.\n",
      "Key '14': Values at indices [2, 3] are equal.\n",
      "Key '15': Values at indices [2, 3] are equal.\n",
      "Key '16': Values at indices [2, 3] are equal.\n",
      "Key '17': Values at indices [2, 3] are equal.\n",
      "Key '18': Values at indices [2, 3] are equal.\n",
      "Key '19': Values at indices [2, 3] are equal.\n",
      "Key '20': Values at indices [2, 3] are equal.\n",
      "Key '21': Values at indices [2, 3] are equal.\n",
      "Key '22': Values at indices [2, 3] are equal.\n",
      "Key '23': Values at indices [2, 3] are equal.\n",
      "Key '24': Values at indices [2, 3] are equal.\n",
      "Key '25': Values at indices [2, 3] are equal.\n",
      "Key '26': Values at indices [2, 3] are equal.\n",
      "Key '27': Values at indices [2, 3] are equal.\n",
      "Key '28': Values at indices [2, 3] are equal.\n",
      "Key '29': Values at indices [2, 3] are equal.\n",
      "Key '30': Values at indices [2, 3] are equal.\n",
      "Key '31': Values at indices [2, 3] are equal.\n",
      "Key '32': Values at indices [2, 3] are equal.\n",
      "Key '33': Values at indices [2, 3] are equal.\n",
      "Key '34': Values at indices [2, 3] are equal.\n",
      "Key '35': Values at indices [2, 3] are equal.\n",
      "Key '36': Values at indices [2, 3] are equal.\n"
     ]
    }
   ],
   "source": [
    "exp_compare(list_id[3], list_id[0])"
   ]
  },
  {
   "cell_type": "code",
   "execution_count": null,
   "metadata": {},
   "outputs": [],
   "source": []
  }
 ],
 "metadata": {
  "kernelspec": {
   "display_name": "noWorkflow 3",
   "language": "python",
   "name": "noworkflow3"
  },
  "language_info": {
   "codemirror_mode": {
    "name": "ipython",
    "version": 3
   },
   "file_extension": ".py",
   "mimetype": "text/x-python",
   "name": "python",
   "nbconvert_exporter": "python",
   "pygments_lexer": "ipython3",
   "version": "3.7.16"
  },
  "vscode": {
   "interpreter": {
    "hash": "fd46906d0be51105938edee03e9704979453c4958d5b4d09c310e6ecda521c36"
   }
  }
 },
 "nbformat": 4,
 "nbformat_minor": 4
}
