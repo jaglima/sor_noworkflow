{
 "cells": [
  {
   "cell_type": "code",
   "execution_count": 1,
   "id": "c6f9c9e7-4d30-4fb0-bbaf-c35e114212ec",
   "metadata": {
    "tags": []
   },
   "outputs": [],
   "source": [
    "from noworkflow.now.persistence.models import Evaluation, Activation\n",
    "from noworkflow.now.models.dependency_querier import DependencyQuerier\n",
    "from noworkflow.now.models.dependency_querier.node_context import NodeContext\n",
    "from noworkflow.now.models.dependency_querier.querier_options import QuerierOptions\n",
    "from noworkflow.now.tagging.var_tagging import *\n",
    "from noworkflow.now.persistence.models import Trial\n",
    "from copy import copy\n",
    "\n",
    "import numpy as np\n",
    "from pprint import pprint"
   ]
  },
  {
   "cell_type": "code",
   "execution_count": 2,
   "id": "76477597-b64d-48c8-be27-a3c4344a1c00",
   "metadata": {},
   "outputs": [],
   "source": [
    "import numpy as np\n",
    "\n",
    "# Helper functions\n",
    "def get_activation(activation_id, trial_id = None):\n",
    "    if not trial_id:\n",
    "        trial_id =  __noworkflow__.trial_id\n",
    "    return Activation((trial_id, activation_id))\n",
    "\n",
    "def get_evaluation(evaluation_id, trial_id = None):\n",
    "    if not trial_id:\n",
    "        trial_id =  __noworkflow__.trial_id\n",
    "    return Evaluation((trial_id, evaluation_id))\n",
    "\n",
    "def get_act_evals(activation_id):\n",
    "    activation = get_activation(activation_id)\n",
    "    return activation.evaluations    \n",
    "\n",
    "def print_act_forward(activation_id=1):\n",
    "    activation = get_activation(activation_id)\n",
    "    \n",
    "    for i in list(activation.dependent_dependencies):\n",
    "        pprint.pprint(i.to_dict())\n",
    "        \n",
    "def print_act_backward(activation_id=1):\n",
    "    activation = get_activation(activation_id)\n",
    "    \n",
    "    for i in list(activation.dependency_dependencies):\n",
    "        pprint.pprint(i.to_dict())\n",
    "\n",
    "def print_act_evals(activation_id=1):\n",
    "    activation = get_activation(activation_id)\n",
    "\n",
    "    for item in activation.evaluations:\n",
    "        pprint.pprint(item.to_dict())"
   ]
  },
  {
   "cell_type": "markdown",
   "id": "e75b860a-76f6-4768-8080-db001d76119e",
   "metadata": {},
   "source": [
    "### Test case\n",
    "\n",
    "Here starts my (only) test case. The flow goes through cells defining module, mae and rmse, variable definitions, variable manipulation and _var_final_ being our target variable, being dependent of its previous cells.\n"
   ]
  },
  {
   "cell_type": "code",
   "execution_count": 3,
   "id": "b193369c-2ce3-4759-b7b5-41f4b320e97a",
   "metadata": {
    "tags": []
   },
   "outputs": [],
   "source": [
    "def module(num): \n",
    "    if num >= 0:\n",
    "        return int(num)\n",
    "    else:\n",
    "        return int(-1*num)\n",
    "\n",
    "def mae(x, y):\n",
    "    return np.mean(np.abs((x - y)))\n",
    "\n",
    "def rmse(x, y):\n",
    "    return np.sqrt(np.mean((x - y)**2))\n",
    "\n",
    "def stress_func(m, n):\n",
    "    temp = m * n\n",
    "    x = 10\n",
    "    y = 100\n",
    "    \n",
    "    temp = np.random.rand()*temp\n",
    "    \n",
    "    final = np.max([int(x+y), int(temp)])\n",
    "    \n",
    "    return final"
   ]
  },
  {
   "cell_type": "code",
   "execution_count": 4,
   "id": "dad4d3bc-e662-4cad-873d-e040cfe25354",
   "metadata": {
    "tags": []
   },
   "outputs": [],
   "source": [
    "var_a = 10"
   ]
  },
  {
   "cell_type": "code",
   "execution_count": 24,
   "id": "1bb71226-764c-454d-bfdd-260ad0432c6b",
   "metadata": {},
   "outputs": [],
   "source": [
    "var_b = 0"
   ]
  },
  {
   "cell_type": "code",
   "execution_count": 23,
   "id": "8c326993-1bf2-4223-8e9c-11e48a915cf8",
   "metadata": {},
   "outputs": [],
   "source": [
    "x = 3665\n",
    "y = 30"
   ]
  },
  {
   "cell_type": "code",
   "execution_count": 7,
   "id": "127ead7e-028a-4cd4-bf44-20c541f0ad7d",
   "metadata": {},
   "outputs": [],
   "source": [
    "rme_err = mae(var_a, var_b)"
   ]
  },
  {
   "cell_type": "code",
   "execution_count": 8,
   "id": "93ea2f3f-32d6-4d40-a9b3-f2f8e2d557b0",
   "metadata": {
    "tags": []
   },
   "outputs": [],
   "source": [
    "var_c = stress_func(x, y)"
   ]
  },
  {
   "cell_type": "code",
   "execution_count": 20,
   "id": "18ec6985-1fb5-40c1-8a12-51d0fbb4c14f",
   "metadata": {
    "tags": []
   },
   "outputs": [],
   "source": [
    "var_d = var_c * 423\n",
    "var_c = var_d / 3"
   ]
  },
  {
   "cell_type": "code",
   "execution_count": 21,
   "id": "32345dcf-fa1b-4d2e-b742-49204e1ddcf0",
   "metadata": {
    "tags": []
   },
   "outputs": [],
   "source": [
    "var_e = mae(var_c, var_b)\n",
    "x = var_e + 10"
   ]
  },
  {
   "cell_type": "code",
   "execution_count": 25,
   "id": "d18aa5aa-5b91-4295-9b79-1fbf55d3d561",
   "metadata": {
    "tags": []
   },
   "outputs": [
    {
     "name": "stdout",
     "output_type": "stream",
     "text": [
      "Evaluation(id=330, checkpoint=51.373983231, code_component_id=766, activation_id=324, repr=75423063.00000001)\n"
     ]
    }
   ],
   "source": [
    "#k = module(rmse_err)\n",
    "var_final = now_variable('var_final', rmse(var_c, x))"
   ]
  },
  {
   "cell_type": "code",
   "execution_count": 12,
   "id": "5ffdeb0c-be79-475c-9b26-9487aa638608",
   "metadata": {
    "tags": []
   },
   "outputs": [],
   "source": [
    "evals = get_evaluation(135)"
   ]
  },
  {
   "cell_type": "code",
   "execution_count": 19,
   "id": "755eff6b-c228-4820-9219-a33eeaf0e470",
   "metadata": {
    "tags": []
   },
   "outputs": [
    {
     "data": {
      "text/plain": [
       "[evaluation(43937cee-226d-4a2a-a1ab-b0577d162b9a, 150, 3.7762716350000005, 498, 128, '110.0', 148).]"
      ]
     },
     "execution_count": 19,
     "metadata": {},
     "output_type": "execute_result"
    }
   ],
   "source": [
    "evals"
   ]
  },
  {
   "cell_type": "markdown",
   "id": "407023ba-f72a-4a78-9d2c-4bf8498b93dc",
   "metadata": {},
   "source": [
    "### New functions test"
   ]
  },
  {
   "cell_type": "code",
   "execution_count": 32,
   "id": "2c224736-f997-4ed6-a092-5b256cc346bf",
   "metadata": {
    "tags": []
   },
   "outputs": [],
   "source": [
    "from noworkflow.now.persistence.models.base import proxy_gen\n",
    "from noworkflow.now.persistence import relational \n",
    "from noworkflow.now.persistence.models import Evaluation as EvaluationM, CodeComponent\n",
    "\n",
    "def global_history(self):\n",
    "    # create an enumerated dictionary        \n",
    "    dep_dict = {i[0] : i[1] for i in reversed(list(enumerate(self.dep_list)))}\n",
    "\n",
    "    return dep_dict\n",
    "\n",
    "evals = list(proxy_gen(relational\n",
    "                       .session\n",
    "                       .query(EvaluationM.m)\n",
    "                       .join(CodeComponent.m, ((EvaluationM.m.trial_id == CodeComponent.m.trial_id) & (EvaluationM.m.code_component_id == CodeComponent.m.id)))\n",
    "                       .filter((CodeComponent.m.name == 'var_final') & (CodeComponent.m.trial_id == __noworkflow__.trial_id))))"
   ]
  },
  {
   "cell_type": "code",
   "execution_count": 33,
   "id": "96ff02a0-dc00-4675-b3f4-d07b3c40d19c",
   "metadata": {
    "tags": []
   },
   "outputs": [
    {
     "data": {
      "text/plain": [
       "[evaluation(43937cee-226d-4a2a-a1ab-b0577d162b9a, 150, 3.7762716350000005, 498, 128, '110.0', 148).,\n",
       " evaluation(43937cee-226d-4a2a-a1ab-b0577d162b9a, 315, 41.8789043, 728, 294, '110.0', 313).,\n",
       " evaluation(43937cee-226d-4a2a-a1ab-b0577d162b9a, 345, 51.374186746, 759, 324, '75423063.00000001', 343).]"
      ]
     },
     "execution_count": 33,
     "metadata": {},
     "output_type": "execute_result"
    }
   ],
   "source": [
    "evals"
   ]
  },
  {
   "cell_type": "code",
   "execution_count": 28,
   "id": "8417bf7f-9552-4896-8729-b71ac91f55f8",
   "metadata": {
    "tags": []
   },
   "outputs": [],
   "source": [
    "nbOptions = NotebookQuerierOptions(level = True)\n",
    "querier = DependencyQuerier(options=nbOptions)\n",
    "nodes_to_visit, visited, found = querier.navigate_dependencies(evals)"
   ]
  },
  {
   "cell_type": "code",
   "execution_count": 29,
   "id": "147f9ad0-12a1-4b5f-8e07-82bab8219663",
   "metadata": {
    "tags": []
   },
   "outputs": [
    {
     "data": {
      "text/plain": [
       "495"
      ]
     },
     "execution_count": 29,
     "metadata": {},
     "output_type": "execute_result"
    }
   ],
   "source": [
    "len(visited)"
   ]
  },
  {
   "cell_type": "code",
   "execution_count": 30,
   "id": "65bf83bb-f8ba-4d6f-9298-ea395c50f32d",
   "metadata": {},
   "outputs": [],
   "source": [
    "a = nbOptions.global_history()"
   ]
  },
  {
   "cell_type": "code",
   "execution_count": 31,
   "id": "0ad481d1-0751-477a-9b36-286c272e6f46",
   "metadata": {
    "tags": []
   },
   "outputs": [
    {
     "data": {
      "text/plain": [
       "{90: (\"'var_final'\", \"'var_final'\"),\n",
       " 89: ('2', '2'),\n",
       " 88: ('mae(var_c, var_b)', '535041.3333333334'),\n",
       " 87: ('var_e', '535041.3333333334'),\n",
       " 86: ('var_e', '535041.3333333334'),\n",
       " 85: ('10', '10'),\n",
       " 84: ('x', '535051.3333333334'),\n",
       " 83: ('rmse(var_c, x)', '110.0'),\n",
       " 82: (\"now_variable('var_final', rmse(var_c, x))\", '110.0'),\n",
       " 81: ('var_final', '110.0'),\n",
       " 80: (\"'var_final'\", \"'var_final'\"),\n",
       " 79: ('2', '2'),\n",
       " 78: ('100', '100'),\n",
       " 77: ('var_b', '-100'),\n",
       " 76: ('mae(var_c, var_b)', '75426828.00000001'),\n",
       " 75: ('var_e', '75426828.00000001'),\n",
       " 74: ('var_e', '75426828.00000001'),\n",
       " 73: ('10', '10'),\n",
       " 72: ('x', '75426838.00000001'),\n",
       " 71: ('rmse(var_c, x)', '110.0'),\n",
       " 70: (\"now_variable('var_final', rmse(var_c, x))\", '110.0'),\n",
       " 69: ('var_final', '110.0'),\n",
       " 68: (\"'var_final'\", \"'var_final'\"),\n",
       " 67: ('2', '2'),\n",
       " 66: ('10', '10'),\n",
       " 65: ('x', '10'),\n",
       " 64: ('100', '100'),\n",
       " 63: ('y', '100'),\n",
       " 62: ('int(x+y)', '110'),\n",
       " 61: ('temp', '1500'),\n",
       " 60: ('temp', '1187.3611192664782'),\n",
       " 59: ('int(temp)', '1187'),\n",
       " 58: ('[int(x+y), int(temp)]', '[110, 1187]'),\n",
       " 57: ('[int(x+y), int(temp)]', '[110, 1187]'),\n",
       " 56: ('final', '1187'),\n",
       " 55: ('final', '1187'),\n",
       " 54: ('50', '50'),\n",
       " 53: ('x', '50'),\n",
       " 52: ('30', '30'),\n",
       " 51: ('y', '30'),\n",
       " 50: ('stress_func(x, y)', '1187'),\n",
       " 49: ('var_c', '1187'),\n",
       " 48: ('var_c', '1187'),\n",
       " 47: ('1352', '1352'),\n",
       " 46: ('var_d', '1604824'),\n",
       " 45: ('3', '3'),\n",
       " 44: ('var_c', '534941.3333333334'),\n",
       " 43: ('423', '423'),\n",
       " 42: ('var_d', '226280184.00000003'),\n",
       " 41: ('3', '3'),\n",
       " 40: ('var_c', '75426728.00000001'),\n",
       " 39: ('3665', '3665'),\n",
       " 38: ('x', '3665'),\n",
       " 37: ('rmse(var_c, x)', '75423063.00000001'),\n",
       " 36: (\"now_variable('var_final', rmse(var_c, x))\", '75423063.00000001'),\n",
       " 35: ('var_final', '75423063.00000001'),\n",
       " 34: (\"'var_final'\", \"'var_final'\"),\n",
       " 33: ('2', '2'),\n",
       " 32: ('10', '10'),\n",
       " 31: ('x', '10'),\n",
       " 30: ('100', '100'),\n",
       " 29: ('y', '100'),\n",
       " 28: ('int(x+y)', '110'),\n",
       " 27: ('temp', '1500'),\n",
       " 26: ('temp', '1187.3611192664782'),\n",
       " 25: ('int(temp)', '1187'),\n",
       " 24: ('[int(x+y), int(temp)]', '[110, 1187]'),\n",
       " 23: ('[int(x+y), int(temp)]', '[110, 1187]'),\n",
       " 22: ('final', '1187'),\n",
       " 21: ('final', '1187'),\n",
       " 20: ('50', '50'),\n",
       " 19: ('x', '50'),\n",
       " 18: ('30', '30'),\n",
       " 17: ('y', '30'),\n",
       " 16: ('stress_func(x, y)', '1187'),\n",
       " 15: ('var_c', '1187'),\n",
       " 14: ('var_c', '1187'),\n",
       " 13: ('1352', '1352'),\n",
       " 12: ('var_d', '1604824'),\n",
       " 11: ('3', '3'),\n",
       " 10: ('var_c', '534941.3333333334'),\n",
       " 9: ('100', '100'),\n",
       " 8: ('var_b', '-100'),\n",
       " 7: ('mae(var_c, var_b)', '535041.3333333334'),\n",
       " 6: ('var_e', '535041.3333333334'),\n",
       " 5: ('var_e', '535041.3333333334'),\n",
       " 4: ('10', '10'),\n",
       " 3: ('x', '535051.3333333334'),\n",
       " 2: ('rmse(var_c, x)', '110.0'),\n",
       " 1: (\"now_variable('var_final', rmse(var_c, x))\", '110.0'),\n",
       " 0: ('var_final', '110.0')}"
      ]
     },
     "execution_count": 31,
     "metadata": {},
     "output_type": "execute_result"
    }
   ],
   "source": [
    "a"
   ]
  },
  {
   "cell_type": "code",
   "execution_count": null,
   "id": "5f000dfa-c442-4554-af65-8738a557dab7",
   "metadata": {},
   "outputs": [],
   "source": []
  }
 ],
 "metadata": {
  "kernelspec": {
   "display_name": "noWorkflow 3",
   "language": "python",
   "name": "noworkflow3"
  },
  "language_info": {
   "codemirror_mode": {
    "name": "ipython",
    "version": 3
   },
   "file_extension": ".py",
   "mimetype": "text/x-python",
   "name": "python",
   "nbconvert_exporter": "python",
   "pygments_lexer": "ipython3",
   "version": "3.7.16"
  }
 },
 "nbformat": 4,
 "nbformat_minor": 5
}
