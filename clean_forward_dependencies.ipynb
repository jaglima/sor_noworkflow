{
 "cells": [
  {
   "cell_type": "code",
   "execution_count": 1,
   "id": "c6f9c9e7-4d30-4fb0-bbaf-c35e114212ec",
   "metadata": {
    "tags": []
   },
   "outputs": [],
   "source": [
    "from copy import copy\n",
    "from noworkflow.now.persistence.models import Evaluation, Activation\n",
    "from noworkflow.now.collection.prov_execution.execution import NotebookQuerierOptions\n",
    "from noworkflow.now.models.dependency_querier import DependencyQuerier\n",
    "from noworkflow.now.models.dependency_querier.node_context import NodeContext\n",
    "from noworkflow.now.models.dependency_querier import QuerierOptions\n",
    "\n",
    "\n",
    "import numpy as np\n",
    "#import ipdb"
   ]
  },
  {
   "cell_type": "code",
   "execution_count": 2,
   "id": "fe3c0423-2f37-4660-82f4-c40d99de4c97",
   "metadata": {
    "tags": []
   },
   "outputs": [],
   "source": [
    "import numpy as np\n",
    "\n",
    "# Helper functions\n",
    "def get_activation(activation_id, trial_id = None):\n",
    "    if not trial_id:\n",
    "        trial_id =  __noworkflow__.trial_id\n",
    "    return Activation((trial_id, activation_id))\n",
    "\n",
    "def get_evaluation(evaluation_id, trial_id = None):\n",
    "    if not trial_id:\n",
    "        trial_id =  __noworkflow__.trial_id\n",
    "    return Evaluation((trial_id, evaluation_id))\n",
    "\n",
    "def print_act_evals(activation_id=1):\n",
    "    activation = get_activation(activation_id)\n",
    "\n",
    "    for item in activation.evaluations:\n",
    "        pprint.pprint(item.to_dict())\n"
   ]
  },
  {
   "cell_type": "markdown",
   "id": "31399780-c45e-497a-8269-bd7b40a696ed",
   "metadata": {
    "tags": []
   },
   "source": [
    "# Teste"
   ]
  },
  {
   "cell_type": "code",
   "execution_count": 3,
   "id": "641d9563-2bda-4842-877c-d4afe0bf64ec",
   "metadata": {
    "tags": []
   },
   "outputs": [
    {
     "name": "stdout",
     "output_type": "stream",
     "text": [
      "Evaluation(id=20, checkpoint=4.629562253, code_component_id=247, activation_id=14, repr=1)\n"
     ]
    }
   ],
   "source": [
    "x = 1\n",
    "y = now_variable('y', x)"
   ]
  },
  {
   "cell_type": "code",
   "execution_count": 4,
   "id": "70de6b37-79f2-44f2-9b9f-e73e9e198523",
   "metadata": {
    "tags": []
   },
   "outputs": [],
   "source": [
    "q = 100"
   ]
  },
  {
   "cell_type": "code",
   "execution_count": 5,
   "id": "e07974f0-4131-4750-9a6a-22018d446440",
   "metadata": {
    "tags": []
   },
   "outputs": [],
   "source": [
    "z = y + q"
   ]
  },
  {
   "cell_type": "code",
   "execution_count": 6,
   "id": "320f4826-f6f4-4e82-a049-f5018d999919",
   "metadata": {
    "tags": []
   },
   "outputs": [
    {
     "name": "stdout",
     "output_type": "stream",
     "text": [
      "Evaluation(id=34, checkpoint=4.813965184000001, code_component_id=272, activation_id=31, repr=101)\n"
     ]
    }
   ],
   "source": [
    "w = now_variable('w', z)"
   ]
  },
  {
   "cell_type": "code",
   "execution_count": 7,
   "id": "a203bc44-89e2-48a9-a4a9-0185e0a858df",
   "metadata": {
    "tags": []
   },
   "outputs": [],
   "source": [
    "eval_y = get_evaluation(20)"
   ]
  },
  {
   "cell_type": "code",
   "execution_count": 9,
   "id": "9cf8ca47-508a-4e97-8a03-e93809fb2b59",
   "metadata": {
    "tags": []
   },
   "outputs": [],
   "source": [
    "eval_w = get_evaluation(34)"
   ]
  },
  {
   "cell_type": "code",
   "execution_count": 10,
   "id": "1c3ea90f-767b-4f7e-9bd8-1c204fe590f1",
   "metadata": {
    "tags": []
   },
   "outputs": [
    {
     "data": {
      "text/plain": [
       "[dependency(98e2f930-79b7-4c31-ab24-3fdddacd79e3, 31, 34, 26, 30, 'assignment', 1, nil, nil, nil).]"
      ]
     },
     "execution_count": 10,
     "metadata": {},
     "output_type": "execute_result"
    }
   ],
   "source": [
    "list(eval_w.dependencies_as_dependent)"
   ]
  },
  {
   "cell_type": "code",
   "execution_count": 11,
   "id": "8c8fac66-94cf-4e0a-a20d-af6dd363e8a6",
   "metadata": {
    "tags": []
   },
   "outputs": [
    {
     "data": {
      "text/plain": [
       "[dependency(98e2f930-79b7-4c31-ab24-3fdddacd79e3, 31, 35, 31, 34, 'argument', 1, nil, nil, nil).,\n",
       " dependency(98e2f930-79b7-4c31-ab24-3fdddacd79e3, 31, 35, 31, 34, 'dependency', 1, nil, nil, nil).]"
      ]
     },
     "execution_count": 11,
     "metadata": {},
     "output_type": "execute_result"
    }
   ],
   "source": [
    "list(eval_w.dependencies_as_dependency)"
   ]
  },
  {
   "cell_type": "markdown",
   "id": "43567dd3-d7f1-43da-80b8-eb3b41ac20d3",
   "metadata": {},
   "source": [
    "### Investigating deps"
   ]
  },
  {
   "cell_type": "code",
   "execution_count": 12,
   "id": "492a91bd-9a83-4cca-a98b-556cd7b2f949",
   "metadata": {
    "tags": []
   },
   "outputs": [
    {
     "name": "stdout",
     "output_type": "stream",
     "text": [
      "code_component(98e2f930-79b7-4c31-ab24-3fdddacd79e3, 241, 'now_variable(''y'', x)', 'call', 'r', 2, 4, 2, 24, 233).\n",
      "code_component(98e2f930-79b7-4c31-ab24-3fdddacd79e3, 241, 'now_variable(''y'', x)', 'call', 'r', 2, 4, 2, 24, 233).\n"
     ]
    }
   ],
   "source": [
    "for i in list(eval_y.dependencies_as_dependency):\n",
    "    print(i.dependent.code_component)"
   ]
  },
  {
   "cell_type": "code",
   "execution_count": 13,
   "id": "8cdc9529-666f-43b3-ae70-24b76745f14d",
   "metadata": {
    "tags": []
   },
   "outputs": [],
   "source": [
    "qops = QuerierOptions()\n",
    "nbqops = NotebookQuerierOptions(level=True)\n",
    "for evaluation in [eval_y]:\n",
    "    context = NodeContext(evaluation, None, options=nbqops)"
   ]
  },
  {
   "cell_type": "code",
   "execution_count": 14,
   "id": "ecc9cd64-20c5-4328-883c-8022cd74234f",
   "metadata": {
    "tags": []
   },
   "outputs": [
    {
     "name": "stdout",
     "output_type": "stream",
     "text": [
      "code_component(98e2f930-79b7-4c31-ab24-3fdddacd79e3, 236, 'x', 'name', 'w', 1, 0, 1, 1, 233).\n",
      "code_component(98e2f930-79b7-4c31-ab24-3fdddacd79e3, 232, '<class ''int''>', 'type', 'w', -1, -1, -1, -1, nil).\n"
     ]
    }
   ],
   "source": [
    "for i in context.dependencies_backward():\n",
    "    print(i.evaluation.code_component)"
   ]
  },
  {
   "cell_type": "code",
   "execution_count": 15,
   "id": "2f94f40c-2bd0-4b97-8c28-0c6c730a7c18",
   "metadata": {
    "tags": []
   },
   "outputs": [
    {
     "name": "stdout",
     "output_type": "stream",
     "text": [
      "code_component(98e2f930-79b7-4c31-ab24-3fdddacd79e3, 247, 'x', 'name', 'r', 2, 22, 2, 23, 233).\n",
      "code_component(98e2f930-79b7-4c31-ab24-3fdddacd79e3, 247, 'x', 'name', 'r', 2, 22, 2, 23, 233).\n",
      "code_component(98e2f930-79b7-4c31-ab24-3fdddacd79e3, 232, '<class ''int''>', 'type', 'w', -1, -1, -1, -1, nil).\n"
     ]
    }
   ],
   "source": [
    "for i in context.dependencies_forward():\n",
    "    print(i.evaluation.code_component)"
   ]
  },
  {
   "cell_type": "markdown",
   "id": "0f1f017e-f182-4521-8d11-25c2ec4a01d6",
   "metadata": {
    "tags": []
   },
   "source": [
    "#### Testing with querier"
   ]
  },
  {
   "cell_type": "code",
   "execution_count": 17,
   "id": "59548678-782f-4acf-8ff1-1475ad4298e9",
   "metadata": {
    "tags": []
   },
   "outputs": [
    {
     "name": "stdout",
     "output_type": "stream",
     "text": [
      "context code_component(98e2f930-79b7-4c31-ab24-3fdddacd79e3, 247, 'x', 'name', 'r', 2, 22, 2, 23, 233).\n",
      "nieghbor code_component(98e2f930-79b7-4c31-ab24-3fdddacd79e3, 232, '<class ''int''>', 'type', 'w', -1, -1, -1, -1, nil).\n",
      "context code_component(98e2f930-79b7-4c31-ab24-3fdddacd79e3, 232, '<class ''int''>', 'type', 'w', -1, -1, -1, -1, nil).\n",
      "nieghbor code_component(98e2f930-79b7-4c31-ab24-3fdddacd79e3, 120, '<class ''type''>', 'type', 'w', -1, -1, -1, -1, nil).\n"
     ]
    }
   ],
   "source": [
    "class NotebookQuerierOptions(QuerierOptions):\n",
    "    global body_function_def\n",
    "    dep_list = []\n",
    "    \n",
    "    \n",
    "    def __init__(self, level, *args, **kwargs):\n",
    "        QuerierOptions.__init__(self, *args, **kwargs) # change it to super when integrating in the main code\n",
    "        self.level = level\n",
    "    \n",
    "    def visit_arrow_forward(self, context, neighbor):\n",
    "        print('context', context.evaluation.code_component)\n",
    "        print('nieghbor', neighbor.evaluation.code_component)\n",
    "    \n",
    "    def visit_arrow_backward(self, context, neighbor):\n",
    "                \n",
    "        # keeping \n",
    "        if neighbor.evaluation.code_component.type == 'function_def':\n",
    "            body_function_def.append(int(neighbor.evaluation.code_component.id))\n",
    "       \n",
    "        arrow_list = ('argument', '<.__class__>', 'item')\n",
    "        type_list = ('add', 'literal', 'mult', 'div', 'param', 'sub', 'attribute', 'usub', 'function_def')\n",
    "        \n",
    "        context_code_comp = context.evaluation.code_component\n",
    "        neighbor_code_comp = neighbor.evaluation.code_component\n",
    "           \n",
    "        if neighbor.arrow not in arrow_list:\n",
    "            if context_code_comp.type not in type_list:\n",
    "                if neighbor_code_comp.type not in type_list:\n",
    "                    if not (neighbor.arrow == 'use' and context_code_comp.type == 'call'):\n",
    "                        if (neighbor_code_comp.container_id != None):\n",
    "                            if (neighbor_code_comp.container_id not in body_function_def) or self.level:\n",
    "                                self.dep_list.append((str(context.evaluation.checkpoint), str(context.evaluation.id), context_code_comp.name, context.evaluation.repr))\n",
    "\n",
    "    def public_print(self):\n",
    "        global dep_dict\n",
    "        \n",
    "        dep_dict = {i[0] : i[1] for i in enumerate(self.dep_list)}\n",
    "        return dep_dict\n",
    "        \n",
    "                                \n",
    "body_function_def = []\n",
    "dep_dict = {}\n",
    "\n",
    "nbOptions = NotebookQuerierOptions(level=False)\n",
    "querier = DependencyQuerier(options=nbOptions)\n",
    "nodes_to_visit, visited, found = querier.navigate_dependencies([eval_y])  "
   ]
  },
  {
   "cell_type": "code",
   "execution_count": null,
   "id": "ac957a96-319d-4181-b563-1721a42711ad",
   "metadata": {},
   "outputs": [],
   "source": []
  }
 ],
 "metadata": {
  "kernelspec": {
   "display_name": "noWorkflow 3",
   "language": "python",
   "name": "noworkflow3_old"
  },
  "language_info": {
   "codemirror_mode": {
    "name": "ipython",
    "version": 3
   },
   "file_extension": ".py",
   "mimetype": "text/x-python",
   "name": "python",
   "nbconvert_exporter": "python",
   "pygments_lexer": "ipython3",
   "version": "3.7.16"
  }
 },
 "nbformat": 4,
 "nbformat_minor": 5
}
