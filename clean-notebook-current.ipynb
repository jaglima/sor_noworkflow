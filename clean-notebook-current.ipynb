{
 "cells": [
  {
   "cell_type": "markdown",
   "id": "d7f4340d",
   "metadata": {
    "tags": []
   },
   "source": [
    "#### Summer of Reproducibility - noWorkflow experiment"
   ]
  },
  {
   "cell_type": "markdown",
   "id": "ea8f38a7",
   "metadata": {},
   "source": [
    "Read the dataset"
   ]
  },
  {
   "cell_type": "code",
   "execution_count": 2,
   "id": "c17ab3ad",
   "metadata": {},
   "outputs": [],
   "source": [
    "#now_tag('dataset_reading')\n",
    "df = pd.read_csv('dataset/creditcard.csv', encoding='utf-8')"
   ]
  },
  {
   "cell_type": "markdown",
   "id": "56a206e0",
   "metadata": {},
   "source": [
    "#### Separate the features and target variable"
   ]
  },
  {
   "cell_type": "code",
   "execution_count": 5,
   "id": "f7081419",
   "metadata": {},
   "outputs": [],
   "source": [
    "#now_tag('feature_eng')\n",
    "X = df.drop('Class', axis=1)\n",
    "y = df['Class']"
   ]
  },
  {
   "cell_type": "markdown",
   "id": "0a6bee54",
   "metadata": {},
   "source": [
    "#### Feature engineering: Apply random undersampling over the extracted features\n",
    "\n",
    "Another case of feature engineering operation with hyperparameter definition. Here is random_state value for RandmUnderSampler\n"
   ]
  },
  {
   "cell_type": "code",
   "execution_count": 6,
   "id": "a507c18d",
   "metadata": {},
   "outputs": [],
   "source": [
    "#now_tag('feature_eng')\n",
    "#now_tag('hyperparam_def')\n",
    "rus = RandomUnderSampler(random_state=42)\n",
    "X_resampled, y_resampled = rus.fit_resample(X, y)"
   ]
  },
  {
   "cell_type": "markdown",
   "id": "3381de40",
   "metadata": {},
   "source": [
    "#### Feature engineering: Apply PCA for feature extraction\n",
    "\n",
    "Here we define hyperparam_def tag given that n_components argument in PCA is required"
   ]
  },
  {
   "cell_type": "code",
   "execution_count": 7,
   "id": "f78a2741",
   "metadata": {},
   "outputs": [],
   "source": [
    "#now_tag('feature_eng')\n",
    "#now_tag('hyperparam_def')\n",
    "pca = PCA(n_components=5)  # Adjust the number of components as needed\n",
    "X_pca = pca.fit_transform(X_resampled)"
   ]
  },
  {
   "cell_type": "markdown",
   "id": "43d42955",
   "metadata": {
    "tags": []
   },
   "source": [
    "#### Feature engineering: Spliting dataset into train and test\n",
    "\n",
    "Here we have two hyperparameters assignments: the proportion of the test_size and the random_state. A guess here would be implement some logic to take all scalar values in hyperparam_def in cells. Not sure at the moment if there are any corner case where a hyperparameter could be vectorial or an object."
   ]
  },
  {
   "cell_type": "code",
   "execution_count": 8,
   "id": "c1dda8d6",
   "metadata": {},
   "outputs": [],
   "source": [
    "#now_tag('feature_eng')\n",
    "#now_tag('hyperparam_def')\n",
    "X_train, X_test, y_train, y_test = train_test_split(X_pca, y_resampled, test_size=0.2, random_state=42)"
   ]
  },
  {
   "cell_type": "markdown",
   "id": "b1a4017b",
   "metadata": {},
   "source": [
    "#### Scoring: model training and transforming features into predictions\n",
    "##### RandomForest\n",
    "\n",
    "Train and evaluate Random Forest Classifier. Unsure now if adding a model_training tag would be redundant here. Scoring is enough at first sight."
   ]
  },
  {
   "cell_type": "markdown",
   "id": "004b87ec",
   "metadata": {
    "tags": []
   },
   "source": [
    "#### Evaluating: evaluating the performance of models\n",
    "##### RandomForest\n",
    "Computing performance metrics "
   ]
  },
  {
   "cell_type": "markdown",
   "id": "77587f14",
   "metadata": {},
   "source": [
    "#### Scoring: model training and transforming features into predictions\n",
    "##### XGBoost"
   ]
  },
  {
   "cell_type": "markdown",
   "id": "2da02acb",
   "metadata": {
    "tags": []
   },
   "source": [
    "#### Evaluating: evaluating the performance of models\n",
    "##### XGBoost\n",
    "Computing performance metrics"
   ]
  },
  {
   "cell_type": "markdown",
   "id": "bae967cb",
   "metadata": {},
   "source": [
    "#### Scoring: model training and transforming features into predictions\n",
    "##### LightGBM"
   ]
  },
  {
   "cell_type": "markdown",
   "id": "cc9ea3ec",
   "metadata": {},
   "source": [
    "#### Evaluating: evaluating the performance of models\n",
    "##### LightGBM"
   ]
  },
  {
   "cell_type": "markdown",
   "id": "e570dcb7",
   "metadata": {},
   "source": [
    "#### Scoring: model training and transforming features into predictions\n",
    "##### CatBoost"
   ]
  },
  {
   "cell_type": "code",
   "execution_count": 9,
   "id": "df5ab60f",
   "metadata": {},
   "outputs": [],
   "source": [
    "#now_tag('scoring')\n",
    "#now_tag('model_training')\n",
    "catboost_model = cat.CatBoostClassifier(logging_level='Silent')\n",
    "catboost_model.fit(X_train, y_train)\n",
    "y_pred_cbt = catboost_model.predict(X_resampled)"
   ]
  },
  {
   "cell_type": "markdown",
   "id": "24ec480a",
   "metadata": {
    "tags": []
   },
   "source": [
    "#### Evaluating: evaluating the performance of models\n",
    "##### CatBoost"
   ]
  },
  {
   "cell_type": "code",
   "execution_count": 10,
   "id": "2c1c6f85",
   "metadata": {},
   "outputs": [],
   "source": [
    "#now_tag('evaluating')\n",
    "roc_cbt = roc_auc_score(y_resampled, y_pred_cbt)\n",
    "f1_cbt = f1_score(y_resampled, y_pred_cbt)\n",
    "\n",
    "print(\"CatBoost - ROC = %f, F1 = %f\" % (roc_cbt, f1_cbt))"
   ]
  }
 ],
 "metadata": {
  "kernelspec": {
   "display_name": "noWorkflow 3",
   "language": "python",
   "name": "noworkflow3_old"
  },
  "language_info": {
   "codemirror_mode": {
    "name": "ipython",
    "version": 3
   },
   "file_extension": ".py",
   "mimetype": "text/x-python",
   "name": "python",
   "nbconvert_exporter": "python",
   "pygments_lexer": "ipython3",
   "version": "3.7.16"
  }
 },
 "nbformat": 4,
 "nbformat_minor": 5
}
