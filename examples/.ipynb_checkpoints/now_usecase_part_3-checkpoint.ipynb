{
 "cells": [
  {
   "cell_type": "code",
   "execution_count": 1,
   "id": "74a1adeb-2936-43df-a1f5-4a3b4404aec1",
   "metadata": {
    "tags": []
   },
   "outputs": [],
   "source": [
    "from sklearn.decomposition import PCA\n",
    "from sklearn.metrics import roc_auc_score, f1_score\n",
    "from sklearn.ensemble import RandomForestClassifier\n",
    "from imblearn.under_sampling import RandomUnderSampler\n",
    "from sklearn.model_selection import train_test_split\n",
    "import pandas as pd\n",
    "import xgboost as xgb\n",
    "import lightgbm as lgb\n",
    "import catboost as cat\n",
    "\n",
    "from noworkflow.now.tagging.var_tagging import backward_deps, \\\n",
    "    global_backward_deps, store_operations, resume_trials, trial_diff, \\\n",
    "    trial_intersection_diff, var_tag_plot, var_tag_values"
   ]
  },
  {
   "cell_type": "markdown",
   "id": "e75b860a-76f6-4768-8080-db001d76119e",
   "metadata": {
    "tags": []
   },
   "source": [
    "### Test case\n",
    "\n",
    "Here starts a small test case. The workflow goes through cells defining *module*, *rmse* and a *stress_function* aiming to add some random behaviour in our test. The *var_final* is our target variable, being dependent of its previous cells.\n"
   ]
  },
  {
   "cell_type": "markdown",
   "id": "407023ba-f72a-4a78-9d2c-4bf8498b93dc",
   "metadata": {
    "tags": []
   },
   "source": [
    "### backward_deps example\n",
    "Here we recollect the backward dependencies liked with var_final tagged variable. Two options are available, with glanulatiry on and off."
   ]
  },
  {
   "cell_type": "code",
   "execution_count": 11,
   "id": "5f000dfa-c442-4554-af65-8738a557dab7",
   "metadata": {},
   "outputs": [
    {
     "data": {
      "text/plain": [
       "{9: ('k', '0.36950189099882447'),\n",
       " 8: ('m', '0.6734678463337703'),\n",
       " 7: ('stress_func(k, m)', '1.0'),\n",
       " 6: ('var_c', '1.0'),\n",
       " 5: ('var_b', '0.8614238562759864'),\n",
       " 4: ('mae(var_c, var_b)', '0.1385761437240136'),\n",
       " 3: ('var_e', '0.1385761437240136'),\n",
       " 2: ('rmse(var_c, var_e)', '0.8614238562759864'),\n",
       " 1: (\"now_variable('target_var', rmse(var_c, var_e))\", '0.8614238562759864'),\n",
       " 0: ('target_var', '0.8614238562759864')}"
      ]
     },
     "execution_count": 11,
     "metadata": {},
     "output_type": "execute_result"
    }
   ],
   "source": [
    "dict_ops = backward_deps('target_var', False)\n",
    "dict_ops"
   ]
  },
  {
   "cell_type": "markdown",
   "id": "b5c50b07-e1ad-466b-a955-58cbdcd105d7",
   "metadata": {
    "tags": []
   },
   "source": [
    "When the flag is set True, the content of functions steps are displayed."
   ]
  },
  {
   "cell_type": "markdown",
   "id": "cc5cde7e-b3ef-40f9-ba25-e77505d31762",
   "metadata": {
    "tags": []
   },
   "source": [
    "### resume_trials\n",
    "\n",
    "In order to support the management of experiments, the user can see the trial ids of all experiments stored in the ops.db available to comparision/analysis."
   ]
  },
  {
   "cell_type": "code",
   "execution_count": 2,
   "id": "ed828c52-1ebd-4efd-a55c-d838f03bc905",
   "metadata": {
    "tags": []
   },
   "outputs": [
    {
     "data": {
      "text/plain": [
       "['d17fbfb6-428c-466f-8734-44c3c399984d',\n",
       " 'ad1f4984-7470-476f-aa31-6cb6ca348ea0']"
      ]
     },
     "execution_count": 2,
     "metadata": {},
     "output_type": "execute_result"
    }
   ],
   "source": [
    "list_id = resume_trials()\n",
    "list_id"
   ]
  },
  {
   "cell_type": "markdown",
   "id": "70faddb2-216e-4a62-9d88-f9e4a6b236b2",
   "metadata": {
    "tags": []
   },
   "source": [
    "### trial_intesection_diff\n",
    "\n",
    "Two types of comparision are available now. This one refers to values returned from operations. Each variable or function call available in both experiments (intersection) have its values exhibited. \n",
    "\n",
    "There is a limitation in showing for complex values. Matrices and tensors cannot be properly displayed, so only an indication that is a complex type is indicated.\n",
    "\n",
    "Here we visually plot a diff table between two trials"
   ]
  },
  {
   "cell_type": "code",
   "execution_count": 3,
   "id": "e9323387-a4c6-4df5-86ff-a14149d01313",
   "metadata": {
    "tags": []
   },
   "outputs": [
    {
     "data": {
      "text/html": [
       "<div>\n",
       "<style scoped>\n",
       "    .dataframe tbody tr th:only-of-type {\n",
       "        vertical-align: middle;\n",
       "    }\n",
       "\n",
       "    .dataframe tbody tr th {\n",
       "        vertical-align: top;\n",
       "    }\n",
       "\n",
       "    .dataframe thead th {\n",
       "        text-align: right;\n",
       "    }\n",
       "</style>\n",
       "<table border=\"1\" class=\"dataframe\">\n",
       "  <thead>\n",
       "    <tr style=\"text-align: right;\">\n",
       "      <th></th>\n",
       "      <th>key</th>\n",
       "      <th>9984d</th>\n",
       "      <th>48ea0</th>\n",
       "    </tr>\n",
       "  </thead>\n",
       "  <tbody>\n",
       "    <tr>\n",
       "      <th>0</th>\n",
       "      <td>rf</td>\n",
       "      <td>complex data type</td>\n",
       "      <td>complex data type</td>\n",
       "    </tr>\n",
       "    <tr>\n",
       "      <th>1</th>\n",
       "      <td>pca</td>\n",
       "      <td>PCA(n_components=3)</td>\n",
       "      <td>PCA(n_components=5)</td>\n",
       "    </tr>\n",
       "    <tr>\n",
       "      <th>2</th>\n",
       "      <td>RandomForestClassifier()</td>\n",
       "      <td>complex data type</td>\n",
       "      <td>complex data type</td>\n",
       "    </tr>\n",
       "    <tr>\n",
       "      <th>3</th>\n",
       "      <td>test_dim</td>\n",
       "      <td>0.2</td>\n",
       "      <td>0.3</td>\n",
       "    </tr>\n",
       "    <tr>\n",
       "      <th>4</th>\n",
       "      <td>y</td>\n",
       "      <td>complex data type</td>\n",
       "      <td>complex data type</td>\n",
       "    </tr>\n",
       "    <tr>\n",
       "      <th>5</th>\n",
       "      <td>df</td>\n",
       "      <td>complex data type</td>\n",
       "      <td>complex data type</td>\n",
       "    </tr>\n",
       "    <tr>\n",
       "      <th>6</th>\n",
       "      <td>df['Class']</td>\n",
       "      <td>complex data type</td>\n",
       "      <td>complex data type</td>\n",
       "    </tr>\n",
       "    <tr>\n",
       "      <th>7</th>\n",
       "      <td>X_pca</td>\n",
       "      <td>complex data type</td>\n",
       "      <td>complex data type</td>\n",
       "    </tr>\n",
       "    <tr>\n",
       "      <th>8</th>\n",
       "      <td>X_resampled</td>\n",
       "      <td>complex data type</td>\n",
       "      <td>complex data type</td>\n",
       "    </tr>\n",
       "    <tr>\n",
       "      <th>9</th>\n",
       "      <td>PCA(n_components=pca_components)</td>\n",
       "      <td>PCA(n_components=3)</td>\n",
       "      <td>PCA(n_components=5)</td>\n",
       "    </tr>\n",
       "    <tr>\n",
       "      <th>10</th>\n",
       "      <td>random_seed</td>\n",
       "      <td>42</td>\n",
       "      <td>123456</td>\n",
       "    </tr>\n",
       "    <tr>\n",
       "      <th>11</th>\n",
       "      <td>pca_components</td>\n",
       "      <td>3</td>\n",
       "      <td>5</td>\n",
       "    </tr>\n",
       "    <tr>\n",
       "      <th>12</th>\n",
       "      <td>X_test</td>\n",
       "      <td>complex data type</td>\n",
       "      <td>complex data type</td>\n",
       "    </tr>\n",
       "    <tr>\n",
       "      <th>13</th>\n",
       "      <td>RandomUnderSampler(random_state=random_seed)</td>\n",
       "      <td>complex data type</td>\n",
       "      <td>complex data type</td>\n",
       "    </tr>\n",
       "    <tr>\n",
       "      <th>14</th>\n",
       "      <td>now_variable('model', RandomForestClassifier())</td>\n",
       "      <td>complex data type</td>\n",
       "      <td>complex data type</td>\n",
       "    </tr>\n",
       "    <tr>\n",
       "      <th>15</th>\n",
       "      <td>roc_auc_score(y_test, y_pred_rf)</td>\n",
       "      <td>0.7970006184291899</td>\n",
       "      <td>0.9288127853881278</td>\n",
       "    </tr>\n",
       "    <tr>\n",
       "      <th>16</th>\n",
       "      <td>train_test_split(X_resampled, y_resampled, tes...</td>\n",
       "      <td>complex data type</td>\n",
       "      <td>complex data type</td>\n",
       "    </tr>\n",
       "    <tr>\n",
       "      <th>17</th>\n",
       "      <td>now_variable('roc_rf', roc_auc_score(y_test, y...</td>\n",
       "      <td>0.7970006184291899</td>\n",
       "      <td>0.9288127853881278</td>\n",
       "    </tr>\n",
       "    <tr>\n",
       "      <th>18</th>\n",
       "      <td>y_resampled</td>\n",
       "      <td>complex data type</td>\n",
       "      <td>complex data type</td>\n",
       "    </tr>\n",
       "    <tr>\n",
       "      <th>19</th>\n",
       "      <td>y_test</td>\n",
       "      <td>complex data type</td>\n",
       "      <td>complex data type</td>\n",
       "    </tr>\n",
       "    <tr>\n",
       "      <th>20</th>\n",
       "      <td>X</td>\n",
       "      <td>complex data type</td>\n",
       "      <td>complex data type</td>\n",
       "    </tr>\n",
       "    <tr>\n",
       "      <th>21</th>\n",
       "      <td>y_pred_rf</td>\n",
       "      <td>complex data type</td>\n",
       "      <td>complex data type</td>\n",
       "    </tr>\n",
       "    <tr>\n",
       "      <th>22</th>\n",
       "      <td>rus</td>\n",
       "      <td>complex data type</td>\n",
       "      <td>complex data type</td>\n",
       "    </tr>\n",
       "    <tr>\n",
       "      <th>23</th>\n",
       "      <td>roc_rf</td>\n",
       "      <td>0.7970006184291899</td>\n",
       "      <td>0.9288127853881278</td>\n",
       "    </tr>\n",
       "  </tbody>\n",
       "</table>\n",
       "</div>"
      ],
      "text/plain": [
       "                                                  key  ...                48ea0\n",
       "0                                                  rf  ...    complex data type\n",
       "1                                                 pca  ...  PCA(n_components=5)\n",
       "2                            RandomForestClassifier()  ...    complex data type\n",
       "3                                            test_dim  ...                  0.3\n",
       "4                                                   y  ...    complex data type\n",
       "5                                                  df  ...    complex data type\n",
       "6                                         df['Class']  ...    complex data type\n",
       "7                                               X_pca  ...    complex data type\n",
       "8                                         X_resampled  ...    complex data type\n",
       "9                    PCA(n_components=pca_components)  ...  PCA(n_components=5)\n",
       "10                                        random_seed  ...               123456\n",
       "11                                     pca_components  ...                    5\n",
       "12                                             X_test  ...    complex data type\n",
       "13       RandomUnderSampler(random_state=random_seed)  ...    complex data type\n",
       "14    now_variable('model', RandomForestClassifier())  ...    complex data type\n",
       "15                   roc_auc_score(y_test, y_pred_rf)  ...   0.9288127853881278\n",
       "16  train_test_split(X_resampled, y_resampled, tes...  ...    complex data type\n",
       "17  now_variable('roc_rf', roc_auc_score(y_test, y...  ...   0.9288127853881278\n",
       "18                                        y_resampled  ...    complex data type\n",
       "19                                             y_test  ...    complex data type\n",
       "20                                                  X  ...    complex data type\n",
       "21                                          y_pred_rf  ...    complex data type\n",
       "22                                                rus  ...    complex data type\n",
       "23                                             roc_rf  ...   0.9288127853881278\n",
       "\n",
       "[24 rows x 3 columns]"
      ]
     },
     "execution_count": 3,
     "metadata": {},
     "output_type": "execute_result"
    }
   ],
   "source": [
    "trial_intersection_diff(list_id[-2], list_id[-1])"
   ]
  },
  {
   "cell_type": "markdown",
   "id": "4e305632-4683-4f7b-967e-bbe5cb9da0c8",
   "metadata": {
    "tags": []
   },
   "source": [
    "### trial_diff\n",
    "\n",
    "Here is the second way into displaying differences. The values of variables and function calls are exhibited in a diff file format, emphasizing the order of the operations carried out. The goal here is to show that between two experiments, the order of operations were different."
   ]
  },
  {
   "cell_type": "code",
   "execution_count": 4,
   "id": "4aa627d9-511b-4bc6-be1c-cc2d2f6c3822",
   "metadata": {
    "tags": []
   },
   "outputs": [
    {
     "data": {
      "text/html": [
       "\n",
       "        <style>\n",
       "        .diff_header {\n",
       "            background-color: #f1f1f1;\n",
       "        }\n",
       "        .diff_next {\n",
       "            background-color: #f1f1f1;\n",
       "        }\n",
       "        .diff_add {\n",
       "            background-color: #ddffdd;\n",
       "        }\n",
       "        .diff_chg {\n",
       "            background-color: #ffffaa;\n",
       "        }\n",
       "        .diff_sub {\n",
       "            background-color: #ffdddd;\n",
       "        }\n",
       "        .diff_table {\n",
       "            text-align: left; /* Align the table content to the left */\n",
       "        }\n",
       "        </style>\n",
       "        \n",
       "    <table class=\"diff\" id=\"difflib_chg_to0__top\"\n",
       "           cellspacing=\"0\" cellpadding=\"0\" rules=\"groups\" >\n",
       "        <colgroup></colgroup> <colgroup></colgroup> <colgroup></colgroup>\n",
       "        <colgroup></colgroup> <colgroup></colgroup> <colgroup></colgroup>\n",
       "        \n",
       "        <tbody>\n",
       "            <tr><td class=\"diff_next\"><a href=\"#difflib_chg_to0__0\">f</a></td><td class=\"diff_header\" id=\"from0_1\">1</td><td nowrap=\"nowrap\">y_test,&nbsp;complex&nbsp;data&nbsp;type</td><td class=\"diff_next\"><a href=\"#difflib_chg_to0__0\">f</a></td><td class=\"diff_header\" id=\"to0_1\">1</td><td nowrap=\"nowrap\">y_test,&nbsp;complex&nbsp;data&nbsp;type</td></tr>\n",
       "            <tr><td class=\"diff_next\"></td><td class=\"diff_header\" id=\"from0_2\">2</td><td nowrap=\"nowrap\">RandomForestClassifier(),&nbsp;complex&nbsp;data&nbsp;type</td><td class=\"diff_next\"></td><td class=\"diff_header\" id=\"to0_2\">2</td><td nowrap=\"nowrap\">RandomForestClassifier(),&nbsp;complex&nbsp;data&nbsp;type</td></tr>\n",
       "            <tr><td class=\"diff_next\"></td><td class=\"diff_header\" id=\"from0_3\">3</td><td nowrap=\"nowrap\">now_variable('model',&nbsp;RandomForestClassifier()),&nbsp;complex&nbsp;data&nbsp;type</td><td class=\"diff_next\"></td><td class=\"diff_header\" id=\"to0_3\">3</td><td nowrap=\"nowrap\">now_variable('model',&nbsp;RandomForestClassifier()),&nbsp;complex&nbsp;data&nbsp;type</td></tr>\n",
       "            <tr><td class=\"diff_next\"></td><td class=\"diff_header\" id=\"from0_4\">4</td><td nowrap=\"nowrap\">rf,&nbsp;complex&nbsp;data&nbsp;type</td><td class=\"diff_next\"></td><td class=\"diff_header\" id=\"to0_4\">4</td><td nowrap=\"nowrap\">rf,&nbsp;complex&nbsp;data&nbsp;type</td></tr>\n",
       "            <tr><td class=\"diff_next\"></td><td class=\"diff_header\" id=\"from0_5\">5</td><td nowrap=\"nowrap\">X_resampled,&nbsp;complex&nbsp;data&nbsp;type</td><td class=\"diff_next\"></td><td class=\"diff_header\" id=\"to0_5\">5</td><td nowrap=\"nowrap\">X_resampled,&nbsp;complex&nbsp;data&nbsp;type</td></tr>\n",
       "            <tr><td class=\"diff_next\"></td><td class=\"diff_header\" id=\"from0_6\">6</td><td nowrap=\"nowrap\">RandomUnderSampler(random_state=random_seed),&nbsp;complex&nbsp;data&nbsp;type</td><td class=\"diff_next\"></td><td class=\"diff_header\" id=\"to0_6\">6</td><td nowrap=\"nowrap\">RandomUnderSampler(random_state=random_seed),&nbsp;complex&nbsp;data&nbsp;type</td></tr>\n",
       "            <tr><td class=\"diff_next\"></td><td class=\"diff_header\" id=\"from0_7\">7</td><td nowrap=\"nowrap\">rus,&nbsp;complex&nbsp;data&nbsp;type</td><td class=\"diff_next\"></td><td class=\"diff_header\" id=\"to0_7\">7</td><td nowrap=\"nowrap\">rus,&nbsp;complex&nbsp;data&nbsp;type</td></tr>\n",
       "            <tr><td class=\"diff_next\" id=\"difflib_chg_to0__0\"><a href=\"#difflib_chg_to0__1\">n</a></td><td class=\"diff_header\" id=\"from0_8\">8</td><td nowrap=\"nowrap\">now_variable('pca_components',&nbsp;<span class=\"diff_chg\">3</span>),&nbsp;<span class=\"diff_chg\">3</span></td><td class=\"diff_next\"><a href=\"#difflib_chg_to0__1\">n</a></td><td class=\"diff_header\" id=\"to0_8\">8</td><td nowrap=\"nowrap\">now_variable('pca_components',&nbsp;<span class=\"diff_chg\">5</span>),&nbsp;<span class=\"diff_chg\">5</span></td></tr>\n",
       "            <tr><td class=\"diff_next\"></td><td class=\"diff_header\" id=\"from0_9\">9</td><td nowrap=\"nowrap\">pca_components,&nbsp;<span class=\"diff_chg\">3</span></td><td class=\"diff_next\"></td><td class=\"diff_header\" id=\"to0_9\">9</td><td nowrap=\"nowrap\">pca_components,&nbsp;<span class=\"diff_chg\">5</span></td></tr>\n",
       "            <tr><td class=\"diff_next\"></td><td class=\"diff_header\" id=\"from0_10\">10</td><td nowrap=\"nowrap\">PCA(n_components=pca_components),&nbsp;PCA(n_components=<span class=\"diff_chg\">3</span>)</td><td class=\"diff_next\"></td><td class=\"diff_header\" id=\"to0_10\">10</td><td nowrap=\"nowrap\">PCA(n_components=pca_components),&nbsp;PCA(n_components=<span class=\"diff_chg\">5</span>)</td></tr>\n",
       "            <tr><td class=\"diff_next\"></td><td class=\"diff_header\" id=\"from0_11\">11</td><td nowrap=\"nowrap\">pca,&nbsp;PCA(n_components=<span class=\"diff_chg\">3</span>)</td><td class=\"diff_next\"></td><td class=\"diff_header\" id=\"to0_11\">11</td><td nowrap=\"nowrap\">pca,&nbsp;PCA(n_components=<span class=\"diff_chg\">5</span>)</td></tr>\n",
       "            <tr><td class=\"diff_next\"></td><td class=\"diff_header\" id=\"from0_12\">12</td><td nowrap=\"nowrap\">X,&nbsp;complex&nbsp;data&nbsp;type</td><td class=\"diff_next\"></td><td class=\"diff_header\" id=\"to0_12\">12</td><td nowrap=\"nowrap\">X,&nbsp;complex&nbsp;data&nbsp;type</td></tr>\n",
       "            <tr><td class=\"diff_next\"></td><td class=\"diff_header\" id=\"from0_13\">13</td><td nowrap=\"nowrap\">X_pca,&nbsp;complex&nbsp;data&nbsp;type</td><td class=\"diff_next\"></td><td class=\"diff_header\" id=\"to0_13\">13</td><td nowrap=\"nowrap\">X_pca,&nbsp;complex&nbsp;data&nbsp;type</td></tr>\n",
       "            <tr><td class=\"diff_next\"></td><td class=\"diff_header\" id=\"from0_14\">14</td><td nowrap=\"nowrap\">df,&nbsp;complex&nbsp;data&nbsp;type</td><td class=\"diff_next\"></td><td class=\"diff_header\" id=\"to0_14\">14</td><td nowrap=\"nowrap\">df,&nbsp;complex&nbsp;data&nbsp;type</td></tr>\n",
       "            <tr><td class=\"diff_next\"></td><td class=\"diff_header\" id=\"from0_15\">15</td><td nowrap=\"nowrap\">df['Class'],&nbsp;complex&nbsp;data&nbsp;type</td><td class=\"diff_next\"></td><td class=\"diff_header\" id=\"to0_15\">15</td><td nowrap=\"nowrap\">df['Class'],&nbsp;complex&nbsp;data&nbsp;type</td></tr>\n",
       "            <tr><td class=\"diff_next\"></td><td class=\"diff_header\" id=\"from0_16\">16</td><td nowrap=\"nowrap\">y,&nbsp;complex&nbsp;data&nbsp;type</td><td class=\"diff_next\"></td><td class=\"diff_header\" id=\"to0_16\">16</td><td nowrap=\"nowrap\">y,&nbsp;complex&nbsp;data&nbsp;type</td></tr>\n",
       "            <tr><td class=\"diff_next\"></td><td class=\"diff_header\" id=\"from0_17\">17</td><td nowrap=\"nowrap\">y_resampled,&nbsp;complex&nbsp;data&nbsp;type</td><td class=\"diff_next\"></td><td class=\"diff_header\" id=\"to0_17\">17</td><td nowrap=\"nowrap\">y_resampled,&nbsp;complex&nbsp;data&nbsp;type</td></tr>\n",
       "            <tr><td class=\"diff_next\" id=\"difflib_chg_to0__1\"><a href=\"#difflib_chg_to0__2\">n</a></td><td class=\"diff_header\" id=\"from0_18\">18</td><td nowrap=\"nowrap\">now_variable('test_dim',&nbsp;0.<span class=\"diff_chg\">2</span>),&nbsp;0.<span class=\"diff_chg\">2</span></td><td class=\"diff_next\"><a href=\"#difflib_chg_to0__2\">n</a></td><td class=\"diff_header\" id=\"to0_18\">18</td><td nowrap=\"nowrap\">now_variable('test_dim',&nbsp;0.<span class=\"diff_chg\">3</span>),&nbsp;0.<span class=\"diff_chg\">3</span></td></tr>\n",
       "            <tr><td class=\"diff_next\"></td><td class=\"diff_header\" id=\"from0_19\">19</td><td nowrap=\"nowrap\">test_dim,&nbsp;0.<span class=\"diff_chg\">2</span></td><td class=\"diff_next\"></td><td class=\"diff_header\" id=\"to0_19\">19</td><td nowrap=\"nowrap\">test_dim,&nbsp;0.<span class=\"diff_chg\">3</span></td></tr>\n",
       "            <tr><td class=\"diff_next\"></td><td class=\"diff_header\" id=\"from0_20\">20</td><td nowrap=\"nowrap\">now_variable('random_seed',&nbsp;4<span class=\"diff_chg\">2</span>),&nbsp;4<span class=\"diff_chg\">2</span></td><td class=\"diff_next\"></td><td class=\"diff_header\" id=\"to0_20\">20</td><td nowrap=\"nowrap\">now_variable('random_seed',&nbsp;<span class=\"diff_add\">123</span>4<span class=\"diff_chg\">56</span>),&nbsp;<span class=\"diff_add\">123</span>4<span class=\"diff_chg\">56</span></td></tr>\n",
       "            <tr><td class=\"diff_next\"></td><td class=\"diff_header\" id=\"from0_21\">21</td><td nowrap=\"nowrap\">random_seed,&nbsp;4<span class=\"diff_chg\">2</span></td><td class=\"diff_next\"></td><td class=\"diff_header\" id=\"to0_21\">21</td><td nowrap=\"nowrap\">random_seed,&nbsp;<span class=\"diff_add\">123</span>4<span class=\"diff_chg\">56</span></td></tr>\n",
       "            <tr><td class=\"diff_next\"></td><td class=\"diff_header\" id=\"from0_22\">22</td><td nowrap=\"nowrap\">train_test_split(X_resampled,&nbsp;y_resampled,&nbsp;test_size=test_dim,</td><td class=\"diff_next\"></td><td class=\"diff_header\" id=\"to0_22\">22</td><td nowrap=\"nowrap\">train_test_split(X_resampled,&nbsp;y_resampled,&nbsp;test_size=test_dim,</td></tr>\n",
       "            <tr><td class=\"diff_next\"></td><td class=\"diff_header\" id=\"from0_23\">23</td><td nowrap=\"nowrap\">&nbsp;&nbsp;&nbsp;&nbsp;random_state=random_seed),&nbsp;complex&nbsp;data&nbsp;type</td><td class=\"diff_next\"></td><td class=\"diff_header\" id=\"to0_23\">23</td><td nowrap=\"nowrap\">&nbsp;&nbsp;&nbsp;&nbsp;random_state=random_seed),&nbsp;complex&nbsp;data&nbsp;type</td></tr>\n",
       "            <tr><td class=\"diff_next\"></td><td class=\"diff_header\" id=\"from0_24\">24</td><td nowrap=\"nowrap\">X_test,&nbsp;complex&nbsp;data&nbsp;type</td><td class=\"diff_next\"></td><td class=\"diff_header\" id=\"to0_24\">24</td><td nowrap=\"nowrap\">X_test,&nbsp;complex&nbsp;data&nbsp;type</td></tr>\n",
       "            <tr><td class=\"diff_next\"></td><td class=\"diff_header\" id=\"from0_25\">25</td><td nowrap=\"nowrap\">y_pred_rf,&nbsp;complex&nbsp;data&nbsp;type</td><td class=\"diff_next\"></td><td class=\"diff_header\" id=\"to0_25\">25</td><td nowrap=\"nowrap\">y_pred_rf,&nbsp;complex&nbsp;data&nbsp;type</td></tr>\n",
       "            <tr><td class=\"diff_next\" id=\"difflib_chg_to0__2\"><a href=\"#difflib_chg_to0__3\">n</a></td><td class=\"diff_header\" id=\"from0_26\">26</td><td nowrap=\"nowrap\">roc_auc_score(y_test,&nbsp;y_pred_rf),&nbsp;0.7<span class=\"diff_chg\">9</span>7<span class=\"diff_sub\">00061</span>8<span class=\"diff_sub\">4291899</span></td><td class=\"diff_next\"><a href=\"#difflib_chg_to0__3\">n</a></td><td class=\"diff_header\" id=\"to0_26\">26</td><td nowrap=\"nowrap\">roc_auc_score(y_test,&nbsp;y_pred_rf),&nbsp;0.<span class=\"diff_add\">928812</span>7<span class=\"diff_chg\">8538812</span>78</td></tr>\n",
       "            <tr><td class=\"diff_next\"></td><td class=\"diff_header\" id=\"from0_27\">27</td><td nowrap=\"nowrap\">now_variable('roc_rf',&nbsp;roc_auc_score(y_test,&nbsp;y_pred_rf)),</td><td class=\"diff_next\"></td><td class=\"diff_header\" id=\"to0_27\">27</td><td nowrap=\"nowrap\">now_variable('roc_rf',&nbsp;roc_auc_score(y_test,&nbsp;y_pred_rf)),</td></tr>\n",
       "            <tr><td class=\"diff_next\" id=\"difflib_chg_to0__3\"><a href=\"#difflib_chg_to0__top\">t</a></td><td class=\"diff_header\" id=\"from0_28\">28</td><td nowrap=\"nowrap\"><span class=\"diff_sub\">&nbsp;&nbsp;&nbsp;&nbsp;0.7970006184291899</span></td><td class=\"diff_next\"><a href=\"#difflib_chg_to0__top\">t</a></td><td class=\"diff_header\" id=\"to0_28\">28</td><td nowrap=\"nowrap\"><span class=\"diff_add\">&nbsp;&nbsp;&nbsp;&nbsp;0.9288127853881278</span></td></tr>\n",
       "            <tr><td class=\"diff_next\"></td><td class=\"diff_header\" id=\"from0_29\">29</td><td nowrap=\"nowrap\"><span class=\"diff_sub\">roc_rf,&nbsp;0.7970006184291899</span></td><td class=\"diff_next\"></td><td class=\"diff_header\" id=\"to0_29\">29</td><td nowrap=\"nowrap\"><span class=\"diff_add\">roc_rf,&nbsp;0.9288127853881278</span></td></tr>\n",
       "        </tbody>\n",
       "    </table>\n",
       "        "
      ],
      "text/plain": [
       "<IPython.core.display.HTML object>"
      ]
     },
     "metadata": {},
     "output_type": "display_data"
    }
   ],
   "source": [
    "trial_diff(list_id[-2], list_id[-1])"
   ]
  },
  {
   "cell_type": "markdown",
   "id": "d54d2dbe-d291-4663-b6f0-b66e9124a3f9",
   "metadata": {
    "tags": []
   },
   "source": [
    "### var_tag_plot\n",
    "\n",
    "Chart the evolution of a given variable across multiple trials in the database. In this case, all experiments stored in ops.db and tagged as *target_var* has its values plotted"
   ]
  },
  {
   "cell_type": "code",
   "execution_count": 6,
   "id": "55740535-e000-468e-ae12-c4631f29f854",
   "metadata": {
    "tags": []
   },
   "outputs": [
    {
     "data": {
      "image/png": "[encoded data removed]",
      "text/plain": [
       "<Figure size 640x480 with 1 Axes>"
      ]
     },
     "metadata": {},
     "output_type": "display_data"
    }
   ],
   "source": [
    "var_tag_plot('roc_rf')"
   ]
  },
  {
   "cell_type": "code",
   "execution_count": 8,
   "id": "b2daf151-3575-4ace-a07d-7dc36ddad691",
   "metadata": {
    "tags": []
   },
   "outputs": [
    {
     "data": {
      "image/png": "[encoded data removed]",
      "text/plain": [
       "<Figure size 640x480 with 1 Axes>"
      ]
     },
     "metadata": {},
     "output_type": "display_data"
    }
   ],
   "source": [
    "var_tag_plot('f1_rf')"
   ]
  },
  {
   "cell_type": "markdown",
   "id": "49b841a5-1b8a-4c97-b36a-269d0f325828",
   "metadata": {},
   "source": [
    "### var_tag_values\n",
    "\n",
    "In the event that the user wants to manipulate the results of all rounds, the pandas dataframe is available."
   ]
  },
  {
   "cell_type": "code",
   "execution_count": 9,
   "id": "e7c07284-2422-4e50-82e3-fb05b643ba22",
   "metadata": {
    "tags": []
   },
   "outputs": [
    {
     "data": {
      "text/html": [
       "<div>\n",
       "<style scoped>\n",
       "    .dataframe tbody tr th:only-of-type {\n",
       "        vertical-align: middle;\n",
       "    }\n",
       "\n",
       "    .dataframe tbody tr th {\n",
       "        vertical-align: top;\n",
       "    }\n",
       "\n",
       "    .dataframe thead th {\n",
       "        text-align: right;\n",
       "    }\n",
       "</style>\n",
       "<table border=\"1\" class=\"dataframe\">\n",
       "  <thead>\n",
       "    <tr style=\"text-align: right;\">\n",
       "      <th></th>\n",
       "      <th>trial_id</th>\n",
       "      <th>short_trial_id</th>\n",
       "      <th>tag</th>\n",
       "      <th>value</th>\n",
       "    </tr>\n",
       "  </thead>\n",
       "  <tbody>\n",
       "    <tr>\n",
       "      <th>0</th>\n",
       "      <td>d17fbfb6-428c-466f-8734-44c3c399984d</td>\n",
       "      <td>9984d</td>\n",
       "      <td>roc_rf</td>\n",
       "      <td>0.797001</td>\n",
       "    </tr>\n",
       "    <tr>\n",
       "      <th>1</th>\n",
       "      <td>ad1f4984-7470-476f-aa31-6cb6ca348ea0</td>\n",
       "      <td>48ea0</td>\n",
       "      <td>roc_rf</td>\n",
       "      <td>0.928813</td>\n",
       "    </tr>\n",
       "  </tbody>\n",
       "</table>\n",
       "</div>"
      ],
      "text/plain": [
       "                               trial_id short_trial_id     tag     value\n",
       "0  d17fbfb6-428c-466f-8734-44c3c399984d          9984d  roc_rf  0.797001\n",
       "1  ad1f4984-7470-476f-aa31-6cb6ca348ea0          48ea0  roc_rf  0.928813"
      ]
     },
     "execution_count": 9,
     "metadata": {},
     "output_type": "execute_result"
    }
   ],
   "source": [
    "var_tag_values('roc_rf')"
   ]
  },
  {
   "cell_type": "code",
   "execution_count": null,
   "id": "63730330-521d-4e94-9fa8-9b365c702d52",
   "metadata": {},
   "outputs": [],
   "source": []
  }
 ],
 "metadata": {
  "kernelspec": {
   "display_name": "noWorkflow 3",
   "language": "python",
   "name": "noworkflow3"
  },
  "language_info": {
   "codemirror_mode": {
    "name": "ipython",
    "version": 3
   },
   "file_extension": ".py",
   "mimetype": "text/x-python",
   "name": "python",
   "nbconvert_exporter": "python",
   "pygments_lexer": "ipython3",
   "version": "3.7.16"
  }
 },
 "nbformat": 4,
 "nbformat_minor": 5
}
