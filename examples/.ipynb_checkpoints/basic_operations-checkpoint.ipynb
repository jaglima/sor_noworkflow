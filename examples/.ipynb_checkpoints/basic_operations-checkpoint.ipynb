{
 "cells": [
  {
   "cell_type": "code",
   "execution_count": 23,
   "id": "c6f9c9e7-4d30-4fb0-bbaf-c35e114212ec",
   "metadata": {
    "tags": []
   },
   "outputs": [],
   "source": [
    "from copy import copy\n",
    "import numpy as np\n",
    "from pprint import pprint\n",
    "\n",
    "from noworkflow.now.tagging.var_tagging import backward_deps, global_backward_deps, store_operations, resume_trials, trial_diff, trial_intersection_diff, var_tag_plot, var_tag_values"
   ]
  },
  {
   "cell_type": "markdown",
   "id": "e75b860a-76f6-4768-8080-db001d76119e",
   "metadata": {},
   "source": [
    "### Test case\n",
    "\n",
    "Here starts a small test case. The workflow goes through cells defining *module*, *rmse* and a *stress_function* aiming to add some random behaviour in our test. The *var_final* is our target variable, being dependent of its previous cells.\n"
   ]
  },
  {
   "cell_type": "code",
   "execution_count": 2,
   "id": "b193369c-2ce3-4759-b7b5-41f4b320e97a",
   "metadata": {
    "tags": []
   },
   "outputs": [],
   "source": [
    "def module(num): \n",
    "    if num >= 0:\n",
    "        return int(num)\n",
    "    else:\n",
    "        return int(-1*num)\n",
    "\n",
    "def mae(x, y):\n",
    "    return np.mean(np.abs((x - y)))\n",
    "\n",
    "def rmse(x, y):\n",
    "    return np.sqrt(np.mean((x - y)**2))\n",
    "\n",
    "def stress_func(m, n):\n",
    "    temp1 = m * n\n",
    "    x = np.random.rand()\n",
    "    y = np.random.rand()\n",
    "    \n",
    "    temp2 = np.random.rand()*temp1\n",
    "    \n",
    "    final = np.max([int(x+y), int(temp2), mae(temp1, temp2)])\n",
    "    \n",
    "    return final"
   ]
  },
  {
   "cell_type": "code",
   "execution_count": 3,
   "id": "dad4d3bc-e662-4cad-873d-e040cfe25354",
   "metadata": {
    "tags": []
   },
   "outputs": [],
   "source": [
    "var_a = np.random.rand()"
   ]
  },
  {
   "cell_type": "code",
   "execution_count": 4,
   "id": "1bb71226-764c-454d-bfdd-260ad0432c6b",
   "metadata": {},
   "outputs": [],
   "source": [
    "var_b = np.random.rand()"
   ]
  },
  {
   "cell_type": "code",
   "execution_count": 5,
   "id": "8c326993-1bf2-4223-8e9c-11e48a915cf8",
   "metadata": {},
   "outputs": [],
   "source": [
    "k = np.random.rand()\n",
    "m = np.random.rand()"
   ]
  },
  {
   "cell_type": "code",
   "execution_count": 6,
   "id": "127ead7e-028a-4cd4-bf44-20c541f0ad7d",
   "metadata": {},
   "outputs": [],
   "source": [
    "rme_err = mae(var_a, var_b)"
   ]
  },
  {
   "cell_type": "code",
   "execution_count": 7,
   "id": "93ea2f3f-32d6-4d40-a9b3-f2f8e2d557b0",
   "metadata": {
    "tags": []
   },
   "outputs": [],
   "source": [
    "var_c = stress_func(k, m)"
   ]
  },
  {
   "cell_type": "code",
   "execution_count": 8,
   "id": "18ec6985-1fb5-40c1-8a12-51d0fbb4c14f",
   "metadata": {
    "tags": []
   },
   "outputs": [],
   "source": [
    "var_d = var_c * np.random.rand()"
   ]
  },
  {
   "cell_type": "code",
   "execution_count": 9,
   "id": "32345dcf-fa1b-4d2e-b742-49204e1ddcf0",
   "metadata": {
    "tags": []
   },
   "outputs": [],
   "source": [
    "var_e = mae(var_c, var_b)"
   ]
  },
  {
   "cell_type": "code",
   "execution_count": 10,
   "id": "d18aa5aa-5b91-4295-9b79-1fbf55d3d561",
   "metadata": {
    "tags": []
   },
   "outputs": [
    {
     "name": "stdout",
     "output_type": "stream",
     "text": [
      "Evaluation(id=148, checkpoint=2.379760041, code_component_id=312, activation_id=141, repr=0.5327535322221544)\n"
     ]
    }
   ],
   "source": [
    "target_var = now_variable('target_var', rmse(var_c, var_e))"
   ]
  },
  {
   "cell_type": "markdown",
   "id": "407023ba-f72a-4a78-9d2c-4bf8498b93dc",
   "metadata": {},
   "source": [
    "### backward_deps example\n",
    "Here we recollect the backward dependencies liked with var_final tagged variable. Two options are available, with glanulatiry on and off."
   ]
  },
  {
   "cell_type": "code",
   "execution_count": 11,
   "id": "5f000dfa-c442-4554-af65-8738a557dab7",
   "metadata": {},
   "outputs": [
    {
     "data": {
      "text/plain": [
       "{18: ('x', '0.789350904118776'),\n",
       " 17: ('y', '0.13075797697890124'),\n",
       " 16: ('int(x+y)', '0'),\n",
       " 15: ('int(temp2)', '0'),\n",
       " 14: ('temp1', '0.27510189304896554'),\n",
       " 13: ('temp2', '0.24346425711670877'),\n",
       " 12: ('mae(temp1, temp2)', '0.03163763593225677'),\n",
       " 11: ('[int(x+y), int(temp2), mae(temp1, temp2)]', 'matrix dim(27,)'),\n",
       " 10: ('final', '0.03163763593225677'),\n",
       " 9: ('k', '0.4470223016533438'),\n",
       " 8: ('m', '0.6154097726925069'),\n",
       " 7: ('stress_func(k, m)', '0.03163763593225677'),\n",
       " 6: ('var_c', '0.03163763593225677'),\n",
       " 5: ('var_b', '0.5960288040866679'),\n",
       " 4: ('mae(var_c, var_b)', '0.5643911681544111'),\n",
       " 3: ('var_e', '0.5643911681544111'),\n",
       " 2: ('rmse(var_c, var_e)', '0.5327535322221544'),\n",
       " 1: (\"now_variable('target_var', rmse(var_c, var_e))\", '0.5327535322221544'),\n",
       " 0: ('target_var', '0.5327535322221544')}"
      ]
     },
     "execution_count": 11,
     "metadata": {},
     "output_type": "execute_result"
    }
   ],
   "source": [
    "dict_ops = backward_deps('target_var', __noworkflow__.trial_id)\n",
    "dict_ops"
   ]
  },
  {
   "cell_type": "markdown",
   "id": "b5c50b07-e1ad-466b-a955-58cbdcd105d7",
   "metadata": {
    "tags": []
   },
   "source": [
    "When the flag is set True, the content of functions steps are displayed."
   ]
  },
  {
   "cell_type": "code",
   "execution_count": 24,
   "id": "1d5087ec-a833-49b7-8bda-65b8f394f44d",
   "metadata": {
    "tags": []
   },
   "outputs": [
    {
     "data": {
      "text/plain": [
       "{66: ('x', '0.789350904118776'),\n",
       " 65: ('y', '0.13075797697890124'),\n",
       " 64: ('int(x+y)', '0'),\n",
       " 63: ('int(temp2)', '0'),\n",
       " 62: ('temp1', '0.27510189304896554'),\n",
       " 61: ('temp2', '0.24346425711670877'),\n",
       " 60: ('mae(temp1, temp2)', '0.03163763593225677'),\n",
       " 59: ('[int(x+y), int(temp2), mae(temp1, temp2)]', 'matrix dim(27,)'),\n",
       " 58: ('final', '0.03163763593225677'),\n",
       " 57: ('k', '0.4470223016533438'),\n",
       " 56: ('m', '0.6154097726925069'),\n",
       " 55: ('stress_func(k, m)', '0.03163763593225677'),\n",
       " 54: ('var_c', '0.03163763593225677'),\n",
       " 53: ('var_b', '0.5960288040866679'),\n",
       " 52: ('mae(var_c, var_b)', '0.5643911681544111'),\n",
       " 51: ('var_e', '0.5643911681544111'),\n",
       " 50: ('rmse(var_c, var_e)', '0.5327535322221544'),\n",
       " 49: (\"now_variable('target_var', rmse(var_c, var_e))\", '0.5327535322221544'),\n",
       " 48: ('target_var', '0.5327535322221544'),\n",
       " 47: ('k', '0.4470223016533438'),\n",
       " 46: ('m', '0.6154097726925069'),\n",
       " 45: ('stress_func(k, m)', '0.03163763593225677'),\n",
       " 44: ('var_c', '0.03163763593225677'),\n",
       " 43: ('var_b', '0.5960288040866679'),\n",
       " 42: ('mae(var_c, var_b)', '0.5643911681544111'),\n",
       " 41: ('var_e', '0.5643911681544111'),\n",
       " 40: ('rmse(var_c, var_e)', '0.5327535322221544'),\n",
       " 39: (\"now_variable('target_var', rmse(var_c, var_e))\", '0.5327535322221544'),\n",
       " 38: ('target_var', '0.5327535322221544'),\n",
       " 37: ('x', '0.789350904118776'),\n",
       " 36: ('y', '0.13075797697890124'),\n",
       " 35: ('int(x+y)', '0'),\n",
       " 34: ('int(temp2)', '0'),\n",
       " 33: ('temp1', '0.27510189304896554'),\n",
       " 32: ('temp2', '0.24346425711670877'),\n",
       " 31: ('mae(temp1, temp2)', '0.03163763593225677'),\n",
       " 30: ('[int(x+y), int(temp2), mae(temp1, temp2)]', 'matrix dim(27,)'),\n",
       " 29: ('final', '0.03163763593225677'),\n",
       " 28: ('k', '0.4470223016533438'),\n",
       " 27: ('m', '0.6154097726925069'),\n",
       " 26: ('stress_func(k, m)', '0.03163763593225677'),\n",
       " 25: ('var_c', '0.03163763593225677'),\n",
       " 24: ('var_b', '0.5960288040866679'),\n",
       " 23: ('mae(var_c, var_b)', '0.5643911681544111'),\n",
       " 22: ('var_e', '0.5643911681544111'),\n",
       " 21: ('rmse(var_c, var_e)', '0.5327535322221544'),\n",
       " 20: (\"now_variable('target_var', rmse(var_c, var_e))\", '0.5327535322221544'),\n",
       " 19: ('target_var', '0.5327535322221544'),\n",
       " 18: ('x', '0.789350904118776'),\n",
       " 17: ('y', '0.13075797697890124'),\n",
       " 16: ('int(x+y)', '0'),\n",
       " 15: ('int(temp2)', '0'),\n",
       " 14: ('temp1', '0.27510189304896554'),\n",
       " 13: ('temp2', '0.24346425711670877'),\n",
       " 12: ('mae(temp1, temp2)', '0.03163763593225677'),\n",
       " 11: ('[int(x+y), int(temp2), mae(temp1, temp2)]', 'matrix dim(27,)'),\n",
       " 10: ('final', '0.03163763593225677'),\n",
       " 9: ('k', '0.4470223016533438'),\n",
       " 8: ('m', '0.6154097726925069'),\n",
       " 7: ('stress_func(k, m)', '0.03163763593225677'),\n",
       " 6: ('var_c', '0.03163763593225677'),\n",
       " 5: ('var_b', '0.5960288040866679'),\n",
       " 4: ('mae(var_c, var_b)', '0.5643911681544111'),\n",
       " 3: ('var_e', '0.5643911681544111'),\n",
       " 2: ('rmse(var_c, var_e)', '0.5327535322221544'),\n",
       " 1: (\"now_variable('target_var', rmse(var_c, var_e))\", '0.5327535322221544'),\n",
       " 0: ('target_var', '0.5327535322221544')}"
      ]
     },
     "execution_count": 24,
     "metadata": {},
     "output_type": "execute_result"
    }
   ],
   "source": [
    "backward_deps('target_var', glanularity_level=True)"
   ]
  },
  {
   "cell_type": "markdown",
   "id": "39e934a4-c225-4c4b-85a5-18be79a72f3a",
   "metadata": {},
   "source": [
    "### global_backward_deps example\n",
    "Here we recollect all the backward dependencies liked with var_final tagged variable. If user redefines a tagged variable in more than one cell, this options will return all operations over this tagged variable across the trial. \n",
    "Same two options available, with glanulatiry on and off."
   ]
  },
  {
   "cell_type": "code",
   "execution_count": 13,
   "id": "43007d6e-add8-4d97-816a-e4399adba17a",
   "metadata": {
    "tags": []
   },
   "outputs": [
    {
     "data": {
      "text/plain": [
       "{47: ('k', '0.4470223016533438'),\n",
       " 46: ('m', '0.6154097726925069'),\n",
       " 45: ('stress_func(k, m)', '0.03163763593225677'),\n",
       " 44: ('var_c', '0.03163763593225677'),\n",
       " 43: ('var_b', '0.5960288040866679'),\n",
       " 42: ('mae(var_c, var_b)', '0.5643911681544111'),\n",
       " 41: ('var_e', '0.5643911681544111'),\n",
       " 40: ('rmse(var_c, var_e)', '0.5327535322221544'),\n",
       " 39: (\"now_variable('target_var', rmse(var_c, var_e))\", '0.5327535322221544'),\n",
       " 38: ('target_var', '0.5327535322221544'),\n",
       " 37: ('x', '0.789350904118776'),\n",
       " 36: ('y', '0.13075797697890124'),\n",
       " 35: ('int(x+y)', '0'),\n",
       " 34: ('int(temp2)', '0'),\n",
       " 33: ('temp1', '0.27510189304896554'),\n",
       " 32: ('temp2', '0.24346425711670877'),\n",
       " 31: ('mae(temp1, temp2)', '0.03163763593225677'),\n",
       " 30: ('[int(x+y), int(temp2), mae(temp1, temp2)]', 'matrix dim(27,)'),\n",
       " 29: ('final', '0.03163763593225677'),\n",
       " 28: ('k', '0.4470223016533438'),\n",
       " 27: ('m', '0.6154097726925069'),\n",
       " 26: ('stress_func(k, m)', '0.03163763593225677'),\n",
       " 25: ('var_c', '0.03163763593225677'),\n",
       " 24: ('var_b', '0.5960288040866679'),\n",
       " 23: ('mae(var_c, var_b)', '0.5643911681544111'),\n",
       " 22: ('var_e', '0.5643911681544111'),\n",
       " 21: ('rmse(var_c, var_e)', '0.5327535322221544'),\n",
       " 20: (\"now_variable('target_var', rmse(var_c, var_e))\", '0.5327535322221544'),\n",
       " 19: ('target_var', '0.5327535322221544'),\n",
       " 18: ('x', '0.789350904118776'),\n",
       " 17: ('y', '0.13075797697890124'),\n",
       " 16: ('int(x+y)', '0'),\n",
       " 15: ('int(temp2)', '0'),\n",
       " 14: ('temp1', '0.27510189304896554'),\n",
       " 13: ('temp2', '0.24346425711670877'),\n",
       " 12: ('mae(temp1, temp2)', '0.03163763593225677'),\n",
       " 11: ('[int(x+y), int(temp2), mae(temp1, temp2)]', 'matrix dim(27,)'),\n",
       " 10: ('final', '0.03163763593225677'),\n",
       " 9: ('k', '0.4470223016533438'),\n",
       " 8: ('m', '0.6154097726925069'),\n",
       " 7: ('stress_func(k, m)', '0.03163763593225677'),\n",
       " 6: ('var_c', '0.03163763593225677'),\n",
       " 5: ('var_b', '0.5960288040866679'),\n",
       " 4: ('mae(var_c, var_b)', '0.5643911681544111'),\n",
       " 3: ('var_e', '0.5643911681544111'),\n",
       " 2: ('rmse(var_c, var_e)', '0.5327535322221544'),\n",
       " 1: (\"now_variable('target_var', rmse(var_c, var_e))\", '0.5327535322221544'),\n",
       " 0: ('target_var', '0.5327535322221544')}"
      ]
     },
     "execution_count": 13,
     "metadata": {},
     "output_type": "execute_result"
    }
   ],
   "source": [
    "global_backward_deps('target_var', False)"
   ]
  },
  {
   "cell_type": "markdown",
   "id": "f2265bbc-c481-4fee-b627-36d60862b870",
   "metadata": {
    "tags": []
   },
   "source": [
    "### trial storage example\n",
    "Here we save the current trial in order to make further compariosions with other experiments. The dictionaries aren't stored in the .noworkflow/db.sqlite, but in a shelve object named *ops.db* in the current notebook local folder. Remove it means exeperimental data being lost."
   ]
  },
  {
   "cell_type": "code",
   "execution_count": 14,
   "id": "ab136acd-42ac-4b09-b000-38779c0ef278",
   "metadata": {
    "tags": []
   },
   "outputs": [
    {
     "name": "stdout",
     "output_type": "stream",
     "text": [
      "Dictionary stored in shelve.\n"
     ]
    }
   ],
   "source": [
    "store_operations(__noworkflow__.trial_id, dict_ops)"
   ]
  },
  {
   "cell_type": "markdown",
   "id": "cc5cde7e-b3ef-40f9-ba25-e77505d31762",
   "metadata": {
    "tags": []
   },
   "source": [
    "### resume_trials\n",
    "\n",
    "In order to support the management of experiments, the user can see the trial ids of all experiments stored in the ops.db abailable to comparision/analysis."
   ]
  },
  {
   "cell_type": "code",
   "execution_count": 15,
   "id": "ed828c52-1ebd-4efd-a55c-d838f03bc905",
   "metadata": {
    "tags": []
   },
   "outputs": [
    {
     "data": {
      "text/plain": [
       "['4659b4e5-3e8f-4b1e-a8bd-af7e27162bf2',\n",
       " '6720f664-424b-495c-9225-5ddb16fa90d1',\n",
       " '8e7d2f7e-1f1b-4409-ba52-ea0f182a5416',\n",
       " '6285c08e-6735-45cc-b2e7-fa3102a2bf86',\n",
       " 'd8061deb-aee6-4a2b-b9e8-1d57286349bd',\n",
       " '13895766-f4f0-4848-aff0-70738249edd6',\n",
       " '5e462546-7cfe-403f-8927-3ef847d3c1ac',\n",
       " '06dbf287-8ac0-44c7-b951-e56f79b4c7ee',\n",
       " '1a237a6a-4332-4744-ad3b-a16ccd17ce09',\n",
       " '15dd2cf6-6b36-443a-af65-ab91209be4d5',\n",
       " 'f8a144af-dac1-4eb6-92a0-af3963dbd8fa',\n",
       " '73f4e83e-0028-4733-9f39-d280d5b03502']"
      ]
     },
     "execution_count": 15,
     "metadata": {},
     "output_type": "execute_result"
    }
   ],
   "source": [
    "list_id = resume_trials()\n",
    "list_id"
   ]
  },
  {
   "cell_type": "markdown",
   "id": "70faddb2-216e-4a62-9d88-f9e4a6b236b2",
   "metadata": {
    "tags": []
   },
   "source": [
    "### trial_intesection_diff\n",
    "\n",
    "Two types of comparision are available now. This one refers to values returned from operations. Each variable or function call available in both experiments (intersection) have its values exhibited. \n",
    "\n",
    "There is a limitation in showing for complex values. Matrices and tensors cannot be properly displayed, so only an indication that is a complex type is indicated.\n",
    "\n",
    "Here we visually plot a diff table between two trials"
   ]
  },
  {
   "cell_type": "code",
   "execution_count": 25,
   "id": "e9323387-a4c6-4df5-86ff-a14149d01313",
   "metadata": {
    "tags": []
   },
   "outputs": [
    {
     "data": {
      "text/html": [
       "<div>\n",
       "<style scoped>\n",
       "    .dataframe tbody tr th:only-of-type {\n",
       "        vertical-align: middle;\n",
       "    }\n",
       "\n",
       "    .dataframe tbody tr th {\n",
       "        vertical-align: top;\n",
       "    }\n",
       "\n",
       "    .dataframe thead th {\n",
       "        text-align: right;\n",
       "    }\n",
       "</style>\n",
       "<table border=\"1\" class=\"dataframe\">\n",
       "  <thead>\n",
       "    <tr style=\"text-align: right;\">\n",
       "      <th></th>\n",
       "      <th>key</th>\n",
       "      <th>bd8fa</th>\n",
       "      <th>03502</th>\n",
       "    </tr>\n",
       "  </thead>\n",
       "  <tbody>\n",
       "    <tr>\n",
       "      <th>0</th>\n",
       "      <td>var_c</td>\n",
       "      <td>1.0</td>\n",
       "      <td>0.016062366199237177</td>\n",
       "    </tr>\n",
       "    <tr>\n",
       "      <th>1</th>\n",
       "      <td>var_b</td>\n",
       "      <td>0.5688470008340213</td>\n",
       "      <td>0.8002059281221632</td>\n",
       "    </tr>\n",
       "    <tr>\n",
       "      <th>2</th>\n",
       "      <td>rmse(var_c, var_e)</td>\n",
       "      <td>0.5688470008340213</td>\n",
       "      <td>0.7680811957236888</td>\n",
       "    </tr>\n",
       "    <tr>\n",
       "      <th>3</th>\n",
       "      <td>var_e</td>\n",
       "      <td>0.4311529991659787</td>\n",
       "      <td>0.784143561922926</td>\n",
       "    </tr>\n",
       "    <tr>\n",
       "      <th>4</th>\n",
       "      <td>k</td>\n",
       "      <td>0.10209937171091787</td>\n",
       "      <td>0.5337311402710219</td>\n",
       "    </tr>\n",
       "    <tr>\n",
       "      <th>5</th>\n",
       "      <td>stress_func(k, m)</td>\n",
       "      <td>1.0</td>\n",
       "      <td>0.016062366199237177</td>\n",
       "    </tr>\n",
       "    <tr>\n",
       "      <th>6</th>\n",
       "      <td>now_variable('target_var', rmse(var_c, var_e))</td>\n",
       "      <td>0.5688470008340213</td>\n",
       "      <td>0.7680811957236888</td>\n",
       "    </tr>\n",
       "    <tr>\n",
       "      <th>7</th>\n",
       "      <td>mae(var_c, var_b)</td>\n",
       "      <td>0.4311529991659787</td>\n",
       "      <td>0.784143561922926</td>\n",
       "    </tr>\n",
       "    <tr>\n",
       "      <th>8</th>\n",
       "      <td>m</td>\n",
       "      <td>0.33389698900000986</td>\n",
       "      <td>0.1260075254553671</td>\n",
       "    </tr>\n",
       "  </tbody>\n",
       "</table>\n",
       "</div>"
      ],
      "text/plain": [
       "                                              key  ...                 03502\n",
       "0                                           var_c  ...  0.016062366199237177\n",
       "1                                           var_b  ...    0.8002059281221632\n",
       "2                              rmse(var_c, var_e)  ...    0.7680811957236888\n",
       "3                                           var_e  ...     0.784143561922926\n",
       "4                                               k  ...    0.5337311402710219\n",
       "5                               stress_func(k, m)  ...  0.016062366199237177\n",
       "6  now_variable('target_var', rmse(var_c, var_e))  ...    0.7680811957236888\n",
       "7                               mae(var_c, var_b)  ...     0.784143561922926\n",
       "8                                               m  ...    0.1260075254553671\n",
       "\n",
       "[9 rows x 3 columns]"
      ]
     },
     "execution_count": 25,
     "metadata": {},
     "output_type": "execute_result"
    }
   ],
   "source": [
    "trial_intersection_diff(list_id[-2], list_id[-1])"
   ]
  },
  {
   "cell_type": "markdown",
   "id": "4e305632-4683-4f7b-967e-bbe5cb9da0c8",
   "metadata": {
    "tags": []
   },
   "source": [
    "### trial_diff\n",
    "\n",
    "Here is the second way into displaying differences. The values of variables and function calls are exhibited in a diff file format, emphasizing the order of the operations carried out. The goal here is to show that between two experiments, the order of operations were different."
   ]
  },
  {
   "cell_type": "code",
   "execution_count": 18,
   "id": "4aa627d9-511b-4bc6-be1c-cc2d2f6c3822",
   "metadata": {
    "tags": []
   },
   "outputs": [
    {
     "data": {
      "text/html": [
       "\n",
       "        <style>\n",
       "        .diff_header {\n",
       "            background-color: #f1f1f1;\n",
       "        }\n",
       "        .diff_next {\n",
       "            background-color: #f1f1f1;\n",
       "        }\n",
       "        .diff_add {\n",
       "            background-color: #ddffdd;\n",
       "        }\n",
       "        .diff_chg {\n",
       "            background-color: #ffffaa;\n",
       "        }\n",
       "        .diff_sub {\n",
       "            background-color: #ffdddd;\n",
       "        }\n",
       "        .diff_table {\n",
       "            text-align: left; /* Align the table content to the left */\n",
       "        }\n",
       "        </style>\n",
       "        \n",
       "    <table class=\"diff\" id=\"difflib_chg_to1__top\"\n",
       "           cellspacing=\"0\" cellpadding=\"0\" rules=\"groups\" >\n",
       "        <colgroup></colgroup> <colgroup></colgroup> <colgroup></colgroup>\n",
       "        <colgroup></colgroup> <colgroup></colgroup> <colgroup></colgroup>\n",
       "        \n",
       "        <tbody>\n",
       "            <tr><td class=\"diff_next\" id=\"difflib_chg_to1__0\"><a href=\"#difflib_chg_to1__top\">t</a></td><td class=\"diff_header\" id=\"from1_1\">1</td><td nowrap=\"nowrap\"><span class=\"diff_sub\">k,&nbsp;0.8641730645527099</span></td><td class=\"diff_next\"><a href=\"#difflib_chg_to1__top\">t</a></td><td class=\"diff_header\" id=\"to1_1\">1</td><td nowrap=\"nowrap\"><span class=\"diff_add\">x,&nbsp;0.5933054705602054</span></td></tr>\n",
       "            <tr><td class=\"diff_next\"></td><td class=\"diff_header\" id=\"from1_2\">2</td><td nowrap=\"nowrap\"><span class=\"diff_sub\">m,&nbsp;0.7854792304438185</span></td><td class=\"diff_next\"></td><td class=\"diff_header\" id=\"to1_2\">2</td><td nowrap=\"nowrap\"><span class=\"diff_add\">y,&nbsp;0.13459278141567688</span></td></tr>\n",
       "            <tr><td class=\"diff_next\"></td><td class=\"diff_header\" id=\"from1_3\">3</td><td nowrap=\"nowrap\"><span class=\"diff_sub\">stress_func(k,&nbsp;m),&nbsp;0.18658117487143155</span></td><td class=\"diff_next\"></td><td class=\"diff_header\" id=\"to1_3\">3</td><td nowrap=\"nowrap\"><span class=\"diff_add\">int(x+y),&nbsp;0</span></td></tr>\n",
       "            <tr><td class=\"diff_next\"></td><td class=\"diff_header\" id=\"from1_4\">4</td><td nowrap=\"nowrap\"><span class=\"diff_sub\">var_c,&nbsp;0.18658117487143155</span></td><td class=\"diff_next\"></td><td class=\"diff_header\" id=\"to1_4\">4</td><td nowrap=\"nowrap\"><span class=\"diff_add\">int(temp2),&nbsp;0</span></td></tr>\n",
       "            <tr><td class=\"diff_next\"></td><td class=\"diff_header\" id=\"from1_5\">5</td><td nowrap=\"nowrap\"><span class=\"diff_sub\">var_d,&nbsp;matrix&nbsp;dim(21,)</span></td><td class=\"diff_next\"></td><td class=\"diff_header\" id=\"to1_5\">5</td><td nowrap=\"nowrap\"><span class=\"diff_add\">temp1,&nbsp;0.06725414024402289</span></td></tr>\n",
       "            <tr><td class=\"diff_next\"></td><td class=\"diff_header\" id=\"from1_6\">6</td><td nowrap=\"nowrap\"><span class=\"diff_sub\">var_c,&nbsp;matrix&nbsp;dim(21,)</span></td><td class=\"diff_next\"></td><td class=\"diff_header\" id=\"to1_6\">6</td><td nowrap=\"nowrap\"><span class=\"diff_add\">temp2,&nbsp;0.05119177404478571</span></td></tr>\n",
       "            <tr><td class=\"diff_next\"></td><td class=\"diff_header\" id=\"from1_7\">7</td><td nowrap=\"nowrap\"><span class=\"diff_sub\">var_b,&nbsp;0.11823705474216406</span></td><td class=\"diff_next\"></td><td class=\"diff_header\" id=\"to1_7\">7</td><td nowrap=\"nowrap\"><span class=\"diff_add\">mae(temp1,&nbsp;temp2),&nbsp;0.016062366199237177</span></td></tr>\n",
       "            <tr><td class=\"diff_next\"></td><td class=\"diff_header\" id=\"from1_8\">8</td><td nowrap=\"nowrap\"><span class=\"diff_sub\">mae(var_c,&nbsp;var_b),&nbsp;0.11585485316675201</span></td><td class=\"diff_next\"></td><td class=\"diff_header\" id=\"to1_8\">8</td><td nowrap=\"nowrap\"><span class=\"diff_add\">[int(x+y),&nbsp;int(temp2),&nbsp;mae(temp1,&nbsp;temp2)],&nbsp;matrix&nbsp;dim(28,)</span></td></tr>\n",
       "            <tr><td class=\"diff_next\"></td><td class=\"diff_header\" id=\"from1_9\">9</td><td nowrap=\"nowrap\"><span class=\"diff_sub\">var_e,&nbsp;0.11585485316675201</span></td><td class=\"diff_next\"></td><td class=\"diff_header\" id=\"to1_9\">9</td><td nowrap=\"nowrap\"><span class=\"diff_add\">final,&nbsp;0.016062366199237177</span></td></tr>\n",
       "            <tr><td class=\"diff_next\"></td><td class=\"diff_header\" id=\"from1_10\">10</td><td nowrap=\"nowrap\"><span class=\"diff_sub\">rmse(var_c,&nbsp;var_e),&nbsp;0.11347265159133996</span></td><td class=\"diff_next\"></td><td class=\"diff_header\" id=\"to1_10\">10</td><td nowrap=\"nowrap\"><span class=\"diff_add\">k,&nbsp;0.5337311402710219</span></td></tr>\n",
       "            <tr><td class=\"diff_next\"></td><td class=\"diff_header\"></td><td nowrap=\"nowrap\"></td><td class=\"diff_next\"></td><td class=\"diff_header\" id=\"to1_11\">11</td><td nowrap=\"nowrap\"><span class=\"diff_add\">m,&nbsp;0.1260075254553671</span></td></tr>\n",
       "            <tr><td class=\"diff_next\"></td><td class=\"diff_header\"></td><td nowrap=\"nowrap\"></td><td class=\"diff_next\"></td><td class=\"diff_header\" id=\"to1_12\">12</td><td nowrap=\"nowrap\"><span class=\"diff_add\">stress_func(k,&nbsp;m),&nbsp;0.016062366199237177</span></td></tr>\n",
       "            <tr><td class=\"diff_next\"></td><td class=\"diff_header\"></td><td nowrap=\"nowrap\"></td><td class=\"diff_next\"></td><td class=\"diff_header\" id=\"to1_13\">13</td><td nowrap=\"nowrap\"><span class=\"diff_add\">var_c,&nbsp;0.016062366199237177</span></td></tr>\n",
       "            <tr><td class=\"diff_next\"></td><td class=\"diff_header\"></td><td nowrap=\"nowrap\"></td><td class=\"diff_next\"></td><td class=\"diff_header\" id=\"to1_14\">14</td><td nowrap=\"nowrap\"><span class=\"diff_add\">var_b,&nbsp;0.8002059281221632</span></td></tr>\n",
       "            <tr><td class=\"diff_next\"></td><td class=\"diff_header\"></td><td nowrap=\"nowrap\"></td><td class=\"diff_next\"></td><td class=\"diff_header\" id=\"to1_15\">15</td><td nowrap=\"nowrap\"><span class=\"diff_add\">mae(var_c,&nbsp;var_b),&nbsp;0.784143561922926</span></td></tr>\n",
       "            <tr><td class=\"diff_next\"></td><td class=\"diff_header\"></td><td nowrap=\"nowrap\"></td><td class=\"diff_next\"></td><td class=\"diff_header\" id=\"to1_16\">16</td><td nowrap=\"nowrap\"><span class=\"diff_add\">var_e,&nbsp;0.784143561922926</span></td></tr>\n",
       "            <tr><td class=\"diff_next\"></td><td class=\"diff_header\"></td><td nowrap=\"nowrap\"></td><td class=\"diff_next\"></td><td class=\"diff_header\" id=\"to1_17\">17</td><td nowrap=\"nowrap\"><span class=\"diff_add\">rmse(var_c,&nbsp;var_e),&nbsp;0.7680811957236888</span></td></tr>\n",
       "            <tr><td class=\"diff_next\"></td><td class=\"diff_header\" id=\"from1_11\">11</td><td nowrap=\"nowrap\">now_variable('target_var',&nbsp;rmse(var_c,&nbsp;var_e)),&nbsp;0.11<span class=\"diff_chg\">34</span>726<span class=\"diff_chg\">5159133996</span></td><td class=\"diff_next\"></td><td class=\"diff_header\" id=\"to1_18\">18</td><td nowrap=\"nowrap\">now_variable('target_var',&nbsp;rmse(var_c,&nbsp;var_e)),&nbsp;0.<span class=\"diff_add\">76808</span>11<span class=\"diff_chg\">95</span>72<span class=\"diff_add\">3</span>6<span class=\"diff_chg\">888</span></td></tr>\n",
       "            <tr><td class=\"diff_next\"></td><td class=\"diff_header\" id=\"from1_12\">12</td><td nowrap=\"nowrap\"><span class=\"diff_sub\">var_final,&nbsp;0.11347265159133996</span></td><td class=\"diff_next\"></td><td class=\"diff_header\" id=\"to1_19\">19</td><td nowrap=\"nowrap\"><span class=\"diff_add\">target_var,&nbsp;0.7680811957236888</span></td></tr>\n",
       "        </tbody>\n",
       "    </table>\n",
       "        "
      ],
      "text/plain": [
       "<IPython.core.display.HTML object>"
      ]
     },
     "metadata": {},
     "output_type": "display_data"
    }
   ],
   "source": [
    "trial_diff(list_id[0], list_id[-1])"
   ]
  },
  {
   "cell_type": "markdown",
   "id": "d54d2dbe-d291-4663-b6f0-b66e9124a3f9",
   "metadata": {
    "tags": []
   },
   "source": [
    "### var_tag_plott\n",
    "\n",
    "Chart the evolution of a given variable across multiple trials in the database. In this case, all experiments stored in ops.db and tagged as *target_var* has its values plotted"
   ]
  },
  {
   "cell_type": "code",
   "execution_count": 19,
   "id": "55740535-e000-468e-ae12-c4631f29f854",
   "metadata": {
    "tags": []
   },
   "outputs": [
    {
     "data": {
      "image/png": "[encoded data removed]",
      "text/plain": [
       "<Figure size 640x480 with 1 Axes>"
      ]
     },
     "metadata": {},
     "output_type": "display_data"
    }
   ],
   "source": [
    "var_tag_plot('target_var')"
   ]
  },
  {
   "cell_type": "markdown",
   "id": "49b841a5-1b8a-4c97-b36a-269d0f325828",
   "metadata": {},
   "source": [
    "### var_tag_values\n",
    "\n",
    "In the event that the user wants to manipulate the results of all rounds, the pandas dataframe is available."
   ]
  },
  {
   "cell_type": "code",
   "execution_count": 20,
   "id": "e7c07284-2422-4e50-82e3-fb05b643ba22",
   "metadata": {
    "tags": []
   },
   "outputs": [
    {
     "data": {
      "text/html": [
       "<div>\n",
       "<style scoped>\n",
       "    .dataframe tbody tr th:only-of-type {\n",
       "        vertical-align: middle;\n",
       "    }\n",
       "\n",
       "    .dataframe tbody tr th {\n",
       "        vertical-align: top;\n",
       "    }\n",
       "\n",
       "    .dataframe thead th {\n",
       "        text-align: right;\n",
       "    }\n",
       "</style>\n",
       "<table border=\"1\" class=\"dataframe\">\n",
       "  <thead>\n",
       "    <tr style=\"text-align: right;\">\n",
       "      <th></th>\n",
       "      <th>trial_id</th>\n",
       "      <th>short_trial_id</th>\n",
       "      <th>tag</th>\n",
       "      <th>value</th>\n",
       "    </tr>\n",
       "  </thead>\n",
       "  <tbody>\n",
       "    <tr>\n",
       "      <th>0</th>\n",
       "      <td>06dbf287-8ac0-44c7-b951-e56f79b4c7ee</td>\n",
       "      <td>4c7ee</td>\n",
       "      <td>target_var</td>\n",
       "      <td>0.262315</td>\n",
       "    </tr>\n",
       "    <tr>\n",
       "      <th>1</th>\n",
       "      <td>1a237a6a-4332-4744-ad3b-a16ccd17ce09</td>\n",
       "      <td>7ce09</td>\n",
       "      <td>target_var</td>\n",
       "      <td>0.643206</td>\n",
       "    </tr>\n",
       "    <tr>\n",
       "      <th>2</th>\n",
       "      <td>4659b4e5-3e8f-4b1e-a8bd-af7e27162bf2</td>\n",
       "      <td>62bf2</td>\n",
       "      <td>target_var</td>\n",
       "      <td>0.113473</td>\n",
       "    </tr>\n",
       "    <tr>\n",
       "      <th>3</th>\n",
       "      <td>15dd2cf6-6b36-443a-af65-ab91209be4d5</td>\n",
       "      <td>be4d5</td>\n",
       "      <td>target_var</td>\n",
       "      <td>0.684112</td>\n",
       "    </tr>\n",
       "    <tr>\n",
       "      <th>4</th>\n",
       "      <td>6720f664-424b-495c-9225-5ddb16fa90d1</td>\n",
       "      <td>a90d1</td>\n",
       "      <td>target_var</td>\n",
       "      <td>0.054208</td>\n",
       "    </tr>\n",
       "    <tr>\n",
       "      <th>5</th>\n",
       "      <td>f8a144af-dac1-4eb6-92a0-af3963dbd8fa</td>\n",
       "      <td>bd8fa</td>\n",
       "      <td>target_var</td>\n",
       "      <td>0.568847</td>\n",
       "    </tr>\n",
       "    <tr>\n",
       "      <th>6</th>\n",
       "      <td>f8a144af-dac1-4eb6-92a0-af3963dbd8fa</td>\n",
       "      <td>bd8fa</td>\n",
       "      <td>target_var</td>\n",
       "      <td>0.568847</td>\n",
       "    </tr>\n",
       "    <tr>\n",
       "      <th>7</th>\n",
       "      <td>cf32ccfb-aa29-4c51-b6e3-0e12398afd91</td>\n",
       "      <td>afd91</td>\n",
       "      <td>target_var</td>\n",
       "      <td>0.061998</td>\n",
       "    </tr>\n",
       "    <tr>\n",
       "      <th>8</th>\n",
       "      <td>8982e566-9224-4c8f-b0ff-2bf6a9b8bd75</td>\n",
       "      <td>8bd75</td>\n",
       "      <td>target_var</td>\n",
       "      <td>0.900734</td>\n",
       "    </tr>\n",
       "    <tr>\n",
       "      <th>9</th>\n",
       "      <td>b67bb75e-0800-41a5-a1c7-b81e212f318a</td>\n",
       "      <td>f318a</td>\n",
       "      <td>target_var</td>\n",
       "      <td>0.785679</td>\n",
       "    </tr>\n",
       "    <tr>\n",
       "      <th>10</th>\n",
       "      <td>98d470d3-1d90-41b8-9fc1-e49620111210</td>\n",
       "      <td>11210</td>\n",
       "      <td>target_var</td>\n",
       "      <td>0.393327</td>\n",
       "    </tr>\n",
       "    <tr>\n",
       "      <th>11</th>\n",
       "      <td>bcff40ae-fc80-4102-be99-50a5ab87cf51</td>\n",
       "      <td>7cf51</td>\n",
       "      <td>target_var</td>\n",
       "      <td>0.038961</td>\n",
       "    </tr>\n",
       "    <tr>\n",
       "      <th>12</th>\n",
       "      <td>cb082246-3503-4b96-9352-c102f2a0e7c7</td>\n",
       "      <td>0e7c7</td>\n",
       "      <td>target_var</td>\n",
       "      <td>0.370676</td>\n",
       "    </tr>\n",
       "    <tr>\n",
       "      <th>13</th>\n",
       "      <td>8e772c42-304e-437e-b30c-013682ab7fcb</td>\n",
       "      <td>b7fcb</td>\n",
       "      <td>target_var</td>\n",
       "      <td>0.095845</td>\n",
       "    </tr>\n",
       "    <tr>\n",
       "      <th>14</th>\n",
       "      <td>8e7d2f7e-1f1b-4409-ba52-ea0f182a5416</td>\n",
       "      <td>a5416</td>\n",
       "      <td>target_var</td>\n",
       "      <td>0.228189</td>\n",
       "    </tr>\n",
       "    <tr>\n",
       "      <th>15</th>\n",
       "      <td>6285c08e-6735-45cc-b2e7-fa3102a2bf86</td>\n",
       "      <td>2bf86</td>\n",
       "      <td>target_var</td>\n",
       "      <td>0.269680</td>\n",
       "    </tr>\n",
       "    <tr>\n",
       "      <th>16</th>\n",
       "      <td>73f4e83e-0028-4733-9f39-d280d5b03502</td>\n",
       "      <td>03502</td>\n",
       "      <td>target_var</td>\n",
       "      <td>0.768081</td>\n",
       "    </tr>\n",
       "    <tr>\n",
       "      <th>17</th>\n",
       "      <td>d8061deb-aee6-4a2b-b9e8-1d57286349bd</td>\n",
       "      <td>349bd</td>\n",
       "      <td>target_var</td>\n",
       "      <td>0.174680</td>\n",
       "    </tr>\n",
       "    <tr>\n",
       "      <th>18</th>\n",
       "      <td>13895766-f4f0-4848-aff0-70738249edd6</td>\n",
       "      <td>9edd6</td>\n",
       "      <td>target_var</td>\n",
       "      <td>0.307114</td>\n",
       "    </tr>\n",
       "    <tr>\n",
       "      <th>19</th>\n",
       "      <td>5e462546-7cfe-403f-8927-3ef847d3c1ac</td>\n",
       "      <td>3c1ac</td>\n",
       "      <td>target_var</td>\n",
       "      <td>0.532754</td>\n",
       "    </tr>\n",
       "  </tbody>\n",
       "</table>\n",
       "</div>"
      ],
      "text/plain": [
       "                                trial_id short_trial_id         tag     value\n",
       "0   06dbf287-8ac0-44c7-b951-e56f79b4c7ee          4c7ee  target_var  0.262315\n",
       "1   1a237a6a-4332-4744-ad3b-a16ccd17ce09          7ce09  target_var  0.643206\n",
       "2   4659b4e5-3e8f-4b1e-a8bd-af7e27162bf2          62bf2  target_var  0.113473\n",
       "3   15dd2cf6-6b36-443a-af65-ab91209be4d5          be4d5  target_var  0.684112\n",
       "4   6720f664-424b-495c-9225-5ddb16fa90d1          a90d1  target_var  0.054208\n",
       "5   f8a144af-dac1-4eb6-92a0-af3963dbd8fa          bd8fa  target_var  0.568847\n",
       "6   f8a144af-dac1-4eb6-92a0-af3963dbd8fa          bd8fa  target_var  0.568847\n",
       "7   cf32ccfb-aa29-4c51-b6e3-0e12398afd91          afd91  target_var  0.061998\n",
       "8   8982e566-9224-4c8f-b0ff-2bf6a9b8bd75          8bd75  target_var  0.900734\n",
       "9   b67bb75e-0800-41a5-a1c7-b81e212f318a          f318a  target_var  0.785679\n",
       "10  98d470d3-1d90-41b8-9fc1-e49620111210          11210  target_var  0.393327\n",
       "11  bcff40ae-fc80-4102-be99-50a5ab87cf51          7cf51  target_var  0.038961\n",
       "12  cb082246-3503-4b96-9352-c102f2a0e7c7          0e7c7  target_var  0.370676\n",
       "13  8e772c42-304e-437e-b30c-013682ab7fcb          b7fcb  target_var  0.095845\n",
       "14  8e7d2f7e-1f1b-4409-ba52-ea0f182a5416          a5416  target_var  0.228189\n",
       "15  6285c08e-6735-45cc-b2e7-fa3102a2bf86          2bf86  target_var  0.269680\n",
       "16  73f4e83e-0028-4733-9f39-d280d5b03502          03502  target_var  0.768081\n",
       "17  d8061deb-aee6-4a2b-b9e8-1d57286349bd          349bd  target_var  0.174680\n",
       "18  13895766-f4f0-4848-aff0-70738249edd6          9edd6  target_var  0.307114\n",
       "19  5e462546-7cfe-403f-8927-3ef847d3c1ac          3c1ac  target_var  0.532754"
      ]
     },
     "execution_count": 20,
     "metadata": {},
     "output_type": "execute_result"
    }
   ],
   "source": [
    "var_tag_values('target_var')"
   ]
  },
  {
   "cell_type": "code",
   "execution_count": null,
   "id": "63730330-521d-4e94-9fa8-9b365c702d52",
   "metadata": {},
   "outputs": [],
   "source": []
  }
 ],
 "metadata": {
  "kernelspec": {
   "display_name": "noWorkflow 3",
   "language": "python",
   "name": "noworkflow3"
  },
  "language_info": {
   "codemirror_mode": {
    "name": "ipython",
    "version": 3
   },
   "file_extension": ".py",
   "mimetype": "text/x-python",
   "name": "python",
   "nbconvert_exporter": "python",
   "pygments_lexer": "ipython3",
   "version": "3.7.16"
  }
 },
 "nbformat": 4,
 "nbformat_minor": 5
}
