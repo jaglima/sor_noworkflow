{
 "cells": [
  {
   "cell_type": "markdown",
   "id": "00ecf2b0-775b-4153-b66d-4b0150213bf2",
   "metadata": {},
   "source": [
    "#### Summer of Reproducibility - noWorkflow base experiment - Notebook 3\n",
    "\n",
    "This Jupyter Notebook is dedicated to guiding you through the applications of noWorkflow in Data Science and Machine Learning. It is the result of our work during the Summer of Reproducibility at OSPO UCSC 2023, utilizing [noWorkflow](https://github.com/gems-uff/noworkflow).\n",
    "\n",
    "This Notebook serves as a use case based on the problem of Fraud Detection. We have partially replicated the work titled \"The Effect of Feature Extraction and Data Sampling on Credit Card Fraud Detection.\" Interested readers are encouraged to refer to the original work [here].(https://link.springer.com/article/10.1186/s40537-023-00684-w).\n",
    "\n",
    "For the sake of clarity, we have divided this experiment into different notebooks:\n",
    "\n",
    "1. Covers the steps from reading the dataset to Random Forest training, configuring a single trial.\n",
    "2. Repeats all previous steps but with changes in the experimental setup, such as modified hyperparameters.\n",
    "3. Utilizes noWorkflow to summarize the results from previous trials.\n",
    "4. Repeats the experiment, changing the model and the order of operations.\n",
    "5. Compares the modifications and differences between the last and first experiments.\n",
    "\n",
    "**Please, remember to select the noWorkflow kernel before running these Notebooks.**"
   ]
  },
  {
   "cell_type": "code",
   "execution_count": 1,
   "id": "74a1adeb-2936-43df-a1f5-4a3b4404aec1",
   "metadata": {
    "tags": []
   },
   "outputs": [],
   "source": [
    "from sklearn.decomposition import PCA\n",
    "from sklearn.metrics import roc_auc_score, f1_score\n",
    "from sklearn.ensemble import RandomForestClassifier\n",
    "from imblearn.under_sampling import RandomUnderSampler\n",
    "from sklearn.model_selection import train_test_split\n",
    "import pandas as pd\n",
    "import xgboost as xgb\n",
    "import lightgbm as lgb\n",
    "import catboost as cat\n",
    "\n",
    "from noworkflow.now.tagging.var_tagging import backward_deps, \\\n",
    "    global_backward_deps, store_operations, resume_trials, trial_diff, \\\n",
    "    trial_intersection_diff, var_tag_plot, var_tag_values"
   ]
  },
  {
   "cell_type": "markdown",
   "id": "e75b860a-76f6-4768-8080-db001d76119e",
   "metadata": {
    "tags": []
   },
   "source": [
    "## Comparision Notebook\n",
    "\n",
    "We have the experiments executed in past two notebooks and available to be compared. Just remembering the trial ids of both:"
   ]
  },
  {
   "cell_type": "code",
   "execution_count": 2,
   "id": "ed828c52-1ebd-4efd-a55c-d838f03bc905",
   "metadata": {
    "tags": []
   },
   "outputs": [
    {
     "data": {
      "text/plain": [
       "['edb94455-f97b-46f0-b30e-ed01eaf81081',\n",
       " 'b86773c3-a3b7-40d0-a3ac-5ab4278826c2']"
      ]
     },
     "execution_count": 2,
     "metadata": {},
     "output_type": "execute_result"
    }
   ],
   "source": [
    "list_id = resume_trials()\n",
    "list_id"
   ]
  },
  {
   "cell_type": "markdown",
   "id": "70faddb2-216e-4a62-9d88-f9e4a6b236b2",
   "metadata": {
    "tags": []
   },
   "source": [
    "### Comparing the common operations in both trials\n",
    "\n",
    "In order to examine the paired numerical values in both trials, the *trial_intersecction_diff* displays the results of correspondent operations in both trials. In the case that one operation is not present in one trial, it will be ignored in this comparision.\n",
    "\n",
    "In the follwing output we can see that pca_components changed from 3 to 5, the size of test_dim went from 0.2 to 0.3. However, the values of y_test, y_pred, among other, are not available given they are numpy matrices and vectors. This feature is in our backlog."
   ]
  },
  {
   "cell_type": "code",
   "execution_count": 3,
   "id": "e9323387-a4c6-4df5-86ff-a14149d01313",
   "metadata": {
    "tags": []
   },
   "outputs": [
    {
     "data": {
      "text/html": [
       "<div>\n",
       "<style scoped>\n",
       "    .dataframe tbody tr th:only-of-type {\n",
       "        vertical-align: middle;\n",
       "    }\n",
       "\n",
       "    .dataframe tbody tr th {\n",
       "        vertical-align: top;\n",
       "    }\n",
       "\n",
       "    .dataframe thead th {\n",
       "        text-align: right;\n",
       "    }\n",
       "</style>\n",
       "<table border=\"1\" class=\"dataframe\">\n",
       "  <thead>\n",
       "    <tr style=\"text-align: right;\">\n",
       "      <th></th>\n",
       "      <th>key</th>\n",
       "      <th>81081</th>\n",
       "      <th>826c2</th>\n",
       "    </tr>\n",
       "  </thead>\n",
       "  <tbody>\n",
       "    <tr>\n",
       "      <th>0</th>\n",
       "      <td>now_variable('roc_metric', roc_auc_score(y_tes...</td>\n",
       "      <td>0.817305710162853</td>\n",
       "      <td>0.9254794520547944</td>\n",
       "    </tr>\n",
       "    <tr>\n",
       "      <th>1</th>\n",
       "      <td>X_resampled</td>\n",
       "      <td>complex data type</td>\n",
       "      <td>complex data type</td>\n",
       "    </tr>\n",
       "    <tr>\n",
       "      <th>2</th>\n",
       "      <td>y_pred</td>\n",
       "      <td>complex data type</td>\n",
       "      <td>complex data type</td>\n",
       "    </tr>\n",
       "    <tr>\n",
       "      <th>3</th>\n",
       "      <td>pca</td>\n",
       "      <td>PCA(n_components=3)</td>\n",
       "      <td>PCA(n_components=5)</td>\n",
       "    </tr>\n",
       "    <tr>\n",
       "      <th>4</th>\n",
       "      <td>y</td>\n",
       "      <td>complex data type</td>\n",
       "      <td>complex data type</td>\n",
       "    </tr>\n",
       "    <tr>\n",
       "      <th>5</th>\n",
       "      <td>pca_components</td>\n",
       "      <td>3</td>\n",
       "      <td>5</td>\n",
       "    </tr>\n",
       "    <tr>\n",
       "      <th>6</th>\n",
       "      <td>rus</td>\n",
       "      <td>complex data type</td>\n",
       "      <td>complex data type</td>\n",
       "    </tr>\n",
       "    <tr>\n",
       "      <th>7</th>\n",
       "      <td>roc_auc_score(y_test, y_pred)</td>\n",
       "      <td>0.817305710162853</td>\n",
       "      <td>0.9254794520547944</td>\n",
       "    </tr>\n",
       "    <tr>\n",
       "      <th>8</th>\n",
       "      <td>df['Class']</td>\n",
       "      <td>complex data type</td>\n",
       "      <td>complex data type</td>\n",
       "    </tr>\n",
       "    <tr>\n",
       "      <th>9</th>\n",
       "      <td>y_test</td>\n",
       "      <td>complex data type</td>\n",
       "      <td>complex data type</td>\n",
       "    </tr>\n",
       "    <tr>\n",
       "      <th>10</th>\n",
       "      <td>RandomUnderSampler(random_state=random_seed)</td>\n",
       "      <td>complex data type</td>\n",
       "      <td>complex data type</td>\n",
       "    </tr>\n",
       "    <tr>\n",
       "      <th>11</th>\n",
       "      <td>test_dim</td>\n",
       "      <td>0.2</td>\n",
       "      <td>0.3</td>\n",
       "    </tr>\n",
       "    <tr>\n",
       "      <th>12</th>\n",
       "      <td>df</td>\n",
       "      <td>complex data type</td>\n",
       "      <td>complex data type</td>\n",
       "    </tr>\n",
       "    <tr>\n",
       "      <th>13</th>\n",
       "      <td>X_pca</td>\n",
       "      <td>complex data type</td>\n",
       "      <td>complex data type</td>\n",
       "    </tr>\n",
       "    <tr>\n",
       "      <th>14</th>\n",
       "      <td>now_variable('model', RandomForestClassifier())</td>\n",
       "      <td>complex data type</td>\n",
       "      <td>complex data type</td>\n",
       "    </tr>\n",
       "    <tr>\n",
       "      <th>15</th>\n",
       "      <td>RandomForestClassifier()</td>\n",
       "      <td>complex data type</td>\n",
       "      <td>complex data type</td>\n",
       "    </tr>\n",
       "    <tr>\n",
       "      <th>16</th>\n",
       "      <td>y_resampled</td>\n",
       "      <td>complex data type</td>\n",
       "      <td>complex data type</td>\n",
       "    </tr>\n",
       "    <tr>\n",
       "      <th>17</th>\n",
       "      <td>train_test_split(X_resampled, y_resampled, tes...</td>\n",
       "      <td>complex data type</td>\n",
       "      <td>complex data type</td>\n",
       "    </tr>\n",
       "    <tr>\n",
       "      <th>18</th>\n",
       "      <td>X_test</td>\n",
       "      <td>complex data type</td>\n",
       "      <td>complex data type</td>\n",
       "    </tr>\n",
       "    <tr>\n",
       "      <th>19</th>\n",
       "      <td>X</td>\n",
       "      <td>complex data type</td>\n",
       "      <td>complex data type</td>\n",
       "    </tr>\n",
       "    <tr>\n",
       "      <th>20</th>\n",
       "      <td>rf</td>\n",
       "      <td>complex data type</td>\n",
       "      <td>complex data type</td>\n",
       "    </tr>\n",
       "    <tr>\n",
       "      <th>21</th>\n",
       "      <td>roc_metric</td>\n",
       "      <td>0.817305710162853</td>\n",
       "      <td>0.9254794520547944</td>\n",
       "    </tr>\n",
       "    <tr>\n",
       "      <th>22</th>\n",
       "      <td>PCA(n_components=pca_components)</td>\n",
       "      <td>PCA(n_components=3)</td>\n",
       "      <td>PCA(n_components=5)</td>\n",
       "    </tr>\n",
       "    <tr>\n",
       "      <th>23</th>\n",
       "      <td>random_seed</td>\n",
       "      <td>42</td>\n",
       "      <td>123456</td>\n",
       "    </tr>\n",
       "  </tbody>\n",
       "</table>\n",
       "</div>"
      ],
      "text/plain": [
       "                                                  key  ...                826c2\n",
       "0   now_variable('roc_metric', roc_auc_score(y_tes...  ...   0.9254794520547944\n",
       "1                                         X_resampled  ...    complex data type\n",
       "2                                              y_pred  ...    complex data type\n",
       "3                                                 pca  ...  PCA(n_components=5)\n",
       "4                                                   y  ...    complex data type\n",
       "5                                      pca_components  ...                    5\n",
       "6                                                 rus  ...    complex data type\n",
       "7                       roc_auc_score(y_test, y_pred)  ...   0.9254794520547944\n",
       "8                                         df['Class']  ...    complex data type\n",
       "9                                              y_test  ...    complex data type\n",
       "10       RandomUnderSampler(random_state=random_seed)  ...    complex data type\n",
       "11                                           test_dim  ...                  0.3\n",
       "12                                                 df  ...    complex data type\n",
       "13                                              X_pca  ...    complex data type\n",
       "14    now_variable('model', RandomForestClassifier())  ...    complex data type\n",
       "15                           RandomForestClassifier()  ...    complex data type\n",
       "16                                        y_resampled  ...    complex data type\n",
       "17  train_test_split(X_resampled, y_resampled, tes...  ...    complex data type\n",
       "18                                             X_test  ...    complex data type\n",
       "19                                                  X  ...    complex data type\n",
       "20                                                 rf  ...    complex data type\n",
       "21                                         roc_metric  ...   0.9254794520547944\n",
       "22                   PCA(n_components=pca_components)  ...  PCA(n_components=5)\n",
       "23                                        random_seed  ...               123456\n",
       "\n",
       "[24 rows x 3 columns]"
      ]
     },
     "execution_count": 3,
     "metadata": {},
     "output_type": "execute_result"
    }
   ],
   "source": [
    "trial_intersection_diff(list_id[0], list_id[-1])"
   ]
  },
  {
   "cell_type": "markdown",
   "id": "4e305632-4683-4f7b-967e-bbe5cb9da0c8",
   "metadata": {
    "tags": []
   },
   "source": [
    "### Comparing operations and its order in both trials\n",
    "\n",
    "Here is the second way into displaying differences. The values of variables and function calls are exhibited in a diff file format, emphasizing the order of the operations carried out. The goal here is to show anything that went different between the two trials. "
   ]
  },
  {
   "cell_type": "code",
   "execution_count": 4,
   "id": "4aa627d9-511b-4bc6-be1c-cc2d2f6c3822",
   "metadata": {
    "tags": []
   },
   "outputs": [
    {
     "data": {
      "text/html": [
       "\n",
       "        <style>\n",
       "        .diff_header {\n",
       "            background-color: #f1f1f1;\n",
       "        }\n",
       "        .diff_next {\n",
       "            background-color: #f1f1f1;\n",
       "        }\n",
       "        .diff_add {\n",
       "            background-color: #ddffdd;\n",
       "        }\n",
       "        .diff_chg {\n",
       "            background-color: #ffffaa;\n",
       "        }\n",
       "        .diff_sub {\n",
       "            background-color: #ffdddd;\n",
       "        }\n",
       "        .diff_table {\n",
       "            text-align: left; /* Align the table content to the left */\n",
       "        }\n",
       "        </style>\n",
       "        \n",
       "    <table class=\"diff\" id=\"difflib_chg_to0__top\"\n",
       "           cellspacing=\"0\" cellpadding=\"0\" rules=\"groups\" >\n",
       "        <colgroup></colgroup> <colgroup></colgroup> <colgroup></colgroup>\n",
       "        <colgroup></colgroup> <colgroup></colgroup> <colgroup></colgroup>\n",
       "        \n",
       "        <tbody>\n",
       "            <tr><td class=\"diff_next\"><a href=\"#difflib_chg_to0__0\">f</a></td><td class=\"diff_header\" id=\"from0_1\">1</td><td nowrap=\"nowrap\">y_test,&nbsp;complex&nbsp;data&nbsp;type</td><td class=\"diff_next\"><a href=\"#difflib_chg_to0__0\">f</a></td><td class=\"diff_header\" id=\"to0_1\">1</td><td nowrap=\"nowrap\">y_test,&nbsp;complex&nbsp;data&nbsp;type</td></tr>\n",
       "            <tr><td class=\"diff_next\"></td><td class=\"diff_header\" id=\"from0_2\">2</td><td nowrap=\"nowrap\">RandomForestClassifier(),&nbsp;complex&nbsp;data&nbsp;type</td><td class=\"diff_next\"></td><td class=\"diff_header\" id=\"to0_2\">2</td><td nowrap=\"nowrap\">RandomForestClassifier(),&nbsp;complex&nbsp;data&nbsp;type</td></tr>\n",
       "            <tr><td class=\"diff_next\"></td><td class=\"diff_header\" id=\"from0_3\">3</td><td nowrap=\"nowrap\">now_variable('model',&nbsp;RandomForestClassifier()),&nbsp;complex&nbsp;data&nbsp;type</td><td class=\"diff_next\"></td><td class=\"diff_header\" id=\"to0_3\">3</td><td nowrap=\"nowrap\">now_variable('model',&nbsp;RandomForestClassifier()),&nbsp;complex&nbsp;data&nbsp;type</td></tr>\n",
       "            <tr><td class=\"diff_next\"></td><td class=\"diff_header\" id=\"from0_4\">4</td><td nowrap=\"nowrap\">rf,&nbsp;complex&nbsp;data&nbsp;type</td><td class=\"diff_next\"></td><td class=\"diff_header\" id=\"to0_4\">4</td><td nowrap=\"nowrap\">rf,&nbsp;complex&nbsp;data&nbsp;type</td></tr>\n",
       "            <tr><td class=\"diff_next\"></td><td class=\"diff_header\" id=\"from0_5\">5</td><td nowrap=\"nowrap\">X_resampled,&nbsp;complex&nbsp;data&nbsp;type</td><td class=\"diff_next\"></td><td class=\"diff_header\" id=\"to0_5\">5</td><td nowrap=\"nowrap\">X_resampled,&nbsp;complex&nbsp;data&nbsp;type</td></tr>\n",
       "            <tr><td class=\"diff_next\"></td><td class=\"diff_header\" id=\"from0_6\">6</td><td nowrap=\"nowrap\">RandomUnderSampler(random_state=random_seed),&nbsp;complex&nbsp;data&nbsp;type</td><td class=\"diff_next\"></td><td class=\"diff_header\" id=\"to0_6\">6</td><td nowrap=\"nowrap\">RandomUnderSampler(random_state=random_seed),&nbsp;complex&nbsp;data&nbsp;type</td></tr>\n",
       "            <tr><td class=\"diff_next\"></td><td class=\"diff_header\" id=\"from0_7\">7</td><td nowrap=\"nowrap\">rus,&nbsp;complex&nbsp;data&nbsp;type</td><td class=\"diff_next\"></td><td class=\"diff_header\" id=\"to0_7\">7</td><td nowrap=\"nowrap\">rus,&nbsp;complex&nbsp;data&nbsp;type</td></tr>\n",
       "            <tr><td class=\"diff_next\" id=\"difflib_chg_to0__0\"><a href=\"#difflib_chg_to0__1\">n</a></td><td class=\"diff_header\" id=\"from0_8\">8</td><td nowrap=\"nowrap\">now_variable('pca_components',&nbsp;<span class=\"diff_chg\">3</span>),&nbsp;<span class=\"diff_chg\">3</span></td><td class=\"diff_next\"><a href=\"#difflib_chg_to0__1\">n</a></td><td class=\"diff_header\" id=\"to0_8\">8</td><td nowrap=\"nowrap\">now_variable('pca_components',&nbsp;<span class=\"diff_chg\">5</span>),&nbsp;<span class=\"diff_chg\">5</span></td></tr>\n",
       "            <tr><td class=\"diff_next\"></td><td class=\"diff_header\" id=\"from0_9\">9</td><td nowrap=\"nowrap\">pca_components,&nbsp;<span class=\"diff_chg\">3</span></td><td class=\"diff_next\"></td><td class=\"diff_header\" id=\"to0_9\">9</td><td nowrap=\"nowrap\">pca_components,&nbsp;<span class=\"diff_chg\">5</span></td></tr>\n",
       "            <tr><td class=\"diff_next\"></td><td class=\"diff_header\" id=\"from0_10\">10</td><td nowrap=\"nowrap\">PCA(n_components=pca_components),&nbsp;PCA(n_components=<span class=\"diff_chg\">3</span>)</td><td class=\"diff_next\"></td><td class=\"diff_header\" id=\"to0_10\">10</td><td nowrap=\"nowrap\">PCA(n_components=pca_components),&nbsp;PCA(n_components=<span class=\"diff_chg\">5</span>)</td></tr>\n",
       "            <tr><td class=\"diff_next\"></td><td class=\"diff_header\" id=\"from0_11\">11</td><td nowrap=\"nowrap\">pca,&nbsp;PCA(n_components=<span class=\"diff_chg\">3</span>)</td><td class=\"diff_next\"></td><td class=\"diff_header\" id=\"to0_11\">11</td><td nowrap=\"nowrap\">pca,&nbsp;PCA(n_components=<span class=\"diff_chg\">5</span>)</td></tr>\n",
       "            <tr><td class=\"diff_next\"></td><td class=\"diff_header\" id=\"from0_12\">12</td><td nowrap=\"nowrap\">X,&nbsp;complex&nbsp;data&nbsp;type</td><td class=\"diff_next\"></td><td class=\"diff_header\" id=\"to0_12\">12</td><td nowrap=\"nowrap\">X,&nbsp;complex&nbsp;data&nbsp;type</td></tr>\n",
       "            <tr><td class=\"diff_next\"></td><td class=\"diff_header\" id=\"from0_13\">13</td><td nowrap=\"nowrap\">X_pca,&nbsp;complex&nbsp;data&nbsp;type</td><td class=\"diff_next\"></td><td class=\"diff_header\" id=\"to0_13\">13</td><td nowrap=\"nowrap\">X_pca,&nbsp;complex&nbsp;data&nbsp;type</td></tr>\n",
       "            <tr><td class=\"diff_next\"></td><td class=\"diff_header\" id=\"from0_14\">14</td><td nowrap=\"nowrap\">df,&nbsp;complex&nbsp;data&nbsp;type</td><td class=\"diff_next\"></td><td class=\"diff_header\" id=\"to0_14\">14</td><td nowrap=\"nowrap\">df,&nbsp;complex&nbsp;data&nbsp;type</td></tr>\n",
       "            <tr><td class=\"diff_next\"></td><td class=\"diff_header\" id=\"from0_15\">15</td><td nowrap=\"nowrap\">df['Class'],&nbsp;complex&nbsp;data&nbsp;type</td><td class=\"diff_next\"></td><td class=\"diff_header\" id=\"to0_15\">15</td><td nowrap=\"nowrap\">df['Class'],&nbsp;complex&nbsp;data&nbsp;type</td></tr>\n",
       "            <tr><td class=\"diff_next\"></td><td class=\"diff_header\" id=\"from0_16\">16</td><td nowrap=\"nowrap\">y,&nbsp;complex&nbsp;data&nbsp;type</td><td class=\"diff_next\"></td><td class=\"diff_header\" id=\"to0_16\">16</td><td nowrap=\"nowrap\">y,&nbsp;complex&nbsp;data&nbsp;type</td></tr>\n",
       "            <tr><td class=\"diff_next\"></td><td class=\"diff_header\" id=\"from0_17\">17</td><td nowrap=\"nowrap\">y_resampled,&nbsp;complex&nbsp;data&nbsp;type</td><td class=\"diff_next\"></td><td class=\"diff_header\" id=\"to0_17\">17</td><td nowrap=\"nowrap\">y_resampled,&nbsp;complex&nbsp;data&nbsp;type</td></tr>\n",
       "            <tr><td class=\"diff_next\" id=\"difflib_chg_to0__1\"><a href=\"#difflib_chg_to0__2\">n</a></td><td class=\"diff_header\" id=\"from0_18\">18</td><td nowrap=\"nowrap\">now_variable('test_dim',&nbsp;0.<span class=\"diff_chg\">2</span>),&nbsp;0.<span class=\"diff_chg\">2</span></td><td class=\"diff_next\"><a href=\"#difflib_chg_to0__2\">n</a></td><td class=\"diff_header\" id=\"to0_18\">18</td><td nowrap=\"nowrap\">now_variable('test_dim',&nbsp;0.<span class=\"diff_chg\">3</span>),&nbsp;0.<span class=\"diff_chg\">3</span></td></tr>\n",
       "            <tr><td class=\"diff_next\"></td><td class=\"diff_header\" id=\"from0_19\">19</td><td nowrap=\"nowrap\">test_dim,&nbsp;0.<span class=\"diff_chg\">2</span></td><td class=\"diff_next\"></td><td class=\"diff_header\" id=\"to0_19\">19</td><td nowrap=\"nowrap\">test_dim,&nbsp;0.<span class=\"diff_chg\">3</span></td></tr>\n",
       "            <tr><td class=\"diff_next\"></td><td class=\"diff_header\" id=\"from0_20\">20</td><td nowrap=\"nowrap\">now_variable('random_seed',&nbsp;4<span class=\"diff_chg\">2</span>),&nbsp;4<span class=\"diff_chg\">2</span></td><td class=\"diff_next\"></td><td class=\"diff_header\" id=\"to0_20\">20</td><td nowrap=\"nowrap\">now_variable('random_seed',&nbsp;<span class=\"diff_add\">123</span>4<span class=\"diff_chg\">56</span>),&nbsp;<span class=\"diff_add\">123</span>4<span class=\"diff_chg\">56</span></td></tr>\n",
       "            <tr><td class=\"diff_next\"></td><td class=\"diff_header\" id=\"from0_21\">21</td><td nowrap=\"nowrap\">random_seed,&nbsp;4<span class=\"diff_chg\">2</span></td><td class=\"diff_next\"></td><td class=\"diff_header\" id=\"to0_21\">21</td><td nowrap=\"nowrap\">random_seed,&nbsp;<span class=\"diff_add\">123</span>4<span class=\"diff_chg\">56</span></td></tr>\n",
       "            <tr><td class=\"diff_next\"></td><td class=\"diff_header\" id=\"from0_22\">22</td><td nowrap=\"nowrap\">train_test_split(X_resampled,&nbsp;y_resampled,&nbsp;test_size=test_dim,</td><td class=\"diff_next\"></td><td class=\"diff_header\" id=\"to0_22\">22</td><td nowrap=\"nowrap\">train_test_split(X_resampled,&nbsp;y_resampled,&nbsp;test_size=test_dim,</td></tr>\n",
       "            <tr><td class=\"diff_next\"></td><td class=\"diff_header\" id=\"from0_23\">23</td><td nowrap=\"nowrap\">&nbsp;&nbsp;&nbsp;&nbsp;random_state=random_seed),&nbsp;complex&nbsp;data&nbsp;type</td><td class=\"diff_next\"></td><td class=\"diff_header\" id=\"to0_23\">23</td><td nowrap=\"nowrap\">&nbsp;&nbsp;&nbsp;&nbsp;random_state=random_seed),&nbsp;complex&nbsp;data&nbsp;type</td></tr>\n",
       "            <tr><td class=\"diff_next\"></td><td class=\"diff_header\" id=\"from0_24\">24</td><td nowrap=\"nowrap\">X_test,&nbsp;complex&nbsp;data&nbsp;type</td><td class=\"diff_next\"></td><td class=\"diff_header\" id=\"to0_24\">24</td><td nowrap=\"nowrap\">X_test,&nbsp;complex&nbsp;data&nbsp;type</td></tr>\n",
       "            <tr><td class=\"diff_next\"></td><td class=\"diff_header\" id=\"from0_25\">25</td><td nowrap=\"nowrap\">y_pred,&nbsp;complex&nbsp;data&nbsp;type</td><td class=\"diff_next\"></td><td class=\"diff_header\" id=\"to0_25\">25</td><td nowrap=\"nowrap\">y_pred,&nbsp;complex&nbsp;data&nbsp;type</td></tr>\n",
       "            <tr><td class=\"diff_next\" id=\"difflib_chg_to0__2\"><a href=\"#difflib_chg_to0__3\">n</a></td><td class=\"diff_header\" id=\"from0_26\">26</td><td nowrap=\"nowrap\">roc_auc_score(y_test,&nbsp;y_pred),&nbsp;0.<span class=\"diff_chg\">81</span>7<span class=\"diff_chg\">3</span>057<span class=\"diff_chg\">10162853</span></td><td class=\"diff_next\"><a href=\"#difflib_chg_to0__3\">n</a></td><td class=\"diff_header\" id=\"to0_26\">26</td><td nowrap=\"nowrap\">roc_auc_score(y_test,&nbsp;y_pred),&nbsp;0.<span class=\"diff_chg\">9254</span>7<span class=\"diff_chg\">9452</span>05<span class=\"diff_add\">4</span>7<span class=\"diff_chg\">944</span></td></tr>\n",
       "            <tr><td class=\"diff_next\"></td><td class=\"diff_header\" id=\"from0_27\">27</td><td nowrap=\"nowrap\">now_variable('roc_metric',&nbsp;roc_auc_score(y_test,&nbsp;y_pred)),</td><td class=\"diff_next\"></td><td class=\"diff_header\" id=\"to0_27\">27</td><td nowrap=\"nowrap\">now_variable('roc_metric',&nbsp;roc_auc_score(y_test,&nbsp;y_pred)),</td></tr>\n",
       "            <tr><td class=\"diff_next\" id=\"difflib_chg_to0__3\"><a href=\"#difflib_chg_to0__top\">t</a></td><td class=\"diff_header\" id=\"from0_28\">28</td><td nowrap=\"nowrap\"><span class=\"diff_sub\">&nbsp;&nbsp;&nbsp;&nbsp;0.817305710162853</span></td><td class=\"diff_next\"><a href=\"#difflib_chg_to0__top\">t</a></td><td class=\"diff_header\" id=\"to0_28\">28</td><td nowrap=\"nowrap\"><span class=\"diff_add\">&nbsp;&nbsp;&nbsp;&nbsp;0.9254794520547944</span></td></tr>\n",
       "            <tr><td class=\"diff_next\"></td><td class=\"diff_header\" id=\"from0_29\">29</td><td nowrap=\"nowrap\"><span class=\"diff_sub\">roc_metric,&nbsp;0.817305710162853</span></td><td class=\"diff_next\"></td><td class=\"diff_header\" id=\"to0_29\">29</td><td nowrap=\"nowrap\"><span class=\"diff_add\">roc_metric,&nbsp;0.9254794520547944</span></td></tr>\n",
       "        </tbody>\n",
       "    </table>\n",
       "        "
      ],
      "text/plain": [
       "<IPython.core.display.HTML object>"
      ]
     },
     "metadata": {},
     "output_type": "display_data"
    }
   ],
   "source": [
    "trial_diff(list_id[0], list_id[-1])"
   ]
  },
  {
   "cell_type": "markdown",
   "id": "d54d2dbe-d291-4663-b6f0-b66e9124a3f9",
   "metadata": {
    "tags": []
   },
   "source": [
    "### var_tag_plot\n",
    "\n",
    "Charting the values of all values of a tagged variable. In this examples, *roc_fr* and *f1_rf*."
   ]
  },
  {
   "cell_type": "code",
   "execution_count": 5,
   "id": "55740535-e000-468e-ae12-c4631f29f854",
   "metadata": {
    "tags": []
   },
   "outputs": [
    {
     "data": {
      "image/png": "[encoded data removed]",
      "text/plain": [
       "<Figure size 640x480 with 1 Axes>"
      ]
     },
     "metadata": {},
     "output_type": "display_data"
    }
   ],
   "source": [
    "var_tag_plot('roc_metric')"
   ]
  },
  {
   "cell_type": "code",
   "execution_count": 6,
   "id": "b2daf151-3575-4ace-a07d-7dc36ddad691",
   "metadata": {
    "tags": []
   },
   "outputs": [
    {
     "data": {
      "image/png": "[encoded data removed]",
      "text/plain": [
       "<Figure size 640x480 with 1 Axes>"
      ]
     },
     "metadata": {},
     "output_type": "display_data"
    }
   ],
   "source": [
    "var_tag_plot('f1_metric')"
   ]
  },
  {
   "cell_type": "markdown",
   "id": "49b841a5-1b8a-4c97-b36a-269d0f325828",
   "metadata": {},
   "source": [
    "### var_tag_values\n",
    "\n",
    "Retrieving the values of the same tagged variables in a pandas dataframe. In the examples, *roc_rf* and *model* name."
   ]
  },
  {
   "cell_type": "code",
   "execution_count": 7,
   "id": "e7c07284-2422-4e50-82e3-fb05b643ba22",
   "metadata": {
    "tags": []
   },
   "outputs": [
    {
     "data": {
      "text/html": [
       "<div>\n",
       "<style scoped>\n",
       "    .dataframe tbody tr th:only-of-type {\n",
       "        vertical-align: middle;\n",
       "    }\n",
       "\n",
       "    .dataframe tbody tr th {\n",
       "        vertical-align: top;\n",
       "    }\n",
       "\n",
       "    .dataframe thead th {\n",
       "        text-align: right;\n",
       "    }\n",
       "</style>\n",
       "<table border=\"1\" class=\"dataframe\">\n",
       "  <thead>\n",
       "    <tr style=\"text-align: right;\">\n",
       "      <th></th>\n",
       "      <th>trial_id</th>\n",
       "      <th>short_trial_id</th>\n",
       "      <th>tag</th>\n",
       "      <th>value</th>\n",
       "    </tr>\n",
       "  </thead>\n",
       "  <tbody>\n",
       "    <tr>\n",
       "      <th>0</th>\n",
       "      <td>edb94455-f97b-46f0-b30e-ed01eaf81081</td>\n",
       "      <td>81081</td>\n",
       "      <td>roc_metric</td>\n",
       "      <td>0.817305710162853</td>\n",
       "    </tr>\n",
       "    <tr>\n",
       "      <th>1</th>\n",
       "      <td>b86773c3-a3b7-40d0-a3ac-5ab4278826c2</td>\n",
       "      <td>826c2</td>\n",
       "      <td>roc_metric</td>\n",
       "      <td>0.9254794520547944</td>\n",
       "    </tr>\n",
       "  </tbody>\n",
       "</table>\n",
       "</div>"
      ],
      "text/plain": [
       "                               trial_id  ...               value\n",
       "0  edb94455-f97b-46f0-b30e-ed01eaf81081  ...   0.817305710162853\n",
       "1  b86773c3-a3b7-40d0-a3ac-5ab4278826c2  ...  0.9254794520547944\n",
       "\n",
       "[2 rows x 4 columns]"
      ]
     },
     "execution_count": 7,
     "metadata": {},
     "output_type": "execute_result"
    }
   ],
   "source": [
    "var_tag_values('roc_metric')"
   ]
  },
  {
   "cell_type": "code",
   "execution_count": 8,
   "id": "63730330-521d-4e94-9fa8-9b365c702d52",
   "metadata": {},
   "outputs": [
    {
     "data": {
      "text/html": [
       "<div>\n",
       "<style scoped>\n",
       "    .dataframe tbody tr th:only-of-type {\n",
       "        vertical-align: middle;\n",
       "    }\n",
       "\n",
       "    .dataframe tbody tr th {\n",
       "        vertical-align: top;\n",
       "    }\n",
       "\n",
       "    .dataframe thead th {\n",
       "        text-align: right;\n",
       "    }\n",
       "</style>\n",
       "<table border=\"1\" class=\"dataframe\">\n",
       "  <thead>\n",
       "    <tr style=\"text-align: right;\">\n",
       "      <th></th>\n",
       "      <th>trial_id</th>\n",
       "      <th>short_trial_id</th>\n",
       "      <th>tag</th>\n",
       "      <th>value</th>\n",
       "    </tr>\n",
       "  </thead>\n",
       "  <tbody>\n",
       "    <tr>\n",
       "      <th>0</th>\n",
       "      <td>edb94455-f97b-46f0-b30e-ed01eaf81081</td>\n",
       "      <td>81081</td>\n",
       "      <td>model</td>\n",
       "      <td>RandomForestClassifier()</td>\n",
       "    </tr>\n",
       "    <tr>\n",
       "      <th>1</th>\n",
       "      <td>b86773c3-a3b7-40d0-a3ac-5ab4278826c2</td>\n",
       "      <td>826c2</td>\n",
       "      <td>model</td>\n",
       "      <td>RandomForestClassifier()</td>\n",
       "    </tr>\n",
       "  </tbody>\n",
       "</table>\n",
       "</div>"
      ],
      "text/plain": [
       "                               trial_id  ...                     value\n",
       "0  edb94455-f97b-46f0-b30e-ed01eaf81081  ...  RandomForestClassifier()\n",
       "1  b86773c3-a3b7-40d0-a3ac-5ab4278826c2  ...  RandomForestClassifier()\n",
       "\n",
       "[2 rows x 4 columns]"
      ]
     },
     "execution_count": 8,
     "metadata": {},
     "output_type": "execute_result"
    }
   ],
   "source": [
    "var_tag_values('model')"
   ]
  },
  {
   "cell_type": "markdown",
   "id": "041a1f16-952f-47fb-9992-659b5f724c24",
   "metadata": {
    "tags": []
   },
   "source": [
    "### Next steps\n",
    "\n",
    "The next [Notebook](./now_usecase_part_4.ipynb) we will implement a new experimental setup changing the order of feature transformations and changing the model."
   ]
  }
 ],
 "metadata": {
  "kernelspec": {
   "display_name": "noWorkflow 3",
   "language": "python",
   "name": "noworkflow3"
  },
  "language_info": {
   "codemirror_mode": {
    "name": "ipython",
    "version": 3
   },
   "file_extension": ".py",
   "mimetype": "text/x-python",
   "name": "python",
   "nbconvert_exporter": "python",
   "pygments_lexer": "ipython3",
   "version": "3.7.16"
  }
 },
 "nbformat": 4,
 "nbformat_minor": 5
}
