{
 "cells": [
  {
   "cell_type": "code",
   "execution_count": 1,
   "id": "c6f9c9e7-4d30-4fb0-bbaf-c35e114212ec",
   "metadata": {
    "tags": []
   },
   "outputs": [],
   "source": [
    "from copy import copy\n",
    "import numpy as np\n",
    "from pprint import pprint\n",
    "\n",
    "from noworkflow.now.tagging.var_tagging import backward_deps, global_backward_deps, store_operations, resume_trials, trial_diff, trial_intersection_diff, var_tag_plot, var_tag_values"
   ]
  },
  {
   "cell_type": "markdown",
   "id": "e75b860a-76f6-4768-8080-db001d76119e",
   "metadata": {},
   "source": [
    "### Test case\n",
    "\n",
    "Here starts a small test case. The workflow goes through cells defining *module*, *rmse* and a *stress_function* aiming to add some random behaviour in our test. The *var_final* is our target variable, being dependent of its previous cells.\n"
   ]
  },
  {
   "cell_type": "code",
   "execution_count": 2,
   "id": "b193369c-2ce3-4759-b7b5-41f4b320e97a",
   "metadata": {
    "tags": []
   },
   "outputs": [],
   "source": [
    "def module(num): \n",
    "    if num >= 0:\n",
    "        return int(num)\n",
    "    else:\n",
    "        return int(-1*num)\n",
    "\n",
    "def mae(x, y):\n",
    "    return np.mean(np.abs((x - y)))\n",
    "\n",
    "def rmse(x, y):\n",
    "    return np.sqrt(np.mean((x - y)**2))\n",
    "\n",
    "def stress_func(m, n):\n",
    "    temp1 = m * n\n",
    "    x = np.random.rand()\n",
    "    y = np.random.rand()\n",
    "    \n",
    "    temp2 = np.random.rand()*temp1\n",
    "    \n",
    "    final = np.max([int(x+y), int(temp2), mae(temp1, temp2)])\n",
    "    \n",
    "    return final"
   ]
  },
  {
   "cell_type": "code",
   "execution_count": 3,
   "id": "dad4d3bc-e662-4cad-873d-e040cfe25354",
   "metadata": {
    "tags": []
   },
   "outputs": [],
   "source": [
    "var_a = np.random.rand()"
   ]
  },
  {
   "cell_type": "code",
   "execution_count": 4,
   "id": "1bb71226-764c-454d-bfdd-260ad0432c6b",
   "metadata": {},
   "outputs": [],
   "source": [
    "var_b = np.random.rand()"
   ]
  },
  {
   "cell_type": "code",
   "execution_count": 5,
   "id": "8c326993-1bf2-4223-8e9c-11e48a915cf8",
   "metadata": {},
   "outputs": [],
   "source": [
    "k = np.random.rand()\n",
    "m = np.random.rand()"
   ]
  },
  {
   "cell_type": "code",
   "execution_count": 6,
   "id": "127ead7e-028a-4cd4-bf44-20c541f0ad7d",
   "metadata": {},
   "outputs": [],
   "source": [
    "rme_err = mae(var_a, var_b)"
   ]
  },
  {
   "cell_type": "code",
   "execution_count": 7,
   "id": "93ea2f3f-32d6-4d40-a9b3-f2f8e2d557b0",
   "metadata": {
    "tags": []
   },
   "outputs": [],
   "source": [
    "var_c = stress_func(k, m)"
   ]
  },
  {
   "cell_type": "code",
   "execution_count": 8,
   "id": "18ec6985-1fb5-40c1-8a12-51d0fbb4c14f",
   "metadata": {
    "tags": []
   },
   "outputs": [],
   "source": [
    "var_d = var_c * np.random.rand()"
   ]
  },
  {
   "cell_type": "code",
   "execution_count": 9,
   "id": "32345dcf-fa1b-4d2e-b742-49204e1ddcf0",
   "metadata": {
    "tags": []
   },
   "outputs": [],
   "source": [
    "var_e = mae(var_c, var_b)"
   ]
  },
  {
   "cell_type": "code",
   "execution_count": 10,
   "id": "d18aa5aa-5b91-4295-9b79-1fbf55d3d561",
   "metadata": {
    "tags": []
   },
   "outputs": [
    {
     "name": "stdout",
     "output_type": "stream",
     "text": [
      "Evaluation(id=148, checkpoint=2.3953670019999995, code_component_id=312, activation_id=141, repr=0.07830054326393487)\n"
     ]
    }
   ],
   "source": [
    "target_var = now_variable('target_var', rmse(var_c, var_e))"
   ]
  },
  {
   "cell_type": "markdown",
   "id": "407023ba-f72a-4a78-9d2c-4bf8498b93dc",
   "metadata": {},
   "source": [
    "### backward_deps example\n",
    "Here we recollect the backward dependencies liked with var_final tagged variable. Two options are available, with glanulatiry on and off."
   ]
  },
  {
   "cell_type": "code",
   "execution_count": 11,
   "id": "5f000dfa-c442-4554-af65-8738a557dab7",
   "metadata": {},
   "outputs": [
    {
     "data": {
      "text/plain": [
       "{18: ('x', '0.40005218218319516'),\n",
       " 17: ('y', '0.1785766912990664'),\n",
       " 16: ('int(x+y)', '0'),\n",
       " 15: ('int(temp2)', '0'),\n",
       " 14: ('temp1', '0.2659283287155485'),\n",
       " 13: ('temp2', '0.17871656978494307'),\n",
       " 12: ('mae(temp1, temp2)', '0.08721175893060543'),\n",
       " 11: ('[int(x+y), int(temp2), mae(temp1, temp2)]', 'matrix dim(27,)'),\n",
       " 10: ('final', '0.08721175893060543'),\n",
       " 9: ('k', '0.41777726998578946'),\n",
       " 8: ('m', '0.6365313477312778'),\n",
       " 7: ('stress_func(k, m)', '0.08721175893060543'),\n",
       " 6: ('var_c', '0.08721175893060543'),\n",
       " 5: ('var_b', '0.07830054326393487'),\n",
       " 4: ('mae(var_c, var_b)', '0.008911215666670552'),\n",
       " 3: ('var_e', '0.008911215666670552'),\n",
       " 2: ('rmse(var_c, var_e)', '0.07830054326393487'),\n",
       " 1: (\"now_variable('target_var', rmse(var_c, var_e))\", '0.07830054326393487'),\n",
       " 0: ('target_var', '0.07830054326393487')}"
      ]
     },
     "execution_count": 11,
     "metadata": {},
     "output_type": "execute_result"
    }
   ],
   "source": [
    "dict_ops = backward_deps('target_var', __noworkflow__.trial_id)\n",
    "dict_ops"
   ]
  },
  {
   "cell_type": "markdown",
   "id": "b5c50b07-e1ad-466b-a955-58cbdcd105d7",
   "metadata": {
    "tags": []
   },
   "source": [
    "When the flag is set True, the content of functions steps are displayed."
   ]
  },
  {
   "cell_type": "code",
   "execution_count": 12,
   "id": "1d5087ec-a833-49b7-8bda-65b8f394f44d",
   "metadata": {
    "tags": []
   },
   "outputs": [
    {
     "data": {
      "text/plain": [
       "{37: ('x', '0.40005218218319516'),\n",
       " 36: ('y', '0.1785766912990664'),\n",
       " 35: ('int(x+y)', '0'),\n",
       " 34: ('int(temp2)', '0'),\n",
       " 33: ('temp1', '0.2659283287155485'),\n",
       " 32: ('temp2', '0.17871656978494307'),\n",
       " 31: ('mae(temp1, temp2)', '0.08721175893060543'),\n",
       " 30: ('[int(x+y), int(temp2), mae(temp1, temp2)]', 'matrix dim(27,)'),\n",
       " 29: ('final', '0.08721175893060543'),\n",
       " 28: ('k', '0.41777726998578946'),\n",
       " 27: ('m', '0.6365313477312778'),\n",
       " 26: ('stress_func(k, m)', '0.08721175893060543'),\n",
       " 25: ('var_c', '0.08721175893060543'),\n",
       " 24: ('var_b', '0.07830054326393487'),\n",
       " 23: ('mae(var_c, var_b)', '0.008911215666670552'),\n",
       " 22: ('var_e', '0.008911215666670552'),\n",
       " 21: ('rmse(var_c, var_e)', '0.07830054326393487'),\n",
       " 20: (\"now_variable('target_var', rmse(var_c, var_e))\", '0.07830054326393487'),\n",
       " 19: ('target_var', '0.07830054326393487'),\n",
       " 18: ('x', '0.40005218218319516'),\n",
       " 17: ('y', '0.1785766912990664'),\n",
       " 16: ('int(x+y)', '0'),\n",
       " 15: ('int(temp2)', '0'),\n",
       " 14: ('temp1', '0.2659283287155485'),\n",
       " 13: ('temp2', '0.17871656978494307'),\n",
       " 12: ('mae(temp1, temp2)', '0.08721175893060543'),\n",
       " 11: ('[int(x+y), int(temp2), mae(temp1, temp2)]', 'matrix dim(27,)'),\n",
       " 10: ('final', '0.08721175893060543'),\n",
       " 9: ('k', '0.41777726998578946'),\n",
       " 8: ('m', '0.6365313477312778'),\n",
       " 7: ('stress_func(k, m)', '0.08721175893060543'),\n",
       " 6: ('var_c', '0.08721175893060543'),\n",
       " 5: ('var_b', '0.07830054326393487'),\n",
       " 4: ('mae(var_c, var_b)', '0.008911215666670552'),\n",
       " 3: ('var_e', '0.008911215666670552'),\n",
       " 2: ('rmse(var_c, var_e)', '0.07830054326393487'),\n",
       " 1: (\"now_variable('target_var', rmse(var_c, var_e))\", '0.07830054326393487'),\n",
       " 0: ('target_var', '0.07830054326393487')}"
      ]
     },
     "execution_count": 12,
     "metadata": {},
     "output_type": "execute_result"
    }
   ],
   "source": [
    "backward_deps('target_var', glanularity_level=True)"
   ]
  },
  {
   "cell_type": "markdown",
   "id": "39e934a4-c225-4c4b-85a5-18be79a72f3a",
   "metadata": {},
   "source": [
    "### global_backward_deps example\n",
    "Here we recollect all the backward dependencies liked with var_final tagged variable. If user redefines a tagged variable in more than one cell, this options will return all operations over this tagged variable across the trial. \n",
    "Same two options available, with glanulatiry on and off."
   ]
  },
  {
   "cell_type": "code",
   "execution_count": 13,
   "id": "43007d6e-add8-4d97-816a-e4399adba17a",
   "metadata": {
    "tags": []
   },
   "outputs": [
    {
     "data": {
      "text/plain": [
       "{47: ('k', '0.41777726998578946'),\n",
       " 46: ('m', '0.6365313477312778'),\n",
       " 45: ('stress_func(k, m)', '0.08721175893060543'),\n",
       " 44: ('var_c', '0.08721175893060543'),\n",
       " 43: ('var_b', '0.07830054326393487'),\n",
       " 42: ('mae(var_c, var_b)', '0.008911215666670552'),\n",
       " 41: ('var_e', '0.008911215666670552'),\n",
       " 40: ('rmse(var_c, var_e)', '0.07830054326393487'),\n",
       " 39: (\"now_variable('target_var', rmse(var_c, var_e))\", '0.07830054326393487'),\n",
       " 38: ('target_var', '0.07830054326393487'),\n",
       " 37: ('x', '0.40005218218319516'),\n",
       " 36: ('y', '0.1785766912990664'),\n",
       " 35: ('int(x+y)', '0'),\n",
       " 34: ('int(temp2)', '0'),\n",
       " 33: ('temp1', '0.2659283287155485'),\n",
       " 32: ('temp2', '0.17871656978494307'),\n",
       " 31: ('mae(temp1, temp2)', '0.08721175893060543'),\n",
       " 30: ('[int(x+y), int(temp2), mae(temp1, temp2)]', 'matrix dim(27,)'),\n",
       " 29: ('final', '0.08721175893060543'),\n",
       " 28: ('k', '0.41777726998578946'),\n",
       " 27: ('m', '0.6365313477312778'),\n",
       " 26: ('stress_func(k, m)', '0.08721175893060543'),\n",
       " 25: ('var_c', '0.08721175893060543'),\n",
       " 24: ('var_b', '0.07830054326393487'),\n",
       " 23: ('mae(var_c, var_b)', '0.008911215666670552'),\n",
       " 22: ('var_e', '0.008911215666670552'),\n",
       " 21: ('rmse(var_c, var_e)', '0.07830054326393487'),\n",
       " 20: (\"now_variable('target_var', rmse(var_c, var_e))\", '0.07830054326393487'),\n",
       " 19: ('target_var', '0.07830054326393487'),\n",
       " 18: ('x', '0.40005218218319516'),\n",
       " 17: ('y', '0.1785766912990664'),\n",
       " 16: ('int(x+y)', '0'),\n",
       " 15: ('int(temp2)', '0'),\n",
       " 14: ('temp1', '0.2659283287155485'),\n",
       " 13: ('temp2', '0.17871656978494307'),\n",
       " 12: ('mae(temp1, temp2)', '0.08721175893060543'),\n",
       " 11: ('[int(x+y), int(temp2), mae(temp1, temp2)]', 'matrix dim(27,)'),\n",
       " 10: ('final', '0.08721175893060543'),\n",
       " 9: ('k', '0.41777726998578946'),\n",
       " 8: ('m', '0.6365313477312778'),\n",
       " 7: ('stress_func(k, m)', '0.08721175893060543'),\n",
       " 6: ('var_c', '0.08721175893060543'),\n",
       " 5: ('var_b', '0.07830054326393487'),\n",
       " 4: ('mae(var_c, var_b)', '0.008911215666670552'),\n",
       " 3: ('var_e', '0.008911215666670552'),\n",
       " 2: ('rmse(var_c, var_e)', '0.07830054326393487'),\n",
       " 1: (\"now_variable('target_var', rmse(var_c, var_e))\", '0.07830054326393487'),\n",
       " 0: ('target_var', '0.07830054326393487')}"
      ]
     },
     "execution_count": 13,
     "metadata": {},
     "output_type": "execute_result"
    }
   ],
   "source": [
    "global_backward_deps('target_var', False)"
   ]
  },
  {
   "cell_type": "markdown",
   "id": "f2265bbc-c481-4fee-b627-36d60862b870",
   "metadata": {
    "tags": []
   },
   "source": [
    "### trial storage example\n",
    "Here we save the current trial in order to make further compariosions with other experiments. The dictionaries aren't stored in the .noworkflow/db.sqlite, but in a shelve object named *ops.db* in the current notebook local folder. Remove it means exeperimental data being lost."
   ]
  },
  {
   "cell_type": "code",
   "execution_count": 14,
   "id": "ab136acd-42ac-4b09-b000-38779c0ef278",
   "metadata": {
    "tags": []
   },
   "outputs": [
    {
     "name": "stdout",
     "output_type": "stream",
     "text": [
      "Dictionary stored in shelve.\n"
     ]
    }
   ],
   "source": [
    "store_operations(__noworkflow__.trial_id, dict_ops)"
   ]
  },
  {
   "cell_type": "markdown",
   "id": "cc5cde7e-b3ef-40f9-ba25-e77505d31762",
   "metadata": {
    "tags": []
   },
   "source": [
    "### resume_trials\n",
    "\n",
    "In order to support the management of experiments, the user can see the trial ids of all experiments stored in the ops.db abailable to comparision/analysis."
   ]
  },
  {
   "cell_type": "code",
   "execution_count": 15,
   "id": "ed828c52-1ebd-4efd-a55c-d838f03bc905",
   "metadata": {
    "tags": []
   },
   "outputs": [
    {
     "data": {
      "text/plain": [
       "['ca31b65e-94c2-493b-8eda-138c6b488c84',\n",
       " '289f31fd-e893-451c-886d-e65a179323fe',\n",
       " '69fbad85-a522-43d7-8669-2e8d6e3e8408',\n",
       " '86d54d66-0b18-4a84-94b1-006cc4686264',\n",
       " 'f6fccf39-d70c-42fc-8fc9-a9068738bf93']"
      ]
     },
     "execution_count": 15,
     "metadata": {},
     "output_type": "execute_result"
    }
   ],
   "source": [
    "list_id = resume_trials()\n",
    "list_id"
   ]
  },
  {
   "cell_type": "markdown",
   "id": "70faddb2-216e-4a62-9d88-f9e4a6b236b2",
   "metadata": {
    "tags": []
   },
   "source": [
    "### trial_intesection_diff\n",
    "\n",
    "Two types of comparision are available now. This one refers to values returned from operations. Each variable or function call available in both experiments (intersection) have its values exhibited. \n",
    "\n",
    "There is a limitation in showing for complex values. Matrices and tensors cannot be properly displayed, so only an indication that is a complex type is indicated.\n",
    "\n",
    "Here we visually plot a diff table between two trials"
   ]
  },
  {
   "cell_type": "code",
   "execution_count": 16,
   "id": "e9323387-a4c6-4df5-86ff-a14149d01313",
   "metadata": {
    "tags": []
   },
   "outputs": [
    {
     "data": {
      "text/html": [
       "<div>\n",
       "<style scoped>\n",
       "    .dataframe tbody tr th:only-of-type {\n",
       "        vertical-align: middle;\n",
       "    }\n",
       "\n",
       "    .dataframe tbody tr th {\n",
       "        vertical-align: top;\n",
       "    }\n",
       "\n",
       "    .dataframe thead th {\n",
       "        text-align: right;\n",
       "    }\n",
       "</style>\n",
       "<table border=\"1\" class=\"dataframe\">\n",
       "  <thead>\n",
       "    <tr style=\"text-align: right;\">\n",
       "      <th></th>\n",
       "      <th>key</th>\n",
       "      <th>86264</th>\n",
       "      <th>8bf93</th>\n",
       "    </tr>\n",
       "  </thead>\n",
       "  <tbody>\n",
       "    <tr>\n",
       "      <th>0</th>\n",
       "      <td>x</td>\n",
       "      <td>0.7492382687315993</td>\n",
       "      <td>0.21744356032573886</td>\n",
       "    </tr>\n",
       "    <tr>\n",
       "      <th>1</th>\n",
       "      <td>var_c</td>\n",
       "      <td>1.0</td>\n",
       "      <td>0.034863595209886286</td>\n",
       "    </tr>\n",
       "    <tr>\n",
       "      <th>2</th>\n",
       "      <td>m</td>\n",
       "      <td>0.9713409252157952</td>\n",
       "      <td>0.1936135022662001</td>\n",
       "    </tr>\n",
       "    <tr>\n",
       "      <th>3</th>\n",
       "      <td>now_variable('target_var', rmse(var_c, var_e))</td>\n",
       "      <td>0.3124662274848039</td>\n",
       "      <td>0.19468625256775562</td>\n",
       "    </tr>\n",
       "    <tr>\n",
       "      <th>4</th>\n",
       "      <td>mae(temp1, temp2)</td>\n",
       "      <td>0.10272641916772252</td>\n",
       "      <td>0.034863595209886286</td>\n",
       "    </tr>\n",
       "    <tr>\n",
       "      <th>5</th>\n",
       "      <td>temp1</td>\n",
       "      <td>0.7110268127466576</td>\n",
       "      <td>0.14943889123179727</td>\n",
       "    </tr>\n",
       "    <tr>\n",
       "      <th>6</th>\n",
       "      <td>mae(var_c, var_b)</td>\n",
       "      <td>0.6875337725151961</td>\n",
       "      <td>0.22954984777764192</td>\n",
       "    </tr>\n",
       "    <tr>\n",
       "      <th>7</th>\n",
       "      <td>[int(x+y), int(temp2), mae(temp1, temp2)]</td>\n",
       "      <td>matrix dim(27,)</td>\n",
       "      <td>matrix dim(28,)</td>\n",
       "    </tr>\n",
       "    <tr>\n",
       "      <th>8</th>\n",
       "      <td>temp2</td>\n",
       "      <td>0.6083003935789351</td>\n",
       "      <td>0.11457529602191098</td>\n",
       "    </tr>\n",
       "    <tr>\n",
       "      <th>9</th>\n",
       "      <td>y</td>\n",
       "      <td>0.6793654557684454</td>\n",
       "      <td>0.07184667676840228</td>\n",
       "    </tr>\n",
       "    <tr>\n",
       "      <th>10</th>\n",
       "      <td>target_var</td>\n",
       "      <td>0.3124662274848039</td>\n",
       "      <td>0.19468625256775562</td>\n",
       "    </tr>\n",
       "    <tr>\n",
       "      <th>11</th>\n",
       "      <td>var_e</td>\n",
       "      <td>0.6875337725151961</td>\n",
       "      <td>0.22954984777764192</td>\n",
       "    </tr>\n",
       "    <tr>\n",
       "      <th>12</th>\n",
       "      <td>stress_func(k, m)</td>\n",
       "      <td>1.0</td>\n",
       "      <td>0.034863595209886286</td>\n",
       "    </tr>\n",
       "    <tr>\n",
       "      <th>13</th>\n",
       "      <td>final</td>\n",
       "      <td>1.0</td>\n",
       "      <td>0.034863595209886286</td>\n",
       "    </tr>\n",
       "    <tr>\n",
       "      <th>14</th>\n",
       "      <td>int(x+y)</td>\n",
       "      <td>1</td>\n",
       "      <td>0</td>\n",
       "    </tr>\n",
       "    <tr>\n",
       "      <th>15</th>\n",
       "      <td>int(temp2)</td>\n",
       "      <td>0</td>\n",
       "      <td>0</td>\n",
       "    </tr>\n",
       "    <tr>\n",
       "      <th>16</th>\n",
       "      <td>k</td>\n",
       "      <td>0.7320054105500541</td>\n",
       "      <td>0.7718412687268733</td>\n",
       "    </tr>\n",
       "    <tr>\n",
       "      <th>17</th>\n",
       "      <td>rmse(var_c, var_e)</td>\n",
       "      <td>0.3124662274848039</td>\n",
       "      <td>0.19468625256775562</td>\n",
       "    </tr>\n",
       "    <tr>\n",
       "      <th>18</th>\n",
       "      <td>var_b</td>\n",
       "      <td>0.3124662274848039</td>\n",
       "      <td>0.2644134429875282</td>\n",
       "    </tr>\n",
       "  </tbody>\n",
       "</table>\n",
       "</div>"
      ],
      "text/plain": [
       "                                               key  ...                 8bf93\n",
       "0                                                x  ...   0.21744356032573886\n",
       "1                                            var_c  ...  0.034863595209886286\n",
       "2                                                m  ...    0.1936135022662001\n",
       "3   now_variable('target_var', rmse(var_c, var_e))  ...   0.19468625256775562\n",
       "4                                mae(temp1, temp2)  ...  0.034863595209886286\n",
       "5                                            temp1  ...   0.14943889123179727\n",
       "6                                mae(var_c, var_b)  ...   0.22954984777764192\n",
       "7        [int(x+y), int(temp2), mae(temp1, temp2)]  ...       matrix dim(28,)\n",
       "8                                            temp2  ...   0.11457529602191098\n",
       "9                                                y  ...   0.07184667676840228\n",
       "10                                      target_var  ...   0.19468625256775562\n",
       "11                                           var_e  ...   0.22954984777764192\n",
       "12                               stress_func(k, m)  ...  0.034863595209886286\n",
       "13                                           final  ...  0.034863595209886286\n",
       "14                                        int(x+y)  ...                     0\n",
       "15                                      int(temp2)  ...                     0\n",
       "16                                               k  ...    0.7718412687268733\n",
       "17                              rmse(var_c, var_e)  ...   0.19468625256775562\n",
       "18                                           var_b  ...    0.2644134429875282\n",
       "\n",
       "[19 rows x 3 columns]"
      ]
     },
     "execution_count": 16,
     "metadata": {},
     "output_type": "execute_result"
    }
   ],
   "source": [
    "trial_intersection_diff(list_id[-2], list_id[-1])"
   ]
  },
  {
   "cell_type": "markdown",
   "id": "4e305632-4683-4f7b-967e-bbe5cb9da0c8",
   "metadata": {
    "tags": []
   },
   "source": [
    "### trial_diff\n",
    "\n",
    "Here is the second way into displaying differences. The values of variables and function calls are exhibited in a diff file format, emphasizing the order of the operations carried out. The goal here is to show that between two experiments, the order of operations were different."
   ]
  },
  {
   "cell_type": "code",
   "execution_count": 17,
   "id": "4aa627d9-511b-4bc6-be1c-cc2d2f6c3822",
   "metadata": {
    "tags": []
   },
   "outputs": [
    {
     "data": {
      "text/html": [
       "\n",
       "        <style>\n",
       "        .diff_header {\n",
       "            background-color: #f1f1f1;\n",
       "        }\n",
       "        .diff_next {\n",
       "            background-color: #f1f1f1;\n",
       "        }\n",
       "        .diff_add {\n",
       "            background-color: #ddffdd;\n",
       "        }\n",
       "        .diff_chg {\n",
       "            background-color: #ffffaa;\n",
       "        }\n",
       "        .diff_sub {\n",
       "            background-color: #ffdddd;\n",
       "        }\n",
       "        .diff_table {\n",
       "            text-align: left; /* Align the table content to the left */\n",
       "        }\n",
       "        </style>\n",
       "        \n",
       "    <table class=\"diff\" id=\"difflib_chg_to0__top\"\n",
       "           cellspacing=\"0\" cellpadding=\"0\" rules=\"groups\" >\n",
       "        <colgroup></colgroup> <colgroup></colgroup> <colgroup></colgroup>\n",
       "        <colgroup></colgroup> <colgroup></colgroup> <colgroup></colgroup>\n",
       "        \n",
       "        <tbody>\n",
       "            <tr><td class=\"diff_next\" id=\"difflib_chg_to0__0\"><a href=\"#difflib_chg_to0__1\">n</a></td><td class=\"diff_header\" id=\"from0_1\">1</td><td nowrap=\"nowrap\"><span class=\"diff_sub\">x,&nbsp;0.47717433573580537</span></td><td class=\"diff_next\"><a href=\"#difflib_chg_to0__1\">n</a></td><td class=\"diff_header\" id=\"to0_1\">1</td><td nowrap=\"nowrap\"><span class=\"diff_add\">x,&nbsp;0.21744356032573886</span></td></tr>\n",
       "            <tr><td class=\"diff_next\"></td><td class=\"diff_header\" id=\"from0_2\">2</td><td nowrap=\"nowrap\"><span class=\"diff_sub\">y,&nbsp;0.1833342373840432</span></td><td class=\"diff_next\"></td><td class=\"diff_header\" id=\"to0_2\">2</td><td nowrap=\"nowrap\"><span class=\"diff_add\">y,&nbsp;0.07184667676840228</span></td></tr>\n",
       "            <tr><td class=\"diff_next\"></td><td class=\"diff_header\" id=\"from0_3\">3</td><td nowrap=\"nowrap\">int(x+y),&nbsp;0</td><td class=\"diff_next\"></td><td class=\"diff_header\" id=\"to0_3\">3</td><td nowrap=\"nowrap\">int(x+y),&nbsp;0</td></tr>\n",
       "            <tr><td class=\"diff_next\"></td><td class=\"diff_header\" id=\"from0_4\">4</td><td nowrap=\"nowrap\">int(temp2),&nbsp;0</td><td class=\"diff_next\"></td><td class=\"diff_header\" id=\"to0_4\">4</td><td nowrap=\"nowrap\">int(temp2),&nbsp;0</td></tr>\n",
       "            <tr><td class=\"diff_next\" id=\"difflib_chg_to0__1\"><a href=\"#difflib_chg_to0__top\">t</a></td><td class=\"diff_header\" id=\"from0_5\">5</td><td nowrap=\"nowrap\"><span class=\"diff_sub\">temp1,&nbsp;0.3837200030053799</span></td><td class=\"diff_next\"><a href=\"#difflib_chg_to0__top\">t</a></td><td class=\"diff_header\" id=\"to0_5\">5</td><td nowrap=\"nowrap\"><span class=\"diff_add\">temp1,&nbsp;0.14943889123179727</span></td></tr>\n",
       "            <tr><td class=\"diff_next\"></td><td class=\"diff_header\" id=\"from0_6\">6</td><td nowrap=\"nowrap\"><span class=\"diff_sub\">temp2,&nbsp;0.15472137378915152</span></td><td class=\"diff_next\"></td><td class=\"diff_header\" id=\"to0_6\">6</td><td nowrap=\"nowrap\"><span class=\"diff_add\">temp2,&nbsp;0.11457529602191098</span></td></tr>\n",
       "            <tr><td class=\"diff_next\"></td><td class=\"diff_header\" id=\"from0_7\">7</td><td nowrap=\"nowrap\"><span class=\"diff_sub\">mae(temp1,&nbsp;temp2),&nbsp;0.22899862921622838</span></td><td class=\"diff_next\"></td><td class=\"diff_header\" id=\"to0_7\">7</td><td nowrap=\"nowrap\"><span class=\"diff_add\">mae(temp1,&nbsp;temp2),&nbsp;0.034863595209886286</span></td></tr>\n",
       "            <tr><td class=\"diff_next\"></td><td class=\"diff_header\" id=\"from0_8\">8</td><td nowrap=\"nowrap\">[int(x+y),&nbsp;int(temp2),&nbsp;mae(temp1,&nbsp;temp2)],&nbsp;matrix&nbsp;dim(2<span class=\"diff_chg\">7</span>,)</td><td class=\"diff_next\"></td><td class=\"diff_header\" id=\"to0_8\">8</td><td nowrap=\"nowrap\">[int(x+y),&nbsp;int(temp2),&nbsp;mae(temp1,&nbsp;temp2)],&nbsp;matrix&nbsp;dim(2<span class=\"diff_chg\">8</span>,)</td></tr>\n",
       "            <tr><td class=\"diff_next\"></td><td class=\"diff_header\" id=\"from0_9\">9</td><td nowrap=\"nowrap\"><span class=\"diff_sub\">final,&nbsp;0.22899862921622838</span></td><td class=\"diff_next\"></td><td class=\"diff_header\" id=\"to0_9\">9</td><td nowrap=\"nowrap\"><span class=\"diff_add\">final,&nbsp;0.034863595209886286</span></td></tr>\n",
       "            <tr><td class=\"diff_next\"></td><td class=\"diff_header\" id=\"from0_10\">10</td><td nowrap=\"nowrap\"><span class=\"diff_sub\">k,&nbsp;0.8751290034337429</span></td><td class=\"diff_next\"></td><td class=\"diff_header\" id=\"to0_10\">10</td><td nowrap=\"nowrap\"><span class=\"diff_add\">k,&nbsp;0.7718412687268733</span></td></tr>\n",
       "            <tr><td class=\"diff_next\"></td><td class=\"diff_header\" id=\"from0_11\">11</td><td nowrap=\"nowrap\"><span class=\"diff_sub\">m,&nbsp;0.43847250119671277</span></td><td class=\"diff_next\"></td><td class=\"diff_header\" id=\"to0_11\">11</td><td nowrap=\"nowrap\"><span class=\"diff_add\">m,&nbsp;0.1936135022662001</span></td></tr>\n",
       "            <tr><td class=\"diff_next\"></td><td class=\"diff_header\" id=\"from0_12\">12</td><td nowrap=\"nowrap\"><span class=\"diff_sub\">stress_func(k,&nbsp;m),&nbsp;0.22899862921622838</span></td><td class=\"diff_next\"></td><td class=\"diff_header\" id=\"to0_12\">12</td><td nowrap=\"nowrap\"><span class=\"diff_add\">stress_func(k,&nbsp;m),&nbsp;0.034863595209886286</span></td></tr>\n",
       "            <tr><td class=\"diff_next\"></td><td class=\"diff_header\" id=\"from0_13\">13</td><td nowrap=\"nowrap\"><span class=\"diff_sub\">var_c,&nbsp;0.22899862921622838</span></td><td class=\"diff_next\"></td><td class=\"diff_header\" id=\"to0_13\">13</td><td nowrap=\"nowrap\"><span class=\"diff_add\">var_c,&nbsp;0.034863595209886286</span></td></tr>\n",
       "            <tr><td class=\"diff_next\"></td><td class=\"diff_header\" id=\"from0_14\">14</td><td nowrap=\"nowrap\"><span class=\"diff_sub\">var_b,&nbsp;0.6590310377227845</span></td><td class=\"diff_next\"></td><td class=\"diff_header\" id=\"to0_14\">14</td><td nowrap=\"nowrap\"><span class=\"diff_add\">var_b,&nbsp;0.2644134429875282</span></td></tr>\n",
       "            <tr><td class=\"diff_next\"></td><td class=\"diff_header\" id=\"from0_15\">15</td><td nowrap=\"nowrap\"><span class=\"diff_sub\">mae(var_c,&nbsp;var_b),&nbsp;0.4300324085065561</span></td><td class=\"diff_next\"></td><td class=\"diff_header\" id=\"to0_15\">15</td><td nowrap=\"nowrap\"><span class=\"diff_add\">mae(var_c,&nbsp;var_b),&nbsp;0.22954984777764192</span></td></tr>\n",
       "            <tr><td class=\"diff_next\"></td><td class=\"diff_header\" id=\"from0_16\">16</td><td nowrap=\"nowrap\"><span class=\"diff_sub\">var_e,&nbsp;0.4300324085065561</span></td><td class=\"diff_next\"></td><td class=\"diff_header\" id=\"to0_16\">16</td><td nowrap=\"nowrap\"><span class=\"diff_add\">var_e,&nbsp;0.22954984777764192</span></td></tr>\n",
       "            <tr><td class=\"diff_next\"></td><td class=\"diff_header\" id=\"from0_17\">17</td><td nowrap=\"nowrap\"><span class=\"diff_sub\">rmse(var_c,&nbsp;var_e),&nbsp;0.20103377929032773</span></td><td class=\"diff_next\"></td><td class=\"diff_header\" id=\"to0_17\">17</td><td nowrap=\"nowrap\"><span class=\"diff_add\">rmse(var_c,&nbsp;var_e),&nbsp;0.19468625256775562</span></td></tr>\n",
       "            <tr><td class=\"diff_next\"></td><td class=\"diff_header\" id=\"from0_18\">18</td><td nowrap=\"nowrap\">now_variable('target_var',&nbsp;rmse(var_c,&nbsp;var_e)),&nbsp;0.2<span class=\"diff_chg\">01033</span>77<span class=\"diff_chg\">9</span>2<span class=\"diff_sub\">9032773</span></td><td class=\"diff_next\"></td><td class=\"diff_header\" id=\"to0_18\">18</td><td nowrap=\"nowrap\">now_variable('target_var',&nbsp;rmse(var_c,&nbsp;var_e)),&nbsp;0.<span class=\"diff_add\">194686</span>2<span class=\"diff_chg\">5256</span>77<span class=\"diff_chg\">556</span>2</td></tr>\n",
       "            <tr><td class=\"diff_next\"></td><td class=\"diff_header\" id=\"from0_19\">19</td><td nowrap=\"nowrap\"><span class=\"diff_sub\">target_var,&nbsp;0.20103377929032773</span></td><td class=\"diff_next\"></td><td class=\"diff_header\" id=\"to0_19\">19</td><td nowrap=\"nowrap\"><span class=\"diff_add\">target_var,&nbsp;0.19468625256775562</span></td></tr>\n",
       "        </tbody>\n",
       "    </table>\n",
       "        "
      ],
      "text/plain": [
       "<IPython.core.display.HTML object>"
      ]
     },
     "metadata": {},
     "output_type": "display_data"
    }
   ],
   "source": [
    "trial_diff(list_id[0], list_id[-1])"
   ]
  },
  {
   "cell_type": "markdown",
   "id": "d54d2dbe-d291-4663-b6f0-b66e9124a3f9",
   "metadata": {
    "tags": []
   },
   "source": [
    "### var_tag_plott\n",
    "\n",
    "Chart the evolution of a given variable across multiple trials in the database. In this case, all experiments stored in ops.db and tagged as *target_var* has its values plotted"
   ]
  },
  {
   "cell_type": "code",
   "execution_count": 18,
   "id": "55740535-e000-468e-ae12-c4631f29f854",
   "metadata": {
    "tags": []
   },
   "outputs": [
    {
     "data": {
      "image/png": "[encoded data removed]",
      "text/plain": [
       "<Figure size 640x480 with 1 Axes>"
      ]
     },
     "metadata": {},
     "output_type": "display_data"
    }
   ],
   "source": [
    "var_tag_plot('target_var')"
   ]
  },
  {
   "cell_type": "markdown",
   "id": "49b841a5-1b8a-4c97-b36a-269d0f325828",
   "metadata": {},
   "source": [
    "### var_tag_values\n",
    "\n",
    "In the event that the user wants to manipulate the results of all rounds, the pandas dataframe is available."
   ]
  },
  {
   "cell_type": "code",
   "execution_count": 19,
   "id": "e7c07284-2422-4e50-82e3-fb05b643ba22",
   "metadata": {
    "tags": []
   },
   "outputs": [
    {
     "data": {
      "text/html": [
       "<div>\n",
       "<style scoped>\n",
       "    .dataframe tbody tr th:only-of-type {\n",
       "        vertical-align: middle;\n",
       "    }\n",
       "\n",
       "    .dataframe tbody tr th {\n",
       "        vertical-align: top;\n",
       "    }\n",
       "\n",
       "    .dataframe thead th {\n",
       "        text-align: right;\n",
       "    }\n",
       "</style>\n",
       "<table border=\"1\" class=\"dataframe\">\n",
       "  <thead>\n",
       "    <tr style=\"text-align: right;\">\n",
       "      <th></th>\n",
       "      <th>trial_id</th>\n",
       "      <th>short_trial_id</th>\n",
       "      <th>tag</th>\n",
       "      <th>value</th>\n",
       "    </tr>\n",
       "  </thead>\n",
       "  <tbody>\n",
       "    <tr>\n",
       "      <th>0</th>\n",
       "      <td>cbf2515a-7793-439b-aae4-eee9e94be7a2</td>\n",
       "      <td>be7a2</td>\n",
       "      <td>target_var</td>\n",
       "      <td>0.631789</td>\n",
       "    </tr>\n",
       "    <tr>\n",
       "      <th>1</th>\n",
       "      <td>ca31b65e-94c2-493b-8eda-138c6b488c84</td>\n",
       "      <td>88c84</td>\n",
       "      <td>target_var</td>\n",
       "      <td>0.201034</td>\n",
       "    </tr>\n",
       "    <tr>\n",
       "      <th>2</th>\n",
       "      <td>289f31fd-e893-451c-886d-e65a179323fe</td>\n",
       "      <td>323fe</td>\n",
       "      <td>target_var</td>\n",
       "      <td>0.677435</td>\n",
       "    </tr>\n",
       "    <tr>\n",
       "      <th>3</th>\n",
       "      <td>86d54d66-0b18-4a84-94b1-006cc4686264</td>\n",
       "      <td>86264</td>\n",
       "      <td>target_var</td>\n",
       "      <td>0.312466</td>\n",
       "    </tr>\n",
       "    <tr>\n",
       "      <th>4</th>\n",
       "      <td>f6fccf39-d70c-42fc-8fc9-a9068738bf93</td>\n",
       "      <td>8bf93</td>\n",
       "      <td>target_var</td>\n",
       "      <td>0.194686</td>\n",
       "    </tr>\n",
       "    <tr>\n",
       "      <th>5</th>\n",
       "      <td>69fbad85-a522-43d7-8669-2e8d6e3e8408</td>\n",
       "      <td>e8408</td>\n",
       "      <td>target_var</td>\n",
       "      <td>0.078301</td>\n",
       "    </tr>\n",
       "  </tbody>\n",
       "</table>\n",
       "</div>"
      ],
      "text/plain": [
       "                               trial_id short_trial_id         tag     value\n",
       "0  cbf2515a-7793-439b-aae4-eee9e94be7a2          be7a2  target_var  0.631789\n",
       "1  ca31b65e-94c2-493b-8eda-138c6b488c84          88c84  target_var  0.201034\n",
       "2  289f31fd-e893-451c-886d-e65a179323fe          323fe  target_var  0.677435\n",
       "3  86d54d66-0b18-4a84-94b1-006cc4686264          86264  target_var  0.312466\n",
       "4  f6fccf39-d70c-42fc-8fc9-a9068738bf93          8bf93  target_var  0.194686\n",
       "5  69fbad85-a522-43d7-8669-2e8d6e3e8408          e8408  target_var  0.078301"
      ]
     },
     "execution_count": 19,
     "metadata": {},
     "output_type": "execute_result"
    }
   ],
   "source": [
    "var_tag_values('target_var')"
   ]
  },
  {
   "cell_type": "code",
   "execution_count": null,
   "id": "63730330-521d-4e94-9fa8-9b365c702d52",
   "metadata": {},
   "outputs": [],
   "source": []
  }
 ],
 "metadata": {
  "kernelspec": {
   "display_name": "noWorkflow 3",
   "language": "python",
   "name": "noworkflow3"
  },
  "language_info": {
   "codemirror_mode": {
    "name": "ipython",
    "version": 3
   },
   "file_extension": ".py",
   "mimetype": "text/x-python",
   "name": "python",
   "nbconvert_exporter": "python",
   "pygments_lexer": "ipython3",
   "version": "3.7.16"
  }
 },
 "nbformat": 4,
 "nbformat_minor": 5
}
