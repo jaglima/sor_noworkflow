{
 "cells": [
  {
   "cell_type": "code",
   "execution_count": 1,
   "id": "c6f9c9e7-4d30-4fb0-bbaf-c35e114212ec",
   "metadata": {
    "tags": []
   },
   "outputs": [],
   "source": [
    "from copy import copy\n",
    "import numpy as np\n",
    "from pprint import pprint\n",
    "\n",
    "from noworkflow.now.tagging.var_tagging import backward_deps, global_backward_deps, store_operations, resume_trials, trial_diff, trial_intersection_diff, var_tag_plot, var_tag_values"
   ]
  },
  {
   "cell_type": "markdown",
   "id": "e75b860a-76f6-4768-8080-db001d76119e",
   "metadata": {},
   "source": [
    "### Test case\n",
    "\n",
    "Here starts a small test case. The workflow goes through cells defining *module*, *rmse* and a *stress_function* aiming to add some random behaviour in our test. The *var_final* is our target variable, being dependent of its previous cells.\n"
   ]
  },
  {
   "cell_type": "code",
   "execution_count": 2,
   "id": "b193369c-2ce3-4759-b7b5-41f4b320e97a",
   "metadata": {
    "tags": []
   },
   "outputs": [],
   "source": [
    "def module(num): \n",
    "    if num >= 0:\n",
    "        return int(num)\n",
    "    else:\n",
    "        return int(-1*num)\n",
    "\n",
    "def mae(x, y):\n",
    "    return np.mean(np.abs((x - y)))\n",
    "\n",
    "def squared_diff(p, q):\n",
    "    diff = p - q\n",
    "    diff = diff*diff\n",
    "    \n",
    "    return diff\n",
    "\n",
    "def rmse(x, y):\n",
    "    \n",
    "    sqr_diff = squared_diff(x, y)\n",
    "    mean = np.mean(sqr_diff)\n",
    "    squared_root = np.sqrt(mean)\n",
    "    \n",
    "    return squared_root\n",
    "\n",
    "def stress_func(m, n):\n",
    "    x = np.random.rand()\n",
    "    y = np.random.rand()\n",
    "    \n",
    "    temp1 = rmse(m, n)\n",
    "    temp2 = np.random.rand()*temp1\n",
    "    \n",
    "    final = np.max([int(x+y), int(temp2), mae(temp1, temp2)])\n",
    "    \n",
    "    return final"
   ]
  },
  {
   "cell_type": "code",
   "execution_count": 3,
   "id": "dad4d3bc-e662-4cad-873d-e040cfe25354",
   "metadata": {
    "tags": []
   },
   "outputs": [],
   "source": [
    "var_a = np.random.rand()"
   ]
  },
  {
   "cell_type": "code",
   "execution_count": 4,
   "id": "1bb71226-764c-454d-bfdd-260ad0432c6b",
   "metadata": {},
   "outputs": [],
   "source": [
    "var_b = np.random.rand()"
   ]
  },
  {
   "cell_type": "code",
   "execution_count": 5,
   "id": "8c326993-1bf2-4223-8e9c-11e48a915cf8",
   "metadata": {},
   "outputs": [],
   "source": [
    "k = np.random.rand()\n",
    "m = np.random.rand()"
   ]
  },
  {
   "cell_type": "code",
   "execution_count": 6,
   "id": "127ead7e-028a-4cd4-bf44-20c541f0ad7d",
   "metadata": {},
   "outputs": [],
   "source": [
    "rme_err = mae(var_a, var_b)"
   ]
  },
  {
   "cell_type": "code",
   "execution_count": 7,
   "id": "93ea2f3f-32d6-4d40-a9b3-f2f8e2d557b0",
   "metadata": {
    "tags": []
   },
   "outputs": [],
   "source": [
    "var_c = stress_func(k, m)"
   ]
  },
  {
   "cell_type": "code",
   "execution_count": 8,
   "id": "18ec6985-1fb5-40c1-8a12-51d0fbb4c14f",
   "metadata": {
    "tags": []
   },
   "outputs": [],
   "source": [
    "var_d = var_c * np.random.rand()"
   ]
  },
  {
   "cell_type": "code",
   "execution_count": 9,
   "id": "32345dcf-fa1b-4d2e-b742-49204e1ddcf0",
   "metadata": {
    "tags": []
   },
   "outputs": [],
   "source": [
    "var_e = mae(var_c, var_b)"
   ]
  },
  {
   "cell_type": "code",
   "execution_count": 10,
   "id": "d18aa5aa-5b91-4295-9b79-1fbf55d3d561",
   "metadata": {
    "tags": []
   },
   "outputs": [
    {
     "name": "stdout",
     "output_type": "stream",
     "text": [
      "Evaluation(id=179, checkpoint=2.088505553, code_component_id=354, activation_id=172, repr=0.8614238562759864)\n"
     ]
    }
   ],
   "source": [
    "target_var = now_variable('target_var', rmse(var_c, var_e))"
   ]
  },
  {
   "cell_type": "markdown",
   "id": "407023ba-f72a-4a78-9d2c-4bf8498b93dc",
   "metadata": {
    "tags": []
   },
   "source": [
    "### backward_deps example\n",
    "Here we recollect the backward dependencies liked with var_final tagged variable. Two options are available, with glanulatiry on and off."
   ]
  },
  {
   "cell_type": "code",
   "execution_count": 11,
   "id": "5f000dfa-c442-4554-af65-8738a557dab7",
   "metadata": {},
   "outputs": [
    {
     "data": {
      "text/plain": [
       "{9: ('k', '0.36950189099882447'),\n",
       " 8: ('m', '0.6734678463337703'),\n",
       " 7: ('stress_func(k, m)', '1.0'),\n",
       " 6: ('var_c', '1.0'),\n",
       " 5: ('var_b', '0.8614238562759864'),\n",
       " 4: ('mae(var_c, var_b)', '0.1385761437240136'),\n",
       " 3: ('var_e', '0.1385761437240136'),\n",
       " 2: ('rmse(var_c, var_e)', '0.8614238562759864'),\n",
       " 1: (\"now_variable('target_var', rmse(var_c, var_e))\", '0.8614238562759864'),\n",
       " 0: ('target_var', '0.8614238562759864')}"
      ]
     },
     "execution_count": 11,
     "metadata": {},
     "output_type": "execute_result"
    }
   ],
   "source": [
    "dict_ops = backward_deps('target_var', False)\n",
    "dict_ops"
   ]
  },
  {
   "cell_type": "markdown",
   "id": "b5c50b07-e1ad-466b-a955-58cbdcd105d7",
   "metadata": {
    "tags": []
   },
   "source": [
    "When the flag is set True, the content of functions steps are displayed."
   ]
  },
  {
   "cell_type": "code",
   "execution_count": 12,
   "id": "1d5087ec-a833-49b7-8bda-65b8f394f44d",
   "metadata": {
    "tags": []
   },
   "outputs": [
    {
     "data": {
      "text/plain": [
       "{41: ('diff', '0.8614238562759864'),\n",
       " 40: ('diff', '0.7420510601613912'),\n",
       " 39: ('squared_diff(x, y)', '0.7420510601613912'),\n",
       " 38: ('sqr_diff', '0.7420510601613912'),\n",
       " 37: ('mean', '0.7420510601613912'),\n",
       " 36: ('squared_root', '0.8614238562759864'),\n",
       " 35: ('x', '0.4909675049556661'),\n",
       " 34: ('y', '0.5768651455725812'),\n",
       " 33: ('int(x+y)', '1'),\n",
       " 32: ('int(temp2)', '0'),\n",
       " 31: ('diff', '-0.30396595533494586'),\n",
       " 30: ('diff', '0.0923953020026863'),\n",
       " 29: ('squared_diff(x, y)', '0.0923953020026863'),\n",
       " 28: ('sqr_diff', '0.0923953020026863'),\n",
       " 27: ('mean', '0.0923953020026863'),\n",
       " 26: ('squared_root', '0.30396595533494586'),\n",
       " 25: ('rmse(m, n)', '0.30396595533494586'),\n",
       " 24: ('temp1', '0.30396595533494586'),\n",
       " 23: ('temp2', '0.12463675860021108'),\n",
       " 22: ('mae(temp1, temp2)', '0.1793291967347348'),\n",
       " 21: ('[int(x+y), int(temp2), mae(temp1, temp2)]', 'complex data type'),\n",
       " 20: ('final', '1.0'),\n",
       " 19: ('k', '0.36950189099882447'),\n",
       " 18: ('m', '0.6734678463337703'),\n",
       " 17: ('stress_func(k, m)', '1.0'),\n",
       " 16: ('var_c', '1.0'),\n",
       " 15: ('var_b', '0.8614238562759864'),\n",
       " 14: ('mae(var_c, var_b)', '0.1385761437240136'),\n",
       " 13: ('var_e', '0.1385761437240136'),\n",
       " 12: ('rmse(var_c, var_e)', '0.8614238562759864'),\n",
       " 11: (\"now_variable('target_var', rmse(var_c, var_e))\", '0.8614238562759864'),\n",
       " 10: ('target_var', '0.8614238562759864'),\n",
       " 9: ('k', '0.36950189099882447'),\n",
       " 8: ('m', '0.6734678463337703'),\n",
       " 7: ('stress_func(k, m)', '1.0'),\n",
       " 6: ('var_c', '1.0'),\n",
       " 5: ('var_b', '0.8614238562759864'),\n",
       " 4: ('mae(var_c, var_b)', '0.1385761437240136'),\n",
       " 3: ('var_e', '0.1385761437240136'),\n",
       " 2: ('rmse(var_c, var_e)', '0.8614238562759864'),\n",
       " 1: (\"now_variable('target_var', rmse(var_c, var_e))\", '0.8614238562759864'),\n",
       " 0: ('target_var', '0.8614238562759864')}"
      ]
     },
     "execution_count": 12,
     "metadata": {},
     "output_type": "execute_result"
    }
   ],
   "source": [
    "backward_deps('target_var', glanularity_level=True)"
   ]
  },
  {
   "cell_type": "markdown",
   "id": "39e934a4-c225-4c4b-85a5-18be79a72f3a",
   "metadata": {},
   "source": [
    "### global_backward_deps example\n",
    "Here we recollect all the backward dependencies liked with var_final tagged variable. If user redefines a tagged variable in more than one cell, this options will return all operations over this tagged variable across the trial. \n",
    "Same two options available, with glanulatiry on and off."
   ]
  },
  {
   "cell_type": "code",
   "execution_count": 13,
   "id": "43007d6e-add8-4d97-816a-e4399adba17a",
   "metadata": {
    "tags": []
   },
   "outputs": [
    {
     "data": {
      "text/plain": [
       "{51: ('k', '0.36950189099882447'),\n",
       " 50: ('m', '0.6734678463337703'),\n",
       " 49: ('stress_func(k, m)', '1.0'),\n",
       " 48: ('var_c', '1.0'),\n",
       " 47: ('var_b', '0.8614238562759864'),\n",
       " 46: ('mae(var_c, var_b)', '0.1385761437240136'),\n",
       " 45: ('var_e', '0.1385761437240136'),\n",
       " 44: ('rmse(var_c, var_e)', '0.8614238562759864'),\n",
       " 43: (\"now_variable('target_var', rmse(var_c, var_e))\", '0.8614238562759864'),\n",
       " 42: ('target_var', '0.8614238562759864'),\n",
       " 41: ('diff', '0.8614238562759864'),\n",
       " 40: ('diff', '0.7420510601613912'),\n",
       " 39: ('squared_diff(x, y)', '0.7420510601613912'),\n",
       " 38: ('sqr_diff', '0.7420510601613912'),\n",
       " 37: ('mean', '0.7420510601613912'),\n",
       " 36: ('squared_root', '0.8614238562759864'),\n",
       " 35: ('x', '0.4909675049556661'),\n",
       " 34: ('y', '0.5768651455725812'),\n",
       " 33: ('int(x+y)', '1'),\n",
       " 32: ('int(temp2)', '0'),\n",
       " 31: ('diff', '-0.30396595533494586'),\n",
       " 30: ('diff', '0.0923953020026863'),\n",
       " 29: ('squared_diff(x, y)', '0.0923953020026863'),\n",
       " 28: ('sqr_diff', '0.0923953020026863'),\n",
       " 27: ('mean', '0.0923953020026863'),\n",
       " 26: ('squared_root', '0.30396595533494586'),\n",
       " 25: ('rmse(m, n)', '0.30396595533494586'),\n",
       " 24: ('temp1', '0.30396595533494586'),\n",
       " 23: ('temp2', '0.12463675860021108'),\n",
       " 22: ('mae(temp1, temp2)', '0.1793291967347348'),\n",
       " 21: ('[int(x+y), int(temp2), mae(temp1, temp2)]', 'complex data type'),\n",
       " 20: ('final', '1.0'),\n",
       " 19: ('k', '0.36950189099882447'),\n",
       " 18: ('m', '0.6734678463337703'),\n",
       " 17: ('stress_func(k, m)', '1.0'),\n",
       " 16: ('var_c', '1.0'),\n",
       " 15: ('var_b', '0.8614238562759864'),\n",
       " 14: ('mae(var_c, var_b)', '0.1385761437240136'),\n",
       " 13: ('var_e', '0.1385761437240136'),\n",
       " 12: ('rmse(var_c, var_e)', '0.8614238562759864'),\n",
       " 11: (\"now_variable('target_var', rmse(var_c, var_e))\", '0.8614238562759864'),\n",
       " 10: ('target_var', '0.8614238562759864'),\n",
       " 9: ('k', '0.36950189099882447'),\n",
       " 8: ('m', '0.6734678463337703'),\n",
       " 7: ('stress_func(k, m)', '1.0'),\n",
       " 6: ('var_c', '1.0'),\n",
       " 5: ('var_b', '0.8614238562759864'),\n",
       " 4: ('mae(var_c, var_b)', '0.1385761437240136'),\n",
       " 3: ('var_e', '0.1385761437240136'),\n",
       " 2: ('rmse(var_c, var_e)', '0.8614238562759864'),\n",
       " 1: (\"now_variable('target_var', rmse(var_c, var_e))\", '0.8614238562759864'),\n",
       " 0: ('target_var', '0.8614238562759864')}"
      ]
     },
     "execution_count": 13,
     "metadata": {},
     "output_type": "execute_result"
    }
   ],
   "source": [
    "global_backward_deps('target_var', False)"
   ]
  },
  {
   "cell_type": "markdown",
   "id": "f2265bbc-c481-4fee-b627-36d60862b870",
   "metadata": {
    "tags": []
   },
   "source": [
    "### trial storage example\n",
    "Here we save the current trial in order to make further compariosions with other experiments. The dictionaries aren't stored in the .noworkflow/db.sqlite, but in a shelve object named *ops.db* in the current notebook local folder. **Remove it means exeperimental data being lost.**"
   ]
  },
  {
   "cell_type": "code",
   "execution_count": 14,
   "id": "ab136acd-42ac-4b09-b000-38779c0ef278",
   "metadata": {
    "tags": []
   },
   "outputs": [
    {
     "name": "stdout",
     "output_type": "stream",
     "text": [
      "Dictionary stored in shelve.\n"
     ]
    }
   ],
   "source": [
    "store_operations(__noworkflow__.trial_id, dict_ops)"
   ]
  },
  {
   "cell_type": "markdown",
   "id": "cc5cde7e-b3ef-40f9-ba25-e77505d31762",
   "metadata": {
    "tags": []
   },
   "source": [
    "### resume_trials\n",
    "\n",
    "In order to support the management of experiments, the user can see the trial ids of all experiments stored in the ops.db available to comparision/analysis."
   ]
  },
  {
   "cell_type": "code",
   "execution_count": 15,
   "id": "ed828c52-1ebd-4efd-a55c-d838f03bc905",
   "metadata": {
    "tags": []
   },
   "outputs": [
    {
     "data": {
      "text/plain": [
       "['e61e96ed-c2ae-4de7-aa66-e8bb3419ea08',\n",
       " '5311942a-c94f-4652-a250-fde5a2617185',\n",
       " '99ca2dbe-ea95-485b-8c90-6a05ed02e259',\n",
       " 'c99ec29d-8bac-4911-8c47-7b06cdf709f3',\n",
       " '92a60232-5746-43ac-a580-6ea526831ed1',\n",
       " 'e607929b-58bd-43b5-932f-257af5b9517f',\n",
       " '286a9fc4-a0b1-4cdb-8f96-24e2abf3e1a0']"
      ]
     },
     "execution_count": 15,
     "metadata": {},
     "output_type": "execute_result"
    }
   ],
   "source": [
    "list_id = resume_trials()\n",
    "list_id"
   ]
  },
  {
   "cell_type": "markdown",
   "id": "70faddb2-216e-4a62-9d88-f9e4a6b236b2",
   "metadata": {
    "tags": []
   },
   "source": [
    "### trial_intesection_diff\n",
    "\n",
    "Two types of comparision are available now. This one refers to values returned from operations. Each variable or function call available in both experiments (intersection) have its values exhibited. \n",
    "\n",
    "There is a limitation in showing for complex values. Matrices and tensors cannot be properly displayed, so only an indication that is a complex type is indicated.\n",
    "\n",
    "Here we visually plot a diff table between two trials"
   ]
  },
  {
   "cell_type": "code",
   "execution_count": 16,
   "id": "e9323387-a4c6-4df5-86ff-a14149d01313",
   "metadata": {
    "tags": []
   },
   "outputs": [
    {
     "data": {
      "text/html": [
       "<div>\n",
       "<style scoped>\n",
       "    .dataframe tbody tr th:only-of-type {\n",
       "        vertical-align: middle;\n",
       "    }\n",
       "\n",
       "    .dataframe tbody tr th {\n",
       "        vertical-align: top;\n",
       "    }\n",
       "\n",
       "    .dataframe thead th {\n",
       "        text-align: right;\n",
       "    }\n",
       "</style>\n",
       "<table border=\"1\" class=\"dataframe\">\n",
       "  <thead>\n",
       "    <tr style=\"text-align: right;\">\n",
       "      <th></th>\n",
       "      <th>key</th>\n",
       "      <th>9517f</th>\n",
       "      <th>3e1a0</th>\n",
       "    </tr>\n",
       "  </thead>\n",
       "  <tbody>\n",
       "    <tr>\n",
       "      <th>0</th>\n",
       "      <td>stress_func(k, m)</td>\n",
       "      <td>1.0</td>\n",
       "      <td>1.0</td>\n",
       "    </tr>\n",
       "    <tr>\n",
       "      <th>1</th>\n",
       "      <td>rmse(var_c, var_e)</td>\n",
       "      <td>0.891316221130221</td>\n",
       "      <td>0.8614238562759864</td>\n",
       "    </tr>\n",
       "    <tr>\n",
       "      <th>2</th>\n",
       "      <td>k</td>\n",
       "      <td>0.5132486888594059</td>\n",
       "      <td>0.36950189099882447</td>\n",
       "    </tr>\n",
       "    <tr>\n",
       "      <th>3</th>\n",
       "      <td>target_var</td>\n",
       "      <td>0.891316221130221</td>\n",
       "      <td>0.8614238562759864</td>\n",
       "    </tr>\n",
       "    <tr>\n",
       "      <th>4</th>\n",
       "      <td>var_b</td>\n",
       "      <td>0.891316221130221</td>\n",
       "      <td>0.8614238562759864</td>\n",
       "    </tr>\n",
       "    <tr>\n",
       "      <th>5</th>\n",
       "      <td>mae(var_c, var_b)</td>\n",
       "      <td>0.10868377886977898</td>\n",
       "      <td>0.1385761437240136</td>\n",
       "    </tr>\n",
       "    <tr>\n",
       "      <th>6</th>\n",
       "      <td>now_variable('target_var', rmse(var_c, var_e))</td>\n",
       "      <td>0.891316221130221</td>\n",
       "      <td>0.8614238562759864</td>\n",
       "    </tr>\n",
       "    <tr>\n",
       "      <th>7</th>\n",
       "      <td>m</td>\n",
       "      <td>0.5384491905000545</td>\n",
       "      <td>0.6734678463337703</td>\n",
       "    </tr>\n",
       "    <tr>\n",
       "      <th>8</th>\n",
       "      <td>var_e</td>\n",
       "      <td>0.10868377886977898</td>\n",
       "      <td>0.1385761437240136</td>\n",
       "    </tr>\n",
       "    <tr>\n",
       "      <th>9</th>\n",
       "      <td>var_c</td>\n",
       "      <td>1.0</td>\n",
       "      <td>1.0</td>\n",
       "    </tr>\n",
       "  </tbody>\n",
       "</table>\n",
       "</div>"
      ],
      "text/plain": [
       "                                              key  ...                3e1a0\n",
       "0                               stress_func(k, m)  ...                  1.0\n",
       "1                              rmse(var_c, var_e)  ...   0.8614238562759864\n",
       "2                                               k  ...  0.36950189099882447\n",
       "3                                      target_var  ...   0.8614238562759864\n",
       "4                                           var_b  ...   0.8614238562759864\n",
       "5                               mae(var_c, var_b)  ...   0.1385761437240136\n",
       "6  now_variable('target_var', rmse(var_c, var_e))  ...   0.8614238562759864\n",
       "7                                               m  ...   0.6734678463337703\n",
       "8                                           var_e  ...   0.1385761437240136\n",
       "9                                           var_c  ...                  1.0\n",
       "\n",
       "[10 rows x 3 columns]"
      ]
     },
     "execution_count": 16,
     "metadata": {},
     "output_type": "execute_result"
    }
   ],
   "source": [
    "trial_intersection_diff(list_id[-2], list_id[-1])"
   ]
  },
  {
   "cell_type": "markdown",
   "id": "4e305632-4683-4f7b-967e-bbe5cb9da0c8",
   "metadata": {
    "tags": []
   },
   "source": [
    "### trial_diff\n",
    "\n",
    "Here is the second way into displaying differences. The values of variables and function calls are exhibited in a diff file format, emphasizing the order of the operations carried out. The goal here is to show that between two experiments, the order of operations were different."
   ]
  },
  {
   "cell_type": "code",
   "execution_count": 17,
   "id": "4aa627d9-511b-4bc6-be1c-cc2d2f6c3822",
   "metadata": {
    "tags": []
   },
   "outputs": [
    {
     "data": {
      "text/html": [
       "\n",
       "        <style>\n",
       "        .diff_header {\n",
       "            background-color: #f1f1f1;\n",
       "        }\n",
       "        .diff_next {\n",
       "            background-color: #f1f1f1;\n",
       "        }\n",
       "        .diff_add {\n",
       "            background-color: #ddffdd;\n",
       "        }\n",
       "        .diff_chg {\n",
       "            background-color: #ffffaa;\n",
       "        }\n",
       "        .diff_sub {\n",
       "            background-color: #ffdddd;\n",
       "        }\n",
       "        .diff_table {\n",
       "            text-align: left; /* Align the table content to the left */\n",
       "        }\n",
       "        </style>\n",
       "        \n",
       "    <table class=\"diff\" id=\"difflib_chg_to0__top\"\n",
       "           cellspacing=\"0\" cellpadding=\"0\" rules=\"groups\" >\n",
       "        <colgroup></colgroup> <colgroup></colgroup> <colgroup></colgroup>\n",
       "        <colgroup></colgroup> <colgroup></colgroup> <colgroup></colgroup>\n",
       "        \n",
       "        <tbody>\n",
       "            <tr><td class=\"diff_next\" id=\"difflib_chg_to0__0\"><a href=\"#difflib_chg_to0__1\">n</a></td><td class=\"diff_header\" id=\"from0_1\">1</td><td nowrap=\"nowrap\"><span class=\"diff_sub\">k,&nbsp;0.5132486888594059</span></td><td class=\"diff_next\"><a href=\"#difflib_chg_to0__1\">n</a></td><td class=\"diff_header\" id=\"to0_1\">1</td><td nowrap=\"nowrap\"><span class=\"diff_add\">k,&nbsp;0.36950189099882447</span></td></tr>\n",
       "            <tr><td class=\"diff_next\"></td><td class=\"diff_header\" id=\"from0_2\">2</td><td nowrap=\"nowrap\"><span class=\"diff_sub\">m,&nbsp;0.5384491905000545</span></td><td class=\"diff_next\"></td><td class=\"diff_header\" id=\"to0_2\">2</td><td nowrap=\"nowrap\"><span class=\"diff_add\">m,&nbsp;0.6734678463337703</span></td></tr>\n",
       "            <tr><td class=\"diff_next\"></td><td class=\"diff_header\" id=\"from0_3\">3</td><td nowrap=\"nowrap\">stress_func(k,&nbsp;m),&nbsp;1.0</td><td class=\"diff_next\"></td><td class=\"diff_header\" id=\"to0_3\">3</td><td nowrap=\"nowrap\">stress_func(k,&nbsp;m),&nbsp;1.0</td></tr>\n",
       "            <tr><td class=\"diff_next\"></td><td class=\"diff_header\" id=\"from0_4\">4</td><td nowrap=\"nowrap\">var_c,&nbsp;1.0</td><td class=\"diff_next\"></td><td class=\"diff_header\" id=\"to0_4\">4</td><td nowrap=\"nowrap\">var_c,&nbsp;1.0</td></tr>\n",
       "            <tr><td class=\"diff_next\" id=\"difflib_chg_to0__1\"><a href=\"#difflib_chg_to0__top\">t</a></td><td class=\"diff_header\" id=\"from0_5\">5</td><td nowrap=\"nowrap\"><span class=\"diff_sub\">var_b,&nbsp;0.891316221130221</span></td><td class=\"diff_next\"><a href=\"#difflib_chg_to0__top\">t</a></td><td class=\"diff_header\" id=\"to0_5\">5</td><td nowrap=\"nowrap\"><span class=\"diff_add\">var_b,&nbsp;0.8614238562759864</span></td></tr>\n",
       "            <tr><td class=\"diff_next\"></td><td class=\"diff_header\" id=\"from0_6\">6</td><td nowrap=\"nowrap\"><span class=\"diff_sub\">mae(var_c,&nbsp;var_b),&nbsp;0.10868377886977898</span></td><td class=\"diff_next\"></td><td class=\"diff_header\" id=\"to0_6\">6</td><td nowrap=\"nowrap\"><span class=\"diff_add\">mae(var_c,&nbsp;var_b),&nbsp;0.1385761437240136</span></td></tr>\n",
       "            <tr><td class=\"diff_next\"></td><td class=\"diff_header\" id=\"from0_7\">7</td><td nowrap=\"nowrap\"><span class=\"diff_sub\">var_e,&nbsp;0.10868377886977898</span></td><td class=\"diff_next\"></td><td class=\"diff_header\" id=\"to0_7\">7</td><td nowrap=\"nowrap\"><span class=\"diff_add\">var_e,&nbsp;0.1385761437240136</span></td></tr>\n",
       "            <tr><td class=\"diff_next\"></td><td class=\"diff_header\" id=\"from0_8\">8</td><td nowrap=\"nowrap\"><span class=\"diff_sub\">rmse(var_c,&nbsp;var_e),&nbsp;0.891316221130221</span></td><td class=\"diff_next\"></td><td class=\"diff_header\" id=\"to0_8\">8</td><td nowrap=\"nowrap\"><span class=\"diff_add\">rmse(var_c,&nbsp;var_e),&nbsp;0.8614238562759864</span></td></tr>\n",
       "            <tr><td class=\"diff_next\"></td><td class=\"diff_header\" id=\"from0_9\">9</td><td nowrap=\"nowrap\">now_variable('target_var',&nbsp;rmse(var_c,&nbsp;var_e)),&nbsp;0.8<span class=\"diff_chg\">9</span>13<span class=\"diff_chg\">1</span>62<span class=\"diff_chg\">21130221</span></td><td class=\"diff_next\"></td><td class=\"diff_header\" id=\"to0_9\">9</td><td nowrap=\"nowrap\">now_variable('target_var',&nbsp;rmse(var_c,&nbsp;var_e)),&nbsp;0.8<span class=\"diff_chg\">6</span>1<span class=\"diff_add\">42</span>3<span class=\"diff_chg\">85</span>62<span class=\"diff_chg\">759864</span></td></tr>\n",
       "            <tr><td class=\"diff_next\"></td><td class=\"diff_header\" id=\"from0_10\">10</td><td nowrap=\"nowrap\"><span class=\"diff_sub\">target_var,&nbsp;0.891316221130221</span></td><td class=\"diff_next\"></td><td class=\"diff_header\" id=\"to0_10\">10</td><td nowrap=\"nowrap\"><span class=\"diff_add\">target_var,&nbsp;0.8614238562759864</span></td></tr>\n",
       "        </tbody>\n",
       "    </table>\n",
       "        "
      ],
      "text/plain": [
       "<IPython.core.display.HTML object>"
      ]
     },
     "metadata": {},
     "output_type": "display_data"
    }
   ],
   "source": [
    "trial_diff(list_id[-2], list_id[-1])"
   ]
  },
  {
   "cell_type": "markdown",
   "id": "d54d2dbe-d291-4663-b6f0-b66e9124a3f9",
   "metadata": {
    "tags": []
   },
   "source": [
    "### var_tag_plot\n",
    "\n",
    "Chart the evolution of a given variable across multiple trials in the database. In this case, all experiments stored in ops.db and tagged as *target_var* has its values plotted"
   ]
  },
  {
   "cell_type": "code",
   "execution_count": 18,
   "id": "55740535-e000-468e-ae12-c4631f29f854",
   "metadata": {
    "tags": []
   },
   "outputs": [
    {
     "data": {
      "image/png": "[encoded data removed]",
      "text/plain": [
       "<Figure size 640x480 with 1 Axes>"
      ]
     },
     "metadata": {},
     "output_type": "display_data"
    }
   ],
   "source": [
    "var_tag_plot('target_var')"
   ]
  },
  {
   "cell_type": "markdown",
   "id": "49b841a5-1b8a-4c97-b36a-269d0f325828",
   "metadata": {},
   "source": [
    "### var_tag_values\n",
    "\n",
    "In the event that the user wants to manipulate the results of all rounds, the pandas dataframe is available."
   ]
  },
  {
   "cell_type": "code",
   "execution_count": 19,
   "id": "e7c07284-2422-4e50-82e3-fb05b643ba22",
   "metadata": {
    "tags": []
   },
   "outputs": [
    {
     "data": {
      "text/html": [
       "<div>\n",
       "<style scoped>\n",
       "    .dataframe tbody tr th:only-of-type {\n",
       "        vertical-align: middle;\n",
       "    }\n",
       "\n",
       "    .dataframe tbody tr th {\n",
       "        vertical-align: top;\n",
       "    }\n",
       "\n",
       "    .dataframe thead th {\n",
       "        text-align: right;\n",
       "    }\n",
       "</style>\n",
       "<table border=\"1\" class=\"dataframe\">\n",
       "  <thead>\n",
       "    <tr style=\"text-align: right;\">\n",
       "      <th></th>\n",
       "      <th>trial_id</th>\n",
       "      <th>short_trial_id</th>\n",
       "      <th>tag</th>\n",
       "      <th>value</th>\n",
       "    </tr>\n",
       "  </thead>\n",
       "  <tbody>\n",
       "    <tr>\n",
       "      <th>0</th>\n",
       "      <td>e61e96ed-c2ae-4de7-aa66-e8bb3419ea08</td>\n",
       "      <td>9ea08</td>\n",
       "      <td>target_var</td>\n",
       "      <td>0.751257</td>\n",
       "    </tr>\n",
       "    <tr>\n",
       "      <th>1</th>\n",
       "      <td>5311942a-c94f-4652-a250-fde5a2617185</td>\n",
       "      <td>17185</td>\n",
       "      <td>target_var</td>\n",
       "      <td>0.163825</td>\n",
       "    </tr>\n",
       "    <tr>\n",
       "      <th>2</th>\n",
       "      <td>92a60232-5746-43ac-a580-6ea526831ed1</td>\n",
       "      <td>31ed1</td>\n",
       "      <td>target_var</td>\n",
       "      <td>0.762642</td>\n",
       "    </tr>\n",
       "    <tr>\n",
       "      <th>3</th>\n",
       "      <td>99ca2dbe-ea95-485b-8c90-6a05ed02e259</td>\n",
       "      <td>2e259</td>\n",
       "      <td>target_var</td>\n",
       "      <td>0.599972</td>\n",
       "    </tr>\n",
       "    <tr>\n",
       "      <th>4</th>\n",
       "      <td>c99ec29d-8bac-4911-8c47-7b06cdf709f3</td>\n",
       "      <td>709f3</td>\n",
       "      <td>target_var</td>\n",
       "      <td>0.047551</td>\n",
       "    </tr>\n",
       "    <tr>\n",
       "      <th>5</th>\n",
       "      <td>e607929b-58bd-43b5-932f-257af5b9517f</td>\n",
       "      <td>9517f</td>\n",
       "      <td>target_var</td>\n",
       "      <td>0.891316</td>\n",
       "    </tr>\n",
       "    <tr>\n",
       "      <th>6</th>\n",
       "      <td>286a9fc4-a0b1-4cdb-8f96-24e2abf3e1a0</td>\n",
       "      <td>3e1a0</td>\n",
       "      <td>target_var</td>\n",
       "      <td>0.861424</td>\n",
       "    </tr>\n",
       "  </tbody>\n",
       "</table>\n",
       "</div>"
      ],
      "text/plain": [
       "                               trial_id short_trial_id         tag     value\n",
       "0  e61e96ed-c2ae-4de7-aa66-e8bb3419ea08          9ea08  target_var  0.751257\n",
       "1  5311942a-c94f-4652-a250-fde5a2617185          17185  target_var  0.163825\n",
       "2  92a60232-5746-43ac-a580-6ea526831ed1          31ed1  target_var  0.762642\n",
       "3  99ca2dbe-ea95-485b-8c90-6a05ed02e259          2e259  target_var  0.599972\n",
       "4  c99ec29d-8bac-4911-8c47-7b06cdf709f3          709f3  target_var  0.047551\n",
       "5  e607929b-58bd-43b5-932f-257af5b9517f          9517f  target_var  0.891316\n",
       "6  286a9fc4-a0b1-4cdb-8f96-24e2abf3e1a0          3e1a0  target_var  0.861424"
      ]
     },
     "execution_count": 19,
     "metadata": {},
     "output_type": "execute_result"
    }
   ],
   "source": [
    "var_tag_values('target_var')"
   ]
  },
  {
   "cell_type": "code",
   "execution_count": null,
   "id": "63730330-521d-4e94-9fa8-9b365c702d52",
   "metadata": {},
   "outputs": [],
   "source": []
  }
 ],
 "metadata": {
  "kernelspec": {
   "display_name": "noWorkflow 3",
   "language": "python",
   "name": "noworkflow3"
  },
  "language_info": {
   "codemirror_mode": {
    "name": "ipython",
    "version": 3
   },
   "file_extension": ".py",
   "mimetype": "text/x-python",
   "name": "python",
   "nbconvert_exporter": "python",
   "pygments_lexer": "ipython3",
   "version": "3.7.16"
  }
 },
 "nbformat": 4,
 "nbformat_minor": 5
}
